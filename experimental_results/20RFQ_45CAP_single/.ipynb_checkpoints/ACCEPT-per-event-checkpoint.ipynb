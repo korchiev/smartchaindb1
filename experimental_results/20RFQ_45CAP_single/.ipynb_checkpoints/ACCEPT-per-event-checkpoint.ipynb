{
 "cells": [
  {
   "cell_type": "code",
   "execution_count": 4,
   "id": "092f0c5f",
   "metadata": {},
   "outputs": [],
   "source": [
    "import pandas as pd\n",
    "import numpy as np\n",
    "import statistics as stat\n",
    "import matplotlib.pyplot as plt\n",
    "import seaborn as sns\n",
    "sns.set_style(\"white\")\n",
    "import statistics as stat"
   ]
  },
  {
   "cell_type": "code",
   "execution_count": 5,
   "id": "6de25395",
   "metadata": {},
   "outputs": [],
   "source": [
    "data = pd.read_csv('scdb-20rfq-45cap-metrics.csv', names = ['Event', 'Time', 'Tx_type', 'Tx_id', 'Accept_id', 'time'])"
   ]
  },
  {
   "cell_type": "code",
   "execution_count": 6,
   "id": "a3d6196a",
   "metadata": {},
   "outputs": [
    {
     "data": {
      "text/plain": [
       "1512"
      ]
     },
     "execution_count": 6,
     "metadata": {},
     "output_type": "execute_result"
    }
   ],
   "source": [
    "grouped_data = data.groupby('Tx_id')\n",
    "tx_id = list(grouped_data.groups.keys())\n",
    "len(tx_id)"
   ]
  },
  {
   "cell_type": "code",
   "execution_count": 7,
   "id": "12f868b8",
   "metadata": {},
   "outputs": [
    {
     "name": "stdout",
     "output_type": "stream",
     "text": [
      "#ACCEPTs =  20\n"
     ]
    }
   ],
   "source": [
    "#new data frame to get the count of each transaction type\n",
    "data_unique_ids = data.drop_duplicates(subset = ['Tx_id'])\n",
    "\n",
    "accept_count = 0\n",
    "accept_ids = []\n",
    "for i in range(0, len(data_unique_ids)):\n",
    "    if data_unique_ids.iloc[i]['Tx_type'] == 'ACCEPT':\n",
    "        accept_ids.append(data_unique_ids.iloc[i]['Tx_id'])\n",
    "        accept_count += 1   \n",
    "\n",
    "\n",
    "print(f\"#ACCEPTs =  {accept_count}\")"
   ]
  },
  {
   "cell_type": "code",
   "execution_count": 8,
   "id": "be0427cc",
   "metadata": {},
   "outputs": [
    {
     "ename": "KeyError",
     "evalue": "'331ca77987ad25091c086a5a8534dc766be3c41bcc3803fb829a498f0a7a168e'",
     "output_type": "error",
     "traceback": [
      "\u001b[1;31m---------------------------------------------------------------------------\u001b[0m",
      "\u001b[1;31mKeyError\u001b[0m                                  Traceback (most recent call last)",
      "\u001b[1;32m<ipython-input-8-b57d7f94f705>\u001b[0m in \u001b[0;36m<module>\u001b[1;34m\u001b[0m\n\u001b[1;32m----> 1\u001b[1;33m \u001b[0mdf_test\u001b[0m \u001b[1;33m=\u001b[0m \u001b[0mgrouped_data\u001b[0m\u001b[1;33m.\u001b[0m\u001b[0mget_group\u001b[0m\u001b[1;33m(\u001b[0m\u001b[1;34m\"331ca77987ad25091c086a5a8534dc766be3c41bcc3803fb829a498f0a7a168e\"\u001b[0m\u001b[1;33m)\u001b[0m\u001b[1;33m\u001b[0m\u001b[1;33m\u001b[0m\u001b[0m\n\u001b[0m\u001b[0;32m      2\u001b[0m \u001b[0mdf_test\u001b[0m\u001b[1;33m\u001b[0m\u001b[1;33m\u001b[0m\u001b[0m\n",
      "\u001b[1;32m~\\Anaconda3\\lib\\site-packages\\pandas\\core\\groupby\\groupby.py\u001b[0m in \u001b[0;36mget_group\u001b[1;34m(self, name, obj)\u001b[0m\n\u001b[0;32m    843\u001b[0m         \u001b[0minds\u001b[0m \u001b[1;33m=\u001b[0m \u001b[0mself\u001b[0m\u001b[1;33m.\u001b[0m\u001b[0m_get_index\u001b[0m\u001b[1;33m(\u001b[0m\u001b[0mname\u001b[0m\u001b[1;33m)\u001b[0m\u001b[1;33m\u001b[0m\u001b[1;33m\u001b[0m\u001b[0m\n\u001b[0;32m    844\u001b[0m         \u001b[1;32mif\u001b[0m \u001b[1;32mnot\u001b[0m \u001b[0mlen\u001b[0m\u001b[1;33m(\u001b[0m\u001b[0minds\u001b[0m\u001b[1;33m)\u001b[0m\u001b[1;33m:\u001b[0m\u001b[1;33m\u001b[0m\u001b[1;33m\u001b[0m\u001b[0m\n\u001b[1;32m--> 845\u001b[1;33m             \u001b[1;32mraise\u001b[0m \u001b[0mKeyError\u001b[0m\u001b[1;33m(\u001b[0m\u001b[0mname\u001b[0m\u001b[1;33m)\u001b[0m\u001b[1;33m\u001b[0m\u001b[1;33m\u001b[0m\u001b[0m\n\u001b[0m\u001b[0;32m    846\u001b[0m \u001b[1;33m\u001b[0m\u001b[0m\n\u001b[0;32m    847\u001b[0m         \u001b[1;32mreturn\u001b[0m \u001b[0mobj\u001b[0m\u001b[1;33m.\u001b[0m\u001b[0m_take_with_is_copy\u001b[0m\u001b[1;33m(\u001b[0m\u001b[0minds\u001b[0m\u001b[1;33m,\u001b[0m \u001b[0maxis\u001b[0m\u001b[1;33m=\u001b[0m\u001b[0mself\u001b[0m\u001b[1;33m.\u001b[0m\u001b[0maxis\u001b[0m\u001b[1;33m)\u001b[0m\u001b[1;33m\u001b[0m\u001b[1;33m\u001b[0m\u001b[0m\n",
      "\u001b[1;31mKeyError\u001b[0m: '331ca77987ad25091c086a5a8534dc766be3c41bcc3803fb829a498f0a7a168e'"
     ]
    }
   ],
   "source": [
    "df_test = grouped_data.get_group(\"331ca77987ad25091c086a5a8534dc766be3c41bcc3803fb829a498f0a7a168e\")\n",
    "df_test"
   ]
  },
  {
   "cell_type": "markdown",
   "id": "b7c1f1c9",
   "metadata": {},
   "source": [
    "## without RETURN "
   ]
  },
  {
   "cell_type": "code",
   "execution_count": 9,
   "id": "54f70ae8",
   "metadata": {},
   "outputs": [],
   "source": [
    "time_all_committed_accepts = {}\n",
    "time_passed_accepts = []\n",
    "validated_time = []\n",
    "accepted_time = []\n",
    "committed_time = []\n",
    "\n",
    "accept_underfit = []\n",
    "accept_underfit_dict = {}\n",
    "\n",
    "accept_overfit = []\n",
    "accept_overfit_dict = {}\n",
    "\n",
    "for i in range(0, len(tx_id)):\n",
    "    temp_list = []\n",
    "    if \"ACCEPT\" == grouped_data.get_group(tx_id[i])[\"Tx_type\"].to_list()[0]:\n",
    "        temp_list = grouped_data.get_group(tx_id[i])[\"Time\"].to_list()\n",
    "        if len(temp_list) == 6 and grouped_data.get_group(tx_id[i])[\"Event\"].to_list()[5] == \"commit_tx\":\n",
    "            \n",
    "            actual_time = max(temp_list) - min(temp_list)\n",
    "            time_all_committed_accepts[tx_id[i]] = actual_time\n",
    "            time_passed_accepts.append(actual_time)\n",
    "            \n",
    "            df = grouped_data.get_group(tx_id[i])\n",
    "            received_time = df[df['Event'] == 'received_tx']['Time'].to_list()[0]\n",
    "            before_tendermint_time = df[df['Event'] == 'before_tendermint']['Time'].to_list()[0]\n",
    "            \n",
    "            validated = before_tendermint_time - received_time\n",
    "            validated_time.append(validated)\n",
    "            \n",
    "            check_time = df[df['Event'] == 'check_tx']['Time'].to_list()[0]\n",
    "            accepted = check_time - received_time\n",
    "            accepted_time.append(accepted)\n",
    "            \n",
    "            commit_time =  df[df['Event'] == 'commit_tx']['Time'].to_list()[0]\n",
    "            committed = commit_time - received_time\n",
    "            committed_time.append(committed)\n",
    "        elif len(temp_list) < 6:\n",
    "            accept_underfit.append(temp_list)\n",
    "            accept_underfit_dict[tx_id[i]] = temp_list\n",
    "        elif 7 >= len(temp_list) > 6 :\n",
    "            df_check = grouped_data.get_group(tx_id[i])\n",
    "            if len(df_check[df_check['Event'] == 'check_tx']['Time'].to_list()) > 1:\n",
    "                check_time = max(df_check[df_check['Event'] == 'check_tx']['Time'].to_list())\n",
    "            else:\n",
    "                check_time = df_check[df_check['Event'] == 'check_tx']['Time'].to_list()[0] \n",
    "            \n",
    "            actual_time = max(temp_list) - min(temp_list)\n",
    "            time_all_committed_accepts[tx_id[i]] = actual_time\n",
    "            time_passed_accepts.append(actual_time)\n",
    "            \n",
    "            df = grouped_data.get_group(tx_id[i])\n",
    "            received_time = df[df['Event'] == 'received_tx']['Time'].to_list()[0]\n",
    "            before_tendermint_time = df[df['Event'] == 'before_tendermint']['Time'].to_list()[0]\n",
    "            \n",
    "            validated = before_tendermint_time - received_time\n",
    "            validated_time.append(validated)\n",
    "           \n",
    "            accepted = check_time - received_time\n",
    "            accepted_time.append(accepted)\n",
    "            \n",
    "            commit_time =  df[df['Event'] == 'commit_tx']['Time'].to_list()[0]\n",
    "            committed = commit_time - received_time\n",
    "            committed_time.append(committed)\n",
    "            \n",
    "            accept_overfit.append(actual_time)\n",
    "            accept_overfit_dict[tx_id[i]] = temp_list"
   ]
  },
  {
   "cell_type": "code",
   "execution_count": null,
   "id": "a7d02661",
   "metadata": {},
   "outputs": [],
   "source": []
  },
  {
   "cell_type": "markdown",
   "id": "cbc2a652",
   "metadata": {},
   "source": [
    "## with RETURNs"
   ]
  },
  {
   "cell_type": "code",
   "execution_count": 10,
   "id": "3b69c6ba",
   "metadata": {},
   "outputs": [],
   "source": [
    "\n",
    "\n",
    "accept_return_count = {}\n",
    "\n",
    "time_id_return = {}\n",
    "for i in range(0, len(tx_id)):\n",
    "    temp_list = []\n",
    "    return_count = 0\n",
    "    if \"ACCEPT\" == grouped_data.get_group(tx_id[i])[\"Tx_type\"].to_list()[0]:\n",
    "        temp_list = grouped_data.get_group(tx_id[i])[\"Time\"].to_list()\n",
    "        for j in range(0, len(data)):\n",
    "            if data['Event'][j] == \"commit_tx\" and tx_id[i] == data['Accept_id'][j]:\n",
    "                temp_list.append(data[\"Time\"][j])\n",
    "                return_count += 1\n",
    "        accept_return_count[tx_id[i]] = return_count\n",
    "        "
   ]
  },
  {
   "cell_type": "code",
   "execution_count": 11,
   "id": "44294bb2",
   "metadata": {},
   "outputs": [
    {
     "data": {
      "text/plain": [
       "{'05b7ba177403918270ebd4e2918c7b4d3a6ee03c0a3f4d7e3a0ffac8e1d7bf5a': 25,\n",
       " '2b1969720c46c9653c4d3d21c394969f018f3445d012096da6612cba6df678d9': 25,\n",
       " '40e0efb17ba88d25979bd60ab7c7b594acbd78436a7c9f217221cd25222755d2': 25,\n",
       " '4697124cd8ea023ac051dad21aa5740c5cd34926e542ef640a49c3ba32c6b645': 0,\n",
       " '532721138c36227c51389c6c55f1bfcdbc26be1fb8156cda81eb33021c799245': 24,\n",
       " '553a50d962de44072b6a82895bffe452fd788c2ad32d932b3adc902e3b36c80a': 25,\n",
       " '61bfbff890d69303cdd3e2e8f471e05c13cea818f16d3f4d58c21ba8dac00405': 25,\n",
       " '716d498d6ea7cfde386a2f593d088993593ba519cb38f76c736b8261a2ddbe07': 25,\n",
       " '73eb45a4927d0a8d81c5dcb4cb52eb707d7c1473d6dfa95c64ebfec504bb213e': 25,\n",
       " '80f97082394d1508f4fe61de765e3270a73dece4d7c1c826b681136ec5a948fd': 25,\n",
       " '92e11e59831e6118c2fdf1c8ab013504cd48e0f9458168feb43e90ea0e2264c9': 25,\n",
       " 'a52e17b55a6f9b74c4def11c13f0c66cb8c4ccf69eb57aa8b1c6fcc6aec06b9c': 25,\n",
       " 'ae6e9ae6b44012c057f5d108e7cfb5e2e5f12c9bdce05568cf8dab873c3fd7c0': 25,\n",
       " 'b622ca485c53a898057c63453f13de1ffc79a58b9552d9fabc2a8ee70d2846e3': 25,\n",
       " 'c0a25af07b1f44acc9b8081811931a7dc5db35c462e3e09d2625e950c7578ad7': 25,\n",
       " 'c6388a3b1bc4864b3a603fd77a47a604eff048124b2aed0d2d7e40b70639c8af': 25,\n",
       " 'cb01ced466409912eba13166cc8c479f49c114a8910d38bcaca2fb03a37a563e': 25,\n",
       " 'e23aa1c8fab6d5491c8e4ad8f711d41957e413f70912948fc1807c0a7908b68c': 25,\n",
       " 'ecec13f053d5155076f649e4a8d07563d1ebf0b2f310134e44c1509d8882b31e': 25,\n",
       " 'fbb0ee782db3ac5ef934a12e44d4685611f99a1af1502fd215335d25e11091a3': 25}"
      ]
     },
     "execution_count": 11,
     "metadata": {},
     "output_type": "execute_result"
    }
   ],
   "source": [
    "accept_return_count"
   ]
  },
  {
   "cell_type": "code",
   "execution_count": 12,
   "id": "ba99337c",
   "metadata": {},
   "outputs": [
    {
     "data": {
      "text/plain": [
       "{'05b7ba177403918270ebd4e2918c7b4d3a6ee03c0a3f4d7e3a0ffac8e1d7bf5a': 183,\n",
       " '2b1969720c46c9653c4d3d21c394969f018f3445d012096da6612cba6df678d9': 181,\n",
       " '40e0efb17ba88d25979bd60ab7c7b594acbd78436a7c9f217221cd25222755d2': 181,\n",
       " '532721138c36227c51389c6c55f1bfcdbc26be1fb8156cda81eb33021c799245': 364,\n",
       " '553a50d962de44072b6a82895bffe452fd788c2ad32d932b3adc902e3b36c80a': 383,\n",
       " '61bfbff890d69303cdd3e2e8f471e05c13cea818f16d3f4d58c21ba8dac00405': 215,\n",
       " '716d498d6ea7cfde386a2f593d088993593ba519cb38f76c736b8261a2ddbe07': 338,\n",
       " '73eb45a4927d0a8d81c5dcb4cb52eb707d7c1473d6dfa95c64ebfec504bb213e': 176,\n",
       " '80f97082394d1508f4fe61de765e3270a73dece4d7c1c826b681136ec5a948fd': 345,\n",
       " '92e11e59831e6118c2fdf1c8ab013504cd48e0f9458168feb43e90ea0e2264c9': 210,\n",
       " 'a52e17b55a6f9b74c4def11c13f0c66cb8c4ccf69eb57aa8b1c6fcc6aec06b9c': 184,\n",
       " 'ae6e9ae6b44012c057f5d108e7cfb5e2e5f12c9bdce05568cf8dab873c3fd7c0': 173,\n",
       " 'b622ca485c53a898057c63453f13de1ffc79a58b9552d9fabc2a8ee70d2846e3': 178,\n",
       " 'c0a25af07b1f44acc9b8081811931a7dc5db35c462e3e09d2625e950c7578ad7': 182,\n",
       " 'c6388a3b1bc4864b3a603fd77a47a604eff048124b2aed0d2d7e40b70639c8af': 345,\n",
       " 'cb01ced466409912eba13166cc8c479f49c114a8910d38bcaca2fb03a37a563e': 338,\n",
       " 'e23aa1c8fab6d5491c8e4ad8f711d41957e413f70912948fc1807c0a7908b68c': 178,\n",
       " 'ecec13f053d5155076f649e4a8d07563d1ebf0b2f310134e44c1509d8882b31e': 337,\n",
       " 'fbb0ee782db3ac5ef934a12e44d4685611f99a1af1502fd215335d25e11091a3': 177}"
      ]
     },
     "execution_count": 12,
     "metadata": {},
     "output_type": "execute_result"
    }
   ],
   "source": [
    "time_all_committed_accepts"
   ]
  },
  {
   "cell_type": "code",
   "execution_count": 13,
   "id": "b6edbb11",
   "metadata": {},
   "outputs": [
    {
     "data": {
      "text/plain": [
       "19"
      ]
     },
     "execution_count": 13,
     "metadata": {},
     "output_type": "execute_result"
    }
   ],
   "source": [
    "len(time_passed_accepts)"
   ]
  },
  {
   "cell_type": "code",
   "execution_count": 14,
   "id": "deae9940",
   "metadata": {},
   "outputs": [
    {
     "data": {
      "text/plain": [
       "7"
      ]
     },
     "execution_count": 14,
     "metadata": {},
     "output_type": "execute_result"
    }
   ],
   "source": [
    "len(accept_overfit)"
   ]
  },
  {
   "cell_type": "code",
   "execution_count": 15,
   "id": "faf49a9c",
   "metadata": {},
   "outputs": [
    {
     "data": {
      "text/plain": [
       "245.68421052631578"
      ]
     },
     "execution_count": 15,
     "metadata": {},
     "output_type": "execute_result"
    }
   ],
   "source": [
    "stat.mean(time_passed_accepts)"
   ]
  },
  {
   "cell_type": "code",
   "execution_count": 16,
   "id": "91d9ebcc",
   "metadata": {},
   "outputs": [
    {
     "data": {
      "text/plain": [
       "350"
      ]
     },
     "execution_count": 16,
     "metadata": {},
     "output_type": "execute_result"
    }
   ],
   "source": [
    "stat.mean(accept_overfit)"
   ]
  },
  {
   "cell_type": "code",
   "execution_count": 17,
   "id": "e5082b71",
   "metadata": {},
   "outputs": [
    {
     "name": "stdout",
     "output_type": "stream",
     "text": [
      "245.68\n",
      "184\n",
      "383\n",
      "173\n",
      "83.12\n",
      "total accepts = 19\n"
     ]
    }
   ],
   "source": [
    "# Analysis of CREATE Transaction\n",
    "accept_mean = \"{:.2f}\".format(stat.mean(time_passed_accepts))\n",
    "accept_median = stat.median(time_passed_accepts)\n",
    "accept_max = max(time_passed_accepts)\n",
    "accept_min = min(time_passed_accepts)\n",
    "accept_std_dev = \"{:.2f}\".format(stat.stdev(time_passed_accepts))\n",
    "\n",
    "print(accept_mean)\n",
    "print(accept_median)\n",
    "print(accept_max)\n",
    "print(accept_min)\n",
    "print(accept_std_dev)\n",
    "print(f\"total accepts = {len(time_passed_accepts)}\")\n",
    "\n",
    "accept_dict = {\n",
    "               'min': accept_min,\n",
    "               'max': accept_max,\n",
    "               'average': accept_mean,\n",
    "               'median' : accept_median,\n",
    "               'standard_deviation' : accept_std_dev,\n",
    "               '# of txs' : len(time_passed_accepts)}"
   ]
  },
  {
   "cell_type": "code",
   "execution_count": 18,
   "id": "9d7b3e39",
   "metadata": {
    "scrolled": true
   },
   "outputs": [
    {
     "data": {
      "text/html": [
       "<div>\n",
       "<style scoped>\n",
       "    .dataframe tbody tr th:only-of-type {\n",
       "        vertical-align: middle;\n",
       "    }\n",
       "\n",
       "    .dataframe tbody tr th {\n",
       "        vertical-align: top;\n",
       "    }\n",
       "\n",
       "    .dataframe thead th {\n",
       "        text-align: right;\n",
       "    }\n",
       "</style>\n",
       "<table border=\"1\" class=\"dataframe\">\n",
       "  <thead>\n",
       "    <tr style=\"text-align: right;\">\n",
       "      <th></th>\n",
       "      <th>min</th>\n",
       "      <th>max</th>\n",
       "      <th>average</th>\n",
       "      <th>median</th>\n",
       "      <th>standard_deviation</th>\n",
       "      <th># of txs</th>\n",
       "    </tr>\n",
       "  </thead>\n",
       "  <tbody>\n",
       "    <tr>\n",
       "      <th>ACCEPT</th>\n",
       "      <td>173</td>\n",
       "      <td>383</td>\n",
       "      <td>245.68</td>\n",
       "      <td>184</td>\n",
       "      <td>83.12</td>\n",
       "      <td>19</td>\n",
       "    </tr>\n",
       "  </tbody>\n",
       "</table>\n",
       "</div>"
      ],
      "text/plain": [
       "        min  max average  median standard_deviation  # of txs\n",
       "ACCEPT  173  383  245.68     184              83.12        19"
      ]
     },
     "execution_count": 18,
     "metadata": {},
     "output_type": "execute_result"
    }
   ],
   "source": [
    "results = pd.DataFrame(accept_dict, index = ['ACCEPT'])\n",
    "results.to_csv('accept_analysis.csv', sep=',', encoding='utf-8')\n",
    "results"
   ]
  },
  {
   "cell_type": "code",
   "execution_count": null,
   "id": "836e4574",
   "metadata": {},
   "outputs": [],
   "source": []
  },
  {
   "cell_type": "code",
   "execution_count": null,
   "id": "66491d99",
   "metadata": {},
   "outputs": [],
   "source": []
  }
 ],
 "metadata": {
  "kernelspec": {
   "display_name": "Python 3 (ipykernel)",
   "language": "python",
   "name": "python3"
  },
  "language_info": {
   "codemirror_mode": {
    "name": "ipython",
    "version": 3
   },
   "file_extension": ".py",
   "mimetype": "text/x-python",
   "name": "python",
   "nbconvert_exporter": "python",
   "pygments_lexer": "ipython3",
   "version": "3.7.4"
  }
 },
 "nbformat": 4,
 "nbformat_minor": 5
}
