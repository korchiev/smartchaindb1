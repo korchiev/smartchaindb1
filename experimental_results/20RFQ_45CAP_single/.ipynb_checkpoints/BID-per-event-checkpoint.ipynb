{
 "cells": [
  {
   "cell_type": "code",
   "execution_count": 1,
   "id": "581aa709",
   "metadata": {},
   "outputs": [],
   "source": [
    "import pandas as pd\n",
    "import numpy as np\n",
    "import statistics as stat\n",
    "import matplotlib.pyplot as plt\n",
    "import seaborn as sns\n",
    "sns.set_style(\"white\")\n",
    "import statistics as stat"
   ]
  },
  {
   "cell_type": "code",
   "execution_count": 2,
   "id": "281d13a8",
   "metadata": {},
   "outputs": [],
   "source": [
    "data = pd.read_csv('scdb-20rfq-45cap-metrics.csv', names = ['Event', 'Time', 'Tx_type', 'Tx_id', 'Accept_id', 'time'])"
   ]
  },
  {
   "cell_type": "code",
   "execution_count": 3,
   "id": "992515af",
   "metadata": {},
   "outputs": [
    {
     "data": {
      "text/plain": [
       "1512"
      ]
     },
     "execution_count": 3,
     "metadata": {},
     "output_type": "execute_result"
    }
   ],
   "source": [
    "grouped_data = data.groupby('Tx_id')\n",
    "tx_id = list(grouped_data.groups.keys())\n",
    "len(tx_id)"
   ]
  },
  {
   "cell_type": "code",
   "execution_count": 4,
   "id": "3c655e1b",
   "metadata": {},
   "outputs": [
    {
     "name": "stdout",
     "output_type": "stream",
     "text": [
      "#BIDs =  499\n"
     ]
    }
   ],
   "source": [
    "#new data frame to get the count of each transaction type\n",
    "data_unique_ids = data.drop_duplicates(subset = ['Tx_id'])\n",
    "\n",
    "bid_count = 0\n",
    "bid_ids = []\n",
    "for i in range(0, len(data_unique_ids)):\n",
    "    if data_unique_ids.iloc[i]['Tx_type'] == 'BID':\n",
    "        bid_ids.append(data_unique_ids.iloc[i]['Tx_id'])\n",
    "        bid_count += 1   \n",
    "\n",
    "\n",
    "print(f\"#BIDs =  {bid_count}\")"
   ]
  },
  {
   "cell_type": "code",
   "execution_count": 5,
   "id": "88d73c89",
   "metadata": {},
   "outputs": [
    {
     "data": {
      "text/html": [
       "<div>\n",
       "<style scoped>\n",
       "    .dataframe tbody tr th:only-of-type {\n",
       "        vertical-align: middle;\n",
       "    }\n",
       "\n",
       "    .dataframe tbody tr th {\n",
       "        vertical-align: top;\n",
       "    }\n",
       "\n",
       "    .dataframe thead th {\n",
       "        text-align: right;\n",
       "    }\n",
       "</style>\n",
       "<table border=\"1\" class=\"dataframe\">\n",
       "  <thead>\n",
       "    <tr style=\"text-align: right;\">\n",
       "      <th></th>\n",
       "      <th>Event</th>\n",
       "      <th>Time</th>\n",
       "      <th>Tx_type</th>\n",
       "      <th>Tx_id</th>\n",
       "      <th>Accept_id</th>\n",
       "      <th>time</th>\n",
       "    </tr>\n",
       "  </thead>\n",
       "  <tbody>\n",
       "    <tr>\n",
       "      <th>3182</th>\n",
       "      <td>received_tx</td>\n",
       "      <td>105</td>\n",
       "      <td>BID</td>\n",
       "      <td>1a49fff9ec20cba2fcb307be77a5927840532147aa709f...</td>\n",
       "      <td>None</td>\n",
       "      <td>1.669925e+09</td>\n",
       "    </tr>\n",
       "    <tr>\n",
       "      <th>3183</th>\n",
       "      <td>before_tendermint</td>\n",
       "      <td>115</td>\n",
       "      <td>BID</td>\n",
       "      <td>1a49fff9ec20cba2fcb307be77a5927840532147aa709f...</td>\n",
       "      <td>None</td>\n",
       "      <td>1.669925e+09</td>\n",
       "    </tr>\n",
       "    <tr>\n",
       "      <th>3184</th>\n",
       "      <td>check_tx</td>\n",
       "      <td>127</td>\n",
       "      <td>BID</td>\n",
       "      <td>1a49fff9ec20cba2fcb307be77a5927840532147aa709f...</td>\n",
       "      <td>None</td>\n",
       "      <td>1.669925e+09</td>\n",
       "    </tr>\n",
       "    <tr>\n",
       "      <th>3185</th>\n",
       "      <td>deliver_tx</td>\n",
       "      <td>173</td>\n",
       "      <td>BID</td>\n",
       "      <td>1a49fff9ec20cba2fcb307be77a5927840532147aa709f...</td>\n",
       "      <td>None</td>\n",
       "      <td>1.669925e+09</td>\n",
       "    </tr>\n",
       "    <tr>\n",
       "      <th>3186</th>\n",
       "      <td>end_block</td>\n",
       "      <td>175</td>\n",
       "      <td>BID</td>\n",
       "      <td>1a49fff9ec20cba2fcb307be77a5927840532147aa709f...</td>\n",
       "      <td>None</td>\n",
       "      <td>1.669925e+09</td>\n",
       "    </tr>\n",
       "    <tr>\n",
       "      <th>3187</th>\n",
       "      <td>commit_tx</td>\n",
       "      <td>220</td>\n",
       "      <td>BID</td>\n",
       "      <td>1a49fff9ec20cba2fcb307be77a5927840532147aa709f...</td>\n",
       "      <td>None</td>\n",
       "      <td>1.669925e+09</td>\n",
       "    </tr>\n",
       "  </tbody>\n",
       "</table>\n",
       "</div>"
      ],
      "text/plain": [
       "                  Event  Time Tx_type  \\\n",
       "3182        received_tx   105     BID   \n",
       "3183  before_tendermint   115     BID   \n",
       "3184           check_tx   127     BID   \n",
       "3185         deliver_tx   173     BID   \n",
       "3186          end_block   175     BID   \n",
       "3187          commit_tx   220     BID   \n",
       "\n",
       "                                                  Tx_id Accept_id  \\\n",
       "3182  1a49fff9ec20cba2fcb307be77a5927840532147aa709f...      None   \n",
       "3183  1a49fff9ec20cba2fcb307be77a5927840532147aa709f...      None   \n",
       "3184  1a49fff9ec20cba2fcb307be77a5927840532147aa709f...      None   \n",
       "3185  1a49fff9ec20cba2fcb307be77a5927840532147aa709f...      None   \n",
       "3186  1a49fff9ec20cba2fcb307be77a5927840532147aa709f...      None   \n",
       "3187  1a49fff9ec20cba2fcb307be77a5927840532147aa709f...      None   \n",
       "\n",
       "              time  \n",
       "3182  1.669925e+09  \n",
       "3183  1.669925e+09  \n",
       "3184  1.669925e+09  \n",
       "3185  1.669925e+09  \n",
       "3186  1.669925e+09  \n",
       "3187  1.669925e+09  "
      ]
     },
     "execution_count": 5,
     "metadata": {},
     "output_type": "execute_result"
    }
   ],
   "source": [
    "df_test = grouped_data.get_group(bid_ids[8])\n",
    "df_test"
   ]
  },
  {
   "cell_type": "code",
   "execution_count": 6,
   "id": "1e301678",
   "metadata": {},
   "outputs": [],
   "source": [
    "time_all_committed_bids = {}\n",
    "time_passed_bids = []\n",
    "validated_time = []\n",
    "accepted_time = []\n",
    "committed_time = []\n",
    "\n",
    "bid_underfit = []\n",
    "bid_underfit_dict = {}\n",
    "\n",
    "bid_overfit = []\n",
    "bid_overfit_dict = {}\n",
    "\n",
    "for i in range(0, len(tx_id)):\n",
    "    temp_list = []\n",
    "    if \"BID\" == grouped_data.get_group(tx_id[i])[\"Tx_type\"].to_list()[0]:\n",
    "        temp_list = grouped_data.get_group(tx_id[i])[\"Time\"].to_list()\n",
    "        if len(temp_list) == 6 and grouped_data.get_group(tx_id[i])[\"Event\"].to_list()[5] == \"commit_tx\":\n",
    "            \n",
    "            actual_time = max(temp_list) - min(temp_list)\n",
    "            time_all_committed_bids[tx_id[i]] = actual_time\n",
    "            time_passed_bids.append(actual_time)\n",
    "            \n",
    "            df = grouped_data.get_group(tx_id[i])\n",
    "            received_time = df[df['Event'] == 'received_tx']['Time'].to_list()[0]\n",
    "            before_tendermint_time = df[df['Event'] == 'before_tendermint']['Time'].to_list()[0]\n",
    "            \n",
    "            validated = before_tendermint_time - received_time\n",
    "            validated_time.append(validated)\n",
    "            \n",
    "            check_time = df[df['Event'] == 'check_tx']['Time'].to_list()[0]\n",
    "            accepted = check_time - received_time\n",
    "            accepted_time.append(accepted)\n",
    "            \n",
    "            commit_time =  df[df['Event'] == 'commit_tx']['Time'].to_list()[0]\n",
    "            committed = commit_time - received_time\n",
    "            committed_time.append(committed)\n",
    "        elif len(temp_list) < 6:\n",
    "            bid_underfit.append(temp_list)\n",
    "            bid_underfit_dict[tx_id[i]] = temp_list\n",
    "        elif 7 >= len(temp_list) > 6 :\n",
    "            df_check = grouped_data.get_group(tx_id[i])\n",
    "            if len(df_check[df_check['Event'] == 'check_tx']['Time'].to_list()) > 1:\n",
    "                check_time = max(df_check[df_check['Event'] == 'check_tx']['Time'].to_list())\n",
    "            else:\n",
    "                check_time = df_check[df_check['Event'] == 'check_tx']['Time'].to_list()[0] \n",
    "            \n",
    "            actual_time = max(temp_list) - min(temp_list)\n",
    "            time_all_committed_bids[tx_id[i]] = actual_time\n",
    "            #time_passed_bids.append(actual_time)\n",
    "            \n",
    "            df = grouped_data.get_group(tx_id[i])\n",
    "            received_time = df[df['Event'] == 'received_tx']['Time'].to_list()[0]\n",
    "            before_tendermint_time = df[df['Event'] == 'before_tendermint']['Time'].to_list()[0]\n",
    "            \n",
    "            validated = before_tendermint_time - received_time\n",
    "            validated_time.append(validated)\n",
    "           \n",
    "            accepted = check_time - received_time\n",
    "            accepted_time.append(accepted)\n",
    "            \n",
    "            commit_time =  df[df['Event'] == 'commit_tx']['Time'].to_list()[0]\n",
    "            committed = commit_time - received_time\n",
    "            committed_time.append(committed)\n",
    "            \n",
    "            bid_overfit.append(actual_time)\n",
    "            bid_overfit_dict[tx_id[i]] = temp_list"
   ]
  },
  {
   "cell_type": "code",
   "execution_count": 7,
   "id": "1c490689",
   "metadata": {},
   "outputs": [
    {
     "ename": "KeyError",
     "evalue": "'3066cad3ab9009c84499c002f3b150864fc0b5af46bd4cb1ab5407ab2396a336'",
     "output_type": "error",
     "traceback": [
      "\u001b[1;31m---------------------------------------------------------------------------\u001b[0m",
      "\u001b[1;31mKeyError\u001b[0m                                  Traceback (most recent call last)",
      "\u001b[1;32m<ipython-input-7-4618105f1622>\u001b[0m in \u001b[0;36m<module>\u001b[1;34m\u001b[0m\n\u001b[1;32m----> 1\u001b[1;33m \u001b[0mdf\u001b[0m \u001b[1;33m=\u001b[0m \u001b[0mgrouped_data\u001b[0m\u001b[1;33m.\u001b[0m\u001b[0mget_group\u001b[0m\u001b[1;33m(\u001b[0m\u001b[1;34m\"3066cad3ab9009c84499c002f3b150864fc0b5af46bd4cb1ab5407ab2396a336\"\u001b[0m\u001b[1;33m)\u001b[0m\u001b[1;33m\u001b[0m\u001b[1;33m\u001b[0m\u001b[0m\n\u001b[0m\u001b[0;32m      2\u001b[0m \u001b[0mdf\u001b[0m\u001b[1;33m[\u001b[0m\u001b[0mdf\u001b[0m\u001b[1;33m[\u001b[0m\u001b[1;34m'Event'\u001b[0m\u001b[1;33m]\u001b[0m \u001b[1;33m==\u001b[0m \u001b[1;34m'received_tx'\u001b[0m\u001b[1;33m]\u001b[0m\u001b[1;33m[\u001b[0m\u001b[1;34m'Time'\u001b[0m\u001b[1;33m]\u001b[0m\u001b[1;33m.\u001b[0m\u001b[0mto_list\u001b[0m\u001b[1;33m(\u001b[0m\u001b[1;33m)\u001b[0m\u001b[1;33m[\u001b[0m\u001b[1;36m0\u001b[0m\u001b[1;33m]\u001b[0m\u001b[1;33m\u001b[0m\u001b[1;33m\u001b[0m\u001b[0m\n",
      "\u001b[1;32m~\\Anaconda3\\lib\\site-packages\\pandas\\core\\groupby\\groupby.py\u001b[0m in \u001b[0;36mget_group\u001b[1;34m(self, name, obj)\u001b[0m\n\u001b[0;32m    843\u001b[0m         \u001b[0minds\u001b[0m \u001b[1;33m=\u001b[0m \u001b[0mself\u001b[0m\u001b[1;33m.\u001b[0m\u001b[0m_get_index\u001b[0m\u001b[1;33m(\u001b[0m\u001b[0mname\u001b[0m\u001b[1;33m)\u001b[0m\u001b[1;33m\u001b[0m\u001b[1;33m\u001b[0m\u001b[0m\n\u001b[0;32m    844\u001b[0m         \u001b[1;32mif\u001b[0m \u001b[1;32mnot\u001b[0m \u001b[0mlen\u001b[0m\u001b[1;33m(\u001b[0m\u001b[0minds\u001b[0m\u001b[1;33m)\u001b[0m\u001b[1;33m:\u001b[0m\u001b[1;33m\u001b[0m\u001b[1;33m\u001b[0m\u001b[0m\n\u001b[1;32m--> 845\u001b[1;33m             \u001b[1;32mraise\u001b[0m \u001b[0mKeyError\u001b[0m\u001b[1;33m(\u001b[0m\u001b[0mname\u001b[0m\u001b[1;33m)\u001b[0m\u001b[1;33m\u001b[0m\u001b[1;33m\u001b[0m\u001b[0m\n\u001b[0m\u001b[0;32m    846\u001b[0m \u001b[1;33m\u001b[0m\u001b[0m\n\u001b[0;32m    847\u001b[0m         \u001b[1;32mreturn\u001b[0m \u001b[0mobj\u001b[0m\u001b[1;33m.\u001b[0m\u001b[0m_take_with_is_copy\u001b[0m\u001b[1;33m(\u001b[0m\u001b[0minds\u001b[0m\u001b[1;33m,\u001b[0m \u001b[0maxis\u001b[0m\u001b[1;33m=\u001b[0m\u001b[0mself\u001b[0m\u001b[1;33m.\u001b[0m\u001b[0maxis\u001b[0m\u001b[1;33m)\u001b[0m\u001b[1;33m\u001b[0m\u001b[1;33m\u001b[0m\u001b[0m\n",
      "\u001b[1;31mKeyError\u001b[0m: '3066cad3ab9009c84499c002f3b150864fc0b5af46bd4cb1ab5407ab2396a336'"
     ]
    }
   ],
   "source": [
    "df = grouped_data.get_group(\"3066cad3ab9009c84499c002f3b150864fc0b5af46bd4cb1ab5407ab2396a336\")\n",
    "df[df['Event'] == 'received_tx']['Time'].to_list()[0]"
   ]
  },
  {
   "cell_type": "code",
   "execution_count": null,
   "id": "73a4bb28",
   "metadata": {},
   "outputs": [],
   "source": [
    "df[df['Event'] == 'received_tx']"
   ]
  },
  {
   "cell_type": "code",
   "execution_count": null,
   "id": "b78ef638",
   "metadata": {},
   "outputs": [],
   "source": [
    "bid_overfit_dict"
   ]
  },
  {
   "cell_type": "code",
   "execution_count": null,
   "id": "bb0d0b7c",
   "metadata": {},
   "outputs": [],
   "source": [
    "len(time_passed_bids)"
   ]
  },
  {
   "cell_type": "code",
   "execution_count": 8,
   "id": "c457a260",
   "metadata": {},
   "outputs": [
    {
     "data": {
      "text/plain": [
       "22"
      ]
     },
     "execution_count": 8,
     "metadata": {},
     "output_type": "execute_result"
    }
   ],
   "source": [
    "len(bid_overfit)"
   ]
  },
  {
   "cell_type": "code",
   "execution_count": 9,
   "id": "d4346f5e",
   "metadata": {},
   "outputs": [
    {
     "data": {
      "text/plain": [
       "93.56932773109244"
      ]
     },
     "execution_count": 9,
     "metadata": {},
     "output_type": "execute_result"
    }
   ],
   "source": [
    "stat.mean(time_passed_bids)"
   ]
  },
  {
   "cell_type": "code",
   "execution_count": 10,
   "id": "6a86adf5",
   "metadata": {},
   "outputs": [
    {
     "data": {
      "text/plain": [
       "376.90909090909093"
      ]
     },
     "execution_count": 10,
     "metadata": {},
     "output_type": "execute_result"
    }
   ],
   "source": [
    "stat.mean(bid_overfit)"
   ]
  },
  {
   "cell_type": "code",
   "execution_count": 11,
   "id": "7f940582",
   "metadata": {},
   "outputs": [
    {
     "name": "stdout",
     "output_type": "stream",
     "text": [
      "93.57\n",
      "85.0\n",
      "238\n",
      "75\n",
      "18.87\n",
      "total bids = 476\n"
     ]
    }
   ],
   "source": [
    "# Analysis of CREATE Transaction\n",
    "bid_mean = \"{:.2f}\".format(stat.mean(time_passed_bids))\n",
    "bid_median = stat.median(time_passed_bids)\n",
    "bid_max = max(time_passed_bids)\n",
    "bid_min = min(time_passed_bids)\n",
    "bid_std_dev = \"{:.2f}\".format(stat.stdev(time_passed_bids))\n",
    "\n",
    "print(bid_mean)\n",
    "print(bid_median)\n",
    "print(bid_max)\n",
    "print(bid_min)\n",
    "print(bid_std_dev)\n",
    "print(f\"total bids = {len(time_passed_bids)}\")\n",
    "\n",
    "bid_dict = {\n",
    "               'min': bid_min,\n",
    "               'max': bid_max,\n",
    "               'average': bid_mean,\n",
    "               'median' : bid_median,\n",
    "               'standard_deviation' : bid_std_dev,\n",
    "               '# of txs' : len(time_passed_bids)}"
   ]
  },
  {
   "cell_type": "code",
   "execution_count": 12,
   "id": "7d3a2d40",
   "metadata": {},
   "outputs": [
    {
     "data": {
      "text/html": [
       "<div>\n",
       "<style scoped>\n",
       "    .dataframe tbody tr th:only-of-type {\n",
       "        vertical-align: middle;\n",
       "    }\n",
       "\n",
       "    .dataframe tbody tr th {\n",
       "        vertical-align: top;\n",
       "    }\n",
       "\n",
       "    .dataframe thead th {\n",
       "        text-align: right;\n",
       "    }\n",
       "</style>\n",
       "<table border=\"1\" class=\"dataframe\">\n",
       "  <thead>\n",
       "    <tr style=\"text-align: right;\">\n",
       "      <th></th>\n",
       "      <th>min</th>\n",
       "      <th>max</th>\n",
       "      <th>average</th>\n",
       "      <th>median</th>\n",
       "      <th>standard_deviation</th>\n",
       "      <th># of txs</th>\n",
       "    </tr>\n",
       "  </thead>\n",
       "  <tbody>\n",
       "    <tr>\n",
       "      <th>BID</th>\n",
       "      <td>75</td>\n",
       "      <td>238</td>\n",
       "      <td>93.57</td>\n",
       "      <td>85.0</td>\n",
       "      <td>18.87</td>\n",
       "      <td>476</td>\n",
       "    </tr>\n",
       "  </tbody>\n",
       "</table>\n",
       "</div>"
      ],
      "text/plain": [
       "     min  max average  median standard_deviation  # of txs\n",
       "BID   75  238   93.57    85.0              18.87       476"
      ]
     },
     "execution_count": 12,
     "metadata": {},
     "output_type": "execute_result"
    }
   ],
   "source": [
    "results = pd.DataFrame(bid_dict, index = ['BID'])\n",
    "results.to_csv('bid_analysis.csv', sep=',', encoding='utf-8')\n",
    "results"
   ]
  },
  {
   "cell_type": "code",
   "execution_count": null,
   "id": "add96d5d",
   "metadata": {},
   "outputs": [],
   "source": []
  },
  {
   "cell_type": "code",
   "execution_count": null,
   "id": "2206f2da",
   "metadata": {},
   "outputs": [],
   "source": []
  }
 ],
 "metadata": {
  "kernelspec": {
   "display_name": "Python 3 (ipykernel)",
   "language": "python",
   "name": "python3"
  },
  "language_info": {
   "codemirror_mode": {
    "name": "ipython",
    "version": 3
   },
   "file_extension": ".py",
   "mimetype": "text/x-python",
   "name": "python",
   "nbconvert_exporter": "python",
   "pygments_lexer": "ipython3",
   "version": "3.7.4"
  }
 },
 "nbformat": 4,
 "nbformat_minor": 5
}
