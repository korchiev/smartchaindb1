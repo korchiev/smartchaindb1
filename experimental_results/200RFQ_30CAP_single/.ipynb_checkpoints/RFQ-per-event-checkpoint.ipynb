{
 "cells": [
  {
   "cell_type": "code",
   "execution_count": 7,
   "id": "cb85437e",
   "metadata": {},
   "outputs": [],
   "source": [
    "import pandas as pd\n",
    "import numpy as np\n",
    "import statistics as stat\n",
    "import matplotlib.pyplot as plt\n",
    "import seaborn as sns\n",
    "sns.set_style(\"white\")"
   ]
  },
  {
   "cell_type": "code",
   "execution_count": 8,
   "id": "77cbc5bc",
   "metadata": {},
   "outputs": [],
   "source": [
    "data = pd.read_csv('scdb-200rfq-30cap-metrics.csv', names = ['Event', 'Time', 'Tx_type', 'Tx_id', 'Accept_id', 'time'])"
   ]
  },
  {
   "cell_type": "code",
   "execution_count": 9,
   "id": "9c0dfe0a",
   "metadata": {},
   "outputs": [
    {
     "data": {
      "text/plain": [
       "15329"
      ]
     },
     "execution_count": 9,
     "metadata": {},
     "output_type": "execute_result"
    }
   ],
   "source": [
    "grouped_data = data.groupby('Tx_id')\n",
    "tx_id = list(grouped_data.groups.keys())\n",
    "len(tx_id)"
   ]
  },
  {
   "cell_type": "code",
   "execution_count": 10,
   "id": "16833f3d",
   "metadata": {},
   "outputs": [
    {
     "name": "stdout",
     "output_type": "stream",
     "text": [
      "#RFQs =  198\n"
     ]
    }
   ],
   "source": [
    "#new data frame to get the count of each transaction type\n",
    "data_unique_ids = data.drop_duplicates(subset = ['Tx_id'])\n",
    "\n",
    "rfq_count = 0\n",
    "for i in range(0, len(data_unique_ids)):\n",
    "    if data_unique_ids.iloc[i]['Tx_type'] == 'REQUEST_FOR_QUOTE':\n",
    "        rfq_count += 1   \n",
    "\n",
    "\n",
    "print(f\"#RFQs =  {rfq_count}\")"
   ]
  },
  {
   "cell_type": "code",
   "execution_count": 11,
   "id": "b05dea8b",
   "metadata": {},
   "outputs": [
    {
     "ename": "KeyError",
     "evalue": "'b861bfd94f3ac9f2186e074690685f5d890a98b108f7f0ba9d0ed13110a50637'",
     "output_type": "error",
     "traceback": [
      "\u001b[1;31m---------------------------------------------------------------------------\u001b[0m",
      "\u001b[1;31mKeyError\u001b[0m                                  Traceback (most recent call last)",
      "\u001b[1;32m<ipython-input-11-e5b09cc5ff1e>\u001b[0m in \u001b[0;36m<module>\u001b[1;34m\u001b[0m\n\u001b[1;32m----> 1\u001b[1;33m \u001b[0mdf_test\u001b[0m \u001b[1;33m=\u001b[0m \u001b[0mgrouped_data\u001b[0m\u001b[1;33m.\u001b[0m\u001b[0mget_group\u001b[0m\u001b[1;33m(\u001b[0m\u001b[1;34m\"b861bfd94f3ac9f2186e074690685f5d890a98b108f7f0ba9d0ed13110a50637\"\u001b[0m\u001b[1;33m)\u001b[0m\u001b[1;33m\u001b[0m\u001b[1;33m\u001b[0m\u001b[0m\n\u001b[0m",
      "\u001b[1;32m~\\Anaconda3\\lib\\site-packages\\pandas\\core\\groupby\\groupby.py\u001b[0m in \u001b[0;36mget_group\u001b[1;34m(self, name, obj)\u001b[0m\n\u001b[0;32m    843\u001b[0m         \u001b[0minds\u001b[0m \u001b[1;33m=\u001b[0m \u001b[0mself\u001b[0m\u001b[1;33m.\u001b[0m\u001b[0m_get_index\u001b[0m\u001b[1;33m(\u001b[0m\u001b[0mname\u001b[0m\u001b[1;33m)\u001b[0m\u001b[1;33m\u001b[0m\u001b[1;33m\u001b[0m\u001b[0m\n\u001b[0;32m    844\u001b[0m         \u001b[1;32mif\u001b[0m \u001b[1;32mnot\u001b[0m \u001b[0mlen\u001b[0m\u001b[1;33m(\u001b[0m\u001b[0minds\u001b[0m\u001b[1;33m)\u001b[0m\u001b[1;33m:\u001b[0m\u001b[1;33m\u001b[0m\u001b[1;33m\u001b[0m\u001b[0m\n\u001b[1;32m--> 845\u001b[1;33m             \u001b[1;32mraise\u001b[0m \u001b[0mKeyError\u001b[0m\u001b[1;33m(\u001b[0m\u001b[0mname\u001b[0m\u001b[1;33m)\u001b[0m\u001b[1;33m\u001b[0m\u001b[1;33m\u001b[0m\u001b[0m\n\u001b[0m\u001b[0;32m    846\u001b[0m \u001b[1;33m\u001b[0m\u001b[0m\n\u001b[0;32m    847\u001b[0m         \u001b[1;32mreturn\u001b[0m \u001b[0mobj\u001b[0m\u001b[1;33m.\u001b[0m\u001b[0m_take_with_is_copy\u001b[0m\u001b[1;33m(\u001b[0m\u001b[0minds\u001b[0m\u001b[1;33m,\u001b[0m \u001b[0maxis\u001b[0m\u001b[1;33m=\u001b[0m\u001b[0mself\u001b[0m\u001b[1;33m.\u001b[0m\u001b[0maxis\u001b[0m\u001b[1;33m)\u001b[0m\u001b[1;33m\u001b[0m\u001b[1;33m\u001b[0m\u001b[0m\n",
      "\u001b[1;31mKeyError\u001b[0m: 'b861bfd94f3ac9f2186e074690685f5d890a98b108f7f0ba9d0ed13110a50637'"
     ]
    }
   ],
   "source": [
    "df_test = grouped_data.get_group(\"b861bfd94f3ac9f2186e074690685f5d890a98b108f7f0ba9d0ed13110a50637\")"
   ]
  },
  {
   "cell_type": "code",
   "execution_count": null,
   "id": "81ced3d3",
   "metadata": {},
   "outputs": [],
   "source": [
    "df_test"
   ]
  },
  {
   "cell_type": "code",
   "execution_count": null,
   "id": "85cafe49",
   "metadata": {},
   "outputs": [],
   "source": [
    "\"REQUEST_FOR_QUOTE\" == grouped_data.get_group(\"b861bfd94f3ac9f2186e074690685f5d890a98b108f7f0ba9d0ed13110a50637\")[\"Tx_type\"].to_list()[0]"
   ]
  },
  {
   "cell_type": "code",
   "execution_count": null,
   "id": "b376eb4d",
   "metadata": {},
   "outputs": [],
   "source": [
    "time_all_committed_rfqs = {}\n",
    "time_passed_rfqs = []\n",
    "validated_time = []\n",
    "accepted_time = []\n",
    "committed_time = []\n",
    "\n",
    "rfq_underfit = []\n",
    "rfq_underfit_dict = {}\n",
    "\n",
    "rfq_overfit = []\n",
    "rfq_overfit_dict = {}\n",
    "\n",
    "for i in range(0, len(tx_id)):\n",
    "    temp_list = []\n",
    "    if \"REQUEST_FOR_QUOTE\" == grouped_data.get_group(tx_id[i])[\"Tx_type\"].to_list()[0]:\n",
    "        temp_list = grouped_data.get_group(tx_id[i])[\"Time\"].to_list()\n",
    "        if len(temp_list) == 6 and grouped_data.get_group(tx_id[i])[\"Event\"].to_list()[5] == \"commit_tx\":\n",
    "            actual_time = max(temp_list) - min(temp_list)\n",
    "            time_all_committed_rfqs[tx_id[i]] = actual_time\n",
    "            time_passed_rfqs.append(actual_time)\n",
    "            df = grouped_data.get_group(tx_id[i])\n",
    "            received_time = df[df['Event'] == 'received_tx']['Time'].to_list()[0]\n",
    "            before_tendermint_time = df[df['Event'] == 'before_tendermint']['Time'].to_list()[0]\n",
    "            validated = before_tendermint_time - received_time\n",
    "            validated_time.append(validated)\n",
    "            check_time = df[df['Event'] == 'check_tx']['Time'].to_list()[0]\n",
    "            accepted = check_time - received_time\n",
    "            accepted_time.append(accepted)\n",
    "            commit_time =  df[df['Event'] == 'commit_tx']['Time'].to_list()[0]\n",
    "            committed = commit_time - received_time\n",
    "            committed_time.append(committed)\n",
    "        elif len(temp_list) < 6:\n",
    "            rfq_underfit.append(temp_list)\n",
    "            rfq_underfit_dict[tx_id(i)] = temp_list\n",
    "        elif 7 >= len(temp_list) > 6 :\n",
    "            df_check = grouped_data.get_group(tx_id[i])\n",
    "            if len(df_check[df_check['Event'] == 'check_tx']['Time'].to_list()) > 1:\n",
    "                check_time = max(df_check[df_check['Event'] == 'check_tx']['Time'].to_list())\n",
    "            else:\n",
    "                check_time = df_check[df_check['Event'] == 'check_tx']['Time'].to_list()[0] \n",
    "            \n",
    "            actual_time = max(temp_list) - min(temp_list)\n",
    "            time_all_committed_rfqs[tx_id[i]] = actual_time\n",
    "            time_passed_rfqs.append(actual_time)\n",
    "            \n",
    "            df = grouped_data.get_group(tx_id[i])\n",
    "            received_time = df[df['Event'] == 'received_tx']['Time'].to_list()[0]\n",
    "            before_tendermint_time = df[df['Event'] == 'before_tendermint']['Time'].to_list()[0]\n",
    "            \n",
    "            validated = before_tendermint_time - received_time\n",
    "            validated_time.append(validated)\n",
    "           \n",
    "            accepted = check_time - received_time\n",
    "            accepted_time.append(accepted)\n",
    "            \n",
    "            commit_time =  df[df['Event'] == 'commit_tx']['Time'].to_list()[0]\n",
    "            committed = commit_time - received_time\n",
    "            committed_time.append(committed)\n",
    "            rfq_overfit.append(temp_list)\n",
    "            rfq_overfit_dict[tx_id[i]] = temp_list"
   ]
  },
  {
   "cell_type": "code",
   "execution_count": null,
   "id": "e5cf2a5e",
   "metadata": {},
   "outputs": [],
   "source": [
    "# Analysis of RFQ Transaction\n",
    "if len(time_passed_rfqs) < 2:\n",
    "    time_rfqs.append(time_passed_rfqs[0])\n",
    "rfq_mean = \"{:.2f}\".format(stat.mean(time_passed_rfqs))\n",
    "rfq_median = stat.median(time_passed_rfqs)\n",
    "rfq_max = max(time_passed_rfqs)\n",
    "rfq_min = min(time_passed_rfqs)\n",
    "rfq_std_dev = \"{:.2f}\".format(stat.mean(time_passed_rfqs))\n",
    "\n",
    "print(rfq_mean)\n",
    "print(rfq_median)\n",
    "print(rfq_max)\n",
    "print(rfq_min)\n",
    "print(rfq_std_dev)\n",
    "print(f\"total RFQs = {len(time_passed_rfqs)}\")\n",
    "\n",
    "rfq_dict = {\n",
    "               'min': rfq_min,\n",
    "               'max': rfq_max,\n",
    "               'average': rfq_mean,\n",
    "                'median' : rfq_median,\n",
    "               'standard_deviation' : rfq_std_dev,\n",
    "               '# of txs' : len(time_passed_rfqs)}"
   ]
  },
  {
   "cell_type": "code",
   "execution_count": null,
   "id": "f4f68b68",
   "metadata": {},
   "outputs": [],
   "source": [
    "len(rfq_overfit_dict)"
   ]
  },
  {
   "cell_type": "code",
   "execution_count": 17,
   "id": "c79f1857",
   "metadata": {},
   "outputs": [
    {
     "data": {
      "text/plain": [
       "{'0c860579d017e8256a5d274933111d25d83d6b5448f994fad4ac1aefb408da14': [379,\n",
       "  382,\n",
       "  388,\n",
       "  519,\n",
       "  592,\n",
       "  599,\n",
       "  682],\n",
       " '147ef6ba8b845aec94ec183b8d2345a90e7e5c66e6be089c866d7a952ac2d0ef': [530,\n",
       "  552,\n",
       "  563,\n",
       "  663,\n",
       "  734,\n",
       "  738,\n",
       "  778],\n",
       " '170e48dc84507c43075c50d7bd57a980c931aafc50d443fc2109546b4cb059cd': [542,\n",
       "  567,\n",
       "  575,\n",
       "  654,\n",
       "  725,\n",
       "  727,\n",
       "  768],\n",
       " '28adf97cdff7f944c38db59ea5530562d2bcf44fbf4728a4be87ca891abe1bda': [238,\n",
       "  263,\n",
       "  273,\n",
       "  379,\n",
       "  443,\n",
       "  448,\n",
       "  531],\n",
       " '2c54c9583e1e354dd6d74c2c73cb4382ef41c30f3553cc7f95d19e928dba9440': [121,\n",
       "  143,\n",
       "  158,\n",
       "  293,\n",
       "  352,\n",
       "  359,\n",
       "  399],\n",
       " '46535f45e8b7b20939478572ce27c457873113714e116f7476199e24ea15b459': [243,\n",
       "  271,\n",
       "  281,\n",
       "  386,\n",
       "  449,\n",
       "  453,\n",
       "  536],\n",
       " '4abb15f84a31cb2582306a8fd4270fbd8dac7f63ced161bc69a254b155bb19ee': [400,\n",
       "  421,\n",
       "  428,\n",
       "  508,\n",
       "  582,\n",
       "  584,\n",
       "  668],\n",
       " '4b1396fdd06c7fb3d0bfc66ef74041737ca14960b4e53d71f3507adb33b8572a': [237,\n",
       "  259,\n",
       "  273,\n",
       "  389,\n",
       "  452,\n",
       "  459,\n",
       "  542],\n",
       " '590a2143eb84f32a0b64f6af20076f8108fcd60a1e44fe5e6dd8955e567b7436': [388,\n",
       "  409,\n",
       "  421,\n",
       "  526,\n",
       "  599,\n",
       "  605,\n",
       "  689],\n",
       " '5e8a5b78394efd021249d3b092002774f3dce8bc4f386f11deab5f442e320614': [544,\n",
       "  547,\n",
       "  554,\n",
       "  655,\n",
       "  727,\n",
       "  732,\n",
       "  772],\n",
       " '69543437aafa876ca0ebcc2eb7d56c2843ccbd4b902001c8df70b151c6995132': [543,\n",
       "  546,\n",
       "  551,\n",
       "  649,\n",
       "  720,\n",
       "  723,\n",
       "  763],\n",
       " '95516b378ff619fedd32633bfe7ffe86af105a2cad8d0d74c0cf183bb5b8f03b': [392,\n",
       "  415,\n",
       "  428,\n",
       "  512,\n",
       "  585,\n",
       "  590,\n",
       "  674],\n",
       " '9d23655f9270fb82561675135113b1b875ac27bbbf28fa91f8f79a8110e98bc3': [396,\n",
       "  421,\n",
       "  435,\n",
       "  517,\n",
       "  591,\n",
       "  594,\n",
       "  678],\n",
       " '9fd17a48d6093bc44f24d54f5e6d65de47cdeb1885fd5df8c8e312952fca749e': [126,\n",
       "  149,\n",
       "  156,\n",
       "  270,\n",
       "  332,\n",
       "  334,\n",
       "  374],\n",
       " 'af94102b8e52ab5b940f53f0ad91d7aff4c8cb588620fd7688e0d1f9bdd608ae': [506,\n",
       "  509,\n",
       "  514,\n",
       "  665,\n",
       "  736,\n",
       "  743,\n",
       "  782],\n",
       " 'd4ade3b1c360fc47a40635917f9af2ec0cc48b3e2b5040ccb8b474a3747dc956': [244,\n",
       "  265,\n",
       "  277,\n",
       "  395,\n",
       "  458,\n",
       "  467,\n",
       "  550],\n",
       " 'de49334b69dbd63ef7e05907d3810f5436afa9a2920d607389c0b304236ac869': [123,\n",
       "  146,\n",
       "  155,\n",
       "  283,\n",
       "  344,\n",
       "  348,\n",
       "  388],\n",
       " 'e65b4daaddf89be8b1e23b56d230bf63be1c3d3156aed2abe3ef0174af1d4e4e': [117,\n",
       "  120,\n",
       "  125,\n",
       "  255,\n",
       "  315,\n",
       "  321,\n",
       "  360],\n",
       " 'fe06e09065141beb14e702133e285fd34a7df80daf3a0ab697d9ff81b80b9b48': [249,\n",
       "  274,\n",
       "  290,\n",
       "  378,\n",
       "  441,\n",
       "  444,\n",
       "  527]}"
      ]
     },
     "execution_count": 17,
     "metadata": {},
     "output_type": "execute_result"
    }
   ],
   "source": [
    "rfq_overfit_dict"
   ]
  },
  {
   "cell_type": "code",
   "execution_count": 11,
   "id": "9d4c87fd",
   "metadata": {},
   "outputs": [
    {
     "data": {
      "text/html": [
       "<div>\n",
       "<style scoped>\n",
       "    .dataframe tbody tr th:only-of-type {\n",
       "        vertical-align: middle;\n",
       "    }\n",
       "\n",
       "    .dataframe tbody tr th {\n",
       "        vertical-align: top;\n",
       "    }\n",
       "\n",
       "    .dataframe thead th {\n",
       "        text-align: right;\n",
       "    }\n",
       "</style>\n",
       "<table border=\"1\" class=\"dataframe\">\n",
       "  <thead>\n",
       "    <tr style=\"text-align: right;\">\n",
       "      <th></th>\n",
       "      <th>min</th>\n",
       "      <th>max</th>\n",
       "      <th>average</th>\n",
       "      <th>median</th>\n",
       "      <th>standard_deviation</th>\n",
       "      <th># of txs</th>\n",
       "    </tr>\n",
       "  </thead>\n",
       "  <tbody>\n",
       "    <tr>\n",
       "      <th>RFQ</th>\n",
       "      <td>136</td>\n",
       "      <td>306</td>\n",
       "      <td>263.95</td>\n",
       "      <td>277.0</td>\n",
       "      <td>263.95</td>\n",
       "      <td>20</td>\n",
       "    </tr>\n",
       "  </tbody>\n",
       "</table>\n",
       "</div>"
      ],
      "text/plain": [
       "     min  max average  median standard_deviation  # of txs\n",
       "RFQ  136  306  263.95   277.0             263.95        20"
      ]
     },
     "execution_count": 11,
     "metadata": {},
     "output_type": "execute_result"
    }
   ],
   "source": [
    "results = pd.DataFrame(rfq_dict, index = ['RFQ'])\n",
    "results.to_csv('rfq_analysis.csv', sep=',', encoding='utf-8')\n",
    "results"
   ]
  },
  {
   "cell_type": "code",
   "execution_count": 12,
   "id": "46cfe45b",
   "metadata": {},
   "outputs": [],
   "source": [
    "results.to_csv('rfq_analysis.csv', sep=',', encoding='utf-8')"
   ]
  },
  {
   "cell_type": "code",
   "execution_count": 13,
   "id": "0fdcc6ad",
   "metadata": {},
   "outputs": [
    {
     "data": {
      "text/html": [
       "<div>\n",
       "<style scoped>\n",
       "    .dataframe tbody tr th:only-of-type {\n",
       "        vertical-align: middle;\n",
       "    }\n",
       "\n",
       "    .dataframe tbody tr th {\n",
       "        vertical-align: top;\n",
       "    }\n",
       "\n",
       "    .dataframe thead th {\n",
       "        text-align: right;\n",
       "    }\n",
       "</style>\n",
       "<table border=\"1\" class=\"dataframe\">\n",
       "  <thead>\n",
       "    <tr style=\"text-align: right;\">\n",
       "      <th></th>\n",
       "      <th>min</th>\n",
       "      <th>max</th>\n",
       "      <th>average</th>\n",
       "      <th>median</th>\n",
       "      <th>standard_deviation</th>\n",
       "      <th># of txs</th>\n",
       "    </tr>\n",
       "  </thead>\n",
       "  <tbody>\n",
       "    <tr>\n",
       "      <th>RFQ</th>\n",
       "      <td>136</td>\n",
       "      <td>306</td>\n",
       "      <td>263.95</td>\n",
       "      <td>277.0</td>\n",
       "      <td>263.95</td>\n",
       "      <td>20</td>\n",
       "    </tr>\n",
       "  </tbody>\n",
       "</table>\n",
       "</div>"
      ],
      "text/plain": [
       "     min  max average  median standard_deviation  # of txs\n",
       "RFQ  136  306  263.95   277.0             263.95        20"
      ]
     },
     "execution_count": 13,
     "metadata": {},
     "output_type": "execute_result"
    }
   ],
   "source": [
    "results"
   ]
  },
  {
   "cell_type": "code",
   "execution_count": null,
   "id": "a19e9d37",
   "metadata": {},
   "outputs": [],
   "source": []
  }
 ],
 "metadata": {
  "kernelspec": {
   "display_name": "Python 3 (ipykernel)",
   "language": "python",
   "name": "python3"
  },
  "language_info": {
   "codemirror_mode": {
    "name": "ipython",
    "version": 3
   },
   "file_extension": ".py",
   "mimetype": "text/x-python",
   "name": "python",
   "nbconvert_exporter": "python",
   "pygments_lexer": "ipython3",
   "version": "3.7.4"
  }
 },
 "nbformat": 4,
 "nbformat_minor": 5
}
