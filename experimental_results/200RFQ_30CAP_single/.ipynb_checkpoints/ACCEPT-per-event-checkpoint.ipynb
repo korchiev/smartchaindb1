{
 "cells": [
  {
   "cell_type": "code",
   "execution_count": 1,
   "id": "f33d4038",
   "metadata": {},
   "outputs": [],
   "source": [
    "import pandas as pd\n",
    "import numpy as np\n",
    "import statistics as stat\n",
    "import matplotlib.pyplot as plt\n",
    "import seaborn as sns\n",
    "sns.set_style(\"white\")\n",
    "import statistics as stat"
   ]
  },
  {
   "cell_type": "code",
   "execution_count": 2,
   "id": "0a7e3f64",
   "metadata": {},
   "outputs": [],
   "source": [
    "data = pd.read_csv('scdb-200rfq-30cap-metrics.csv', names = ['Event', 'Time', 'Tx_type', 'Tx_id', 'Accept_id', 'time'])"
   ]
  },
  {
   "cell_type": "code",
   "execution_count": 3,
   "id": "bd453adf",
   "metadata": {},
   "outputs": [
    {
     "data": {
      "text/plain": [
       "15329"
      ]
     },
     "execution_count": 3,
     "metadata": {},
     "output_type": "execute_result"
    }
   ],
   "source": [
    "grouped_data = data.groupby('Tx_id')\n",
    "tx_id = list(grouped_data.groups.keys())\n",
    "len(tx_id)"
   ]
  },
  {
   "cell_type": "code",
   "execution_count": 4,
   "id": "52d4ac41",
   "metadata": {},
   "outputs": [
    {
     "name": "stdout",
     "output_type": "stream",
     "text": [
      "#ACCEPTs =  200\n"
     ]
    }
   ],
   "source": [
    "#new data frame to get the count of each transaction type\n",
    "data_unique_ids = data.drop_duplicates(subset = ['Tx_id'])\n",
    "\n",
    "accept_count = 0\n",
    "accept_ids = []\n",
    "for i in range(0, len(data_unique_ids)):\n",
    "    if data_unique_ids.iloc[i]['Tx_type'] == 'ACCEPT':\n",
    "        accept_ids.append(data_unique_ids.iloc[i]['Tx_id'])\n",
    "        accept_count += 1   \n",
    "\n",
    "\n",
    "print(f\"#ACCEPTs =  {accept_count}\")"
   ]
  },
  {
   "cell_type": "code",
   "execution_count": 5,
   "id": "4769bda2",
   "metadata": {},
   "outputs": [
    {
     "data": {
      "text/html": [
       "<div>\n",
       "<style scoped>\n",
       "    .dataframe tbody tr th:only-of-type {\n",
       "        vertical-align: middle;\n",
       "    }\n",
       "\n",
       "    .dataframe tbody tr th {\n",
       "        vertical-align: top;\n",
       "    }\n",
       "\n",
       "    .dataframe thead th {\n",
       "        text-align: right;\n",
       "    }\n",
       "</style>\n",
       "<table border=\"1\" class=\"dataframe\">\n",
       "  <thead>\n",
       "    <tr style=\"text-align: right;\">\n",
       "      <th></th>\n",
       "      <th>Event</th>\n",
       "      <th>Time</th>\n",
       "      <th>Tx_type</th>\n",
       "      <th>Tx_id</th>\n",
       "      <th>Accept_id</th>\n",
       "      <th>time</th>\n",
       "    </tr>\n",
       "  </thead>\n",
       "  <tbody>\n",
       "    <tr>\n",
       "      <th>41902</th>\n",
       "      <td>received_tx</td>\n",
       "      <td>107</td>\n",
       "      <td>ACCEPT</td>\n",
       "      <td>f43d5c0857d9157d5967e0675e178b583fa6afb7c1186c...</td>\n",
       "      <td>None</td>\n",
       "      <td>1.670205e+09</td>\n",
       "    </tr>\n",
       "    <tr>\n",
       "      <th>41904</th>\n",
       "      <td>before_tendermint</td>\n",
       "      <td>122</td>\n",
       "      <td>ACCEPT</td>\n",
       "      <td>f43d5c0857d9157d5967e0675e178b583fa6afb7c1186c...</td>\n",
       "      <td>None</td>\n",
       "      <td>1.670205e+09</td>\n",
       "    </tr>\n",
       "    <tr>\n",
       "      <th>41906</th>\n",
       "      <td>check_tx</td>\n",
       "      <td>147</td>\n",
       "      <td>ACCEPT</td>\n",
       "      <td>f43d5c0857d9157d5967e0675e178b583fa6afb7c1186c...</td>\n",
       "      <td>None</td>\n",
       "      <td>1.670205e+09</td>\n",
       "    </tr>\n",
       "    <tr>\n",
       "      <th>41910</th>\n",
       "      <td>check_tx</td>\n",
       "      <td>257</td>\n",
       "      <td>ACCEPT</td>\n",
       "      <td>f43d5c0857d9157d5967e0675e178b583fa6afb7c1186c...</td>\n",
       "      <td>None</td>\n",
       "      <td>1.670205e+09</td>\n",
       "    </tr>\n",
       "    <tr>\n",
       "      <th>41911</th>\n",
       "      <td>deliver_tx</td>\n",
       "      <td>320</td>\n",
       "      <td>ACCEPT</td>\n",
       "      <td>f43d5c0857d9157d5967e0675e178b583fa6afb7c1186c...</td>\n",
       "      <td>None</td>\n",
       "      <td>1.670205e+09</td>\n",
       "    </tr>\n",
       "    <tr>\n",
       "      <th>41912</th>\n",
       "      <td>end_block</td>\n",
       "      <td>322</td>\n",
       "      <td>ACCEPT</td>\n",
       "      <td>f43d5c0857d9157d5967e0675e178b583fa6afb7c1186c...</td>\n",
       "      <td>None</td>\n",
       "      <td>1.670205e+09</td>\n",
       "    </tr>\n",
       "    <tr>\n",
       "      <th>41913</th>\n",
       "      <td>commit_tx</td>\n",
       "      <td>461</td>\n",
       "      <td>ACCEPT</td>\n",
       "      <td>f43d5c0857d9157d5967e0675e178b583fa6afb7c1186c...</td>\n",
       "      <td>None</td>\n",
       "      <td>1.670205e+09</td>\n",
       "    </tr>\n",
       "  </tbody>\n",
       "</table>\n",
       "</div>"
      ],
      "text/plain": [
       "                   Event  Time Tx_type  \\\n",
       "41902        received_tx   107  ACCEPT   \n",
       "41904  before_tendermint   122  ACCEPT   \n",
       "41906           check_tx   147  ACCEPT   \n",
       "41910           check_tx   257  ACCEPT   \n",
       "41911         deliver_tx   320  ACCEPT   \n",
       "41912          end_block   322  ACCEPT   \n",
       "41913          commit_tx   461  ACCEPT   \n",
       "\n",
       "                                                   Tx_id Accept_id  \\\n",
       "41902  f43d5c0857d9157d5967e0675e178b583fa6afb7c1186c...      None   \n",
       "41904  f43d5c0857d9157d5967e0675e178b583fa6afb7c1186c...      None   \n",
       "41906  f43d5c0857d9157d5967e0675e178b583fa6afb7c1186c...      None   \n",
       "41910  f43d5c0857d9157d5967e0675e178b583fa6afb7c1186c...      None   \n",
       "41911  f43d5c0857d9157d5967e0675e178b583fa6afb7c1186c...      None   \n",
       "41912  f43d5c0857d9157d5967e0675e178b583fa6afb7c1186c...      None   \n",
       "41913  f43d5c0857d9157d5967e0675e178b583fa6afb7c1186c...      None   \n",
       "\n",
       "               time  \n",
       "41902  1.670205e+09  \n",
       "41904  1.670205e+09  \n",
       "41906  1.670205e+09  \n",
       "41910  1.670205e+09  \n",
       "41911  1.670205e+09  \n",
       "41912  1.670205e+09  \n",
       "41913  1.670205e+09  "
      ]
     },
     "execution_count": 5,
     "metadata": {},
     "output_type": "execute_result"
    }
   ],
   "source": [
    "df_test = grouped_data.get_group(accept_ids[37])\n",
    "df_test"
   ]
  },
  {
   "cell_type": "markdown",
   "id": "11250472",
   "metadata": {},
   "source": [
    "## without RETURN "
   ]
  },
  {
   "cell_type": "code",
   "execution_count": 6,
   "id": "fa8da097",
   "metadata": {},
   "outputs": [],
   "source": [
    "time_all_committed_accepts = {}\n",
    "time_passed_accepts = []\n",
    "validated_time = []\n",
    "accepted_time = []\n",
    "committed_time = []\n",
    "\n",
    "accept_underfit = []\n",
    "accept_underfit_dict = {}\n",
    "\n",
    "accept_overfit = []\n",
    "accept_overfit_dict = {}\n",
    "\n",
    "for i in range(0, len(tx_id)):\n",
    "    temp_list = []\n",
    "    if \"ACCEPT\" == grouped_data.get_group(tx_id[i])[\"Tx_type\"].to_list()[0]:\n",
    "        temp_list = grouped_data.get_group(tx_id[i])[\"Time\"].to_list()\n",
    "        if len(temp_list) == 6 and grouped_data.get_group(tx_id[i])[\"Event\"].to_list()[5] == \"commit_tx\":\n",
    "            \n",
    "            actual_time = max(temp_list) - min(temp_list)\n",
    "            time_all_committed_accepts[tx_id[i]] = actual_time\n",
    "            time_passed_accepts.append(actual_time)\n",
    "            \n",
    "            df = grouped_data.get_group(tx_id[i])\n",
    "            received_time = df[df['Event'] == 'received_tx']['Time'].to_list()[0]\n",
    "            before_tendermint_time = df[df['Event'] == 'before_tendermint']['Time'].to_list()[0]\n",
    "            \n",
    "            validated = before_tendermint_time - received_time\n",
    "            validated_time.append(validated)\n",
    "            \n",
    "            check_time = df[df['Event'] == 'check_tx']['Time'].to_list()[0]\n",
    "            accepted = check_time - received_time\n",
    "            accepted_time.append(accepted)\n",
    "            \n",
    "            commit_time =  df[df['Event'] == 'commit_tx']['Time'].to_list()[0]\n",
    "            committed = commit_time - received_time\n",
    "            committed_time.append(committed)\n",
    "        elif len(temp_list) < 6:\n",
    "            accept_underfit.append(temp_list)\n",
    "            accept_underfit_dict[tx_id[i]] = temp_list\n",
    "        elif 7 >= len(temp_list) > 6 :\n",
    "            df_check = grouped_data.get_group(tx_id[i])\n",
    "            if len(df_check[df_check['Event'] == 'check_tx']['Time'].to_list()) > 1:\n",
    "                check_time = max(df_check[df_check['Event'] == 'check_tx']['Time'].to_list())\n",
    "            else:\n",
    "                check_time = df_check[df_check['Event'] == 'check_tx']['Time'].to_list()[0] \n",
    "            \n",
    "            actual_time = max(temp_list) - min(temp_list)\n",
    "            time_all_committed_accepts[tx_id[i]] = actual_time\n",
    "            time_passed_accepts.append(actual_time)\n",
    "            \n",
    "            df = grouped_data.get_group(tx_id[i])\n",
    "            received_time = df[df['Event'] == 'received_tx']['Time'].to_list()[0]\n",
    "            before_tendermint_time = df[df['Event'] == 'before_tendermint']['Time'].to_list()[0]\n",
    "            \n",
    "            validated = before_tendermint_time - received_time\n",
    "            validated_time.append(validated)\n",
    "           \n",
    "            accepted = check_time - received_time\n",
    "            accepted_time.append(accepted)\n",
    "            \n",
    "            commit_time =  df[df['Event'] == 'commit_tx']['Time'].to_list()[0]\n",
    "            committed = commit_time - received_time\n",
    "            committed_time.append(committed)\n",
    "            \n",
    "            accept_overfit.append(actual_time)\n",
    "            accept_overfit_dict[tx_id[i]] = temp_list"
   ]
  },
  {
   "cell_type": "code",
   "execution_count": null,
   "id": "536bdf22",
   "metadata": {},
   "outputs": [],
   "source": []
  },
  {
   "cell_type": "markdown",
   "id": "37b453d9",
   "metadata": {},
   "source": [
    "## with RETURNs"
   ]
  },
  {
   "cell_type": "code",
   "execution_count": 8,
   "id": "f0511ec9",
   "metadata": {},
   "outputs": [],
   "source": [
    "\n",
    "\n",
    "accept_return_count = {}\n",
    "\n",
    "time_id_return = {}\n",
    "for i in range(0, len(tx_id)):\n",
    "    temp_list = []\n",
    "    return_count = 0\n",
    "    if \"ACCEPT\" == grouped_data.get_group(tx_id[i])[\"Tx_type\"].to_list()[0]:\n",
    "        temp_list = grouped_data.get_group(tx_id[i])[\"Time\"].to_list()\n",
    "        for j in range(0, len(data)):\n",
    "            if data['Event'][j] == \"commit_tx\" and tx_id[i] == data['Accept_id'][j]:\n",
    "                temp_list.append(data[\"Time\"][j])\n",
    "                return_count += 1\n",
    "        accept_return_count[tx_id[i]] = return_count\n",
    "        "
   ]
  },
  {
   "cell_type": "code",
   "execution_count": 9,
   "id": "7e553c31",
   "metadata": {},
   "outputs": [
    {
     "data": {
      "text/plain": [
       "{'0b701b4bf27588eea3ab6f06d4227fbd4aaa29c33abeb45bda079d9f9a27a96e': 25,\n",
       " '0d2a99e89db11a9e452b22f9904152d609fa7959226514783036140cd0471654': 24,\n",
       " '0e560fcf3f85851682b1ff917318b92f5141a226304ea8ed5a2cca34a054fd3e': 25,\n",
       " '19095b3867e04e975e8c8079f8e983649edd97d36e2a7b8a073755c1b0a23a51': 25,\n",
       " '2bc760be2fad64b66a546a19326ecd07637ed359c51cea74e9a366a07cfd6009': 25,\n",
       " '3d40cf940fdd772228c61bf11473461267eb310bdfbf91a6722d648d74eee5c7': 25,\n",
       " '4068059a5ed7aa20d9ccbcfa0f83a7a3272633b5cc7955411e832438f2ced97a': 25,\n",
       " '456630d33ac141aae3135c95cb122e63045f40a5c7cb54bbbf36f59bfdf52b1e': 25,\n",
       " '4daf46d46043a83dcfb3b20631f64bdb9d7c41e558b40b297a13394c6be4cbbb': 25,\n",
       " '5cd52aea826b9b07ae947d9e0563573dfc3977113a854234fdc5ebe3ef2b0a2b': 25,\n",
       " '5e63f8f2e8490172d5728761bbf6804ca15d85b0a22bcd005e8f497c904beab2': 25,\n",
       " '81f21ae186cb7504c102c8f847b6ff3455377f24d557131dac53a4d73743a639': 25,\n",
       " '8adbdf48f7300c1103cbacba6e19ae0ad2ada7448916b7c25a4f2c1a94114c12': 25,\n",
       " '8b61264ae94ffaf2019d07417769ea4b8f8235033beb55c505326498208d8df6': 25,\n",
       " 'aaae1ee993ad2ef96b724c51e71136421a3ab14d62cba39fc8acaa6d40bfa9d9': 25,\n",
       " 'bbf0da2348758b160808071ebdc9cb1d29815b47caa2194126e310d2a439eaf3': 25,\n",
       " 'c2f3f74f50b2572a169dac745b5b684d6a8ae2f4e9ad5eff9f44bc8558f949e0': 25,\n",
       " 'd62aac9a62221843cda936880c0280d5e092d183062fa0854523f21224535905': 25,\n",
       " 'd8bde69cbc373bd1cce2e8f7ec40a8a32bb66ad162bffb2fa512683b315c4c7c': 25,\n",
       " 'daa56242096a22ad093490285884a61f2c5898ab268734a063b16e450c50b49a': 25}"
      ]
     },
     "execution_count": 9,
     "metadata": {},
     "output_type": "execute_result"
    }
   ],
   "source": [
    "accept_return_count"
   ]
  },
  {
   "cell_type": "code",
   "execution_count": 10,
   "id": "cfa78009",
   "metadata": {},
   "outputs": [
    {
     "data": {
      "text/plain": [
       "{'0b701b4bf27588eea3ab6f06d4227fbd4aaa29c33abeb45bda079d9f9a27a96e': 355,\n",
       " '0d2a99e89db11a9e452b22f9904152d609fa7959226514783036140cd0471654': 330,\n",
       " '0e560fcf3f85851682b1ff917318b92f5141a226304ea8ed5a2cca34a054fd3e': 369,\n",
       " '19095b3867e04e975e8c8079f8e983649edd97d36e2a7b8a073755c1b0a23a51': 339,\n",
       " '2bc760be2fad64b66a546a19326ecd07637ed359c51cea74e9a366a07cfd6009': 188,\n",
       " '3d40cf940fdd772228c61bf11473461267eb310bdfbf91a6722d648d74eee5c7': 180,\n",
       " '4068059a5ed7aa20d9ccbcfa0f83a7a3272633b5cc7955411e832438f2ced97a': 177,\n",
       " '456630d33ac141aae3135c95cb122e63045f40a5c7cb54bbbf36f59bfdf52b1e': 180,\n",
       " '4daf46d46043a83dcfb3b20631f64bdb9d7c41e558b40b297a13394c6be4cbbb': 331,\n",
       " '5cd52aea826b9b07ae947d9e0563573dfc3977113a854234fdc5ebe3ef2b0a2b': 338,\n",
       " '5e63f8f2e8490172d5728761bbf6804ca15d85b0a22bcd005e8f497c904beab2': 336,\n",
       " '81f21ae186cb7504c102c8f847b6ff3455377f24d557131dac53a4d73743a639': 336,\n",
       " '8adbdf48f7300c1103cbacba6e19ae0ad2ada7448916b7c25a4f2c1a94114c12': 182,\n",
       " '8b61264ae94ffaf2019d07417769ea4b8f8235033beb55c505326498208d8df6': 176,\n",
       " 'aaae1ee993ad2ef96b724c51e71136421a3ab14d62cba39fc8acaa6d40bfa9d9': 178,\n",
       " 'bbf0da2348758b160808071ebdc9cb1d29815b47caa2194126e310d2a439eaf3': 175,\n",
       " 'c2f3f74f50b2572a169dac745b5b684d6a8ae2f4e9ad5eff9f44bc8558f949e0': 332,\n",
       " 'd62aac9a62221843cda936880c0280d5e092d183062fa0854523f21224535905': 334,\n",
       " 'd8bde69cbc373bd1cce2e8f7ec40a8a32bb66ad162bffb2fa512683b315c4c7c': 329,\n",
       " 'daa56242096a22ad093490285884a61f2c5898ab268734a063b16e450c50b49a': 331}"
      ]
     },
     "execution_count": 10,
     "metadata": {},
     "output_type": "execute_result"
    }
   ],
   "source": [
    "time_all_committed_accepts"
   ]
  },
  {
   "cell_type": "code",
   "execution_count": 11,
   "id": "15e97106",
   "metadata": {},
   "outputs": [
    {
     "data": {
      "text/plain": [
       "20"
      ]
     },
     "execution_count": 11,
     "metadata": {},
     "output_type": "execute_result"
    }
   ],
   "source": [
    "len(time_passed_accepts)"
   ]
  },
  {
   "cell_type": "code",
   "execution_count": 12,
   "id": "e0dd323d",
   "metadata": {},
   "outputs": [
    {
     "data": {
      "text/plain": [
       "12"
      ]
     },
     "execution_count": 12,
     "metadata": {},
     "output_type": "execute_result"
    }
   ],
   "source": [
    "len(accept_overfit)"
   ]
  },
  {
   "cell_type": "code",
   "execution_count": 13,
   "id": "5871bea5",
   "metadata": {},
   "outputs": [
    {
     "data": {
      "text/plain": [
       "274.8"
      ]
     },
     "execution_count": 13,
     "metadata": {},
     "output_type": "execute_result"
    }
   ],
   "source": [
    "stat.mean(time_passed_accepts)"
   ]
  },
  {
   "cell_type": "code",
   "execution_count": 14,
   "id": "49376241",
   "metadata": {},
   "outputs": [
    {
     "data": {
      "text/plain": [
       "338.3333333333333"
      ]
     },
     "execution_count": 14,
     "metadata": {},
     "output_type": "execute_result"
    }
   ],
   "source": [
    "stat.mean(accept_overfit)"
   ]
  },
  {
   "cell_type": "code",
   "execution_count": 15,
   "id": "ca28d885",
   "metadata": {},
   "outputs": [
    {
     "name": "stdout",
     "output_type": "stream",
     "text": [
      "274.80\n",
      "330.5\n",
      "369\n",
      "175\n",
      "80.38\n",
      "total accepts = 20\n"
     ]
    }
   ],
   "source": [
    "# Analysis of CREATE Transaction\n",
    "accept_mean = \"{:.2f}\".format(stat.mean(time_passed_accepts))\n",
    "accept_median = stat.median(time_passed_accepts)\n",
    "accept_max = max(time_passed_accepts)\n",
    "accept_min = min(time_passed_accepts)\n",
    "accept_std_dev = \"{:.2f}\".format(stat.stdev(time_passed_accepts))\n",
    "\n",
    "print(accept_mean)\n",
    "print(accept_median)\n",
    "print(accept_max)\n",
    "print(accept_min)\n",
    "print(accept_std_dev)\n",
    "print(f\"total accepts = {len(time_passed_accepts)}\")\n",
    "\n",
    "accept_dict = {\n",
    "               'min': accept_min,\n",
    "               'max': accept_max,\n",
    "               'average': accept_mean,\n",
    "               'median' : accept_median,\n",
    "               'standard_deviation' : accept_std_dev,\n",
    "               '# of txs' : len(time_passed_accepts)}"
   ]
  },
  {
   "cell_type": "code",
   "execution_count": 16,
   "id": "d5df2b9d",
   "metadata": {
    "scrolled": true
   },
   "outputs": [
    {
     "data": {
      "text/html": [
       "<div>\n",
       "<style scoped>\n",
       "    .dataframe tbody tr th:only-of-type {\n",
       "        vertical-align: middle;\n",
       "    }\n",
       "\n",
       "    .dataframe tbody tr th {\n",
       "        vertical-align: top;\n",
       "    }\n",
       "\n",
       "    .dataframe thead th {\n",
       "        text-align: right;\n",
       "    }\n",
       "</style>\n",
       "<table border=\"1\" class=\"dataframe\">\n",
       "  <thead>\n",
       "    <tr style=\"text-align: right;\">\n",
       "      <th></th>\n",
       "      <th>min</th>\n",
       "      <th>max</th>\n",
       "      <th>average</th>\n",
       "      <th>median</th>\n",
       "      <th>standard_deviation</th>\n",
       "      <th># of txs</th>\n",
       "    </tr>\n",
       "  </thead>\n",
       "  <tbody>\n",
       "    <tr>\n",
       "      <th>ACCEPT</th>\n",
       "      <td>175</td>\n",
       "      <td>369</td>\n",
       "      <td>274.80</td>\n",
       "      <td>330.5</td>\n",
       "      <td>80.38</td>\n",
       "      <td>20</td>\n",
       "    </tr>\n",
       "  </tbody>\n",
       "</table>\n",
       "</div>"
      ],
      "text/plain": [
       "        min  max average  median standard_deviation  # of txs\n",
       "ACCEPT  175  369  274.80   330.5              80.38        20"
      ]
     },
     "execution_count": 16,
     "metadata": {},
     "output_type": "execute_result"
    }
   ],
   "source": [
    "results = pd.DataFrame(accept_dict, index = ['ACCEPT'])\n",
    "results.to_csv('accept_analysis.csv', sep=',', encoding='utf-8')\n",
    "results"
   ]
  },
  {
   "cell_type": "code",
   "execution_count": null,
   "id": "41dbc8f3",
   "metadata": {},
   "outputs": [],
   "source": []
  }
 ],
 "metadata": {
  "kernelspec": {
   "display_name": "Python 3 (ipykernel)",
   "language": "python",
   "name": "python3"
  },
  "language_info": {
   "codemirror_mode": {
    "name": "ipython",
    "version": 3
   },
   "file_extension": ".py",
   "mimetype": "text/x-python",
   "name": "python",
   "nbconvert_exporter": "python",
   "pygments_lexer": "ipython3",
   "version": "3.7.4"
  }
 },
 "nbformat": 4,
 "nbformat_minor": 5
}
