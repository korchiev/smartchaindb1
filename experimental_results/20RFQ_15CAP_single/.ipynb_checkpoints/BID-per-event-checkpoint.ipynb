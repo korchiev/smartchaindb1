{
 "cells": [
  {
   "cell_type": "code",
   "execution_count": 1,
   "id": "3a8d92a7",
   "metadata": {},
   "outputs": [],
   "source": [
    "import pandas as pd\n",
    "import numpy as np\n",
    "import statistics as stat\n",
    "import matplotlib.pyplot as plt\n",
    "import seaborn as sns\n",
    "sns.set_style(\"white\")\n",
    "import statistics as stat"
   ]
  },
  {
   "cell_type": "code",
   "execution_count": 2,
   "id": "19e16eb9",
   "metadata": {},
   "outputs": [],
   "source": [
    "data = pd.read_csv('scdb-20rfq-15cap-metrics.csv', names = ['Event', 'Time', 'Tx_type', 'Tx_id', 'Accept_id', 'time'])"
   ]
  },
  {
   "cell_type": "code",
   "execution_count": 3,
   "id": "93d7cc27",
   "metadata": {},
   "outputs": [
    {
     "data": {
      "text/plain": [
       "1538"
      ]
     },
     "execution_count": 3,
     "metadata": {},
     "output_type": "execute_result"
    }
   ],
   "source": [
    "grouped_data = data.groupby('Tx_id')\n",
    "tx_id = list(grouped_data.groups.keys())\n",
    "len(tx_id)"
   ]
  },
  {
   "cell_type": "code",
   "execution_count": 4,
   "id": "afc1b948",
   "metadata": {},
   "outputs": [
    {
     "name": "stdout",
     "output_type": "stream",
     "text": [
      "#BIDs =  500\n"
     ]
    }
   ],
   "source": [
    "#new data frame to get the count of each transaction type\n",
    "data_unique_ids = data.drop_duplicates(subset = ['Tx_id'])\n",
    "\n",
    "bid_count = 0\n",
    "bid_ids = []\n",
    "for i in range(0, len(data_unique_ids)):\n",
    "    if data_unique_ids.iloc[i]['Tx_type'] == 'BID':\n",
    "        bid_ids.append(data_unique_ids.iloc[i]['Tx_id'])\n",
    "        bid_count += 1   \n",
    "\n",
    "\n",
    "print(f\"#BIDs =  {bid_count}\")"
   ]
  },
  {
   "cell_type": "code",
   "execution_count": 5,
   "id": "664989ee",
   "metadata": {},
   "outputs": [
    {
     "data": {
      "text/html": [
       "<div>\n",
       "<style scoped>\n",
       "    .dataframe tbody tr th:only-of-type {\n",
       "        vertical-align: middle;\n",
       "    }\n",
       "\n",
       "    .dataframe tbody tr th {\n",
       "        vertical-align: top;\n",
       "    }\n",
       "\n",
       "    .dataframe thead th {\n",
       "        text-align: right;\n",
       "    }\n",
       "</style>\n",
       "<table border=\"1\" class=\"dataframe\">\n",
       "  <thead>\n",
       "    <tr style=\"text-align: right;\">\n",
       "      <th></th>\n",
       "      <th>Event</th>\n",
       "      <th>Time</th>\n",
       "      <th>Tx_type</th>\n",
       "      <th>Tx_id</th>\n",
       "      <th>Accept_id</th>\n",
       "      <th>time</th>\n",
       "    </tr>\n",
       "  </thead>\n",
       "  <tbody>\n",
       "    <tr>\n",
       "      <th>3180</th>\n",
       "      <td>received_tx</td>\n",
       "      <td>74</td>\n",
       "      <td>BID</td>\n",
       "      <td>5a936ce76160ca52e6d9e894f2daffe7dee9ad7f76c8c9...</td>\n",
       "      <td>None</td>\n",
       "      <td>1.669789e+09</td>\n",
       "    </tr>\n",
       "    <tr>\n",
       "      <th>3181</th>\n",
       "      <td>before_tendermint</td>\n",
       "      <td>86</td>\n",
       "      <td>BID</td>\n",
       "      <td>5a936ce76160ca52e6d9e894f2daffe7dee9ad7f76c8c9...</td>\n",
       "      <td>None</td>\n",
       "      <td>1.669789e+09</td>\n",
       "    </tr>\n",
       "    <tr>\n",
       "      <th>3182</th>\n",
       "      <td>check_tx</td>\n",
       "      <td>97</td>\n",
       "      <td>BID</td>\n",
       "      <td>5a936ce76160ca52e6d9e894f2daffe7dee9ad7f76c8c9...</td>\n",
       "      <td>None</td>\n",
       "      <td>1.669789e+09</td>\n",
       "    </tr>\n",
       "    <tr>\n",
       "      <th>3183</th>\n",
       "      <td>deliver_tx</td>\n",
       "      <td>134</td>\n",
       "      <td>BID</td>\n",
       "      <td>5a936ce76160ca52e6d9e894f2daffe7dee9ad7f76c8c9...</td>\n",
       "      <td>None</td>\n",
       "      <td>1.669789e+09</td>\n",
       "    </tr>\n",
       "    <tr>\n",
       "      <th>3184</th>\n",
       "      <td>end_block</td>\n",
       "      <td>136</td>\n",
       "      <td>BID</td>\n",
       "      <td>5a936ce76160ca52e6d9e894f2daffe7dee9ad7f76c8c9...</td>\n",
       "      <td>None</td>\n",
       "      <td>1.669789e+09</td>\n",
       "    </tr>\n",
       "    <tr>\n",
       "      <th>3185</th>\n",
       "      <td>commit_tx</td>\n",
       "      <td>180</td>\n",
       "      <td>BID</td>\n",
       "      <td>5a936ce76160ca52e6d9e894f2daffe7dee9ad7f76c8c9...</td>\n",
       "      <td>None</td>\n",
       "      <td>1.669789e+09</td>\n",
       "    </tr>\n",
       "  </tbody>\n",
       "</table>\n",
       "</div>"
      ],
      "text/plain": [
       "                  Event  Time Tx_type  \\\n",
       "3180        received_tx    74     BID   \n",
       "3181  before_tendermint    86     BID   \n",
       "3182           check_tx    97     BID   \n",
       "3183         deliver_tx   134     BID   \n",
       "3184          end_block   136     BID   \n",
       "3185          commit_tx   180     BID   \n",
       "\n",
       "                                                  Tx_id Accept_id  \\\n",
       "3180  5a936ce76160ca52e6d9e894f2daffe7dee9ad7f76c8c9...      None   \n",
       "3181  5a936ce76160ca52e6d9e894f2daffe7dee9ad7f76c8c9...      None   \n",
       "3182  5a936ce76160ca52e6d9e894f2daffe7dee9ad7f76c8c9...      None   \n",
       "3183  5a936ce76160ca52e6d9e894f2daffe7dee9ad7f76c8c9...      None   \n",
       "3184  5a936ce76160ca52e6d9e894f2daffe7dee9ad7f76c8c9...      None   \n",
       "3185  5a936ce76160ca52e6d9e894f2daffe7dee9ad7f76c8c9...      None   \n",
       "\n",
       "              time  \n",
       "3180  1.669789e+09  \n",
       "3181  1.669789e+09  \n",
       "3182  1.669789e+09  \n",
       "3183  1.669789e+09  \n",
       "3184  1.669789e+09  \n",
       "3185  1.669789e+09  "
      ]
     },
     "execution_count": 5,
     "metadata": {},
     "output_type": "execute_result"
    }
   ],
   "source": [
    "df_test = grouped_data.get_group(bid_ids[8])\n",
    "df_test"
   ]
  },
  {
   "cell_type": "code",
   "execution_count": 6,
   "id": "85d16d7a",
   "metadata": {},
   "outputs": [],
   "source": [
    "time_all_committed_bids = {}\n",
    "time_passed_bids = []\n",
    "validated_time = []\n",
    "accepted_time = []\n",
    "committed_time = []\n",
    "\n",
    "bid_underfit = []\n",
    "bid_underfit_dict = {}\n",
    "\n",
    "bid_overfit = []\n",
    "bid_overfit_dict = {}\n",
    "\n",
    "for i in range(0, len(tx_id)):\n",
    "    temp_list = []\n",
    "    if \"BID\" == grouped_data.get_group(tx_id[i])[\"Tx_type\"].to_list()[0]:\n",
    "        temp_list = grouped_data.get_group(tx_id[i])[\"Time\"].to_list()\n",
    "        if len(temp_list) == 6 and grouped_data.get_group(tx_id[i])[\"Event\"].to_list()[5] == \"commit_tx\":\n",
    "            \n",
    "            actual_time = max(temp_list) - min(temp_list)\n",
    "            time_all_committed_bids[tx_id[i]] = actual_time\n",
    "            time_passed_bids.append(actual_time)\n",
    "            \n",
    "            df = grouped_data.get_group(tx_id[i])\n",
    "            received_time = df[df['Event'] == 'received_tx']['Time'].to_list()[0]\n",
    "            before_tendermint_time = df[df['Event'] == 'before_tendermint']['Time'].to_list()[0]\n",
    "            \n",
    "            validated = before_tendermint_time - received_time\n",
    "            validated_time.append(validated)\n",
    "            \n",
    "            check_time = df[df['Event'] == 'check_tx']['Time'].to_list()[0]\n",
    "            accepted = check_time - received_time\n",
    "            accepted_time.append(accepted)\n",
    "            \n",
    "            commit_time =  df[df['Event'] == 'commit_tx']['Time'].to_list()[0]\n",
    "            committed = commit_time - received_time\n",
    "            committed_time.append(committed)\n",
    "        elif len(temp_list) < 6:\n",
    "            bid_underfit.append(temp_list)\n",
    "            bid_underfit_dict[tx_id[i]] = temp_list\n",
    "        elif 7 >= len(temp_list) > 6 :\n",
    "            df_check = grouped_data.get_group(tx_id[i])\n",
    "            if len(df_check[df_check['Event'] == 'check_tx']['Time'].to_list()) > 1:\n",
    "                check_time = max(df_check[df_check['Event'] == 'check_tx']['Time'].to_list())\n",
    "            else:\n",
    "                check_time = df_check[df_check['Event'] == 'check_tx']['Time'].to_list()[0] \n",
    "            \n",
    "            actual_time = max(temp_list) - min(temp_list)\n",
    "            time_all_committed_bids[tx_id[i]] = actual_time\n",
    "            #time_passed_bids.append(actual_time)\n",
    "            \n",
    "            df = grouped_data.get_group(tx_id[i])\n",
    "            received_time = df[df['Event'] == 'received_tx']['Time'].to_list()[0]\n",
    "            before_tendermint_time = df[df['Event'] == 'before_tendermint']['Time'].to_list()[0]\n",
    "            \n",
    "            validated = before_tendermint_time - received_time\n",
    "            validated_time.append(validated)\n",
    "           \n",
    "            accepted = check_time - received_time\n",
    "            accepted_time.append(accepted)\n",
    "            \n",
    "            commit_time =  df[df['Event'] == 'commit_tx']['Time'].to_list()[0]\n",
    "            committed = commit_time - received_time\n",
    "            committed_time.append(committed)\n",
    "            \n",
    "            bid_overfit.append(actual_time)\n",
    "            bid_overfit_dict[tx_id[i]] = temp_list"
   ]
  },
  {
   "cell_type": "code",
   "execution_count": 7,
   "id": "59557ac6",
   "metadata": {},
   "outputs": [
    {
     "ename": "KeyError",
     "evalue": "'3066cad3ab9009c84499c002f3b150864fc0b5af46bd4cb1ab5407ab2396a336'",
     "output_type": "error",
     "traceback": [
      "\u001b[1;31m---------------------------------------------------------------------------\u001b[0m",
      "\u001b[1;31mKeyError\u001b[0m                                  Traceback (most recent call last)",
      "\u001b[1;32m<ipython-input-7-4618105f1622>\u001b[0m in \u001b[0;36m<module>\u001b[1;34m\u001b[0m\n\u001b[1;32m----> 1\u001b[1;33m \u001b[0mdf\u001b[0m \u001b[1;33m=\u001b[0m \u001b[0mgrouped_data\u001b[0m\u001b[1;33m.\u001b[0m\u001b[0mget_group\u001b[0m\u001b[1;33m(\u001b[0m\u001b[1;34m\"3066cad3ab9009c84499c002f3b150864fc0b5af46bd4cb1ab5407ab2396a336\"\u001b[0m\u001b[1;33m)\u001b[0m\u001b[1;33m\u001b[0m\u001b[1;33m\u001b[0m\u001b[0m\n\u001b[0m\u001b[0;32m      2\u001b[0m \u001b[0mdf\u001b[0m\u001b[1;33m[\u001b[0m\u001b[0mdf\u001b[0m\u001b[1;33m[\u001b[0m\u001b[1;34m'Event'\u001b[0m\u001b[1;33m]\u001b[0m \u001b[1;33m==\u001b[0m \u001b[1;34m'received_tx'\u001b[0m\u001b[1;33m]\u001b[0m\u001b[1;33m[\u001b[0m\u001b[1;34m'Time'\u001b[0m\u001b[1;33m]\u001b[0m\u001b[1;33m.\u001b[0m\u001b[0mto_list\u001b[0m\u001b[1;33m(\u001b[0m\u001b[1;33m)\u001b[0m\u001b[1;33m[\u001b[0m\u001b[1;36m0\u001b[0m\u001b[1;33m]\u001b[0m\u001b[1;33m\u001b[0m\u001b[1;33m\u001b[0m\u001b[0m\n",
      "\u001b[1;32m~\\Anaconda3\\lib\\site-packages\\pandas\\core\\groupby\\groupby.py\u001b[0m in \u001b[0;36mget_group\u001b[1;34m(self, name, obj)\u001b[0m\n\u001b[0;32m    843\u001b[0m         \u001b[0minds\u001b[0m \u001b[1;33m=\u001b[0m \u001b[0mself\u001b[0m\u001b[1;33m.\u001b[0m\u001b[0m_get_index\u001b[0m\u001b[1;33m(\u001b[0m\u001b[0mname\u001b[0m\u001b[1;33m)\u001b[0m\u001b[1;33m\u001b[0m\u001b[1;33m\u001b[0m\u001b[0m\n\u001b[0;32m    844\u001b[0m         \u001b[1;32mif\u001b[0m \u001b[1;32mnot\u001b[0m \u001b[0mlen\u001b[0m\u001b[1;33m(\u001b[0m\u001b[0minds\u001b[0m\u001b[1;33m)\u001b[0m\u001b[1;33m:\u001b[0m\u001b[1;33m\u001b[0m\u001b[1;33m\u001b[0m\u001b[0m\n\u001b[1;32m--> 845\u001b[1;33m             \u001b[1;32mraise\u001b[0m \u001b[0mKeyError\u001b[0m\u001b[1;33m(\u001b[0m\u001b[0mname\u001b[0m\u001b[1;33m)\u001b[0m\u001b[1;33m\u001b[0m\u001b[1;33m\u001b[0m\u001b[0m\n\u001b[0m\u001b[0;32m    846\u001b[0m \u001b[1;33m\u001b[0m\u001b[0m\n\u001b[0;32m    847\u001b[0m         \u001b[1;32mreturn\u001b[0m \u001b[0mobj\u001b[0m\u001b[1;33m.\u001b[0m\u001b[0m_take_with_is_copy\u001b[0m\u001b[1;33m(\u001b[0m\u001b[0minds\u001b[0m\u001b[1;33m,\u001b[0m \u001b[0maxis\u001b[0m\u001b[1;33m=\u001b[0m\u001b[0mself\u001b[0m\u001b[1;33m.\u001b[0m\u001b[0maxis\u001b[0m\u001b[1;33m)\u001b[0m\u001b[1;33m\u001b[0m\u001b[1;33m\u001b[0m\u001b[0m\n",
      "\u001b[1;31mKeyError\u001b[0m: '3066cad3ab9009c84499c002f3b150864fc0b5af46bd4cb1ab5407ab2396a336'"
     ]
    }
   ],
   "source": [
    "df = grouped_data.get_group(\"3066cad3ab9009c84499c002f3b150864fc0b5af46bd4cb1ab5407ab2396a336\")\n",
    "df[df['Event'] == 'received_tx']['Time'].to_list()[0]"
   ]
  },
  {
   "cell_type": "code",
   "execution_count": 8,
   "id": "83230cc7",
   "metadata": {},
   "outputs": [
    {
     "data": {
      "text/html": [
       "<div>\n",
       "<style scoped>\n",
       "    .dataframe tbody tr th:only-of-type {\n",
       "        vertical-align: middle;\n",
       "    }\n",
       "\n",
       "    .dataframe tbody tr th {\n",
       "        vertical-align: top;\n",
       "    }\n",
       "\n",
       "    .dataframe thead th {\n",
       "        text-align: right;\n",
       "    }\n",
       "</style>\n",
       "<table border=\"1\" class=\"dataframe\">\n",
       "  <thead>\n",
       "    <tr style=\"text-align: right;\">\n",
       "      <th></th>\n",
       "      <th>Event</th>\n",
       "      <th>Time</th>\n",
       "      <th>Tx_type</th>\n",
       "      <th>Tx_id</th>\n",
       "      <th>Accept_id</th>\n",
       "      <th>time</th>\n",
       "    </tr>\n",
       "  </thead>\n",
       "  <tbody>\n",
       "    <tr>\n",
       "      <th>4614</th>\n",
       "      <td>received_tx</td>\n",
       "      <td>71</td>\n",
       "      <td>BID</td>\n",
       "      <td>ffd75bbe95db4d549184320201fab05b24fb37c834258f...</td>\n",
       "      <td>None</td>\n",
       "      <td>1.669789e+09</td>\n",
       "    </tr>\n",
       "  </tbody>\n",
       "</table>\n",
       "</div>"
      ],
      "text/plain": [
       "            Event  Time Tx_type  \\\n",
       "4614  received_tx    71     BID   \n",
       "\n",
       "                                                  Tx_id Accept_id  \\\n",
       "4614  ffd75bbe95db4d549184320201fab05b24fb37c834258f...      None   \n",
       "\n",
       "              time  \n",
       "4614  1.669789e+09  "
      ]
     },
     "execution_count": 8,
     "metadata": {},
     "output_type": "execute_result"
    }
   ],
   "source": [
    "df[df['Event'] == 'received_tx']"
   ]
  },
  {
   "cell_type": "code",
   "execution_count": 9,
   "id": "38f9460f",
   "metadata": {},
   "outputs": [
    {
     "data": {
      "text/plain": [
       "{'19062c86d919000bd541ee703c9b93f4acf2c779b640a5e71329815039bed7cc': [82,\n",
       "  92,\n",
       "  103,\n",
       "  179,\n",
       "  243,\n",
       "  244,\n",
       "  288],\n",
       " '26964f1b8a7cb340363a88e7b5ef012727a29bcaec62604483798f03171b2d38': [78,\n",
       "  88,\n",
       "  109,\n",
       "  299,\n",
       "  359,\n",
       "  360,\n",
       "  404],\n",
       " '2b377b1db2e62652659a2541b60682ce02009f9505ee33acc5057c0152e47250': [74,\n",
       "  85,\n",
       "  107,\n",
       "  297,\n",
       "  357,\n",
       "  359,\n",
       "  402],\n",
       " '4a3475495908f1803be716962f04d8ec20a5a344203e15ab57a2b106e8c1beb8': [75,\n",
       "  85,\n",
       "  117,\n",
       "  336,\n",
       "  448,\n",
       "  502,\n",
       "  510],\n",
       " '4ea1b4aa1ee99d32f7211886ae3adb3adc8c570fed1675d41fdf6ebe3e1b8736': [84,\n",
       "  94,\n",
       "  120,\n",
       "  319,\n",
       "  378,\n",
       "  380,\n",
       "  423],\n",
       " '605c5375a9483e1405305dbe4ee5f4e9996abd89ead579f71b8de3920f594652': [73,\n",
       "  84,\n",
       "  145,\n",
       "  372,\n",
       "  500,\n",
       "  562,\n",
       "  569],\n",
       " '6aefd38abaa991eefef185c676a9686fef7511e31541e3aa91725810146cfcf9': [78,\n",
       "  89,\n",
       "  111,\n",
       "  346,\n",
       "  402,\n",
       "  403,\n",
       "  447],\n",
       " '6ccb878794a761e09024e1e1ed914b93221c45caab0ee6d067663dcf8e4639f9': [75,\n",
       "  85,\n",
       "  110,\n",
       "  345,\n",
       "  404,\n",
       "  406,\n",
       "  449],\n",
       " 'b8ba8323690e0b08f61f3c6efdde0820b3432298cc928b827e7a712b02a2aa24': [73,\n",
       "  87,\n",
       "  111,\n",
       "  304,\n",
       "  360,\n",
       "  362,\n",
       "  404],\n",
       " 'e8cdb03fece1f1b849a246f4716f3879ec559e8189ddbfeb37934bd1c4bfa8e4': [72,\n",
       "  86,\n",
       "  105,\n",
       "  330,\n",
       "  389,\n",
       "  391,\n",
       "  434],\n",
       " 'f1ab6c126487c999b04fe29fdd4121bcf69cccdb83efd86fbb687dca584f484f': [72,\n",
       "  84,\n",
       "  107,\n",
       "  313,\n",
       "  374,\n",
       "  375,\n",
       "  421],\n",
       " 'ffc79bf66be8588c791384c85647c6ab9003655997a84378d967d72dd8291f27': [74,\n",
       "  86,\n",
       "  150,\n",
       "  283,\n",
       "  409,\n",
       "  414,\n",
       "  424]}"
      ]
     },
     "execution_count": 9,
     "metadata": {},
     "output_type": "execute_result"
    }
   ],
   "source": [
    "bid_overfit_dict"
   ]
  },
  {
   "cell_type": "code",
   "execution_count": 10,
   "id": "9f9b3710",
   "metadata": {},
   "outputs": [
    {
     "data": {
      "text/plain": [
       "487"
      ]
     },
     "execution_count": 10,
     "metadata": {},
     "output_type": "execute_result"
    }
   ],
   "source": [
    "len(time_passed_bids)"
   ]
  },
  {
   "cell_type": "code",
   "execution_count": 11,
   "id": "f418b5d3",
   "metadata": {},
   "outputs": [
    {
     "data": {
      "text/plain": [
       "12"
      ]
     },
     "execution_count": 11,
     "metadata": {},
     "output_type": "execute_result"
    }
   ],
   "source": [
    "len(bid_overfit)"
   ]
  },
  {
   "cell_type": "code",
   "execution_count": 12,
   "id": "2bcc5957",
   "metadata": {},
   "outputs": [
    {
     "data": {
      "text/plain": [
       "101.62217659137578"
      ]
     },
     "execution_count": 12,
     "metadata": {},
     "output_type": "execute_result"
    }
   ],
   "source": [
    "stat.mean(time_passed_bids)"
   ]
  },
  {
   "cell_type": "code",
   "execution_count": 13,
   "id": "6e1a4332",
   "metadata": {},
   "outputs": [
    {
     "data": {
      "text/plain": [
       "355.4166666666667"
      ]
     },
     "execution_count": 13,
     "metadata": {},
     "output_type": "execute_result"
    }
   ],
   "source": [
    "stat.mean(bid_overfit)"
   ]
  },
  {
   "cell_type": "code",
   "execution_count": 14,
   "id": "52eaa9a2",
   "metadata": {},
   "outputs": [
    {
     "name": "stdout",
     "output_type": "stream",
     "text": [
      "101.62\n",
      "86\n",
      "596\n",
      "74\n",
      "44.52\n",
      "total bids = 487\n"
     ]
    }
   ],
   "source": [
    "# Analysis of CREATE Transaction\n",
    "bid_mean = \"{:.2f}\".format(stat.mean(time_passed_bids))\n",
    "bid_median = stat.median(time_passed_bids)\n",
    "bid_max = max(time_passed_bids)\n",
    "bid_min = min(time_passed_bids)\n",
    "bid_std_dev = \"{:.2f}\".format(stat.stdev(time_passed_bids))\n",
    "\n",
    "print(bid_mean)\n",
    "print(bid_median)\n",
    "print(bid_max)\n",
    "print(bid_min)\n",
    "print(bid_std_dev)\n",
    "print(f\"total bids = {len(time_passed_bids)}\")\n",
    "\n",
    "bid_dict = {\n",
    "               'min': bid_min,\n",
    "               'max': bid_max,\n",
    "               'average': bid_mean,\n",
    "               'median' : bid_median,\n",
    "               'standard_deviation' : bid_std_dev,\n",
    "               '# of txs' : len(time_passed_bids)}"
   ]
  },
  {
   "cell_type": "code",
   "execution_count": 15,
   "id": "2bbc6ede",
   "metadata": {},
   "outputs": [
    {
     "data": {
      "text/html": [
       "<div>\n",
       "<style scoped>\n",
       "    .dataframe tbody tr th:only-of-type {\n",
       "        vertical-align: middle;\n",
       "    }\n",
       "\n",
       "    .dataframe tbody tr th {\n",
       "        vertical-align: top;\n",
       "    }\n",
       "\n",
       "    .dataframe thead th {\n",
       "        text-align: right;\n",
       "    }\n",
       "</style>\n",
       "<table border=\"1\" class=\"dataframe\">\n",
       "  <thead>\n",
       "    <tr style=\"text-align: right;\">\n",
       "      <th></th>\n",
       "      <th>min</th>\n",
       "      <th>max</th>\n",
       "      <th>average</th>\n",
       "      <th>median</th>\n",
       "      <th>standard_deviation</th>\n",
       "      <th># of txs</th>\n",
       "    </tr>\n",
       "  </thead>\n",
       "  <tbody>\n",
       "    <tr>\n",
       "      <th>BID</th>\n",
       "      <td>74</td>\n",
       "      <td>596</td>\n",
       "      <td>101.62</td>\n",
       "      <td>86</td>\n",
       "      <td>44.52</td>\n",
       "      <td>487</td>\n",
       "    </tr>\n",
       "  </tbody>\n",
       "</table>\n",
       "</div>"
      ],
      "text/plain": [
       "     min  max average  median standard_deviation  # of txs\n",
       "BID   74  596  101.62      86              44.52       487"
      ]
     },
     "execution_count": 15,
     "metadata": {},
     "output_type": "execute_result"
    }
   ],
   "source": [
    "results = pd.DataFrame(bid_dict, index = ['BID'])\n",
    "results.to_csv('bid_analysis.csv', sep=',', encoding='utf-8')\n",
    "results"
   ]
  },
  {
   "cell_type": "code",
   "execution_count": null,
   "id": "0209945b",
   "metadata": {},
   "outputs": [],
   "source": []
  },
  {
   "cell_type": "code",
   "execution_count": null,
   "id": "0a8a4178",
   "metadata": {},
   "outputs": [],
   "source": []
  }
 ],
 "metadata": {
  "kernelspec": {
   "display_name": "Python 3 (ipykernel)",
   "language": "python",
   "name": "python3"
  },
  "language_info": {
   "codemirror_mode": {
    "name": "ipython",
    "version": 3
   },
   "file_extension": ".py",
   "mimetype": "text/x-python",
   "name": "python",
   "nbconvert_exporter": "python",
   "pygments_lexer": "ipython3",
   "version": "3.7.4"
  }
 },
 "nbformat": 4,
 "nbformat_minor": 5
}
