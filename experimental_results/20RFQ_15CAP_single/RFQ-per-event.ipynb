{
 "cells": [
  {
   "cell_type": "code",
   "execution_count": 1,
   "id": "868a3c83",
   "metadata": {},
   "outputs": [],
   "source": [
    "import pandas as pd\n",
    "import numpy as np\n",
    "import statistics as stat\n",
    "import matplotlib.pyplot as plt\n",
    "import seaborn as sns\n",
    "sns.set_style(\"white\")"
   ]
  },
  {
   "cell_type": "code",
   "execution_count": 2,
   "id": "6af95948",
   "metadata": {},
   "outputs": [],
   "source": [
    "data = pd.read_csv('scdb-20rfq-15cap-metrics.csv', names = ['Event', 'Time', 'Tx_type', 'Tx_id', 'Accept_id', 'time'])"
   ]
  },
  {
   "cell_type": "code",
   "execution_count": 3,
   "id": "7b2d053f",
   "metadata": {},
   "outputs": [
    {
     "data": {
      "text/plain": [
       "1538"
      ]
     },
     "execution_count": 3,
     "metadata": {},
     "output_type": "execute_result"
    }
   ],
   "source": [
    "grouped_data = data.groupby('Tx_id')\n",
    "tx_id = list(grouped_data.groups.keys())\n",
    "len(tx_id)"
   ]
  },
  {
   "cell_type": "code",
   "execution_count": 4,
   "id": "6c8d7d31",
   "metadata": {},
   "outputs": [
    {
     "name": "stdout",
     "output_type": "stream",
     "text": [
      "#RFQs =  20\n"
     ]
    }
   ],
   "source": [
    "#new data frame to get the count of each transaction type\n",
    "data_unique_ids = data.drop_duplicates(subset = ['Tx_id'])\n",
    "\n",
    "rfq_count = 0\n",
    "for i in range(0, len(data_unique_ids)):\n",
    "    if data_unique_ids.iloc[i]['Tx_type'] == 'REQUEST_FOR_QUOTE':\n",
    "        rfq_count += 1   \n",
    "\n",
    "\n",
    "print(f\"#RFQs =  {rfq_count}\")"
   ]
  },
  {
   "cell_type": "code",
   "execution_count": 5,
   "id": "88db3fd5",
   "metadata": {},
   "outputs": [
    {
     "ename": "KeyError",
     "evalue": "'b861bfd94f3ac9f2186e074690685f5d890a98b108f7f0ba9d0ed13110a50637'",
     "output_type": "error",
     "traceback": [
      "\u001b[1;31m---------------------------------------------------------------------------\u001b[0m",
      "\u001b[1;31mKeyError\u001b[0m                                  Traceback (most recent call last)",
      "\u001b[1;32m<ipython-input-5-e5b09cc5ff1e>\u001b[0m in \u001b[0;36m<module>\u001b[1;34m\u001b[0m\n\u001b[1;32m----> 1\u001b[1;33m \u001b[0mdf_test\u001b[0m \u001b[1;33m=\u001b[0m \u001b[0mgrouped_data\u001b[0m\u001b[1;33m.\u001b[0m\u001b[0mget_group\u001b[0m\u001b[1;33m(\u001b[0m\u001b[1;34m\"b861bfd94f3ac9f2186e074690685f5d890a98b108f7f0ba9d0ed13110a50637\"\u001b[0m\u001b[1;33m)\u001b[0m\u001b[1;33m\u001b[0m\u001b[1;33m\u001b[0m\u001b[0m\n\u001b[0m",
      "\u001b[1;32m~\\Anaconda3\\lib\\site-packages\\pandas\\core\\groupby\\groupby.py\u001b[0m in \u001b[0;36mget_group\u001b[1;34m(self, name, obj)\u001b[0m\n\u001b[0;32m    843\u001b[0m         \u001b[0minds\u001b[0m \u001b[1;33m=\u001b[0m \u001b[0mself\u001b[0m\u001b[1;33m.\u001b[0m\u001b[0m_get_index\u001b[0m\u001b[1;33m(\u001b[0m\u001b[0mname\u001b[0m\u001b[1;33m)\u001b[0m\u001b[1;33m\u001b[0m\u001b[1;33m\u001b[0m\u001b[0m\n\u001b[0;32m    844\u001b[0m         \u001b[1;32mif\u001b[0m \u001b[1;32mnot\u001b[0m \u001b[0mlen\u001b[0m\u001b[1;33m(\u001b[0m\u001b[0minds\u001b[0m\u001b[1;33m)\u001b[0m\u001b[1;33m:\u001b[0m\u001b[1;33m\u001b[0m\u001b[1;33m\u001b[0m\u001b[0m\n\u001b[1;32m--> 845\u001b[1;33m             \u001b[1;32mraise\u001b[0m \u001b[0mKeyError\u001b[0m\u001b[1;33m(\u001b[0m\u001b[0mname\u001b[0m\u001b[1;33m)\u001b[0m\u001b[1;33m\u001b[0m\u001b[1;33m\u001b[0m\u001b[0m\n\u001b[0m\u001b[0;32m    846\u001b[0m \u001b[1;33m\u001b[0m\u001b[0m\n\u001b[0;32m    847\u001b[0m         \u001b[1;32mreturn\u001b[0m \u001b[0mobj\u001b[0m\u001b[1;33m.\u001b[0m\u001b[0m_take_with_is_copy\u001b[0m\u001b[1;33m(\u001b[0m\u001b[0minds\u001b[0m\u001b[1;33m,\u001b[0m \u001b[0maxis\u001b[0m\u001b[1;33m=\u001b[0m\u001b[0mself\u001b[0m\u001b[1;33m.\u001b[0m\u001b[0maxis\u001b[0m\u001b[1;33m)\u001b[0m\u001b[1;33m\u001b[0m\u001b[1;33m\u001b[0m\u001b[0m\n",
      "\u001b[1;31mKeyError\u001b[0m: 'b861bfd94f3ac9f2186e074690685f5d890a98b108f7f0ba9d0ed13110a50637'"
     ]
    }
   ],
   "source": [
    "df_test = grouped_data.get_group(\"b861bfd94f3ac9f2186e074690685f5d890a98b108f7f0ba9d0ed13110a50637\")"
   ]
  },
  {
   "cell_type": "code",
   "execution_count": null,
   "id": "f55cb4f7",
   "metadata": {},
   "outputs": [],
   "source": [
    "df_test"
   ]
  },
  {
   "cell_type": "code",
   "execution_count": null,
   "id": "15017724",
   "metadata": {},
   "outputs": [],
   "source": [
    "\"REQUEST_FOR_QUOTE\" == grouped_data.get_group(\"b861bfd94f3ac9f2186e074690685f5d890a98b108f7f0ba9d0ed13110a50637\")[\"Tx_type\"].to_list()[0]"
   ]
  },
  {
   "cell_type": "code",
   "execution_count": 6,
   "id": "38bac280",
   "metadata": {},
   "outputs": [],
   "source": [
    "time_all_committed_rfqs = {}\n",
    "time_passed_rfqs = []\n",
    "validated_time = []\n",
    "accepted_time = []\n",
    "committed_time = []\n",
    "\n",
    "rfq_underfit = []\n",
    "rfq_underfit_dict = {}\n",
    "\n",
    "rfq_overfit = []\n",
    "rfq_overfit_dict = {}\n",
    "\n",
    "for i in range(0, len(tx_id)):\n",
    "    temp_list = []\n",
    "    if \"REQUEST_FOR_QUOTE\" == grouped_data.get_group(tx_id[i])[\"Tx_type\"].to_list()[0]:\n",
    "        temp_list = grouped_data.get_group(tx_id[i])[\"Time\"].to_list()\n",
    "        if len(temp_list) == 6 and grouped_data.get_group(tx_id[i])[\"Event\"].to_list()[5] == \"commit_tx\":\n",
    "            actual_time = max(temp_list) - min(temp_list)\n",
    "            time_all_committed_rfqs[tx_id[i]] = actual_time\n",
    "            time_passed_rfqs.append(actual_time)\n",
    "            df = grouped_data.get_group(tx_id[i])\n",
    "            received_time = df[df['Event'] == 'received_tx']['Time'].to_list()[0]\n",
    "            before_tendermint_time = df[df['Event'] == 'before_tendermint']['Time'].to_list()[0]\n",
    "            validated = before_tendermint_time - received_time\n",
    "            validated_time.append(validated)\n",
    "            check_time = df[df['Event'] == 'check_tx']['Time'].to_list()[0]\n",
    "            accepted = check_time - received_time\n",
    "            accepted_time.append(accepted)\n",
    "            commit_time =  df[df['Event'] == 'commit_tx']['Time'].to_list()[0]\n",
    "            committed = commit_time - received_time\n",
    "            committed_time.append(committed)\n",
    "        elif len(temp_list) < 6:\n",
    "            rfq_underfit.append(temp_list)\n",
    "            rfq_underfit_dict[tx_id(i)] = temp_list\n",
    "        elif 7 >= len(temp_list) > 6 :\n",
    "            df_check = grouped_data.get_group(tx_id[i])\n",
    "            if len(df_check[df_check['Event'] == 'check_tx']['Time'].to_list()) > 1:\n",
    "                check_time = max(df_check[df_check['Event'] == 'check_tx']['Time'].to_list())\n",
    "            else:\n",
    "                check_time = df_check[df_check['Event'] == 'check_tx']['Time'].to_list()[0] \n",
    "            \n",
    "            actual_time = max(temp_list) - min(temp_list)\n",
    "            time_all_committed_rfqs[tx_id[i]] = actual_time\n",
    "            time_passed_rfqs.append(actual_time)\n",
    "            \n",
    "            df = grouped_data.get_group(tx_id[i])\n",
    "            received_time = df[df['Event'] == 'received_tx']['Time'].to_list()[0]\n",
    "            before_tendermint_time = df[df['Event'] == 'before_tendermint']['Time'].to_list()[0]\n",
    "            \n",
    "            validated = before_tendermint_time - received_time\n",
    "            validated_time.append(validated)\n",
    "           \n",
    "            accepted = check_time - received_time\n",
    "            accepted_time.append(accepted)\n",
    "            \n",
    "            commit_time =  df[df['Event'] == 'commit_tx']['Time'].to_list()[0]\n",
    "            committed = commit_time - received_time\n",
    "            committed_time.append(committed)\n",
    "            rfq_overfit.append(temp_list)\n",
    "            rfq_overfit_dict[tx_id[i]] = temp_list"
   ]
  },
  {
   "cell_type": "code",
   "execution_count": 7,
   "id": "6e4899bf",
   "metadata": {},
   "outputs": [
    {
     "name": "stdout",
     "output_type": "stream",
     "text": [
      "245.00\n",
      "247.0\n",
      "318\n",
      "134\n",
      "245.00\n",
      "total RFQs = 20\n"
     ]
    }
   ],
   "source": [
    "# Analysis of RFQ Transaction\n",
    "if len(time_passed_rfqs) < 2:\n",
    "    time_rfqs.append(time_passed_rfqs[0])\n",
    "rfq_mean = \"{:.2f}\".format(stat.mean(time_passed_rfqs))\n",
    "rfq_median = stat.median(time_passed_rfqs)\n",
    "rfq_max = max(time_passed_rfqs)\n",
    "rfq_min = min(time_passed_rfqs)\n",
    "rfq_std_dev = \"{:.2f}\".format(stat.mean(time_passed_rfqs))\n",
    "\n",
    "print(rfq_mean)\n",
    "print(rfq_median)\n",
    "print(rfq_max)\n",
    "print(rfq_min)\n",
    "print(rfq_std_dev)\n",
    "print(f\"total RFQs = {len(time_passed_rfqs)}\")\n",
    "\n",
    "rfq_dict = {\n",
    "               'min': rfq_min,\n",
    "               'max': rfq_max,\n",
    "               'average': rfq_mean,\n",
    "                'median' : rfq_median,\n",
    "               'standard_deviation' : rfq_std_dev,\n",
    "               '# of txs' : len(time_passed_rfqs)}"
   ]
  },
  {
   "cell_type": "code",
   "execution_count": 8,
   "id": "57422d00",
   "metadata": {},
   "outputs": [
    {
     "data": {
      "text/html": [
       "<div>\n",
       "<style scoped>\n",
       "    .dataframe tbody tr th:only-of-type {\n",
       "        vertical-align: middle;\n",
       "    }\n",
       "\n",
       "    .dataframe tbody tr th {\n",
       "        vertical-align: top;\n",
       "    }\n",
       "\n",
       "    .dataframe thead th {\n",
       "        text-align: right;\n",
       "    }\n",
       "</style>\n",
       "<table border=\"1\" class=\"dataframe\">\n",
       "  <thead>\n",
       "    <tr style=\"text-align: right;\">\n",
       "      <th></th>\n",
       "      <th>min</th>\n",
       "      <th>max</th>\n",
       "      <th>average</th>\n",
       "      <th>median</th>\n",
       "      <th>standard_deviation</th>\n",
       "      <th># of txs</th>\n",
       "    </tr>\n",
       "  </thead>\n",
       "  <tbody>\n",
       "    <tr>\n",
       "      <th>RFQ</th>\n",
       "      <td>134</td>\n",
       "      <td>318</td>\n",
       "      <td>245.00</td>\n",
       "      <td>247.0</td>\n",
       "      <td>245.00</td>\n",
       "      <td>20</td>\n",
       "    </tr>\n",
       "  </tbody>\n",
       "</table>\n",
       "</div>"
      ],
      "text/plain": [
       "     min  max average  median standard_deviation  # of txs\n",
       "RFQ  134  318  245.00   247.0             245.00        20"
      ]
     },
     "execution_count": 8,
     "metadata": {},
     "output_type": "execute_result"
    }
   ],
   "source": [
    "results = pd.DataFrame(rfq_dict, index = ['RFQ'])\n",
    "results.to_csv('rfq_analysis.csv', sep=',', encoding='utf-8')\n",
    "results"
   ]
  },
  {
   "cell_type": "code",
   "execution_count": 9,
   "id": "17dc79f5",
   "metadata": {},
   "outputs": [],
   "source": [
    "results.to_csv('rfq_analysis.csv', sep=',', encoding='utf-8')"
   ]
  },
  {
   "cell_type": "code",
   "execution_count": 10,
   "id": "76bcd864",
   "metadata": {},
   "outputs": [
    {
     "data": {
      "text/html": [
       "<div>\n",
       "<style scoped>\n",
       "    .dataframe tbody tr th:only-of-type {\n",
       "        vertical-align: middle;\n",
       "    }\n",
       "\n",
       "    .dataframe tbody tr th {\n",
       "        vertical-align: top;\n",
       "    }\n",
       "\n",
       "    .dataframe thead th {\n",
       "        text-align: right;\n",
       "    }\n",
       "</style>\n",
       "<table border=\"1\" class=\"dataframe\">\n",
       "  <thead>\n",
       "    <tr style=\"text-align: right;\">\n",
       "      <th></th>\n",
       "      <th>min</th>\n",
       "      <th>max</th>\n",
       "      <th>average</th>\n",
       "      <th>median</th>\n",
       "      <th>standard_deviation</th>\n",
       "      <th># of txs</th>\n",
       "    </tr>\n",
       "  </thead>\n",
       "  <tbody>\n",
       "    <tr>\n",
       "      <th>RFQ</th>\n",
       "      <td>134</td>\n",
       "      <td>318</td>\n",
       "      <td>245.00</td>\n",
       "      <td>247.0</td>\n",
       "      <td>245.00</td>\n",
       "      <td>20</td>\n",
       "    </tr>\n",
       "  </tbody>\n",
       "</table>\n",
       "</div>"
      ],
      "text/plain": [
       "     min  max average  median standard_deviation  # of txs\n",
       "RFQ  134  318  245.00   247.0             245.00        20"
      ]
     },
     "execution_count": 10,
     "metadata": {},
     "output_type": "execute_result"
    }
   ],
   "source": [
    "results"
   ]
  },
  {
   "cell_type": "code",
   "execution_count": null,
   "id": "22887751",
   "metadata": {},
   "outputs": [],
   "source": []
  },
  {
   "cell_type": "code",
   "execution_count": null,
   "id": "4bfe1301",
   "metadata": {},
   "outputs": [],
   "source": []
  }
 ],
 "metadata": {
  "kernelspec": {
   "display_name": "Python 3 (ipykernel)",
   "language": "python",
   "name": "python3"
  },
  "language_info": {
   "codemirror_mode": {
    "name": "ipython",
    "version": 3
   },
   "file_extension": ".py",
   "mimetype": "text/x-python",
   "name": "python",
   "nbconvert_exporter": "python",
   "pygments_lexer": "ipython3",
   "version": "3.7.4"
  }
 },
 "nbformat": 4,
 "nbformat_minor": 5
}
