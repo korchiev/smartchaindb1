{
 "cells": [
  {
   "cell_type": "code",
   "execution_count": 1,
   "id": "19011932",
   "metadata": {},
   "outputs": [],
   "source": [
    "import pandas as pd\n",
    "import numpy as np\n",
    "import statistics as stat\n",
    "import matplotlib.pyplot as plt\n",
    "import seaborn as sns\n",
    "sns.set_style(\"white\")\n",
    "import statistics as stat"
   ]
  },
  {
   "cell_type": "code",
   "execution_count": 2,
   "id": "2b00ed1a",
   "metadata": {},
   "outputs": [],
   "source": [
    "data = pd.read_csv('scdb-20rfq-15cap-metrics.csv', names = ['Event', 'Time', 'Tx_type', 'Tx_id', 'Accept_id', 'time'])"
   ]
  },
  {
   "cell_type": "code",
   "execution_count": 3,
   "id": "5c5434a1",
   "metadata": {},
   "outputs": [
    {
     "data": {
      "text/plain": [
       "1538"
      ]
     },
     "execution_count": 3,
     "metadata": {},
     "output_type": "execute_result"
    }
   ],
   "source": [
    "grouped_data = data.groupby('Tx_id')\n",
    "tx_id = list(grouped_data.groups.keys())\n",
    "len(tx_id)"
   ]
  },
  {
   "cell_type": "code",
   "execution_count": 4,
   "id": "2ffe4be5",
   "metadata": {},
   "outputs": [
    {
     "name": "stdout",
     "output_type": "stream",
     "text": [
      "#ACCEPTs =  20\n"
     ]
    }
   ],
   "source": [
    "#new data frame to get the count of each transaction type\n",
    "data_unique_ids = data.drop_duplicates(subset = ['Tx_id'])\n",
    "\n",
    "accept_count = 0\n",
    "accept_ids = []\n",
    "for i in range(0, len(data_unique_ids)):\n",
    "    if data_unique_ids.iloc[i]['Tx_type'] == 'ACCEPT':\n",
    "        accept_ids.append(data_unique_ids.iloc[i]['Tx_id'])\n",
    "        accept_count += 1   \n",
    "\n",
    "\n",
    "print(f\"#ACCEPTs =  {accept_count}\")"
   ]
  },
  {
   "cell_type": "code",
   "execution_count": 5,
   "id": "d553f6e5",
   "metadata": {},
   "outputs": [
    {
     "ename": "KeyError",
     "evalue": "'331ca77987ad25091c086a5a8534dc766be3c41bcc3803fb829a498f0a7a168e'",
     "output_type": "error",
     "traceback": [
      "\u001b[1;31m---------------------------------------------------------------------------\u001b[0m",
      "\u001b[1;31mKeyError\u001b[0m                                  Traceback (most recent call last)",
      "\u001b[1;32m<ipython-input-5-b57d7f94f705>\u001b[0m in \u001b[0;36m<module>\u001b[1;34m\u001b[0m\n\u001b[1;32m----> 1\u001b[1;33m \u001b[0mdf_test\u001b[0m \u001b[1;33m=\u001b[0m \u001b[0mgrouped_data\u001b[0m\u001b[1;33m.\u001b[0m\u001b[0mget_group\u001b[0m\u001b[1;33m(\u001b[0m\u001b[1;34m\"331ca77987ad25091c086a5a8534dc766be3c41bcc3803fb829a498f0a7a168e\"\u001b[0m\u001b[1;33m)\u001b[0m\u001b[1;33m\u001b[0m\u001b[1;33m\u001b[0m\u001b[0m\n\u001b[0m\u001b[0;32m      2\u001b[0m \u001b[0mdf_test\u001b[0m\u001b[1;33m\u001b[0m\u001b[1;33m\u001b[0m\u001b[0m\n",
      "\u001b[1;32m~\\Anaconda3\\lib\\site-packages\\pandas\\core\\groupby\\groupby.py\u001b[0m in \u001b[0;36mget_group\u001b[1;34m(self, name, obj)\u001b[0m\n\u001b[0;32m    843\u001b[0m         \u001b[0minds\u001b[0m \u001b[1;33m=\u001b[0m \u001b[0mself\u001b[0m\u001b[1;33m.\u001b[0m\u001b[0m_get_index\u001b[0m\u001b[1;33m(\u001b[0m\u001b[0mname\u001b[0m\u001b[1;33m)\u001b[0m\u001b[1;33m\u001b[0m\u001b[1;33m\u001b[0m\u001b[0m\n\u001b[0;32m    844\u001b[0m         \u001b[1;32mif\u001b[0m \u001b[1;32mnot\u001b[0m \u001b[0mlen\u001b[0m\u001b[1;33m(\u001b[0m\u001b[0minds\u001b[0m\u001b[1;33m)\u001b[0m\u001b[1;33m:\u001b[0m\u001b[1;33m\u001b[0m\u001b[1;33m\u001b[0m\u001b[0m\n\u001b[1;32m--> 845\u001b[1;33m             \u001b[1;32mraise\u001b[0m \u001b[0mKeyError\u001b[0m\u001b[1;33m(\u001b[0m\u001b[0mname\u001b[0m\u001b[1;33m)\u001b[0m\u001b[1;33m\u001b[0m\u001b[1;33m\u001b[0m\u001b[0m\n\u001b[0m\u001b[0;32m    846\u001b[0m \u001b[1;33m\u001b[0m\u001b[0m\n\u001b[0;32m    847\u001b[0m         \u001b[1;32mreturn\u001b[0m \u001b[0mobj\u001b[0m\u001b[1;33m.\u001b[0m\u001b[0m_take_with_is_copy\u001b[0m\u001b[1;33m(\u001b[0m\u001b[0minds\u001b[0m\u001b[1;33m,\u001b[0m \u001b[0maxis\u001b[0m\u001b[1;33m=\u001b[0m\u001b[0mself\u001b[0m\u001b[1;33m.\u001b[0m\u001b[0maxis\u001b[0m\u001b[1;33m)\u001b[0m\u001b[1;33m\u001b[0m\u001b[1;33m\u001b[0m\u001b[0m\n",
      "\u001b[1;31mKeyError\u001b[0m: '331ca77987ad25091c086a5a8534dc766be3c41bcc3803fb829a498f0a7a168e'"
     ]
    }
   ],
   "source": [
    "df_test = grouped_data.get_group(\"331ca77987ad25091c086a5a8534dc766be3c41bcc3803fb829a498f0a7a168e\")\n",
    "df_test"
   ]
  },
  {
   "cell_type": "markdown",
   "id": "856f2fbb",
   "metadata": {},
   "source": [
    "## without RETURN "
   ]
  },
  {
   "cell_type": "code",
   "execution_count": 6,
   "id": "db8446fa",
   "metadata": {},
   "outputs": [],
   "source": [
    "time_all_committed_accepts = {}\n",
    "time_passed_accepts = []\n",
    "validated_time = []\n",
    "accepted_time = []\n",
    "committed_time = []\n",
    "\n",
    "accept_underfit = []\n",
    "accept_underfit_dict = {}\n",
    "\n",
    "accept_overfit = []\n",
    "accept_overfit_dict = {}\n",
    "\n",
    "for i in range(0, len(tx_id)):\n",
    "    temp_list = []\n",
    "    if \"ACCEPT\" == grouped_data.get_group(tx_id[i])[\"Tx_type\"].to_list()[0]:\n",
    "        temp_list = grouped_data.get_group(tx_id[i])[\"Time\"].to_list()\n",
    "        if len(temp_list) == 6 and grouped_data.get_group(tx_id[i])[\"Event\"].to_list()[5] == \"commit_tx\":\n",
    "            \n",
    "            actual_time = max(temp_list) - min(temp_list)\n",
    "            time_all_committed_accepts[tx_id[i]] = actual_time\n",
    "            time_passed_accepts.append(actual_time)\n",
    "            \n",
    "            df = grouped_data.get_group(tx_id[i])\n",
    "            received_time = df[df['Event'] == 'received_tx']['Time'].to_list()[0]\n",
    "            before_tendermint_time = df[df['Event'] == 'before_tendermint']['Time'].to_list()[0]\n",
    "            \n",
    "            validated = before_tendermint_time - received_time\n",
    "            validated_time.append(validated)\n",
    "            \n",
    "            check_time = df[df['Event'] == 'check_tx']['Time'].to_list()[0]\n",
    "            accepted = check_time - received_time\n",
    "            accepted_time.append(accepted)\n",
    "            \n",
    "            commit_time =  df[df['Event'] == 'commit_tx']['Time'].to_list()[0]\n",
    "            committed = commit_time - received_time\n",
    "            committed_time.append(committed)\n",
    "        elif len(temp_list) < 6:\n",
    "            accept_underfit.append(temp_list)\n",
    "            accept_underfit_dict[tx_id[i]] = temp_list\n",
    "        elif 7 >= len(temp_list) > 6 :\n",
    "            df_check = grouped_data.get_group(tx_id[i])\n",
    "            if len(df_check[df_check['Event'] == 'check_tx']['Time'].to_list()) > 1:\n",
    "                check_time = max(df_check[df_check['Event'] == 'check_tx']['Time'].to_list())\n",
    "            else:\n",
    "                check_time = df_check[df_check['Event'] == 'check_tx']['Time'].to_list()[0] \n",
    "            \n",
    "            actual_time = max(temp_list) - min(temp_list)\n",
    "            time_all_committed_accepts[tx_id[i]] = actual_time\n",
    "            time_passed_accepts.append(actual_time)\n",
    "            \n",
    "            df = grouped_data.get_group(tx_id[i])\n",
    "            received_time = df[df['Event'] == 'received_tx']['Time'].to_list()[0]\n",
    "            before_tendermint_time = df[df['Event'] == 'before_tendermint']['Time'].to_list()[0]\n",
    "            \n",
    "            validated = before_tendermint_time - received_time\n",
    "            validated_time.append(validated)\n",
    "           \n",
    "            accepted = check_time - received_time\n",
    "            accepted_time.append(accepted)\n",
    "            \n",
    "            commit_time =  df[df['Event'] == 'commit_tx']['Time'].to_list()[0]\n",
    "            committed = commit_time - received_time\n",
    "            committed_time.append(committed)\n",
    "            \n",
    "            accept_overfit.append(actual_time)\n",
    "            accept_overfit_dict[tx_id[i]] = temp_list"
   ]
  },
  {
   "cell_type": "code",
   "execution_count": null,
   "id": "1e68e60f",
   "metadata": {},
   "outputs": [],
   "source": []
  },
  {
   "cell_type": "markdown",
   "id": "f429fd57",
   "metadata": {},
   "source": [
    "## with RETURNs"
   ]
  },
  {
   "cell_type": "code",
   "execution_count": 7,
   "id": "21739405",
   "metadata": {},
   "outputs": [],
   "source": [
    "\n",
    "\n",
    "accept_return_count = {}\n",
    "\n",
    "time_id_return = {}\n",
    "for i in range(0, len(tx_id)):\n",
    "    temp_list = []\n",
    "    return_count = 0\n",
    "    if \"ACCEPT\" == grouped_data.get_group(tx_id[i])[\"Tx_type\"].to_list()[0]:\n",
    "        temp_list = grouped_data.get_group(tx_id[i])[\"Time\"].to_list()\n",
    "        for j in range(0, len(data)):\n",
    "            if data['Event'][j] == \"commit_tx\" and tx_id[i] == data['Accept_id'][j]:\n",
    "                temp_list.append(data[\"Time\"][j])\n",
    "                return_count += 1\n",
    "        accept_return_count[tx_id[i]] = return_count\n",
    "        "
   ]
  },
  {
   "cell_type": "code",
   "execution_count": 8,
   "id": "0623016a",
   "metadata": {},
   "outputs": [
    {
     "data": {
      "text/plain": [
       "{'04059cb8000424c9f477ddfbe01f13f9968579f52e415d8710db3066b7d09211': 25,\n",
       " '0d1ca015dff49ad314bc996e1d94380868e855f5072516bac1fff0afb42c9154': 25,\n",
       " '1a3fb3493e6b8690b680c7040d7a01a0af6ee374f87b60d723869571d9acc9d0': 25,\n",
       " '342f94e510396f90c62ad4ea6708d9c0035df0fad2f0a0c27bb8f24c67fcdd05': 25,\n",
       " '34397728eb9a70dcba0a0f86f9b84d3efd58567affa5b95c8fc9fcf70d8af1ac': 25,\n",
       " '3e1f029c29dc5f3c014952967e5bac16d23453fdbb8acc2b03567969d52d4397': 25,\n",
       " '527aebbb9dbf6ae0d48352dfea14302bbb594d4dcfd6157d3aaa00f4b181db71': 25,\n",
       " '5db5bca8317c2f8c45a9b306ca3d2895e4f102cfad5e59cf831c8519e095418d': 25,\n",
       " '670b474afd4fdf04b4cf80399155b92cf95bf2d275bf7e021d7de3e54d9b021a': 25,\n",
       " '7abecfa4859ba40b0e4d00e6c9ea97b86d7144c6b6924164134c2f7f692a41cd': 25,\n",
       " '7b37109fd1683ea028fcf09861c1baf74dcc15df6df020b4284d19adf7795067': 25,\n",
       " '81daae7445be22c1882ebf51a804da13217ccaaa6b60b9ab8fba28cf4424809e': 25,\n",
       " 'ae878ada58b35decd0118ee89312885d4bc99114d89e4d3b5de085ab0a4f8509': 25,\n",
       " 'b716b95abfb0b686e5c3f99baf3d3fd48e29eb827b6eb0190a96e16f7cab0187': 25,\n",
       " 'bb0f6aaf2c7b6f2e28738e84676cd611f961144fce51e3b680ea7ee21ca8fabf': 25,\n",
       " 'dec71e58da34e92ade679595017473930feacf34741f2b8fc4ef98fdb2ecfd5d': 24,\n",
       " 'e24cbe60fbb1f8aa8d7a52b4a42ab9d22ff15d4134bdd4230cc8b4cdfc7c4d7f': 25,\n",
       " 'e60767db6fe3aba5ac98f485a05682a8f66c83cafa3b1810356c085971bfc007': 25,\n",
       " 'ec3545d6794150af7c53f8304dc40a6cd6103ae6fb6a382febd6dd2aadb253c5': 25,\n",
       " 'f3a1e71d9d7dddaa05af0a2c0590bbe48732140ce0af98643da7d75f29febfcc': 25}"
      ]
     },
     "execution_count": 8,
     "metadata": {},
     "output_type": "execute_result"
    }
   ],
   "source": [
    "accept_return_count"
   ]
  },
  {
   "cell_type": "code",
   "execution_count": 9,
   "id": "fc2bb040",
   "metadata": {},
   "outputs": [
    {
     "data": {
      "text/plain": [
       "{'04059cb8000424c9f477ddfbe01f13f9968579f52e415d8710db3066b7d09211': 352,\n",
       " '0d1ca015dff49ad314bc996e1d94380868e855f5072516bac1fff0afb42c9154': 212,\n",
       " '1a3fb3493e6b8690b680c7040d7a01a0af6ee374f87b60d723869571d9acc9d0': 220,\n",
       " '342f94e510396f90c62ad4ea6708d9c0035df0fad2f0a0c27bb8f24c67fcdd05': 189,\n",
       " '34397728eb9a70dcba0a0f86f9b84d3efd58567affa5b95c8fc9fcf70d8af1ac': 327,\n",
       " '3e1f029c29dc5f3c014952967e5bac16d23453fdbb8acc2b03567969d52d4397': 360,\n",
       " '527aebbb9dbf6ae0d48352dfea14302bbb594d4dcfd6157d3aaa00f4b181db71': 362,\n",
       " '5db5bca8317c2f8c45a9b306ca3d2895e4f102cfad5e59cf831c8519e095418d': 366,\n",
       " '670b474afd4fdf04b4cf80399155b92cf95bf2d275bf7e021d7de3e54d9b021a': 183,\n",
       " '7abecfa4859ba40b0e4d00e6c9ea97b86d7144c6b6924164134c2f7f692a41cd': 190,\n",
       " '7b37109fd1683ea028fcf09861c1baf74dcc15df6df020b4284d19adf7795067': 344,\n",
       " '81daae7445be22c1882ebf51a804da13217ccaaa6b60b9ab8fba28cf4424809e': 336,\n",
       " 'ae878ada58b35decd0118ee89312885d4bc99114d89e4d3b5de085ab0a4f8509': 218,\n",
       " 'b716b95abfb0b686e5c3f99baf3d3fd48e29eb827b6eb0190a96e16f7cab0187': 181,\n",
       " 'bb0f6aaf2c7b6f2e28738e84676cd611f961144fce51e3b680ea7ee21ca8fabf': 176,\n",
       " 'dec71e58da34e92ade679595017473930feacf34741f2b8fc4ef98fdb2ecfd5d': 325,\n",
       " 'e24cbe60fbb1f8aa8d7a52b4a42ab9d22ff15d4134bdd4230cc8b4cdfc7c4d7f': 361,\n",
       " 'e60767db6fe3aba5ac98f485a05682a8f66c83cafa3b1810356c085971bfc007': 174,\n",
       " 'ec3545d6794150af7c53f8304dc40a6cd6103ae6fb6a382febd6dd2aadb253c5': 378,\n",
       " 'f3a1e71d9d7dddaa05af0a2c0590bbe48732140ce0af98643da7d75f29febfcc': 376}"
      ]
     },
     "execution_count": 9,
     "metadata": {},
     "output_type": "execute_result"
    }
   ],
   "source": [
    "time_all_committed_accepts"
   ]
  },
  {
   "cell_type": "code",
   "execution_count": 10,
   "id": "417b0120",
   "metadata": {},
   "outputs": [
    {
     "data": {
      "text/plain": [
       "20"
      ]
     },
     "execution_count": 10,
     "metadata": {},
     "output_type": "execute_result"
    }
   ],
   "source": [
    "len(time_passed_accepts)"
   ]
  },
  {
   "cell_type": "code",
   "execution_count": 11,
   "id": "6930ebb0",
   "metadata": {},
   "outputs": [
    {
     "data": {
      "text/plain": [
       "11"
      ]
     },
     "execution_count": 11,
     "metadata": {},
     "output_type": "execute_result"
    }
   ],
   "source": [
    "len(accept_overfit)"
   ]
  },
  {
   "cell_type": "code",
   "execution_count": 12,
   "id": "340787bd",
   "metadata": {},
   "outputs": [
    {
     "data": {
      "text/plain": [
       "281.5"
      ]
     },
     "execution_count": 12,
     "metadata": {},
     "output_type": "execute_result"
    }
   ],
   "source": [
    "stat.mean(time_passed_accepts)"
   ]
  },
  {
   "cell_type": "code",
   "execution_count": 13,
   "id": "faae30a7",
   "metadata": {},
   "outputs": [
    {
     "data": {
      "text/plain": [
       "353.3636363636364"
      ]
     },
     "execution_count": 13,
     "metadata": {},
     "output_type": "execute_result"
    }
   ],
   "source": [
    "stat.mean(accept_overfit)"
   ]
  },
  {
   "cell_type": "code",
   "execution_count": 14,
   "id": "b0801acc",
   "metadata": {},
   "outputs": [
    {
     "name": "stdout",
     "output_type": "stream",
     "text": [
      "281.50\n",
      "326.0\n",
      "378\n",
      "174\n",
      "83.42\n",
      "total accepts = 20\n"
     ]
    }
   ],
   "source": [
    "# Analysis of CREATE Transaction\n",
    "accept_mean = \"{:.2f}\".format(stat.mean(time_passed_accepts))\n",
    "accept_median = stat.median(time_passed_accepts)\n",
    "accept_max = max(time_passed_accepts)\n",
    "accept_min = min(time_passed_accepts)\n",
    "accept_std_dev = \"{:.2f}\".format(stat.stdev(time_passed_accepts))\n",
    "\n",
    "print(accept_mean)\n",
    "print(accept_median)\n",
    "print(accept_max)\n",
    "print(accept_min)\n",
    "print(accept_std_dev)\n",
    "print(f\"total accepts = {len(time_passed_accepts)}\")\n",
    "\n",
    "accept_dict = {\n",
    "               'min': accept_min,\n",
    "               'max': accept_max,\n",
    "               'average': accept_mean,\n",
    "               'median' : accept_median,\n",
    "               'standard_deviation' : accept_std_dev,\n",
    "               '# of txs' : len(time_passed_accepts)}"
   ]
  },
  {
   "cell_type": "code",
   "execution_count": 15,
   "id": "2953b08c",
   "metadata": {
    "scrolled": true
   },
   "outputs": [
    {
     "data": {
      "text/html": [
       "<div>\n",
       "<style scoped>\n",
       "    .dataframe tbody tr th:only-of-type {\n",
       "        vertical-align: middle;\n",
       "    }\n",
       "\n",
       "    .dataframe tbody tr th {\n",
       "        vertical-align: top;\n",
       "    }\n",
       "\n",
       "    .dataframe thead th {\n",
       "        text-align: right;\n",
       "    }\n",
       "</style>\n",
       "<table border=\"1\" class=\"dataframe\">\n",
       "  <thead>\n",
       "    <tr style=\"text-align: right;\">\n",
       "      <th></th>\n",
       "      <th>min</th>\n",
       "      <th>max</th>\n",
       "      <th>average</th>\n",
       "      <th>median</th>\n",
       "      <th>standard_deviation</th>\n",
       "      <th># of txs</th>\n",
       "    </tr>\n",
       "  </thead>\n",
       "  <tbody>\n",
       "    <tr>\n",
       "      <th>ACCEPT</th>\n",
       "      <td>174</td>\n",
       "      <td>378</td>\n",
       "      <td>281.50</td>\n",
       "      <td>326.0</td>\n",
       "      <td>83.42</td>\n",
       "      <td>20</td>\n",
       "    </tr>\n",
       "  </tbody>\n",
       "</table>\n",
       "</div>"
      ],
      "text/plain": [
       "        min  max average  median standard_deviation  # of txs\n",
       "ACCEPT  174  378  281.50   326.0              83.42        20"
      ]
     },
     "execution_count": 15,
     "metadata": {},
     "output_type": "execute_result"
    }
   ],
   "source": [
    "results = pd.DataFrame(accept_dict, index = ['ACCEPT'])\n",
    "results.to_csv('accept_analysis.csv', sep=',', encoding='utf-8')\n",
    "results"
   ]
  },
  {
   "cell_type": "code",
   "execution_count": null,
   "id": "dd9d4770",
   "metadata": {},
   "outputs": [],
   "source": []
  },
  {
   "cell_type": "code",
   "execution_count": null,
   "id": "f2e63127",
   "metadata": {},
   "outputs": [],
   "source": []
  }
 ],
 "metadata": {
  "kernelspec": {
   "display_name": "Python 3 (ipykernel)",
   "language": "python",
   "name": "python3"
  },
  "language_info": {
   "codemirror_mode": {
    "name": "ipython",
    "version": 3
   },
   "file_extension": ".py",
   "mimetype": "text/x-python",
   "name": "python",
   "nbconvert_exporter": "python",
   "pygments_lexer": "ipython3",
   "version": "3.7.4"
  }
 },
 "nbformat": 4,
 "nbformat_minor": 5
}
