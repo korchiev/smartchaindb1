{
 "cells": [
  {
   "cell_type": "code",
   "execution_count": 9,
   "id": "dfc31e34",
   "metadata": {},
   "outputs": [],
   "source": [
    "import pandas as pd\n",
    "import numpy as np\n",
    "import statistics as stat\n",
    "import matplotlib.pyplot as plt\n",
    "import seaborn as sns\n",
    "sns.set_style(\"white\")"
   ]
  },
  {
   "cell_type": "code",
   "execution_count": 10,
   "id": "d3481601",
   "metadata": {},
   "outputs": [],
   "source": [
    "data = pd.read_csv('scdb-100rfq-30cap-metrics.csv', names = ['Event', 'Time', 'Tx_type', 'Tx_id', 'Accept_id', 'time'])"
   ]
  },
  {
   "cell_type": "code",
   "execution_count": 11,
   "id": "5d7f70b3",
   "metadata": {},
   "outputs": [
    {
     "data": {
      "text/plain": [
       "7690"
      ]
     },
     "execution_count": 11,
     "metadata": {},
     "output_type": "execute_result"
    }
   ],
   "source": [
    "grouped_data = data.groupby('Tx_id')\n",
    "tx_id = list(grouped_data.groups.keys())\n",
    "len(tx_id)"
   ]
  },
  {
   "cell_type": "code",
   "execution_count": 12,
   "id": "bb6a5137",
   "metadata": {},
   "outputs": [
    {
     "name": "stdout",
     "output_type": "stream",
     "text": [
      "#RFQs =  100\n"
     ]
    }
   ],
   "source": [
    "#new data frame to get the count of each transaction type\n",
    "data_unique_ids = data.drop_duplicates(subset = ['Tx_id'])\n",
    "\n",
    "rfq_count = 0\n",
    "for i in range(0, len(data_unique_ids)):\n",
    "    if data_unique_ids.iloc[i]['Tx_type'] == 'REQUEST_FOR_QUOTE':\n",
    "        rfq_count += 1   \n",
    "\n",
    "\n",
    "print(f\"#RFQs =  {rfq_count}\")"
   ]
  },
  {
   "cell_type": "code",
   "execution_count": 13,
   "id": "853b491b",
   "metadata": {},
   "outputs": [],
   "source": [
    "df_test = grouped_data.get_group(\"b861bfd94f3ac9f2186e074690685f5d890a98b108f7f0ba9d0ed13110a50637\")"
   ]
  },
  {
   "cell_type": "code",
   "execution_count": 16,
   "id": "1699872f",
   "metadata": {},
   "outputs": [
    {
     "data": {
      "text/html": [
       "<div>\n",
       "<style scoped>\n",
       "    .dataframe tbody tr th:only-of-type {\n",
       "        vertical-align: middle;\n",
       "    }\n",
       "\n",
       "    .dataframe tbody tr th {\n",
       "        vertical-align: top;\n",
       "    }\n",
       "\n",
       "    .dataframe thead th {\n",
       "        text-align: right;\n",
       "    }\n",
       "</style>\n",
       "<table border=\"1\" class=\"dataframe\">\n",
       "  <thead>\n",
       "    <tr style=\"text-align: right;\">\n",
       "      <th></th>\n",
       "      <th>Event</th>\n",
       "      <th>Time</th>\n",
       "      <th>Tx_type</th>\n",
       "      <th>Tx_id</th>\n",
       "      <th>Accept_id</th>\n",
       "      <th>time</th>\n",
       "    </tr>\n",
       "  </thead>\n",
       "  <tbody>\n",
       "    <tr>\n",
       "      <th>499</th>\n",
       "      <td>received_tx</td>\n",
       "      <td>2212</td>\n",
       "      <td>REQUEST_FOR_QUOTE</td>\n",
       "      <td>b861bfd94f3ac9f2186e074690685f5d890a98b108f7f0...</td>\n",
       "      <td>None</td>\n",
       "      <td>1.669847e+09</td>\n",
       "    </tr>\n",
       "    <tr>\n",
       "      <th>500</th>\n",
       "      <td>before_tendermint</td>\n",
       "      <td>2215</td>\n",
       "      <td>REQUEST_FOR_QUOTE</td>\n",
       "      <td>b861bfd94f3ac9f2186e074690685f5d890a98b108f7f0...</td>\n",
       "      <td>None</td>\n",
       "      <td>1.669847e+09</td>\n",
       "    </tr>\n",
       "    <tr>\n",
       "      <th>502</th>\n",
       "      <td>check_tx</td>\n",
       "      <td>2219</td>\n",
       "      <td>REQUEST_FOR_QUOTE</td>\n",
       "      <td>b861bfd94f3ac9f2186e074690685f5d890a98b108f7f0...</td>\n",
       "      <td>None</td>\n",
       "      <td>1.669847e+09</td>\n",
       "    </tr>\n",
       "    <tr>\n",
       "      <th>519</th>\n",
       "      <td>check_tx</td>\n",
       "      <td>2326</td>\n",
       "      <td>REQUEST_FOR_QUOTE</td>\n",
       "      <td>b861bfd94f3ac9f2186e074690685f5d890a98b108f7f0...</td>\n",
       "      <td>None</td>\n",
       "      <td>1.669847e+09</td>\n",
       "    </tr>\n",
       "    <tr>\n",
       "      <th>536</th>\n",
       "      <td>deliver_tx</td>\n",
       "      <td>2386</td>\n",
       "      <td>REQUEST_FOR_QUOTE</td>\n",
       "      <td>b861bfd94f3ac9f2186e074690685f5d890a98b108f7f0...</td>\n",
       "      <td>None</td>\n",
       "      <td>1.669847e+09</td>\n",
       "    </tr>\n",
       "    <tr>\n",
       "      <th>541</th>\n",
       "      <td>end_block</td>\n",
       "      <td>2388</td>\n",
       "      <td>REQUEST_FOR_QUOTE</td>\n",
       "      <td>b861bfd94f3ac9f2186e074690685f5d890a98b108f7f0...</td>\n",
       "      <td>None</td>\n",
       "      <td>1.669847e+09</td>\n",
       "    </tr>\n",
       "    <tr>\n",
       "      <th>546</th>\n",
       "      <td>commit_tx</td>\n",
       "      <td>2430</td>\n",
       "      <td>REQUEST_FOR_QUOTE</td>\n",
       "      <td>b861bfd94f3ac9f2186e074690685f5d890a98b108f7f0...</td>\n",
       "      <td>None</td>\n",
       "      <td>1.669847e+09</td>\n",
       "    </tr>\n",
       "  </tbody>\n",
       "</table>\n",
       "</div>"
      ],
      "text/plain": [
       "                 Event  Time            Tx_type  \\\n",
       "499        received_tx  2212  REQUEST_FOR_QUOTE   \n",
       "500  before_tendermint  2215  REQUEST_FOR_QUOTE   \n",
       "502           check_tx  2219  REQUEST_FOR_QUOTE   \n",
       "519           check_tx  2326  REQUEST_FOR_QUOTE   \n",
       "536         deliver_tx  2386  REQUEST_FOR_QUOTE   \n",
       "541          end_block  2388  REQUEST_FOR_QUOTE   \n",
       "546          commit_tx  2430  REQUEST_FOR_QUOTE   \n",
       "\n",
       "                                                 Tx_id Accept_id          time  \n",
       "499  b861bfd94f3ac9f2186e074690685f5d890a98b108f7f0...      None  1.669847e+09  \n",
       "500  b861bfd94f3ac9f2186e074690685f5d890a98b108f7f0...      None  1.669847e+09  \n",
       "502  b861bfd94f3ac9f2186e074690685f5d890a98b108f7f0...      None  1.669847e+09  \n",
       "519  b861bfd94f3ac9f2186e074690685f5d890a98b108f7f0...      None  1.669847e+09  \n",
       "536  b861bfd94f3ac9f2186e074690685f5d890a98b108f7f0...      None  1.669847e+09  \n",
       "541  b861bfd94f3ac9f2186e074690685f5d890a98b108f7f0...      None  1.669847e+09  \n",
       "546  b861bfd94f3ac9f2186e074690685f5d890a98b108f7f0...      None  1.669847e+09  "
      ]
     },
     "execution_count": 16,
     "metadata": {},
     "output_type": "execute_result"
    }
   ],
   "source": [
    "df_test"
   ]
  },
  {
   "cell_type": "code",
   "execution_count": 17,
   "id": "1e28fa9c",
   "metadata": {},
   "outputs": [
    {
     "data": {
      "text/plain": [
       "True"
      ]
     },
     "execution_count": 17,
     "metadata": {},
     "output_type": "execute_result"
    }
   ],
   "source": [
    "\"REQUEST_FOR_QUOTE\" == grouped_data.get_group(\"b861bfd94f3ac9f2186e074690685f5d890a98b108f7f0ba9d0ed13110a50637\")[\"Tx_type\"].to_list()[0]"
   ]
  },
  {
   "cell_type": "code",
   "execution_count": 68,
   "id": "479ab5de",
   "metadata": {},
   "outputs": [],
   "source": [
    "time_all_committed_rfqs = {}\n",
    "time_passed_rfqs = []\n",
    "validated_time = []\n",
    "accepted_time = []\n",
    "committed_time = []\n",
    "\n",
    "rfq_underfit = []\n",
    "rfq_underfit_dict = {}\n",
    "\n",
    "for i in range(0, len(tx_id)):\n",
    "    temp_list = []\n",
    "    if \"REQUEST_FOR_QUOTE\" == grouped_data.get_group(tx_id[i])[\"Tx_type\"].to_list()[0]:\n",
    "        temp_list = grouped_data.get_group(tx_id[i])[\"Time\"].to_list()\n",
    "        if len(temp_list) == 6 and grouped_data.get_group(tx_id[i])[\"Event\"].to_list()[5] == \"commit_tx\":\n",
    "            actual_time = max(temp_list) - min(temp_list)\n",
    "            time_all_committed_rfqs[tx_id[i]] = actual_time\n",
    "            time_passed_rfqs.append(actual_time)\n",
    "            df = grouped_data.get_group(tx_id[i])\n",
    "            received_time = df[df['Event'] == 'received_tx']['Time'].to_list()[0]\n",
    "            before_tendermint_time = df[df['Event'] == 'before_tendermint']['Time'].to_list()[0]\n",
    "            validated = before_tendermint_time - received_time\n",
    "            validated_time.append(validated)\n",
    "            check_time = df[df['Event'] == 'check_tx']['Time'].to_list()[0]\n",
    "            accepted = check_time - received_time\n",
    "            accepted_time.append(accepted)\n",
    "            commit_time =  df[df['Event'] == 'commit_tx']['Time'].to_list()[0]\n",
    "            committed = commit_time - received_time\n",
    "            committed_time.append(committed)\n",
    "        elif len(temp_list) < 6:\n",
    "            rfq_underfit.append(temp_list)\n",
    "            rfq_underfit_dict[tx_id(i)] = temp_list\n",
    "        elif 7 >= len(temp_list) > 6 :\n",
    "            df_check = grouped_data.get_group(tx_id[i])\n",
    "            if len(df_check[df_check['Event'] == 'check_tx']['Time'].to_list()) > 1:\n",
    "                check_time = max(df_check[df_check['Event'] == 'check_tx']['Time'].to_list())\n",
    "            else:\n",
    "                check_time = df_check[df_check['Event'] == 'check_tx']['Time'].to_list()[0] \n",
    "            \n",
    "            actual_time = max(temp_list) - min(temp_list)\n",
    "            time_all_committed_rfqs[tx_id[i]] = actual_time\n",
    "            time_passed_rfqs.append(actual_time)\n",
    "            \n",
    "            df = grouped_data.get_group(tx_id[i])\n",
    "            received_time = df[df['Event'] == 'received_tx']['Time'].to_list()[0]\n",
    "            before_tendermint_time = df[df['Event'] == 'before_tendermint']['Time'].to_list()[0]\n",
    "            \n",
    "            validated = before_tendermint_time - received_time\n",
    "            validated_time.append(validated)\n",
    "           \n",
    "            accepted = check_time - received_time\n",
    "            accepted_time.append(accepted)\n",
    "            \n",
    "            commit_time =  df[df['Event'] == 'commit_tx']['Time'].to_list()[0]\n",
    "            committed = commit_time - received_time\n",
    "            committed_time.append(committed)\n",
    "            rfq_overfit.append(temp_list)\n",
    "            rfq_overfit_dict[tx_id[i]] = temp_list"
   ]
  },
  {
   "cell_type": "code",
   "execution_count": null,
   "id": "b0dfc621",
   "metadata": {},
   "outputs": [],
   "source": []
  },
  {
   "cell_type": "code",
   "execution_count": null,
   "id": "926f5bb5",
   "metadata": {},
   "outputs": [],
   "source": []
  }
 ],
 "metadata": {
  "kernelspec": {
   "display_name": "Python 3 (ipykernel)",
   "language": "python",
   "name": "python3"
  },
  "language_info": {
   "codemirror_mode": {
    "name": "ipython",
    "version": 3
   },
   "file_extension": ".py",
   "mimetype": "text/x-python",
   "name": "python",
   "nbconvert_exporter": "python",
   "pygments_lexer": "ipython3",
   "version": "3.7.4"
  }
 },
 "nbformat": 4,
 "nbformat_minor": 5
}
