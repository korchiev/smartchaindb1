{
 "cells": [
  {
   "cell_type": "code",
   "execution_count": 1,
   "id": "2d510c55",
   "metadata": {},
   "outputs": [],
   "source": [
    "import pandas as pd\n",
    "import numpy as np\n",
    "import statistics as stat"
   ]
  },
  {
   "cell_type": "code",
   "execution_count": 39,
   "id": "616beabb",
   "metadata": {},
   "outputs": [],
   "source": [
    "data = pd.read_csv('4driver_sent.csv', names = ['Event', 'Time', 'Tx_type', 'Tx_id', 'Accept_id', 'time'])"
   ]
  },
  {
   "cell_type": "code",
   "execution_count": 40,
   "id": "64a6fdd1",
   "metadata": {},
   "outputs": [],
   "source": [
    "#grouping every transaction by its ID\n",
    "grouped_data = data.groupby('Tx_id')"
   ]
  },
  {
   "cell_type": "code",
   "execution_count": 41,
   "id": "dde9050e",
   "metadata": {},
   "outputs": [
    {
     "ename": "KeyError",
     "evalue": "'1b5bed4537bf2f5d6802eb9771b65f512e49aeedde1b2ac1d375da4ee62b00b0'",
     "output_type": "error",
     "traceback": [
      "\u001b[1;31m---------------------------------------------------------------------------\u001b[0m",
      "\u001b[1;31mKeyError\u001b[0m                                  Traceback (most recent call last)",
      "\u001b[1;32m<ipython-input-41-fee41852ea2d>\u001b[0m in \u001b[0;36m<module>\u001b[1;34m\u001b[0m\n\u001b[1;32m----> 1\u001b[1;33m \u001b[0mgrouped_data\u001b[0m\u001b[1;33m.\u001b[0m\u001b[0mget_group\u001b[0m\u001b[1;33m(\u001b[0m\u001b[1;34m\"1b5bed4537bf2f5d6802eb9771b65f512e49aeedde1b2ac1d375da4ee62b00b0\"\u001b[0m\u001b[1;33m)\u001b[0m\u001b[1;33m\u001b[0m\u001b[1;33m\u001b[0m\u001b[0m\n\u001b[0m",
      "\u001b[1;32m~\\Anaconda3\\lib\\site-packages\\pandas\\core\\groupby\\groupby.py\u001b[0m in \u001b[0;36mget_group\u001b[1;34m(self, name, obj)\u001b[0m\n\u001b[0;32m    843\u001b[0m         \u001b[0minds\u001b[0m \u001b[1;33m=\u001b[0m \u001b[0mself\u001b[0m\u001b[1;33m.\u001b[0m\u001b[0m_get_index\u001b[0m\u001b[1;33m(\u001b[0m\u001b[0mname\u001b[0m\u001b[1;33m)\u001b[0m\u001b[1;33m\u001b[0m\u001b[1;33m\u001b[0m\u001b[0m\n\u001b[0;32m    844\u001b[0m         \u001b[1;32mif\u001b[0m \u001b[1;32mnot\u001b[0m \u001b[0mlen\u001b[0m\u001b[1;33m(\u001b[0m\u001b[0minds\u001b[0m\u001b[1;33m)\u001b[0m\u001b[1;33m:\u001b[0m\u001b[1;33m\u001b[0m\u001b[1;33m\u001b[0m\u001b[0m\n\u001b[1;32m--> 845\u001b[1;33m             \u001b[1;32mraise\u001b[0m \u001b[0mKeyError\u001b[0m\u001b[1;33m(\u001b[0m\u001b[0mname\u001b[0m\u001b[1;33m)\u001b[0m\u001b[1;33m\u001b[0m\u001b[1;33m\u001b[0m\u001b[0m\n\u001b[0m\u001b[0;32m    846\u001b[0m \u001b[1;33m\u001b[0m\u001b[0m\n\u001b[0;32m    847\u001b[0m         \u001b[1;32mreturn\u001b[0m \u001b[0mobj\u001b[0m\u001b[1;33m.\u001b[0m\u001b[0m_take_with_is_copy\u001b[0m\u001b[1;33m(\u001b[0m\u001b[0minds\u001b[0m\u001b[1;33m,\u001b[0m \u001b[0maxis\u001b[0m\u001b[1;33m=\u001b[0m\u001b[0mself\u001b[0m\u001b[1;33m.\u001b[0m\u001b[0maxis\u001b[0m\u001b[1;33m)\u001b[0m\u001b[1;33m\u001b[0m\u001b[1;33m\u001b[0m\u001b[0m\n",
      "\u001b[1;31mKeyError\u001b[0m: '1b5bed4537bf2f5d6802eb9771b65f512e49aeedde1b2ac1d375da4ee62b00b0'"
     ]
    }
   ],
   "source": [
    "grouped_data.get_group(\"1b5bed4537bf2f5d6802eb9771b65f512e49aeedde1b2ac1d375da4ee62b00b0\")"
   ]
  },
  {
   "cell_type": "code",
   "execution_count": 42,
   "id": "e4e13ab8",
   "metadata": {},
   "outputs": [],
   "source": [
    "#return_accept_id_group = data.groupby('Accept_id')"
   ]
  },
  {
   "cell_type": "code",
   "execution_count": 43,
   "id": "5aed9ad9",
   "metadata": {},
   "outputs": [
    {
     "data": {
      "text/plain": [
       "1157"
      ]
     },
     "execution_count": 43,
     "metadata": {},
     "output_type": "execute_result"
    }
   ],
   "source": [
    "tx_id = list(grouped_data.groups.keys())\n",
    "len(tx_id)"
   ]
  },
  {
   "cell_type": "code",
   "execution_count": 44,
   "id": "e7f01ba1",
   "metadata": {},
   "outputs": [
    {
     "data": {
      "text/plain": [
       "1200"
      ]
     },
     "execution_count": 44,
     "metadata": {},
     "output_type": "execute_result"
    }
   ],
   "source": [
    "(max(data['time']) - min(data['time']))"
   ]
  },
  {
   "cell_type": "code",
   "execution_count": 45,
   "id": "4a85f948",
   "metadata": {},
   "outputs": [
    {
     "data": {
      "text/plain": [
       "0.9641666666666666"
      ]
     },
     "execution_count": 45,
     "metadata": {},
     "output_type": "execute_result"
    }
   ],
   "source": [
    "throughput = len(tx_id) / (max(data['time']) - min(data['time']))\n",
    "throughput"
   ]
  },
  {
   "cell_type": "code",
   "execution_count": 8,
   "id": "fdaaa4f0",
   "metadata": {
    "scrolled": true
   },
   "outputs": [
    {
     "name": "stdout",
     "output_type": "stream",
     "text": [
      "#RFQs 5\n",
      "#BIDs =  90\n",
      "#CREATEs =  115\n",
      "#ACCEPTs =  5\n",
      "#RETURNs =  81\n",
      "#Total =  296\n"
     ]
    }
   ],
   "source": [
    "#new data frame to get the count of each transaction type\n",
    "data_unique_ids = data.drop_duplicates(subset = ['Tx_id'])\n",
    "rfq_count = 0\n",
    "bid_count = 0\n",
    "create_count = 0\n",
    "accept_count = 0\n",
    "return_count_1 = 0\n",
    "for i in range(0, len(data_unique_ids)):\n",
    "    if data_unique_ids.iloc[i]['Tx_type'] == 'REQUEST_FOR_QUOTE':\n",
    "        rfq_count += 1\n",
    "    if data_unique_ids.iloc[i]['Tx_type'] == 'CREATE':\n",
    "        create_count += 1    \n",
    "    if data_unique_ids.iloc[i]['Tx_type'] == 'BID':\n",
    "        bid_count += 1   \n",
    "    if data_unique_ids.iloc[i]['Tx_type'] == 'ACCEPT':\n",
    "        accept_count += 1 \n",
    "    if data_unique_ids.iloc[i]['Tx_type'] == 'RETURN':\n",
    "        return_count_1 += 1   \n",
    "print(f\"#RFQs {rfq_count}\")\n",
    "print(f\"#BIDs =  {bid_count}\")\n",
    "print(f\"#CREATEs =  {create_count}\")\n",
    "print(f\"#ACCEPTs =  {accept_count}\")\n",
    "print(f\"#RETURNs =  {return_count_1}\")\n",
    "print(f\"#Total =  {return_count_1 + rfq_count + bid_count + create_count + accept_count}\")"
   ]
  },
  {
   "cell_type": "code",
   "execution_count": 9,
   "id": "8acdefe5",
   "metadata": {},
   "outputs": [],
   "source": [
    "# Time per each transaction type\n",
    "time_all_committed_bids = {}\n",
    "time_passed_bids = []\n",
    "bid_time = {}\n",
    "bids_overfit = []\n",
    "bids_underfit = []\n",
    "other_bids = []\n",
    "\n",
    "time_all_committed_creates = {}\n",
    "time_passed_creates = []\n",
    "create_time = {}\n",
    "creates_overfit = []\n",
    "creates_underfit = []\n",
    "other_creates = []\n",
    "\n",
    "time_all_committed_rfqs = {}\n",
    "time_passed_rfqs = []\n",
    "rfq_time = {}\n",
    "rfq_overfit = []\n",
    "rfq_underfit = []\n",
    "other_rfqs = []\n",
    "\n",
    "time_all_committed_accepts = {}\n",
    "time_passed_accepts = []\n",
    "accept_time = {}\n",
    "time_failed_accepts = []\n",
    "accept_underfit = []\n",
    "accept_overfit = []\n",
    "other_accepts = []\n",
    "\n",
    "\n",
    "time_all_committed_returns = {}\n",
    "time_passed_returns= []\n",
    "return_time = {}\n",
    "return_overfit = []\n",
    "return_underfit = []\n",
    "other_returns = []\n",
    "\n",
    "\n",
    "time_bids = []\n",
    "time_id_bid = {}\n",
    "\n",
    "\n",
    "time_rfqs = []\n",
    "time_id_rfqs = {}\n",
    "\n",
    "time_accept = []\n",
    "time_id_accept = {}\n",
    "\n",
    "time_create = []\n",
    "time_id_create = {}\n",
    "\n",
    "time_returns = []\n",
    "accept_return_count = {}\n",
    "\n",
    "\n",
    "time_id_return = {}\n",
    "for i in range(0, len(tx_id)):\n",
    "    temp_list = []\n",
    "    return_count = 0\n",
    "#     if \"REQUEST_FOR_QUOTE\" == grouped_data.get_group(tx_id[i])[\"Tx_type\"].to_list()[0]:\n",
    "#         temp_list = grouped_data.get_group(tx_id[i])[\"Time\"].to_list()\n",
    "#         actual_time = max(temp_list)\n",
    "#         time_rfqs.append(actual_time)\n",
    "#         time_id_rfqs[tx_id[i]] = actual_time\n",
    "\n",
    "    if \"REQUEST_FOR_QUOTE\" == grouped_data.get_group(tx_id[i])[\"Tx_type\"].to_list()[0]:\n",
    "        temp_list = grouped_data.get_group(tx_id[i])[\"Time\"].to_list()\n",
    "        if len(temp_list) == 6 and grouped_data.get_group(tx_id[i])[\"Event\"].to_list()[5] == \"commit_tx\":\n",
    "            actual_time = max(temp_list)\n",
    "            time_all_committed_rfqs[tx_id[i]] = actual_time\n",
    "            time_passed_rfqs.append(actual_time)\n",
    "            rfq_time[tx_id[i]] = actual_time\n",
    "        elif len(temp_list) < 6:\n",
    "            temp_list.append(tx_id[i])\n",
    "            rfq_underfit.append(temp_list)\n",
    "        elif len(temp_list) <= 10:\n",
    "            temp_list = grouped_data.get_group(tx_id[i]).drop_duplicates(subset=['Event'])[\"Time\"].to_list()\n",
    "            actual_time = max(temp_list)\n",
    "            time_all_committed_rfqs[tx_id[i]] = actual_time\n",
    "            time_passed_rfqs.append(actual_time)\n",
    "            temp_list.append(tx_id[i])\n",
    "            temp_list.append(actual_time)\n",
    "            rfq_overfit.append(temp_list)\n",
    "            \n",
    "        else:\n",
    "            temp_list.append(tx_id[i])\n",
    "            other_rfqs.append(temp_list)\n",
    "        \n",
    "        \n",
    "#     if \"CREATE\" == grouped_data.get_group(tx_id[i])[\"Tx_type\"].to_list()[0]:\n",
    "#         temp_list = grouped_data.get_group(tx_id[i])[\"Time\"].to_list()\n",
    "#         actual_time = max(temp_list) \n",
    "#         time_create.append(actual_time)\n",
    "#         time_id_create[tx_id[i]] = actual_time\n",
    "\n",
    "    if \"CREATE\" == grouped_data.get_group(tx_id[i])[\"Tx_type\"].to_list()[0]:\n",
    "        temp_list = grouped_data.get_group(tx_id[i])[\"Time\"].to_list()\n",
    "        if len(temp_list) == 6 and grouped_data.get_group(tx_id[i])[\"Event\"].to_list()[5] == \"commit_tx\":\n",
    "            actual_time = max(temp_list)\n",
    "            time_all_committed_creates[tx_id[i]] = actual_time\n",
    "            time_passed_creates.append(actual_time)\n",
    "            create_time[tx_id[i]] = actual_time\n",
    "        elif len(temp_list) < 6:\n",
    "            temp_list.append(tx_id[i])\n",
    "            creates_underfit.append(temp_list)\n",
    "        elif len(temp_list) <= 10:\n",
    "            temp_list = grouped_data.get_group(tx_id[i]).drop_duplicates(subset=['Event'])[\"Time\"].to_list()\n",
    "            actual_time = max(temp_list)\n",
    "            time_passed_creates.append(actual_time)\n",
    "            temp_list.append(tx_id[i])\n",
    "            temp_list.append(actual_time)\n",
    "            creates_overfit.append(temp_list)\n",
    "            \n",
    "        else:\n",
    "            temp_list.append(tx_id[i])\n",
    "            other_creates.append(temp_list)\n",
    "    \"\"\" \n",
    "        if \"ACCEPT\" == grouped_data.get_group(tx_id[i])[\"Tx_type\"].to_list()[0] or 'None' != grouped_data.get_group(tx_id[i])[\"Accept_id\"].to_list()[0]:\n",
    "        print(i)\n",
    "        temp_list = grouped_data.get_group(tx_id[i])[\"Time\"].to_list()\n",
    "        for j in range(0, len(data)):\n",
    "            if data['Event'][j] = \"RETURN\" and tx_id[i] == data['Accept_id'][j]:\n",
    "                temp_list.append(data['Time'][j])\n",
    "        print(temp_list)\n",
    "        actual_time = max(temp_list)\n",
    "        time_accept.append(actual_time)\n",
    "        \"\"\"\n",
    "    \n",
    "    if \"ACCEPT\" == grouped_data.get_group(tx_id[i])[\"Tx_type\"].to_list()[0]:\n",
    "        temp_list = grouped_data.get_group(tx_id[i])[\"Time\"].to_list()\n",
    "        for j in range(0, len(data)):\n",
    "            if data['Event'][j] == \"commit_tx\" and tx_id[i] == data['Accept_id'][j]:\n",
    "                temp_list.append(data[\"Time\"][j])\n",
    "                return_count += 1\n",
    "        accept_return_count [tx_id[i]] = return_count\n",
    "        last_return = max(temp_list)\n",
    "        time_accept.append(last_return)\n",
    "        time_id_accept[tx_id[i]] = last_return\n",
    "        temp_list = grouped_data.get_group(tx_id[i])[\"Time\"].to_list()\n",
    "        \n",
    "        if len(temp_list) == 6 and grouped_data.get_group(tx_id[i])[\"Event\"].to_list()[5] == \"commit_tx\":\n",
    "            temp_list.append(last_return)\n",
    "            actual_time = max(temp_list)\n",
    "            time_all_committed_accepts[tx_id[i]] = actual_time\n",
    "            time_passed_accepts.append(actual_time)\n",
    "            accept_time[tx_id[i]] = actual_time\n",
    "        elif len(temp_list) < 6:\n",
    "            temp_list.append(last_return)\n",
    "            temp_list.append(tx_id[i])\n",
    "            accept_underfit.append(temp_list)\n",
    "        elif len(temp_list) <= 10:\n",
    "            time_all_committed_accepts[tx_id[i]] = actual_time\n",
    "            temp_list.append(last_return)\n",
    "            actual_time = max(temp_list)\n",
    "            time_passed_accepts.append(actual_time)\n",
    "            temp_list.append(tx_id[i])\n",
    "            temp_list.append(actual_time)\n",
    "            accept_overfit.append(temp_list)\n",
    "            \n",
    "        else:\n",
    "            temp_list.append(last_return)\n",
    "            temp_list.append(tx_id[i])\n",
    "            other_accepts.append(temp_list)\n",
    "\n",
    "    \n",
    "#     if \"ACCEPT\" == grouped_data.get_group(tx_id[i])[\"Tx_type\"].to_list()[0]:\n",
    "#         temp_list = grouped_data.get_group(tx_id[i])[\"Time\"].to_list()\n",
    "#         for j in range(0, len(data)):\n",
    "#             if data['Event'][j] == \"commit_tx\" and tx_id[i] == data['Accept_id'][j]:\n",
    "#                 temp_list.append(data[\"Time\"][j])\n",
    "#                 return_count += 1\n",
    "#         accept_return_count [tx_id[i]] = return_count\n",
    "#         actual_time = max(temp_list)\n",
    "#         time_accept.append(actual_time)\n",
    "#         time_id_accept[tx_id[i]] = actual_time\n",
    "         \n",
    "    if \"RETURN\" == grouped_data.get_group(tx_id[i])[\"Tx_type\"].to_list()[0]:\n",
    "        temp_list = grouped_data.get_group(tx_id[i])[\"Time\"].to_list()\n",
    "        if len(temp_list) >= 4:\n",
    "            time_all_committed_returns[tx_id[i]] = temp_list\n",
    "            actual_time = max(temp_list)\n",
    "            time_passed_returns.append(actual_time)\n",
    "            return_time[tx_id[i]] = actual_time\n",
    "        elif len(temp_list) < 4:\n",
    "            temp_list.append(tx_id[i])\n",
    "            return_underfit.append(temp_list)\n",
    "        elif len(temp_list) > 7:\n",
    "            temp_list = grouped_data.get_group(tx_id[i]).drop_duplicates(subset=['Event'])[\"Time\"].to_list()\n",
    "            actual_time = max(temp_list)\n",
    "            time_passed_returns.append(actual_time)\n",
    "            temp_list.append(tx_id[i])\n",
    "            temp_list.append(actual_time)\n",
    "            return_overfit.append(temp_list)\n",
    "            \n",
    "        else:\n",
    "            temp_list.append(tx_id[i])\n",
    "            other_returns.append(temp_list)\n",
    "    \n",
    "#     if \"RETURN\" == grouped_data.get_group(tx_id[i])[\"Tx_type\"].to_list()[0]:\n",
    "#         temp_list = grouped_data.get_group(tx_id[i])[\"Time\"].to_list()\n",
    "#         actual_time = max(temp_list)\n",
    "#         time_returns.append(actual_time)\n",
    "#         time_id_return[tx_id[i]] = actual_time\n",
    "\n",
    "            \n",
    "    if \"BID\" == grouped_data.get_group(tx_id[i])[\"Tx_type\"].to_list()[0]:\n",
    "        temp_list = grouped_data.get_group(tx_id[i])[\"Time\"].to_list()\n",
    "        if len(temp_list) == 6 and grouped_data.get_group(tx_id[i])[\"Event\"].to_list()[5] == \"commit_tx\":\n",
    "            time_all_committed_bids[tx_id[i]] = temp_list\n",
    "            actual_time = max(temp_list)\n",
    "            time_passed_bids.append(actual_time)\n",
    "            bid_time[tx_id[i]] = actual_time\n",
    "        elif len(temp_list) < 6:\n",
    "            temp_list.append(tx_id[i])\n",
    "            bids_underfit.append(temp_list)\n",
    "        elif len(temp_list) == 7:\n",
    "            temp_list = grouped_data.get_group(tx_id[i]).drop_duplicates(subset=['Event'])[\"Time\"].to_list()\n",
    "            actual_time = max(temp_list)\n",
    "            time_passed_bids.append(actual_time)\n",
    "            temp_list.append(tx_id[i])\n",
    "            temp_list.append(actual_time)\n",
    "            bids_overfit.append(temp_list)\n",
    "            \n",
    "        else:\n",
    "            other_bids.append(temp_list)\n",
    "#     if \"BID\" == grouped_data.get_group(tx_id[i])[\"Tx_type\"].to_list()[0]:\n",
    "#         temp_list = grouped_data.get_group(tx_id[i])[\"Time\"].to_list()\n",
    "#         actual_time = max(temp_list)\n",
    "#         if actual_time != 0:\n",
    "#             time_bids.append(actual_time)\n",
    "#             time_id_bid[tx_id[i]] = actual_time"
   ]
  },
  {
   "cell_type": "code",
   "execution_count": 10,
   "id": "7ec81d62",
   "metadata": {},
   "outputs": [
    {
     "data": {
      "text/plain": [
       "5"
      ]
     },
     "execution_count": 10,
     "metadata": {},
     "output_type": "execute_result"
    }
   ],
   "source": [
    "len(time_id_accept)"
   ]
  },
  {
   "cell_type": "code",
   "execution_count": 11,
   "id": "0c53c3df",
   "metadata": {},
   "outputs": [
    {
     "data": {
      "text/plain": [
       "{'36610ec0ccd514fcb4e5d1b249fdf0ed90ddf059dbad6c73dbe601bad9b17fb5': 12,\n",
       " '464dd71326d80995e46ff6af7e8222509e49ea6ee4e7592348e61cbf24959a59': 15,\n",
       " '839c8f24f89666792d22afb28f4845ec71aed61c46ca856a56ac6f2e6d979f35': 18,\n",
       " 'a9cb288fedbd039c104b59b15d0d7b37a3ddfc0d556aa1d502b39e5ae65ed8a5': 18,\n",
       " 'bdb61c61793c108026b1bc0d4d6dc27b4c85cc6ab6c820687f81fb2c7c85c960': 18}"
      ]
     },
     "execution_count": 11,
     "metadata": {},
     "output_type": "execute_result"
    }
   ],
   "source": [
    "accept_return_count"
   ]
  },
  {
   "cell_type": "code",
   "execution_count": null,
   "id": "1189f6c0",
   "metadata": {},
   "outputs": [],
   "source": []
  },
  {
   "cell_type": "code",
   "execution_count": 12,
   "id": "1a5f8943",
   "metadata": {},
   "outputs": [
    {
     "name": "stdout",
     "output_type": "stream",
     "text": [
      "85.80\n",
      "85.5\n",
      "145\n",
      "67\n",
      "17.52\n",
      "total creates = 114\n"
     ]
    }
   ],
   "source": [
    "# Analysis of CREATE Transaction\n",
    "time_passed_creates.remove(max(time_passed_creates)) \n",
    "create_mean = \"{:.2f}\".format(stat.mean(time_passed_creates))\n",
    "create_median = stat.median(time_passed_creates)\n",
    "create_max = max(time_passed_creates)\n",
    "create_min = min(time_passed_creates)\n",
    "create_std_dev = \"{:.2f}\".format(stat.stdev(time_passed_creates))\n",
    "\n",
    "print(create_mean)\n",
    "print(create_median)\n",
    "print(create_max)\n",
    "print(create_min)\n",
    "print(create_std_dev)\n",
    "print(f\"total creates = {len(time_passed_creates)}\")\n",
    "\n",
    "create_dict = {\n",
    "               'min': create_min,\n",
    "               'max': create_max,\n",
    "               'average': create_mean,\n",
    "               'median' : create_median,\n",
    "               'standard_deviation' : create_std_dev,\n",
    "               '# of txs' : create_count}"
   ]
  },
  {
   "cell_type": "code",
   "execution_count": 13,
   "id": "18083abe",
   "metadata": {},
   "outputs": [
    {
     "name": "stdout",
     "output_type": "stream",
     "text": [
      "225.20\n",
      "221\n",
      "249\n",
      "207\n",
      "225.20\n",
      "total RFQs = 5\n"
     ]
    }
   ],
   "source": [
    "# Analysis of RFQ Transaction\n",
    "if len(time_passed_rfqs) < 2:\n",
    "    time_rfqs.append(time_passed_rfqs[0])\n",
    "rfq_mean = \"{:.2f}\".format(stat.mean(time_passed_rfqs))\n",
    "rfq_median = stat.median(time_passed_rfqs)\n",
    "rfq_max = max(time_passed_rfqs)\n",
    "rfq_min = min(time_passed_rfqs)\n",
    "rfq_std_dev = \"{:.2f}\".format(stat.mean(time_passed_rfqs))\n",
    "\n",
    "print(rfq_mean)\n",
    "print(rfq_median)\n",
    "print(rfq_max)\n",
    "print(rfq_min)\n",
    "print(rfq_std_dev)\n",
    "print(f\"total RFQs = {len(time_passed_rfqs)}\")\n",
    "\n",
    "rfq_dict = {\n",
    "               'min': rfq_min,\n",
    "               'max': rfq_max,\n",
    "               'median' : rfq_median,\n",
    "               'average': rfq_mean,    \n",
    "               'standard_deviation' : rfq_std_dev,\n",
    "               '# of txs' : rfq_count}"
   ]
  },
  {
   "cell_type": "code",
   "execution_count": 14,
   "id": "65d20332",
   "metadata": {},
   "outputs": [
    {
     "name": "stdout",
     "output_type": "stream",
     "text": [
      " bid_mean =  124.75 \n",
      " bid_median = 89 \n",
      " bid_max = 622 \n",
      " bid_std_dev = 105.82 \n",
      " total_bids = 81\n"
     ]
    }
   ],
   "source": [
    "# Analysis of BID Transaction \n",
    "# only passed BIDs \n",
    "bid_mean = \"{:.2f}\".format(stat.mean(time_passed_bids))\n",
    "bid_median = stat.median(time_passed_bids)\n",
    "bid_max = max(time_passed_bids)\n",
    "bid_min = min(time_passed_bids)\n",
    "bid_std_dev = \"{:.2f}\".format(stat.stdev(time_passed_bids))\n",
    "\n",
    "\n",
    "print(f\" bid_mean =  {bid_mean} \\n bid_median = {bid_median} \\n bid_max = {bid_max} \\n\"\n",
    "     f\" bid_std_dev = {bid_std_dev} \\n total_bids = {len(time_passed_bids)}\")\n",
    "\n",
    "bid_dict = {\n",
    "               'min': bid_min,\n",
    "               'max': bid_max,\n",
    "               'average': bid_mean,\n",
    "               'median' : bid_median,\n",
    "               'standard_deviation' : bid_std_dev,\n",
    "               '# of txs' : bid_count\n",
    "              }"
   ]
  },
  {
   "cell_type": "code",
   "execution_count": 15,
   "id": "9339c18a",
   "metadata": {},
   "outputs": [
    {
     "name": "stdout",
     "output_type": "stream",
     "text": [
      "2302.00\n",
      "1846\n",
      "4270\n",
      "890\n",
      "1294.24\n",
      "total ACCEPTs = 5\n"
     ]
    }
   ],
   "source": [
    "# Analysis of ACCEPT Transaction\n",
    "\n",
    "accept_mean =  \"{:.2f}\".format(stat.mean(time_passed_accepts))\n",
    "accept_median = stat.median(time_passed_accepts)\n",
    "accept_max = max(time_passed_accepts)\n",
    "accept_min = min(time_passed_accepts)\n",
    "accept_std_dev = \"{:.2f}\".format(stat.stdev(time_passed_accepts))\n",
    "\n",
    "print(accept_mean)\n",
    "print(accept_median)\n",
    "print(accept_max)\n",
    "print(accept_min)\n",
    "print(accept_std_dev)\n",
    "print(f\"total ACCEPTs = {len(time_passed_accepts)}\")\n",
    "\n",
    "accept_dict = {\n",
    "               'min': accept_min,\n",
    "               'max': accept_max,\n",
    "               'median' : accept_median,\n",
    "               'average': accept_mean,\n",
    "               'standard_deviation' : accept_std_dev,\n",
    "               '# of txs' : accept_count}"
   ]
  },
  {
   "cell_type": "code",
   "execution_count": 16,
   "id": "ccffcb5e",
   "metadata": {},
   "outputs": [
    {
     "name": "stdout",
     "output_type": "stream",
     "text": [
      "2224.25\n",
      "1823\n",
      "4270\n",
      "672\n",
      "1135.25\n",
      "total RETURNs = 81\n"
     ]
    }
   ],
   "source": [
    "# Analysis of RETURN Transaction\n",
    "\n",
    "return_mean = \"{:.2f}\".format(stat.mean(time_passed_returns))\n",
    "return_median = stat.median(time_passed_returns)\n",
    "return_max = max(time_passed_returns)\n",
    "return_min = min(time_passed_returns)\n",
    "return_std_dev =  \"{:.2f}\".format(stat.stdev(time_passed_returns))\n",
    "\n",
    "print(return_mean)\n",
    "print(return_median)\n",
    "print(return_max)\n",
    "print(return_min)\n",
    "print(return_std_dev)\n",
    "print(f\"total RETURNs = {len(time_passed_returns)}\")\n",
    "return_dict = {\n",
    "               'min': return_min,\n",
    "               'max': return_max,\n",
    "               'median' : return_median,\n",
    "               'average': return_mean,\n",
    "               'standard_deviation' : return_std_dev,\n",
    "               '# of txs' : len(time_passed_returns)}"
   ]
  },
  {
   "cell_type": "code",
   "execution_count": 17,
   "id": "b7a2a7ca",
   "metadata": {},
   "outputs": [],
   "source": [
    "list_of_dict = [create_dict, rfq_dict, bid_dict, accept_dict, return_dict]\n",
    "results = pd.DataFrame(list_of_dict, index = ['CREATE','RFQ', 'BID', 'ACCEPT', 'RETURN'])"
   ]
  },
  {
   "cell_type": "code",
   "execution_count": 18,
   "id": "24f1d5fc",
   "metadata": {},
   "outputs": [
    {
     "data": {
      "text/html": [
       "<div>\n",
       "<style scoped>\n",
       "    .dataframe tbody tr th:only-of-type {\n",
       "        vertical-align: middle;\n",
       "    }\n",
       "\n",
       "    .dataframe tbody tr th {\n",
       "        vertical-align: top;\n",
       "    }\n",
       "\n",
       "    .dataframe thead th {\n",
       "        text-align: right;\n",
       "    }\n",
       "</style>\n",
       "<table border=\"1\" class=\"dataframe\">\n",
       "  <thead>\n",
       "    <tr style=\"text-align: right;\">\n",
       "      <th></th>\n",
       "      <th>min</th>\n",
       "      <th>max</th>\n",
       "      <th>average</th>\n",
       "      <th>median</th>\n",
       "      <th>standard_deviation</th>\n",
       "      <th># of txs</th>\n",
       "    </tr>\n",
       "  </thead>\n",
       "  <tbody>\n",
       "    <tr>\n",
       "      <th>CREATE</th>\n",
       "      <td>67</td>\n",
       "      <td>145</td>\n",
       "      <td>85.80</td>\n",
       "      <td>85.5</td>\n",
       "      <td>17.52</td>\n",
       "      <td>115</td>\n",
       "    </tr>\n",
       "    <tr>\n",
       "      <th>RFQ</th>\n",
       "      <td>207</td>\n",
       "      <td>249</td>\n",
       "      <td>225.20</td>\n",
       "      <td>221.0</td>\n",
       "      <td>225.20</td>\n",
       "      <td>5</td>\n",
       "    </tr>\n",
       "    <tr>\n",
       "      <th>BID</th>\n",
       "      <td>82</td>\n",
       "      <td>622</td>\n",
       "      <td>124.75</td>\n",
       "      <td>89.0</td>\n",
       "      <td>105.82</td>\n",
       "      <td>90</td>\n",
       "    </tr>\n",
       "    <tr>\n",
       "      <th>ACCEPT</th>\n",
       "      <td>890</td>\n",
       "      <td>4270</td>\n",
       "      <td>2302.00</td>\n",
       "      <td>1846.0</td>\n",
       "      <td>1294.24</td>\n",
       "      <td>5</td>\n",
       "    </tr>\n",
       "    <tr>\n",
       "      <th>RETURN</th>\n",
       "      <td>672</td>\n",
       "      <td>4270</td>\n",
       "      <td>2224.25</td>\n",
       "      <td>1823.0</td>\n",
       "      <td>1135.25</td>\n",
       "      <td>81</td>\n",
       "    </tr>\n",
       "  </tbody>\n",
       "</table>\n",
       "</div>"
      ],
      "text/plain": [
       "        min   max  average  median standard_deviation  # of txs\n",
       "CREATE   67   145    85.80    85.5              17.52       115\n",
       "RFQ     207   249   225.20   221.0             225.20         5\n",
       "BID      82   622   124.75    89.0             105.82        90\n",
       "ACCEPT  890  4270  2302.00  1846.0            1294.24         5\n",
       "RETURN  672  4270  2224.25  1823.0            1135.25        81"
      ]
     },
     "execution_count": 18,
     "metadata": {},
     "output_type": "execute_result"
    }
   ],
   "source": [
    "results"
   ]
  },
  {
   "cell_type": "code",
   "execution_count": 17,
   "id": "834252d2",
   "metadata": {},
   "outputs": [
    {
     "data": {
      "text/plain": [
       "100.0"
      ]
     },
     "execution_count": 17,
     "metadata": {},
     "output_type": "execute_result"
    }
   ],
   "source": [
    "successfull_rate = len(time_passed_accepts) / accept_count * 100\n",
    "successfull_rate"
   ]
  },
  {
   "cell_type": "code",
   "execution_count": 18,
   "id": "0b6f91e2",
   "metadata": {},
   "outputs": [
    {
     "data": {
      "text/plain": [
       "99.8"
      ]
     },
     "execution_count": 18,
     "metadata": {},
     "output_type": "execute_result"
    }
   ],
   "source": [
    "successfull_rate = len(time_passed_bids) / bid_count * 100\n",
    "successfull_rate"
   ]
  },
  {
   "cell_type": "code",
   "execution_count": 19,
   "id": "6a3eaf23",
   "metadata": {},
   "outputs": [
    {
     "data": {
      "text/plain": [
       "99.79959919839679"
      ]
     },
     "execution_count": 19,
     "metadata": {},
     "output_type": "execute_result"
    }
   ],
   "source": [
    "successfull_rate = len(time_passed_creates) / create_count * 100\n",
    "successfull_rate"
   ]
  },
  {
   "cell_type": "code",
   "execution_count": 22,
   "id": "fcdbecbf",
   "metadata": {},
   "outputs": [
    {
     "data": {
      "text/plain": [
       "100.0"
      ]
     },
     "execution_count": 22,
     "metadata": {},
     "output_type": "execute_result"
    }
   ],
   "source": [
    "successfull_rate = len(time_passed_returns) / return_count_1 * 100\n",
    "successfull_rate"
   ]
  },
  {
   "cell_type": "code",
   "execution_count": 23,
   "id": "4babbe73",
   "metadata": {},
   "outputs": [
    {
     "data": {
      "text/plain": [
       "100.0"
      ]
     },
     "execution_count": 23,
     "metadata": {},
     "output_type": "execute_result"
    }
   ],
   "source": [
    "successfull_rate = len(time_passed_rfqs) / rfq_count * 100\n",
    "successfull_rate"
   ]
  },
  {
   "cell_type": "code",
   "execution_count": 24,
   "id": "520755b7",
   "metadata": {},
   "outputs": [
    {
     "name": "stdout",
     "output_type": "stream",
     "text": [
      "rfq rate: 100.0 %\n",
      "create rate: 99.79959919839679 %\n",
      "bid rate: 99.8 %\n",
      "accept rate: 100.0 %\n",
      "return rate: 100.0 %\n"
     ]
    }
   ],
   "source": [
    "successfull_rate_accept = len(time_passed_accepts) / accept_count * 100\n",
    "successfull_rate_bid = len(time_passed_bids) / bid_count * 100\n",
    "successfull_rate_create = len(time_passed_creates) / create_count * 100\n",
    "successfull_rate_return = len(time_passed_returns) / return_count_1 * 100\n",
    "successfull_rate_rfq = len(time_passed_rfqs) / rfq_count * 100\n",
    "\n",
    "print(f\"rfq rate: {successfull_rate_rfq} %\")\n",
    "print(f\"create rate: {successfull_rate_create} %\")\n",
    "print(f\"bid rate: {successfull_rate_bid} %\")\n",
    "print(f\"accept rate: {successfull_rate_accept} %\")\n",
    "print(f\"return rate: {successfull_rate_return} %\")"
   ]
  },
  {
   "cell_type": "markdown",
   "id": "9b2355e1",
   "metadata": {},
   "source": []
  },
  {
   "cell_type": "markdown",
   "id": "0d0076d8",
   "metadata": {},
   "source": [
    "overall transactions' size: 1,715,238 bytes\n",
    "total time:  758.6\n",
    "bandwidth: 441.8 Bps "
   ]
  }
 ],
 "metadata": {
  "kernelspec": {
   "display_name": "Python 3 (ipykernel)",
   "language": "python",
   "name": "python3"
  },
  "language_info": {
   "codemirror_mode": {
    "name": "ipython",
    "version": 3
   },
   "file_extension": ".py",
   "mimetype": "text/x-python",
   "name": "python",
   "nbconvert_exporter": "python",
   "pygments_lexer": "ipython3",
   "version": "3.7.4"
  },
  "vscode": {
   "interpreter": {
    "hash": "5eb36c30a141ec56c7af996542a21aed521913359d48d30d908d213ac946ed76"
   }
  }
 },
 "nbformat": 4,
 "nbformat_minor": 5
}
