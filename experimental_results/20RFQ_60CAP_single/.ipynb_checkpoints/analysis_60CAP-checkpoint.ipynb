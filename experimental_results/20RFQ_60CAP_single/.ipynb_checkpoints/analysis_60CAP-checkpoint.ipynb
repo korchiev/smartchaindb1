{
 "cells": [
  {
   "cell_type": "code",
   "execution_count": 5,
   "id": "fb0341e7",
   "metadata": {},
   "outputs": [],
   "source": [
    "import pandas as pd\n",
    "import numpy as np\n",
    "import statistics as stat"
   ]
  },
  {
   "cell_type": "code",
   "execution_count": 6,
   "id": "fde38b13",
   "metadata": {},
   "outputs": [],
   "source": [
    "data = pd.read_csv('scdb-20rfq-60cap-metrics.csv', names = ['Event', 'Time', 'Tx_type', 'Tx_id', 'Accept_id', 'time'])"
   ]
  },
  {
   "cell_type": "code",
   "execution_count": 7,
   "id": "df6c9585",
   "metadata": {},
   "outputs": [
    {
     "data": {
      "text/plain": [
       "8744"
      ]
     },
     "execution_count": 7,
     "metadata": {},
     "output_type": "execute_result"
    }
   ],
   "source": [
    "len(data)"
   ]
  },
  {
   "cell_type": "code",
   "execution_count": 8,
   "id": "c15378d4",
   "metadata": {},
   "outputs": [],
   "source": [
    "#grouping every transaction by its ID\n",
    "grouped_data = data.groupby('Tx_id')"
   ]
  },
  {
   "cell_type": "code",
   "execution_count": 9,
   "id": "db446c7f",
   "metadata": {},
   "outputs": [],
   "source": [
    "#return_accept_id_group = data.groupby('Accept_id')"
   ]
  },
  {
   "cell_type": "code",
   "execution_count": 10,
   "id": "6d0fc5fe",
   "metadata": {},
   "outputs": [
    {
     "data": {
      "text/plain": [
       "1538"
      ]
     },
     "execution_count": 10,
     "metadata": {},
     "output_type": "execute_result"
    }
   ],
   "source": [
    "tx_id = list(grouped_data.groups.keys())\n",
    "len(tx_id)"
   ]
  },
  {
   "cell_type": "code",
   "execution_count": 11,
   "id": "c47833f9",
   "metadata": {
    "scrolled": true
   },
   "outputs": [
    {
     "name": "stdout",
     "output_type": "stream",
     "text": [
      "#RFQs 20\n",
      "#BIDs =  499\n",
      "#CREATEs =  500\n",
      "#ACCEPTs =  20\n",
      "#RETURNs =  499\n",
      "#Total =  1538\n"
     ]
    }
   ],
   "source": [
    "#new data frame to get the count of each transaction type\n",
    "data_unique_ids = data.drop_duplicates(subset = ['Tx_id'])\n",
    "rfq_count = 0\n",
    "bid_count = 0\n",
    "create_count = 0\n",
    "accept_count = 0\n",
    "return_count_1 = 0\n",
    "for i in range(0, len(data_unique_ids)):\n",
    "    if data_unique_ids.iloc[i]['Tx_type'] == 'REQUEST_FOR_QUOTE':\n",
    "        rfq_count += 1\n",
    "    if data_unique_ids.iloc[i]['Tx_type'] == 'CREATE':\n",
    "        create_count += 1    \n",
    "    if data_unique_ids.iloc[i]['Tx_type'] == 'BID':\n",
    "        bid_count += 1   \n",
    "    if data_unique_ids.iloc[i]['Tx_type'] == 'ACCEPT':\n",
    "        accept_count += 1 \n",
    "    if data_unique_ids.iloc[i]['Tx_type'] == 'RETURN':\n",
    "        return_count_1 += 1   \n",
    "print(f\"#RFQs {rfq_count}\")\n",
    "print(f\"#BIDs =  {bid_count}\")\n",
    "print(f\"#CREATEs =  {create_count}\")\n",
    "print(f\"#ACCEPTs =  {accept_count}\")\n",
    "print(f\"#RETURNs =  {return_count_1}\")\n",
    "print(f\"#Total =  {return_count_1 + rfq_count + bid_count + create_count + accept_count}\")"
   ]
  },
  {
   "cell_type": "code",
   "execution_count": 12,
   "id": "19e4577a",
   "metadata": {},
   "outputs": [],
   "source": [
    "# Time per each transaction type\n",
    "time_all_committed_bids = {}\n",
    "time_passed_bids = []\n",
    "bid_time = {}\n",
    "bids_overfit = []\n",
    "bids_underfit = []\n",
    "other_bids = []\n",
    "\n",
    "time_all_committed_creates = {}\n",
    "time_passed_creates = []\n",
    "create_time = {}\n",
    "creates_overfit = []\n",
    "creates_underfit = []\n",
    "other_creates = []\n",
    "\n",
    "time_all_committed_rfqs = {}\n",
    "time_passed_rfqs = []\n",
    "rfq_time = {}\n",
    "rfq_overfit = []\n",
    "rfq_underfit = []\n",
    "other_rfqs = []\n",
    "\n",
    "time_all_committed_accepts = {}\n",
    "time_passed_accepts = []\n",
    "accept_time = {}\n",
    "time_failed_accepts = []\n",
    "accept_underfit = []\n",
    "accept_overfit = []\n",
    "other_accepts = []\n",
    "\n",
    "\n",
    "time_all_committed_returns = {}\n",
    "time_passed_returns= []\n",
    "return_time = {}\n",
    "return_overfit = []\n",
    "return_underfit = []\n",
    "other_returns = []\n",
    "\n",
    "\n",
    "time_bids = []\n",
    "time_id_bid = {}\n",
    "\n",
    "\n",
    "time_rfqs = []\n",
    "time_id_rfqs = {}\n",
    "\n",
    "time_accept = []\n",
    "time_id_accept = {}\n",
    "\n",
    "time_create = []\n",
    "time_id_create = {}\n",
    "\n",
    "time_returns = []\n",
    "accept_return_count = {}\n",
    "\n",
    "\n",
    "time_id_return = {}\n",
    "for i in range(0, len(tx_id)):\n",
    "    temp_list = []\n",
    "    return_count = 0\n",
    "#     if \"REQUEST_FOR_QUOTE\" == grouped_data.get_group(tx_id[i])[\"Tx_type\"].to_list()[0]:\n",
    "#         temp_list = grouped_data.get_group(tx_id[i])[\"Time\"].to_list()\n",
    "#         actual_time = max(temp_list)\n",
    "#         time_rfqs.append(actual_time)\n",
    "#         time_id_rfqs[tx_id[i]] = actual_time\n",
    "\n",
    "    if \"REQUEST_FOR_QUOTE\" == grouped_data.get_group(tx_id[i])[\"Tx_type\"].to_list()[0]:\n",
    "        temp_list = grouped_data.get_group(tx_id[i])[\"Time\"].to_list()\n",
    "        if len(temp_list) == 6 and grouped_data.get_group(tx_id[i])[\"Event\"].to_list()[5] == \"commit_tx\":\n",
    "            actual_time = max(temp_list)\n",
    "            time_all_committed_rfqs[tx_id[i]] = actual_time\n",
    "            time_passed_rfqs.append(actual_time)\n",
    "            rfq_time[tx_id[i]] = actual_time\n",
    "        elif len(temp_list) < 6:\n",
    "            temp_list.append(tx_id[i])\n",
    "            rfq_underfit.append(temp_list)\n",
    "        elif len(temp_list) <= 10:\n",
    "            temp_list = grouped_data.get_group(tx_id[i]).drop_duplicates(subset=['Event'])[\"Time\"].to_list()\n",
    "            actual_time = max(temp_list)\n",
    "            time_all_committed_rfqs[tx_id[i]] = actual_time\n",
    "            time_passed_rfqs.append(actual_time)\n",
    "            temp_list.append(tx_id[i])\n",
    "            temp_list.append(actual_time)\n",
    "            rfq_overfit.append(temp_list)\n",
    "            \n",
    "        else:\n",
    "            temp_list.append(tx_id[i])\n",
    "            other_rfqs.append(temp_list)\n",
    "        \n",
    "        \n",
    "#     if \"CREATE\" == grouped_data.get_group(tx_id[i])[\"Tx_type\"].to_list()[0]:\n",
    "#         temp_list = grouped_data.get_group(tx_id[i])[\"Time\"].to_list()\n",
    "#         actual_time = max(temp_list) \n",
    "#         time_create.append(actual_time)\n",
    "#         time_id_create[tx_id[i]] = actual_time\n",
    "\n",
    "    if \"CREATE\" == grouped_data.get_group(tx_id[i])[\"Tx_type\"].to_list()[0]:\n",
    "        temp_list = grouped_data.get_group(tx_id[i])[\"Time\"].to_list()\n",
    "        if len(temp_list) == 6 and grouped_data.get_group(tx_id[i])[\"Event\"].to_list()[5] == \"commit_tx\":\n",
    "            actual_time = max(temp_list)\n",
    "            time_all_committed_creates[tx_id[i]] = actual_time\n",
    "            time_passed_creates.append(actual_time)\n",
    "            create_time[tx_id[i]] = actual_time\n",
    "        elif len(temp_list) < 6:\n",
    "            temp_list.append(tx_id[i])\n",
    "            creates_underfit.append(temp_list)\n",
    "        elif len(temp_list) <= 10:\n",
    "            temp_list = grouped_data.get_group(tx_id[i]).drop_duplicates(subset=['Event'])[\"Time\"].to_list()\n",
    "            actual_time = max(temp_list)\n",
    "            time_passed_creates.append(actual_time)\n",
    "            temp_list.append(tx_id[i])\n",
    "            temp_list.append(actual_time)\n",
    "            creates_overfit.append(temp_list)\n",
    "            \n",
    "        else:\n",
    "            temp_list.append(tx_id[i])\n",
    "            other_creates.append(temp_list)\n",
    "    \"\"\" \n",
    "        if \"ACCEPT\" == grouped_data.get_group(tx_id[i])[\"Tx_type\"].to_list()[0] or 'None' != grouped_data.get_group(tx_id[i])[\"Accept_id\"].to_list()[0]:\n",
    "        print(i)\n",
    "        temp_list = grouped_data.get_group(tx_id[i])[\"Time\"].to_list()\n",
    "        for j in range(0, len(data)):\n",
    "            if data['Event'][j] = \"RETURN\" and tx_id[i] == data['Accept_id'][j]:\n",
    "                temp_list.append(data['Time'][j])\n",
    "        print(temp_list)\n",
    "        actual_time = max(temp_list)\n",
    "        time_accept.append(actual_time)\n",
    "        \"\"\"\n",
    "    \n",
    "    if \"ACCEPT\" == grouped_data.get_group(tx_id[i])[\"Tx_type\"].to_list()[0]:\n",
    "        temp_list = grouped_data.get_group(tx_id[i])[\"Time\"].to_list()\n",
    "        for j in range(0, len(data)):\n",
    "            if data['Event'][j] == \"commit_tx\" and tx_id[i] == data['Accept_id'][j]:\n",
    "                temp_list.append(data[\"Time\"][j])\n",
    "                return_count += 1\n",
    "        accept_return_count [tx_id[i]] = return_count\n",
    "        last_return = max(temp_list)\n",
    "        time_accept.append(last_return)\n",
    "        time_id_accept[tx_id[i]] = last_return\n",
    "        temp_list = grouped_data.get_group(tx_id[i])[\"Time\"].to_list()\n",
    "        \n",
    "        if len(temp_list) == 6 and grouped_data.get_group(tx_id[i])[\"Event\"].to_list()[5] == \"commit_tx\":\n",
    "            temp_list.append(last_return)\n",
    "            actual_time = max(temp_list)\n",
    "            time_all_committed_accepts[tx_id[i]] = actual_time\n",
    "            time_passed_accepts.append(actual_time)\n",
    "            accept_time[tx_id[i]] = actual_time\n",
    "        elif len(temp_list) < 6:\n",
    "            temp_list.append(last_return)\n",
    "            temp_list.append(tx_id[i])\n",
    "            accept_underfit.append(temp_list)\n",
    "        elif len(temp_list) <= 10:\n",
    "            time_all_committed_accepts[tx_id[i]] = actual_time\n",
    "            temp_list.append(last_return)\n",
    "            actual_time = max(temp_list)\n",
    "            time_passed_accepts.append(actual_time)\n",
    "            temp_list.append(tx_id[i])\n",
    "            temp_list.append(actual_time)\n",
    "            accept_overfit.append(temp_list)\n",
    "            \n",
    "        else:\n",
    "            temp_list.append(last_return)\n",
    "            temp_list.append(tx_id[i])\n",
    "            other_accepts.append(temp_list)\n",
    "\n",
    "    \n",
    "#     if \"ACCEPT\" == grouped_data.get_group(tx_id[i])[\"Tx_type\"].to_list()[0]:\n",
    "#         temp_list = grouped_data.get_group(tx_id[i])[\"Time\"].to_list()\n",
    "#         for j in range(0, len(data)):\n",
    "#             if data['Event'][j] == \"commit_tx\" and tx_id[i] == data['Accept_id'][j]:\n",
    "#                 temp_list.append(data[\"Time\"][j])\n",
    "#                 return_count += 1\n",
    "#         accept_return_count [tx_id[i]] = return_count\n",
    "#         actual_time = max(temp_list)\n",
    "#         time_accept.append(actual_time)\n",
    "#         time_id_accept[tx_id[i]] = actual_time\n",
    "         \n",
    "    if \"RETURN\" == grouped_data.get_group(tx_id[i])[\"Tx_type\"].to_list()[0]:\n",
    "        temp_list = grouped_data.get_group(tx_id[i])[\"Time\"].to_list()\n",
    "        if len(temp_list) >= 4:\n",
    "            time_all_committed_returns[tx_id[i]] = temp_list\n",
    "            actual_time = max(temp_list)\n",
    "            time_passed_returns.append(actual_time)\n",
    "            return_time[tx_id[i]] = actual_time\n",
    "        elif len(temp_list) < 4:\n",
    "            temp_list.append(tx_id[i])\n",
    "            return_underfit.append(temp_list)\n",
    "        elif len(temp_list) > 7:\n",
    "            temp_list = grouped_data.get_group(tx_id[i]).drop_duplicates(subset=['Event'])[\"Time\"].to_list()\n",
    "            actual_time = max(temp_list)\n",
    "            time_passed_returns.append(actual_time)\n",
    "            temp_list.append(tx_id[i])\n",
    "            temp_list.append(actual_time)\n",
    "            return_overfit.append(temp_list)\n",
    "            \n",
    "        else:\n",
    "            temp_list.append(tx_id[i])\n",
    "            other_returns.append(temp_list)\n",
    "    \n",
    "#     if \"RETURN\" == grouped_data.get_group(tx_id[i])[\"Tx_type\"].to_list()[0]:\n",
    "#         temp_list = grouped_data.get_group(tx_id[i])[\"Time\"].to_list()\n",
    "#         actual_time = max(temp_list)\n",
    "#         time_returns.append(actual_time)\n",
    "#         time_id_return[tx_id[i]] = actual_time\n",
    "\n",
    "            \n",
    "    if \"BID\" == grouped_data.get_group(tx_id[i])[\"Tx_type\"].to_list()[0]:\n",
    "        temp_list = grouped_data.get_group(tx_id[i])[\"Time\"].to_list()\n",
    "        if len(temp_list) == 6 and grouped_data.get_group(tx_id[i])[\"Event\"].to_list()[5] == \"commit_tx\":\n",
    "            time_all_committed_bids[tx_id[i]] = temp_list\n",
    "            actual_time = max(temp_list)\n",
    "            time_passed_bids.append(actual_time)\n",
    "            bid_time[tx_id[i]] = actual_time\n",
    "        elif len(temp_list) < 6:\n",
    "            temp_list.append(tx_id[i])\n",
    "            bids_underfit.append(temp_list)\n",
    "        elif len(temp_list) == 7:\n",
    "            temp_list = grouped_data.get_group(tx_id[i]).drop_duplicates(subset=['Event'])[\"Time\"].to_list()\n",
    "            actual_time = max(temp_list)\n",
    "            time_passed_bids.append(actual_time)\n",
    "            temp_list.append(tx_id[i])\n",
    "            temp_list.append(actual_time)\n",
    "            bids_overfit.append(temp_list)\n",
    "            \n",
    "        else:\n",
    "            other_bids.append(temp_list)\n",
    "#     if \"BID\" == grouped_data.get_group(tx_id[i])[\"Tx_type\"].to_list()[0]:\n",
    "#         temp_list = grouped_data.get_group(tx_id[i])[\"Time\"].to_list()\n",
    "#         actual_time = max(temp_list)\n",
    "#         if actual_time != 0:\n",
    "#             time_bids.append(actual_time)\n",
    "#             time_id_bid[tx_id[i]] = actual_time"
   ]
  },
  {
   "cell_type": "code",
   "execution_count": 13,
   "id": "bf04daa1",
   "metadata": {},
   "outputs": [],
   "source": [
    "time_all_committed_rfqs = {}\n",
    "time_passed_rfqs = []\n",
    "rfq_time = {}\n",
    "rfq_overfit = []\n",
    "rfq_underfit = []\n",
    "not_validated_rfqs = []\n",
    "passed_validation = {}\n",
    "for i in range(0, len(tx_id)):\n",
    "    temp_list = []\n",
    "    if \"REQUEST_FOR_QUOTE\" == grouped_data.get_group(tx_id[i])[\"Tx_type\"].to_list()[0]:\n",
    "        temp_list = grouped_data.get_group(tx_id[i])[\"Time\"].to_list()\n",
    "        if len(temp_list) == 6 and grouped_data.get_group(tx_id[i])[\"Event\"].to_list()[5] == \"commit_tx\":\n",
    "            actual_time = max(temp_list)\n",
    "            time_all_committed_rfqs[tx_id[i]] = actual_time\n",
    "            time_passed_rfqs.append(actual_time)\n",
    "            rfq_time[tx_id[i]] = actual_time\n",
    "            if grouped_data.get_group(tx_id[i])[\"Event\"].to_list()[1] == \"before_tendermint\":\n",
    "                val = temp_list[1] - temp_list[0]\n",
    "                passed_validation[tx_id[i]] = val\n",
    "        elif  1 < len(temp_list) < 3:\n",
    "            val = temp_list[1] - temp_list[0]\n",
    "            passed_validation[tx_id[i]] = val\n",
    "            temp_list.append(tx_id[i])\n",
    "            rfq_underfit.append(temp_list)\n",
    "        elif  6 < len(temp_list) <= 10:\n",
    "            val = temp_list[1] - temp_list[0]\n",
    "            passed_validation[tx_id[i]] = val\n",
    "            temp_list = grouped_data.get_group(tx_id[i]).drop_duplicates(subset=['Event'])[\"Time\"].to_list()\n",
    "            actual_time = max(temp_list)\n",
    "            time_all_committed_rfqs[tx_id[i]] = actual_time\n",
    "            time_passed_rfqs.append(actual_time)\n",
    "            temp_list.append(tx_id[i])\n",
    "            temp_list.append(actual_time)\n",
    "            rfq_overfit.append(temp_list)\n",
    "            \n",
    "            \n",
    "        else:\n",
    "            temp_list.append(tx_id[i])\n",
    "            not_validated_rfqs.append(temp_list)"
   ]
  },
  {
   "cell_type": "code",
   "execution_count": 14,
   "id": "0ee89b8e",
   "metadata": {},
   "outputs": [
    {
     "data": {
      "text/plain": [
       "20"
      ]
     },
     "execution_count": 14,
     "metadata": {},
     "output_type": "execute_result"
    }
   ],
   "source": [
    "len(time_id_accept)"
   ]
  },
  {
   "cell_type": "code",
   "execution_count": 15,
   "id": "b1a8f196",
   "metadata": {},
   "outputs": [
    {
     "data": {
      "text/plain": [
       "{'0e88472d40ef0e6791a513a7edbaf237842fc9e020527943707f0f7ddafdad60': 25,\n",
       " '1095336c23beeb021f2d90d788f06460451a71569b5e868229150840bedc09af': 25,\n",
       " '11484006dd8c1f412fb93ffb01615d4a2a84449c4e61c6bbd53cdead76dbb5fb': 25,\n",
       " '13850068848c26abde3e2d0e8300cc71ca5cb38a961a492f8c22f95b1685364a': 25,\n",
       " '1baf6f6f351eb177a6bf39906e5ebc952979673bf69219656387a0481d40b8da': 24,\n",
       " '1c83be4be6b13b18420414f06ccddc0bf3c074c0a59babb7003ea04a2548b6eb': 25,\n",
       " '1eed9aab1377265a9de011403776d66f9069e1b61b542d4e0059737afbdf259a': 25,\n",
       " '457891b6acc30b8d7b9d08cdb44ece823d99b15e083c2832148720da1b7ecf80': 25,\n",
       " '4d4117dcee6db5b8de44379aab1436d320444a0481e76c4e693ee1a9d87f7008': 25,\n",
       " '4e1f25fc9c8370bb3245900fee0a21752e18c3d32548dd05edaff0c9d46f76c2': 25,\n",
       " '635d95ba25d0d1d325965eb440f56bbe9cc701765cc5efff56f9a5805389e82f': 25,\n",
       " '7082d64e3506b723741a2210b0d49865499d60e350d27c09038eeca2ca6bfbb1': 25,\n",
       " '9eef71916dd8f491028c68c9ef202e3bea52cc59f202ba42ec20fe4ee3903667': 25,\n",
       " 'b12cdf6cdb1173a5cd831f7a37dd9aa88cdce7059174d4ddd908b3b83d6a0f2c': 25,\n",
       " 'b16c2d892b3dc64a9eb6521d1a15ae5f238c7dced6e0100da5b2077ece2c349a': 25,\n",
       " 'b17667912c05d4bd089a7b11fc3d9173d37d1f39b0dea1e31e585c830affe6f0': 25,\n",
       " 'd2b76c095b47ff26885826032c143555eb041b91c06998c38741b287502b592b': 25,\n",
       " 'dabebc2c35c731cc52449cf6b6f6e2ba341f29f79db686b5baeb8adc61680ded': 25,\n",
       " 'dc567c7b50e046e281855a3538f48f847fdc296b337be8470a40bdec00000b44': 25,\n",
       " 'eda68074085e8d68383bb1955994660ebbb75f01451575886923f7c6daf35852': 25}"
      ]
     },
     "execution_count": 15,
     "metadata": {},
     "output_type": "execute_result"
    }
   ],
   "source": [
    "accept_return_count"
   ]
  },
  {
   "cell_type": "code",
   "execution_count": 16,
   "id": "1273d619",
   "metadata": {},
   "outputs": [
    {
     "ename": "FileNotFoundError",
     "evalue": "[Errno 2] No such file or directory: 'create_data.csv'",
     "output_type": "error",
     "traceback": [
      "\u001b[1;31m---------------------------------------------------------------------------\u001b[0m",
      "\u001b[1;31mFileNotFoundError\u001b[0m                         Traceback (most recent call last)",
      "\u001b[1;32m<ipython-input-16-1c63616526d1>\u001b[0m in \u001b[0;36m<module>\u001b[1;34m\u001b[0m\n\u001b[1;32m----> 1\u001b[1;33m \u001b[0mdf_passed_creates\u001b[0m \u001b[1;33m=\u001b[0m \u001b[0mpd\u001b[0m\u001b[1;33m.\u001b[0m\u001b[0mread_csv\u001b[0m\u001b[1;33m(\u001b[0m\u001b[1;34m'create_data.csv'\u001b[0m\u001b[1;33m)\u001b[0m\u001b[1;33m\u001b[0m\u001b[1;33m\u001b[0m\u001b[0m\n\u001b[0m\u001b[0;32m      2\u001b[0m \u001b[0mdf_passed_bids\u001b[0m \u001b[1;33m=\u001b[0m \u001b[0mpd\u001b[0m\u001b[1;33m.\u001b[0m\u001b[0mread_csv\u001b[0m\u001b[1;33m(\u001b[0m\u001b[1;34m'bid_data.csv'\u001b[0m\u001b[1;33m)\u001b[0m\u001b[1;33m\u001b[0m\u001b[1;33m\u001b[0m\u001b[0m\n\u001b[0;32m      3\u001b[0m \u001b[0mdf_passed_accepts\u001b[0m \u001b[1;33m=\u001b[0m \u001b[0mpd\u001b[0m\u001b[1;33m.\u001b[0m\u001b[0mread_csv\u001b[0m\u001b[1;33m(\u001b[0m\u001b[1;34m'accept_data.csv'\u001b[0m\u001b[1;33m)\u001b[0m\u001b[1;33m\u001b[0m\u001b[1;33m\u001b[0m\u001b[0m\n\u001b[0;32m      4\u001b[0m \u001b[0mdf_passed_returns\u001b[0m \u001b[1;33m=\u001b[0m \u001b[0mpd\u001b[0m\u001b[1;33m.\u001b[0m\u001b[0mread_csv\u001b[0m\u001b[1;33m(\u001b[0m\u001b[1;34m'return_data.csv'\u001b[0m\u001b[1;33m)\u001b[0m\u001b[1;33m\u001b[0m\u001b[1;33m\u001b[0m\u001b[0m\n\u001b[0;32m      5\u001b[0m \u001b[0mdf_passed_rfqs\u001b[0m \u001b[1;33m=\u001b[0m \u001b[0mpd\u001b[0m\u001b[1;33m.\u001b[0m\u001b[0mread_csv\u001b[0m\u001b[1;33m(\u001b[0m\u001b[1;34m'rfq_data1.csv'\u001b[0m\u001b[1;33m)\u001b[0m\u001b[1;33m\u001b[0m\u001b[1;33m\u001b[0m\u001b[0m\n",
      "\u001b[1;32m~\\Anaconda3\\lib\\site-packages\\pandas\\io\\parsers.py\u001b[0m in \u001b[0;36mread_csv\u001b[1;34m(filepath_or_buffer, sep, delimiter, header, names, index_col, usecols, squeeze, prefix, mangle_dupe_cols, dtype, engine, converters, true_values, false_values, skipinitialspace, skiprows, skipfooter, nrows, na_values, keep_default_na, na_filter, verbose, skip_blank_lines, parse_dates, infer_datetime_format, keep_date_col, date_parser, dayfirst, cache_dates, iterator, chunksize, compression, thousands, decimal, lineterminator, quotechar, quoting, doublequote, escapechar, comment, encoding, dialect, error_bad_lines, warn_bad_lines, delim_whitespace, low_memory, memory_map, float_precision, storage_options)\u001b[0m\n\u001b[0;32m    608\u001b[0m     \u001b[0mkwds\u001b[0m\u001b[1;33m.\u001b[0m\u001b[0mupdate\u001b[0m\u001b[1;33m(\u001b[0m\u001b[0mkwds_defaults\u001b[0m\u001b[1;33m)\u001b[0m\u001b[1;33m\u001b[0m\u001b[1;33m\u001b[0m\u001b[0m\n\u001b[0;32m    609\u001b[0m \u001b[1;33m\u001b[0m\u001b[0m\n\u001b[1;32m--> 610\u001b[1;33m     \u001b[1;32mreturn\u001b[0m \u001b[0m_read\u001b[0m\u001b[1;33m(\u001b[0m\u001b[0mfilepath_or_buffer\u001b[0m\u001b[1;33m,\u001b[0m \u001b[0mkwds\u001b[0m\u001b[1;33m)\u001b[0m\u001b[1;33m\u001b[0m\u001b[1;33m\u001b[0m\u001b[0m\n\u001b[0m\u001b[0;32m    611\u001b[0m \u001b[1;33m\u001b[0m\u001b[0m\n\u001b[0;32m    612\u001b[0m \u001b[1;33m\u001b[0m\u001b[0m\n",
      "\u001b[1;32m~\\Anaconda3\\lib\\site-packages\\pandas\\io\\parsers.py\u001b[0m in \u001b[0;36m_read\u001b[1;34m(filepath_or_buffer, kwds)\u001b[0m\n\u001b[0;32m    460\u001b[0m \u001b[1;33m\u001b[0m\u001b[0m\n\u001b[0;32m    461\u001b[0m     \u001b[1;31m# Create the parser.\u001b[0m\u001b[1;33m\u001b[0m\u001b[1;33m\u001b[0m\u001b[1;33m\u001b[0m\u001b[0m\n\u001b[1;32m--> 462\u001b[1;33m     \u001b[0mparser\u001b[0m \u001b[1;33m=\u001b[0m \u001b[0mTextFileReader\u001b[0m\u001b[1;33m(\u001b[0m\u001b[0mfilepath_or_buffer\u001b[0m\u001b[1;33m,\u001b[0m \u001b[1;33m**\u001b[0m\u001b[0mkwds\u001b[0m\u001b[1;33m)\u001b[0m\u001b[1;33m\u001b[0m\u001b[1;33m\u001b[0m\u001b[0m\n\u001b[0m\u001b[0;32m    463\u001b[0m \u001b[1;33m\u001b[0m\u001b[0m\n\u001b[0;32m    464\u001b[0m     \u001b[1;32mif\u001b[0m \u001b[0mchunksize\u001b[0m \u001b[1;32mor\u001b[0m \u001b[0miterator\u001b[0m\u001b[1;33m:\u001b[0m\u001b[1;33m\u001b[0m\u001b[1;33m\u001b[0m\u001b[0m\n",
      "\u001b[1;32m~\\Anaconda3\\lib\\site-packages\\pandas\\io\\parsers.py\u001b[0m in \u001b[0;36m__init__\u001b[1;34m(self, f, engine, **kwds)\u001b[0m\n\u001b[0;32m    817\u001b[0m             \u001b[0mself\u001b[0m\u001b[1;33m.\u001b[0m\u001b[0moptions\u001b[0m\u001b[1;33m[\u001b[0m\u001b[1;34m\"has_index_names\"\u001b[0m\u001b[1;33m]\u001b[0m \u001b[1;33m=\u001b[0m \u001b[0mkwds\u001b[0m\u001b[1;33m[\u001b[0m\u001b[1;34m\"has_index_names\"\u001b[0m\u001b[1;33m]\u001b[0m\u001b[1;33m\u001b[0m\u001b[1;33m\u001b[0m\u001b[0m\n\u001b[0;32m    818\u001b[0m \u001b[1;33m\u001b[0m\u001b[0m\n\u001b[1;32m--> 819\u001b[1;33m         \u001b[0mself\u001b[0m\u001b[1;33m.\u001b[0m\u001b[0m_engine\u001b[0m \u001b[1;33m=\u001b[0m \u001b[0mself\u001b[0m\u001b[1;33m.\u001b[0m\u001b[0m_make_engine\u001b[0m\u001b[1;33m(\u001b[0m\u001b[0mself\u001b[0m\u001b[1;33m.\u001b[0m\u001b[0mengine\u001b[0m\u001b[1;33m)\u001b[0m\u001b[1;33m\u001b[0m\u001b[1;33m\u001b[0m\u001b[0m\n\u001b[0m\u001b[0;32m    820\u001b[0m \u001b[1;33m\u001b[0m\u001b[0m\n\u001b[0;32m    821\u001b[0m     \u001b[1;32mdef\u001b[0m \u001b[0mclose\u001b[0m\u001b[1;33m(\u001b[0m\u001b[0mself\u001b[0m\u001b[1;33m)\u001b[0m\u001b[1;33m:\u001b[0m\u001b[1;33m\u001b[0m\u001b[1;33m\u001b[0m\u001b[0m\n",
      "\u001b[1;32m~\\Anaconda3\\lib\\site-packages\\pandas\\io\\parsers.py\u001b[0m in \u001b[0;36m_make_engine\u001b[1;34m(self, engine)\u001b[0m\n\u001b[0;32m   1048\u001b[0m             )\n\u001b[0;32m   1049\u001b[0m         \u001b[1;31m# error: Too many arguments for \"ParserBase\"\u001b[0m\u001b[1;33m\u001b[0m\u001b[1;33m\u001b[0m\u001b[1;33m\u001b[0m\u001b[0m\n\u001b[1;32m-> 1050\u001b[1;33m         \u001b[1;32mreturn\u001b[0m \u001b[0mmapping\u001b[0m\u001b[1;33m[\u001b[0m\u001b[0mengine\u001b[0m\u001b[1;33m]\u001b[0m\u001b[1;33m(\u001b[0m\u001b[0mself\u001b[0m\u001b[1;33m.\u001b[0m\u001b[0mf\u001b[0m\u001b[1;33m,\u001b[0m \u001b[1;33m**\u001b[0m\u001b[0mself\u001b[0m\u001b[1;33m.\u001b[0m\u001b[0moptions\u001b[0m\u001b[1;33m)\u001b[0m  \u001b[1;31m# type: ignore[call-arg]\u001b[0m\u001b[1;33m\u001b[0m\u001b[1;33m\u001b[0m\u001b[0m\n\u001b[0m\u001b[0;32m   1051\u001b[0m \u001b[1;33m\u001b[0m\u001b[0m\n\u001b[0;32m   1052\u001b[0m     \u001b[1;32mdef\u001b[0m \u001b[0m_failover_to_python\u001b[0m\u001b[1;33m(\u001b[0m\u001b[0mself\u001b[0m\u001b[1;33m)\u001b[0m\u001b[1;33m:\u001b[0m\u001b[1;33m\u001b[0m\u001b[1;33m\u001b[0m\u001b[0m\n",
      "\u001b[1;32m~\\Anaconda3\\lib\\site-packages\\pandas\\io\\parsers.py\u001b[0m in \u001b[0;36m__init__\u001b[1;34m(self, src, **kwds)\u001b[0m\n\u001b[0;32m   1865\u001b[0m \u001b[1;33m\u001b[0m\u001b[0m\n\u001b[0;32m   1866\u001b[0m         \u001b[1;31m# open handles\u001b[0m\u001b[1;33m\u001b[0m\u001b[1;33m\u001b[0m\u001b[1;33m\u001b[0m\u001b[0m\n\u001b[1;32m-> 1867\u001b[1;33m         \u001b[0mself\u001b[0m\u001b[1;33m.\u001b[0m\u001b[0m_open_handles\u001b[0m\u001b[1;33m(\u001b[0m\u001b[0msrc\u001b[0m\u001b[1;33m,\u001b[0m \u001b[0mkwds\u001b[0m\u001b[1;33m)\u001b[0m\u001b[1;33m\u001b[0m\u001b[1;33m\u001b[0m\u001b[0m\n\u001b[0m\u001b[0;32m   1868\u001b[0m         \u001b[1;32massert\u001b[0m \u001b[0mself\u001b[0m\u001b[1;33m.\u001b[0m\u001b[0mhandles\u001b[0m \u001b[1;32mis\u001b[0m \u001b[1;32mnot\u001b[0m \u001b[1;32mNone\u001b[0m\u001b[1;33m\u001b[0m\u001b[1;33m\u001b[0m\u001b[0m\n\u001b[0;32m   1869\u001b[0m         \u001b[1;32mfor\u001b[0m \u001b[0mkey\u001b[0m \u001b[1;32min\u001b[0m \u001b[1;33m(\u001b[0m\u001b[1;34m\"storage_options\"\u001b[0m\u001b[1;33m,\u001b[0m \u001b[1;34m\"encoding\"\u001b[0m\u001b[1;33m,\u001b[0m \u001b[1;34m\"memory_map\"\u001b[0m\u001b[1;33m,\u001b[0m \u001b[1;34m\"compression\"\u001b[0m\u001b[1;33m)\u001b[0m\u001b[1;33m:\u001b[0m\u001b[1;33m\u001b[0m\u001b[1;33m\u001b[0m\u001b[0m\n",
      "\u001b[1;32m~\\Anaconda3\\lib\\site-packages\\pandas\\io\\parsers.py\u001b[0m in \u001b[0;36m_open_handles\u001b[1;34m(self, src, kwds)\u001b[0m\n\u001b[0;32m   1366\u001b[0m             \u001b[0mcompression\u001b[0m\u001b[1;33m=\u001b[0m\u001b[0mkwds\u001b[0m\u001b[1;33m.\u001b[0m\u001b[0mget\u001b[0m\u001b[1;33m(\u001b[0m\u001b[1;34m\"compression\"\u001b[0m\u001b[1;33m,\u001b[0m \u001b[1;32mNone\u001b[0m\u001b[1;33m)\u001b[0m\u001b[1;33m,\u001b[0m\u001b[1;33m\u001b[0m\u001b[1;33m\u001b[0m\u001b[0m\n\u001b[0;32m   1367\u001b[0m             \u001b[0mmemory_map\u001b[0m\u001b[1;33m=\u001b[0m\u001b[0mkwds\u001b[0m\u001b[1;33m.\u001b[0m\u001b[0mget\u001b[0m\u001b[1;33m(\u001b[0m\u001b[1;34m\"memory_map\"\u001b[0m\u001b[1;33m,\u001b[0m \u001b[1;32mFalse\u001b[0m\u001b[1;33m)\u001b[0m\u001b[1;33m,\u001b[0m\u001b[1;33m\u001b[0m\u001b[1;33m\u001b[0m\u001b[0m\n\u001b[1;32m-> 1368\u001b[1;33m             \u001b[0mstorage_options\u001b[0m\u001b[1;33m=\u001b[0m\u001b[0mkwds\u001b[0m\u001b[1;33m.\u001b[0m\u001b[0mget\u001b[0m\u001b[1;33m(\u001b[0m\u001b[1;34m\"storage_options\"\u001b[0m\u001b[1;33m,\u001b[0m \u001b[1;32mNone\u001b[0m\u001b[1;33m)\u001b[0m\u001b[1;33m,\u001b[0m\u001b[1;33m\u001b[0m\u001b[1;33m\u001b[0m\u001b[0m\n\u001b[0m\u001b[0;32m   1369\u001b[0m         )\n\u001b[0;32m   1370\u001b[0m \u001b[1;33m\u001b[0m\u001b[0m\n",
      "\u001b[1;32m~\\Anaconda3\\lib\\site-packages\\pandas\\io\\common.py\u001b[0m in \u001b[0;36mget_handle\u001b[1;34m(path_or_buf, mode, encoding, compression, memory_map, is_text, errors, storage_options)\u001b[0m\n\u001b[0;32m    645\u001b[0m                 \u001b[0mencoding\u001b[0m\u001b[1;33m=\u001b[0m\u001b[0mioargs\u001b[0m\u001b[1;33m.\u001b[0m\u001b[0mencoding\u001b[0m\u001b[1;33m,\u001b[0m\u001b[1;33m\u001b[0m\u001b[1;33m\u001b[0m\u001b[0m\n\u001b[0;32m    646\u001b[0m                 \u001b[0merrors\u001b[0m\u001b[1;33m=\u001b[0m\u001b[0merrors\u001b[0m\u001b[1;33m,\u001b[0m\u001b[1;33m\u001b[0m\u001b[1;33m\u001b[0m\u001b[0m\n\u001b[1;32m--> 647\u001b[1;33m                 \u001b[0mnewline\u001b[0m\u001b[1;33m=\u001b[0m\u001b[1;34m\"\"\u001b[0m\u001b[1;33m,\u001b[0m\u001b[1;33m\u001b[0m\u001b[1;33m\u001b[0m\u001b[0m\n\u001b[0m\u001b[0;32m    648\u001b[0m             )\n\u001b[0;32m    649\u001b[0m         \u001b[1;32melse\u001b[0m\u001b[1;33m:\u001b[0m\u001b[1;33m\u001b[0m\u001b[1;33m\u001b[0m\u001b[0m\n",
      "\u001b[1;31mFileNotFoundError\u001b[0m: [Errno 2] No such file or directory: 'create_data.csv'"
     ]
    }
   ],
   "source": [
    "df_passed_creates = pd.read_csv('create_data.csv')\n",
    "df_passed_bids = pd.read_csv('bid_data.csv')\n",
    "df_passed_accepts = pd.read_csv('accept_data.csv')\n",
    "df_passed_returns = pd.read_csv('return_data.csv')\n",
    "df_passed_rfqs = pd.read_csv('rfq_data1.csv')"
   ]
  },
  {
   "cell_type": "code",
   "execution_count": 17,
   "id": "87e68d90",
   "metadata": {},
   "outputs": [
    {
     "ename": "NameError",
     "evalue": "name 'df_passed_creates' is not defined",
     "output_type": "error",
     "traceback": [
      "\u001b[1;31m---------------------------------------------------------------------------\u001b[0m",
      "\u001b[1;31mNameError\u001b[0m                                 Traceback (most recent call last)",
      "\u001b[1;32m<ipython-input-17-09ebe6fbceba>\u001b[0m in \u001b[0;36m<module>\u001b[1;34m\u001b[0m\n\u001b[1;32m----> 1\u001b[1;33m \u001b[0mtime_passed_creates\u001b[0m \u001b[1;33m=\u001b[0m \u001b[0mdf_passed_creates\u001b[0m\u001b[1;33m[\u001b[0m\u001b[1;34m'0'\u001b[0m\u001b[1;33m]\u001b[0m\u001b[1;33m.\u001b[0m\u001b[0mto_list\u001b[0m\u001b[1;33m(\u001b[0m\u001b[1;33m)\u001b[0m\u001b[1;33m\u001b[0m\u001b[1;33m\u001b[0m\u001b[0m\n\u001b[0m\u001b[0;32m      2\u001b[0m \u001b[0mtime_passed_bids\u001b[0m \u001b[1;33m=\u001b[0m \u001b[0mdf_passed_bids\u001b[0m\u001b[1;33m[\u001b[0m\u001b[1;34m'valid_BIDs'\u001b[0m\u001b[1;33m]\u001b[0m\u001b[1;33m.\u001b[0m\u001b[0mto_list\u001b[0m\u001b[1;33m(\u001b[0m\u001b[1;33m)\u001b[0m\u001b[1;33m\u001b[0m\u001b[1;33m\u001b[0m\u001b[0m\n\u001b[0;32m      3\u001b[0m \u001b[0mtime_passed_accpets\u001b[0m \u001b[1;33m=\u001b[0m \u001b[0mdf_passed_accepts\u001b[0m\u001b[1;33m[\u001b[0m\u001b[1;34m'0'\u001b[0m\u001b[1;33m]\u001b[0m\u001b[1;33m.\u001b[0m\u001b[0mto_list\u001b[0m\u001b[1;33m(\u001b[0m\u001b[1;33m)\u001b[0m\u001b[1;33m\u001b[0m\u001b[1;33m\u001b[0m\u001b[0m\n\u001b[0;32m      4\u001b[0m \u001b[0mtime_passed_returns\u001b[0m \u001b[1;33m=\u001b[0m \u001b[0mdf_passed_returns\u001b[0m\u001b[1;33m[\u001b[0m\u001b[1;34m'valid_RETURNs'\u001b[0m\u001b[1;33m]\u001b[0m\u001b[1;33m.\u001b[0m\u001b[0mto_list\u001b[0m\u001b[1;33m(\u001b[0m\u001b[1;33m)\u001b[0m\u001b[1;33m\u001b[0m\u001b[1;33m\u001b[0m\u001b[0m\n\u001b[0;32m      5\u001b[0m \u001b[0mtime_passed_rfqs\u001b[0m \u001b[1;33m=\u001b[0m \u001b[0mdf_passed_rfqs\u001b[0m\u001b[1;33m[\u001b[0m\u001b[1;34m'time'\u001b[0m\u001b[1;33m]\u001b[0m\u001b[1;33m.\u001b[0m\u001b[0mto_list\u001b[0m\u001b[1;33m(\u001b[0m\u001b[1;33m)\u001b[0m\u001b[1;33m\u001b[0m\u001b[1;33m\u001b[0m\u001b[0m\n",
      "\u001b[1;31mNameError\u001b[0m: name 'df_passed_creates' is not defined"
     ]
    }
   ],
   "source": [
    "time_passed_creates = df_passed_creates['0'].to_list()\n",
    "time_passed_bids = df_passed_bids['valid_BIDs'].to_list()\n",
    "time_passed_accpets = df_passed_accepts['0'].to_list()\n",
    "time_passed_returns = df_passed_returns['valid_RETURNs'].to_list()\n",
    "time_passed_rfqs = df_passed_rfqs['time'].to_list()"
   ]
  },
  {
   "cell_type": "code",
   "execution_count": 18,
   "id": "262e541b",
   "metadata": {},
   "outputs": [
    {
     "name": "stdout",
     "output_type": "stream",
     "text": [
      "170.53\n",
      "167\n",
      "231\n",
      "139\n",
      "18.46\n",
      "total creates = 499\n"
     ]
    }
   ],
   "source": [
    "# Analysis of CREATE Transaction\n",
    "time_passed_creates.remove(max(time_passed_creates)) \n",
    "create_mean = \"{:.2f}\".format(stat.mean(time_passed_creates))\n",
    "create_median = stat.median(time_passed_creates)\n",
    "create_max = max(time_passed_creates)\n",
    "create_min = min(time_passed_creates)\n",
    "create_std_dev = \"{:.2f}\".format(stat.stdev(time_passed_creates))\n",
    "\n",
    "print(create_mean)\n",
    "print(create_median)\n",
    "print(create_max)\n",
    "print(create_min)\n",
    "print(create_std_dev)\n",
    "print(f\"total creates = {len(time_passed_creates)}\")\n",
    "\n",
    "create_dict = {\n",
    "               'min': create_min,\n",
    "               'max': create_max,\n",
    "               'average': create_mean,\n",
    "               'median' : create_median,\n",
    "               'standard_deviation' : create_std_dev,\n",
    "               '# of txs' : len(time_passed_creates)}"
   ]
  },
  {
   "cell_type": "code",
   "execution_count": 19,
   "id": "c1591de2",
   "metadata": {},
   "outputs": [
    {
     "name": "stdout",
     "output_type": "stream",
     "text": [
      "525.70\n",
      "535.5\n",
      "688\n",
      "302\n",
      "525.70\n",
      "total RFQs = 20\n"
     ]
    }
   ],
   "source": [
    "# Analysis of RFQ Transaction\n",
    "if len(time_passed_rfqs) < 2:\n",
    "    time_rfqs.append(time_passed_rfqs[0])\n",
    "rfq_mean = \"{:.2f}\".format(stat.mean(time_passed_rfqs))\n",
    "rfq_median = stat.median(time_passed_rfqs)\n",
    "rfq_max = max(time_passed_rfqs)\n",
    "rfq_min = min(time_passed_rfqs)\n",
    "rfq_std_dev = \"{:.2f}\".format(stat.mean(time_passed_rfqs))\n",
    "\n",
    "print(rfq_mean)\n",
    "print(rfq_median)\n",
    "print(rfq_max)\n",
    "print(rfq_min)\n",
    "print(rfq_std_dev)\n",
    "print(f\"total RFQs = {len(time_passed_rfqs)}\")\n",
    "\n",
    "rfq_dict = {\n",
    "               'min': rfq_min,\n",
    "               'max': rfq_max,\n",
    "               'median' : rfq_median,\n",
    "               'average': rfq_mean,    \n",
    "               'standard_deviation' : rfq_std_dev,\n",
    "               '# of txs' : rfq_count}"
   ]
  },
  {
   "cell_type": "code",
   "execution_count": 20,
   "id": "f1476853",
   "metadata": {},
   "outputs": [
    {
     "name": "stdout",
     "output_type": "stream",
     "text": [
      " bid_mean =  177.03 \n",
      " bid_median = 162 \n",
      " bid_max = 534 \n",
      " bid_std_dev = 47.63 \n",
      " total_bids = 499\n"
     ]
    }
   ],
   "source": [
    "# Analysis of BID Transaction \n",
    "# only passed BIDs \n",
    "bid_mean = \"{:.2f}\".format(stat.mean(time_passed_bids))\n",
    "bid_median = stat.median(time_passed_bids)\n",
    "bid_max = max(time_passed_bids)\n",
    "bid_min = min(time_passed_bids)\n",
    "bid_std_dev = \"{:.2f}\".format(stat.stdev(time_passed_bids))\n",
    "\n",
    "\n",
    "print(f\" bid_mean =  {bid_mean} \\n bid_median = {bid_median} \\n bid_max = {bid_max} \\n\"\n",
    "     f\" bid_std_dev = {bid_std_dev} \\n total_bids = {len(time_passed_bids)}\")\n",
    "\n",
    "bid_dict = {\n",
    "               'min': bid_min,\n",
    "               'max': bid_max,\n",
    "               'average': bid_mean,\n",
    "               'median' : bid_median,\n",
    "               'standard_deviation' : bid_std_dev,\n",
    "               '# of txs' : bid_count\n",
    "              }"
   ]
  },
  {
   "cell_type": "code",
   "execution_count": 21,
   "id": "9f587ed9",
   "metadata": {},
   "outputs": [
    {
     "name": "stdout",
     "output_type": "stream",
     "text": [
      "3184.00\n",
      "3172.5\n",
      "3853\n",
      "2619\n",
      "357.27\n",
      "total ACCEPTs = 20\n"
     ]
    }
   ],
   "source": [
    "# Analysis of ACCEPT Transaction\n",
    "\n",
    "accept_mean =  \"{:.2f}\".format(stat.mean(time_passed_accepts))\n",
    "accept_median = stat.median(time_passed_accepts)\n",
    "accept_max = max(time_passed_accepts)\n",
    "accept_min = min(time_passed_accepts)\n",
    "accept_std_dev = \"{:.2f}\".format(stat.stdev(time_passed_accepts))\n",
    "\n",
    "print(accept_mean)\n",
    "print(accept_median)\n",
    "print(accept_max)\n",
    "print(accept_min)\n",
    "print(accept_std_dev)\n",
    "print(f\"total ACCEPTs = {len(time_passed_accepts)}\")\n",
    "\n",
    "accept_dict = {\n",
    "               'min': accept_min,\n",
    "               'max': accept_max,\n",
    "               'median' : accept_median,\n",
    "               'average': accept_mean,\n",
    "               'standard_deviation' : accept_std_dev,\n",
    "               '# of txs' : accept_count}"
   ]
  },
  {
   "cell_type": "code",
   "execution_count": 22,
   "id": "9d2ba1f8",
   "metadata": {},
   "outputs": [
    {
     "name": "stdout",
     "output_type": "stream",
     "text": [
      "3128.04\n",
      "3099\n",
      "3853\n",
      "2336\n",
      "354.54\n",
      "total RETURNs = 499\n"
     ]
    }
   ],
   "source": [
    "# Analysis of RETURN Transaction\n",
    "\n",
    "return_mean = \"{:.2f}\".format(stat.mean(time_passed_returns))\n",
    "return_median = stat.median(time_passed_returns)\n",
    "return_max = max(time_passed_returns)\n",
    "return_min = min(time_passed_returns)\n",
    "return_std_dev =  \"{:.2f}\".format(stat.stdev(time_passed_returns))\n",
    "\n",
    "print(return_mean)\n",
    "print(return_median)\n",
    "print(return_max)\n",
    "print(return_min)\n",
    "print(return_std_dev)\n",
    "print(f\"total RETURNs = {len(time_passed_returns)}\")\n",
    "return_dict = {\n",
    "               'min': return_min,\n",
    "               'max': return_max,\n",
    "               'median' : return_median,\n",
    "               'average': return_mean,\n",
    "               'standard_deviation' : return_std_dev,\n",
    "               '# of txs' : len(time_passed_returns)}"
   ]
  },
  {
   "cell_type": "code",
   "execution_count": 23,
   "id": "6fea5288",
   "metadata": {},
   "outputs": [],
   "source": [
    "list_of_dict = [create_dict, rfq_dict, bid_dict, accept_dict, return_dict]\n",
    "results = pd.DataFrame(list_of_dict, index = ['CREATE','RFQ', 'BID', 'ACCEPT', 'RETURN'])"
   ]
  },
  {
   "cell_type": "code",
   "execution_count": 24,
   "id": "107f97d4",
   "metadata": {},
   "outputs": [
    {
     "data": {
      "text/html": [
       "<div>\n",
       "<style scoped>\n",
       "    .dataframe tbody tr th:only-of-type {\n",
       "        vertical-align: middle;\n",
       "    }\n",
       "\n",
       "    .dataframe tbody tr th {\n",
       "        vertical-align: top;\n",
       "    }\n",
       "\n",
       "    .dataframe thead th {\n",
       "        text-align: right;\n",
       "    }\n",
       "</style>\n",
       "<table border=\"1\" class=\"dataframe\">\n",
       "  <thead>\n",
       "    <tr style=\"text-align: right;\">\n",
       "      <th></th>\n",
       "      <th>min</th>\n",
       "      <th>max</th>\n",
       "      <th>average</th>\n",
       "      <th>median</th>\n",
       "      <th>standard_deviation</th>\n",
       "      <th># of txs</th>\n",
       "    </tr>\n",
       "  </thead>\n",
       "  <tbody>\n",
       "    <tr>\n",
       "      <th>CREATE</th>\n",
       "      <td>139</td>\n",
       "      <td>231</td>\n",
       "      <td>170.53</td>\n",
       "      <td>167.0</td>\n",
       "      <td>18.46</td>\n",
       "      <td>499</td>\n",
       "    </tr>\n",
       "    <tr>\n",
       "      <th>RFQ</th>\n",
       "      <td>302</td>\n",
       "      <td>688</td>\n",
       "      <td>525.70</td>\n",
       "      <td>535.5</td>\n",
       "      <td>525.70</td>\n",
       "      <td>20</td>\n",
       "    </tr>\n",
       "    <tr>\n",
       "      <th>BID</th>\n",
       "      <td>146</td>\n",
       "      <td>534</td>\n",
       "      <td>177.03</td>\n",
       "      <td>162.0</td>\n",
       "      <td>47.63</td>\n",
       "      <td>499</td>\n",
       "    </tr>\n",
       "    <tr>\n",
       "      <th>ACCEPT</th>\n",
       "      <td>2619</td>\n",
       "      <td>3853</td>\n",
       "      <td>3184.00</td>\n",
       "      <td>3172.5</td>\n",
       "      <td>357.27</td>\n",
       "      <td>20</td>\n",
       "    </tr>\n",
       "    <tr>\n",
       "      <th>RETURN</th>\n",
       "      <td>2336</td>\n",
       "      <td>3853</td>\n",
       "      <td>3128.04</td>\n",
       "      <td>3099.0</td>\n",
       "      <td>354.54</td>\n",
       "      <td>499</td>\n",
       "    </tr>\n",
       "  </tbody>\n",
       "</table>\n",
       "</div>"
      ],
      "text/plain": [
       "         min   max  average  median standard_deviation  # of txs\n",
       "CREATE   139   231   170.53   167.0              18.46       499\n",
       "RFQ      302   688   525.70   535.5             525.70        20\n",
       "BID      146   534   177.03   162.0              47.63       499\n",
       "ACCEPT  2619  3853  3184.00  3172.5             357.27        20\n",
       "RETURN  2336  3853  3128.04  3099.0             354.54       499"
      ]
     },
     "execution_count": 24,
     "metadata": {},
     "output_type": "execute_result"
    }
   ],
   "source": [
    "results"
   ]
  },
  {
   "cell_type": "code",
   "execution_count": 73,
   "id": "52152d8f",
   "metadata": {},
   "outputs": [
    {
     "name": "stdout",
     "output_type": "stream",
     "text": [
      "rfq rate: 100.0 %\n",
      "create rate: 99.8 %\n",
      "bid rate: 100.0 %\n",
      "accept rate: 100.0 %\n",
      "return rate: 100.0 %\n"
     ]
    }
   ],
   "source": [
    "successfull_rate_accept = len(time_passed_accepts) / accept_count * 100\n",
    "successfull_rate_bid = len(time_passed_bids) / bid_count * 100\n",
    "successfull_rate_create = len(time_passed_creates) / create_count * 100\n",
    "successfull_rate_return = len(time_passed_returns) / return_count_1 * 100\n",
    "successfull_rate_rfq = len(time_passed_rfqs) / rfq_count * 100\n",
    "\n",
    "print(f\"rfq rate: {successfull_rate_rfq} %\")\n",
    "print(f\"create rate: {successfull_rate_create} %\")\n",
    "print(f\"bid rate: {successfull_rate_bid} %\")\n",
    "print(f\"accept rate: {successfull_rate_accept} %\")\n",
    "print(f\"return rate: {successfull_rate_return} %\")\n"
   ]
  },
  {
   "cell_type": "code",
   "execution_count": null,
   "id": "dc2af71e",
   "metadata": {},
   "outputs": [],
   "source": []
  },
  {
   "cell_type": "code",
   "execution_count": null,
   "id": "ea58470c",
   "metadata": {},
   "outputs": [],
   "source": []
  }
 ],
 "metadata": {
  "kernelspec": {
   "display_name": "Python 3 (ipykernel)",
   "language": "python",
   "name": "python3"
  },
  "language_info": {
   "codemirror_mode": {
    "name": "ipython",
    "version": 3
   },
   "file_extension": ".py",
   "mimetype": "text/x-python",
   "name": "python",
   "nbconvert_exporter": "python",
   "pygments_lexer": "ipython3",
   "version": "3.7.4"
  },
  "vscode": {
   "interpreter": {
    "hash": "5eb36c30a141ec56c7af996542a21aed521913359d48d30d908d213ac946ed76"
   }
  }
 },
 "nbformat": 4,
 "nbformat_minor": 5
}
