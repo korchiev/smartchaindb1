{
 "cells": [
  {
   "cell_type": "code",
   "execution_count": 1,
   "id": "3bb8f2a1",
   "metadata": {},
   "outputs": [],
   "source": [
    "import pandas as pd\n",
    "import numpy as np\n",
    "import statistics as stat\n",
    "import matplotlib.pyplot as plt\n",
    "import seaborn as sns\n",
    "sns.set_style(\"white\")\n",
    "import statistics as stat"
   ]
  },
  {
   "cell_type": "code",
   "execution_count": 2,
   "id": "ac49d3be",
   "metadata": {},
   "outputs": [],
   "source": [
    "data = pd.read_csv('scdb-20rfq-60cap-metrics.csv', names = ['Event', 'Time', 'Tx_type', 'Tx_id', 'Accept_id', 'time'])"
   ]
  },
  {
   "cell_type": "code",
   "execution_count": 3,
   "id": "5b79d45a",
   "metadata": {},
   "outputs": [
    {
     "data": {
      "text/plain": [
       "1538"
      ]
     },
     "execution_count": 3,
     "metadata": {},
     "output_type": "execute_result"
    }
   ],
   "source": [
    "grouped_data = data.groupby('Tx_id')\n",
    "tx_id = list(grouped_data.groups.keys())\n",
    "len(tx_id)"
   ]
  },
  {
   "cell_type": "code",
   "execution_count": 4,
   "id": "ec42217b",
   "metadata": {},
   "outputs": [
    {
     "name": "stdout",
     "output_type": "stream",
     "text": [
      "#BIDs =  499\n"
     ]
    }
   ],
   "source": [
    "#new data frame to get the count of each transaction type\n",
    "data_unique_ids = data.drop_duplicates(subset = ['Tx_id'])\n",
    "\n",
    "bid_count = 0\n",
    "bid_ids = []\n",
    "for i in range(0, len(data_unique_ids)):\n",
    "    if data_unique_ids.iloc[i]['Tx_type'] == 'BID':\n",
    "        bid_ids.append(data_unique_ids.iloc[i]['Tx_id'])\n",
    "        bid_count += 1   \n",
    "\n",
    "\n",
    "print(f\"#BIDs =  {bid_count}\")"
   ]
  },
  {
   "cell_type": "code",
   "execution_count": 5,
   "id": "563439b9",
   "metadata": {},
   "outputs": [
    {
     "data": {
      "text/html": [
       "<div>\n",
       "<style scoped>\n",
       "    .dataframe tbody tr th:only-of-type {\n",
       "        vertical-align: middle;\n",
       "    }\n",
       "\n",
       "    .dataframe tbody tr th {\n",
       "        vertical-align: top;\n",
       "    }\n",
       "\n",
       "    .dataframe thead th {\n",
       "        text-align: right;\n",
       "    }\n",
       "</style>\n",
       "<table border=\"1\" class=\"dataframe\">\n",
       "  <thead>\n",
       "    <tr style=\"text-align: right;\">\n",
       "      <th></th>\n",
       "      <th>Event</th>\n",
       "      <th>Time</th>\n",
       "      <th>Tx_type</th>\n",
       "      <th>Tx_id</th>\n",
       "      <th>Accept_id</th>\n",
       "      <th>time</th>\n",
       "    </tr>\n",
       "  </thead>\n",
       "  <tbody>\n",
       "    <tr>\n",
       "      <th>3186</th>\n",
       "      <td>received_tx</td>\n",
       "      <td>109</td>\n",
       "      <td>BID</td>\n",
       "      <td>1572925618f77a02467a703d40545326ab278a55e0b825...</td>\n",
       "      <td>None</td>\n",
       "      <td>1.669849e+09</td>\n",
       "    </tr>\n",
       "    <tr>\n",
       "      <th>3187</th>\n",
       "      <td>before_tendermint</td>\n",
       "      <td>122</td>\n",
       "      <td>BID</td>\n",
       "      <td>1572925618f77a02467a703d40545326ab278a55e0b825...</td>\n",
       "      <td>None</td>\n",
       "      <td>1.669849e+09</td>\n",
       "    </tr>\n",
       "    <tr>\n",
       "      <th>3188</th>\n",
       "      <td>check_tx</td>\n",
       "      <td>135</td>\n",
       "      <td>BID</td>\n",
       "      <td>1572925618f77a02467a703d40545326ab278a55e0b825...</td>\n",
       "      <td>None</td>\n",
       "      <td>1.669849e+09</td>\n",
       "    </tr>\n",
       "    <tr>\n",
       "      <th>3189</th>\n",
       "      <td>deliver_tx</td>\n",
       "      <td>152</td>\n",
       "      <td>BID</td>\n",
       "      <td>1572925618f77a02467a703d40545326ab278a55e0b825...</td>\n",
       "      <td>None</td>\n",
       "      <td>1.669849e+09</td>\n",
       "    </tr>\n",
       "    <tr>\n",
       "      <th>3190</th>\n",
       "      <td>end_block</td>\n",
       "      <td>154</td>\n",
       "      <td>BID</td>\n",
       "      <td>1572925618f77a02467a703d40545326ab278a55e0b825...</td>\n",
       "      <td>None</td>\n",
       "      <td>1.669849e+09</td>\n",
       "    </tr>\n",
       "    <tr>\n",
       "      <th>3191</th>\n",
       "      <td>commit_tx</td>\n",
       "      <td>196</td>\n",
       "      <td>BID</td>\n",
       "      <td>1572925618f77a02467a703d40545326ab278a55e0b825...</td>\n",
       "      <td>None</td>\n",
       "      <td>1.669849e+09</td>\n",
       "    </tr>\n",
       "  </tbody>\n",
       "</table>\n",
       "</div>"
      ],
      "text/plain": [
       "                  Event  Time Tx_type  \\\n",
       "3186        received_tx   109     BID   \n",
       "3187  before_tendermint   122     BID   \n",
       "3188           check_tx   135     BID   \n",
       "3189         deliver_tx   152     BID   \n",
       "3190          end_block   154     BID   \n",
       "3191          commit_tx   196     BID   \n",
       "\n",
       "                                                  Tx_id Accept_id  \\\n",
       "3186  1572925618f77a02467a703d40545326ab278a55e0b825...      None   \n",
       "3187  1572925618f77a02467a703d40545326ab278a55e0b825...      None   \n",
       "3188  1572925618f77a02467a703d40545326ab278a55e0b825...      None   \n",
       "3189  1572925618f77a02467a703d40545326ab278a55e0b825...      None   \n",
       "3190  1572925618f77a02467a703d40545326ab278a55e0b825...      None   \n",
       "3191  1572925618f77a02467a703d40545326ab278a55e0b825...      None   \n",
       "\n",
       "              time  \n",
       "3186  1.669849e+09  \n",
       "3187  1.669849e+09  \n",
       "3188  1.669849e+09  \n",
       "3189  1.669849e+09  \n",
       "3190  1.669849e+09  \n",
       "3191  1.669849e+09  "
      ]
     },
     "execution_count": 5,
     "metadata": {},
     "output_type": "execute_result"
    }
   ],
   "source": [
    "df_test = grouped_data.get_group(bid_ids[8])\n",
    "df_test"
   ]
  },
  {
   "cell_type": "code",
   "execution_count": 6,
   "id": "395a74ce",
   "metadata": {},
   "outputs": [],
   "source": [
    "time_all_committed_bids = {}\n",
    "time_passed_bids = []\n",
    "validated_time = []\n",
    "accepted_time = []\n",
    "committed_time = []\n",
    "\n",
    "bid_underfit = []\n",
    "bid_underfit_dict = {}\n",
    "\n",
    "bid_overfit = []\n",
    "bid_overfit_dict = {}\n",
    "\n",
    "for i in range(0, len(tx_id)):\n",
    "    temp_list = []\n",
    "    if \"BID\" == grouped_data.get_group(tx_id[i])[\"Tx_type\"].to_list()[0]:\n",
    "        temp_list = grouped_data.get_group(tx_id[i])[\"Time\"].to_list()\n",
    "        if len(temp_list) == 6 and grouped_data.get_group(tx_id[i])[\"Event\"].to_list()[5] == \"commit_tx\":\n",
    "            \n",
    "            actual_time = max(temp_list) - min(temp_list)\n",
    "            time_all_committed_bids[tx_id[i]] = actual_time\n",
    "            time_passed_bids.append(actual_time)\n",
    "            \n",
    "            df = grouped_data.get_group(tx_id[i])\n",
    "            received_time = df[df['Event'] == 'received_tx']['Time'].to_list()[0]\n",
    "            before_tendermint_time = df[df['Event'] == 'before_tendermint']['Time'].to_list()[0]\n",
    "            \n",
    "            validated = before_tendermint_time - received_time\n",
    "            validated_time.append(validated)\n",
    "            \n",
    "            check_time = df[df['Event'] == 'check_tx']['Time'].to_list()[0]\n",
    "            accepted = check_time - received_time\n",
    "            accepted_time.append(accepted)\n",
    "            \n",
    "            commit_time =  df[df['Event'] == 'commit_tx']['Time'].to_list()[0]\n",
    "            committed = commit_time - received_time\n",
    "            committed_time.append(committed)\n",
    "        elif len(temp_list) < 6:\n",
    "            bid_underfit.append(temp_list)\n",
    "            bid_underfit_dict[tx_id[i]] = temp_list\n",
    "        elif 7 >= len(temp_list) > 6 :\n",
    "            df_check = grouped_data.get_group(tx_id[i])\n",
    "            if len(df_check[df_check['Event'] == 'check_tx']['Time'].to_list()) > 1:\n",
    "                check_time = max(df_check[df_check['Event'] == 'check_tx']['Time'].to_list())\n",
    "            else:\n",
    "                check_time = df_check[df_check['Event'] == 'check_tx']['Time'].to_list()[0] \n",
    "            \n",
    "            actual_time = max(temp_list) - min(temp_list)\n",
    "            time_all_committed_bids[tx_id[i]] = actual_time\n",
    "            #time_passed_bids.append(actual_time)\n",
    "            \n",
    "            df = grouped_data.get_group(tx_id[i])\n",
    "            received_time = df[df['Event'] == 'received_tx']['Time'].to_list()[0]\n",
    "            before_tendermint_time = df[df['Event'] == 'before_tendermint']['Time'].to_list()[0]\n",
    "            \n",
    "            validated = before_tendermint_time - received_time\n",
    "            validated_time.append(validated)\n",
    "           \n",
    "            accepted = check_time - received_time\n",
    "            accepted_time.append(accepted)\n",
    "            \n",
    "            commit_time =  df[df['Event'] == 'commit_tx']['Time'].to_list()[0]\n",
    "            committed = commit_time - received_time\n",
    "            committed_time.append(committed)\n",
    "            \n",
    "            bid_overfit.append(actual_time)\n",
    "            bid_overfit_dict[tx_id[i]] = temp_list"
   ]
  },
  {
   "cell_type": "code",
   "execution_count": 7,
   "id": "904c927e",
   "metadata": {},
   "outputs": [
    {
     "ename": "KeyError",
     "evalue": "'3066cad3ab9009c84499c002f3b150864fc0b5af46bd4cb1ab5407ab2396a336'",
     "output_type": "error",
     "traceback": [
      "\u001b[1;31m---------------------------------------------------------------------------\u001b[0m",
      "\u001b[1;31mKeyError\u001b[0m                                  Traceback (most recent call last)",
      "\u001b[1;32m<ipython-input-7-4618105f1622>\u001b[0m in \u001b[0;36m<module>\u001b[1;34m\u001b[0m\n\u001b[1;32m----> 1\u001b[1;33m \u001b[0mdf\u001b[0m \u001b[1;33m=\u001b[0m \u001b[0mgrouped_data\u001b[0m\u001b[1;33m.\u001b[0m\u001b[0mget_group\u001b[0m\u001b[1;33m(\u001b[0m\u001b[1;34m\"3066cad3ab9009c84499c002f3b150864fc0b5af46bd4cb1ab5407ab2396a336\"\u001b[0m\u001b[1;33m)\u001b[0m\u001b[1;33m\u001b[0m\u001b[1;33m\u001b[0m\u001b[0m\n\u001b[0m\u001b[0;32m      2\u001b[0m \u001b[0mdf\u001b[0m\u001b[1;33m[\u001b[0m\u001b[0mdf\u001b[0m\u001b[1;33m[\u001b[0m\u001b[1;34m'Event'\u001b[0m\u001b[1;33m]\u001b[0m \u001b[1;33m==\u001b[0m \u001b[1;34m'received_tx'\u001b[0m\u001b[1;33m]\u001b[0m\u001b[1;33m[\u001b[0m\u001b[1;34m'Time'\u001b[0m\u001b[1;33m]\u001b[0m\u001b[1;33m.\u001b[0m\u001b[0mto_list\u001b[0m\u001b[1;33m(\u001b[0m\u001b[1;33m)\u001b[0m\u001b[1;33m[\u001b[0m\u001b[1;36m0\u001b[0m\u001b[1;33m]\u001b[0m\u001b[1;33m\u001b[0m\u001b[1;33m\u001b[0m\u001b[0m\n",
      "\u001b[1;32m~\\Anaconda3\\lib\\site-packages\\pandas\\core\\groupby\\groupby.py\u001b[0m in \u001b[0;36mget_group\u001b[1;34m(self, name, obj)\u001b[0m\n\u001b[0;32m    843\u001b[0m         \u001b[0minds\u001b[0m \u001b[1;33m=\u001b[0m \u001b[0mself\u001b[0m\u001b[1;33m.\u001b[0m\u001b[0m_get_index\u001b[0m\u001b[1;33m(\u001b[0m\u001b[0mname\u001b[0m\u001b[1;33m)\u001b[0m\u001b[1;33m\u001b[0m\u001b[1;33m\u001b[0m\u001b[0m\n\u001b[0;32m    844\u001b[0m         \u001b[1;32mif\u001b[0m \u001b[1;32mnot\u001b[0m \u001b[0mlen\u001b[0m\u001b[1;33m(\u001b[0m\u001b[0minds\u001b[0m\u001b[1;33m)\u001b[0m\u001b[1;33m:\u001b[0m\u001b[1;33m\u001b[0m\u001b[1;33m\u001b[0m\u001b[0m\n\u001b[1;32m--> 845\u001b[1;33m             \u001b[1;32mraise\u001b[0m \u001b[0mKeyError\u001b[0m\u001b[1;33m(\u001b[0m\u001b[0mname\u001b[0m\u001b[1;33m)\u001b[0m\u001b[1;33m\u001b[0m\u001b[1;33m\u001b[0m\u001b[0m\n\u001b[0m\u001b[0;32m    846\u001b[0m \u001b[1;33m\u001b[0m\u001b[0m\n\u001b[0;32m    847\u001b[0m         \u001b[1;32mreturn\u001b[0m \u001b[0mobj\u001b[0m\u001b[1;33m.\u001b[0m\u001b[0m_take_with_is_copy\u001b[0m\u001b[1;33m(\u001b[0m\u001b[0minds\u001b[0m\u001b[1;33m,\u001b[0m \u001b[0maxis\u001b[0m\u001b[1;33m=\u001b[0m\u001b[0mself\u001b[0m\u001b[1;33m.\u001b[0m\u001b[0maxis\u001b[0m\u001b[1;33m)\u001b[0m\u001b[1;33m\u001b[0m\u001b[1;33m\u001b[0m\u001b[0m\n",
      "\u001b[1;31mKeyError\u001b[0m: '3066cad3ab9009c84499c002f3b150864fc0b5af46bd4cb1ab5407ab2396a336'"
     ]
    }
   ],
   "source": [
    "df = grouped_data.get_group(\"3066cad3ab9009c84499c002f3b150864fc0b5af46bd4cb1ab5407ab2396a336\")\n",
    "df[df['Event'] == 'received_tx']['Time'].to_list()[0]"
   ]
  },
  {
   "cell_type": "code",
   "execution_count": null,
   "id": "747bf1b0",
   "metadata": {},
   "outputs": [],
   "source": [
    "df[df['Event'] == 'received_tx']"
   ]
  },
  {
   "cell_type": "code",
   "execution_count": 8,
   "id": "62216600",
   "metadata": {},
   "outputs": [
    {
     "data": {
      "text/plain": [
       "{'00eae556b6f3fccec3885b4e1e7e682488cf8b9321430aba36b6d03b0c891aa8': [113,\n",
       "  124,\n",
       "  144,\n",
       "  891,\n",
       "  992,\n",
       "  994,\n",
       "  1040],\n",
       " '0bb7e08feca3d2d01f2761e4dd6ad2f3848392c2a5d6d54157fba1c0803fcd58': [108,\n",
       "  118,\n",
       "  144,\n",
       "  346,\n",
       "  405,\n",
       "  407,\n",
       "  452],\n",
       " '12b610514016492f45f8f74e3e6bbd91e070f4d17f07de59d5186d665ad15b22': [109,\n",
       "  124,\n",
       "  145,\n",
       "  313,\n",
       "  428,\n",
       "  431,\n",
       "  440],\n",
       " '13df832129e15f77ce288c44da2f9f40f529035379a915d60dd8e0351ee650d1': [107,\n",
       "  118,\n",
       "  142,\n",
       "  341,\n",
       "  401,\n",
       "  402,\n",
       "  445],\n",
       " '157b09d6b06b11de05b194ed6e1dd1210776a548c2a19c6f2627f5ba1a32cd5a': [108,\n",
       "  119,\n",
       "  142,\n",
       "  363,\n",
       "  422,\n",
       "  424,\n",
       "  466],\n",
       " '24d4c7adc66e01cba4519a987062ced3d6247df84c949f0051bb73d144973c1c': [109,\n",
       "  119,\n",
       "  276,\n",
       "  442,\n",
       "  510,\n",
       "  511,\n",
       "  545],\n",
       " '3c590795b04403ee6a12ab3379fb49739e3bc2270675d4445053f5b8bfeae668': [108,\n",
       "  118,\n",
       "  198,\n",
       "  464,\n",
       "  621,\n",
       "  697,\n",
       "  706],\n",
       " '43995f2e5d9ba8a33b5bc85fb0e4fed32eba27332a1ff89d9dd0e56219829e30': [108,\n",
       "  119,\n",
       "  208,\n",
       "  362,\n",
       "  421,\n",
       "  423,\n",
       "  465],\n",
       " '585b17fcf83991aada1b648b471a91f39ec096a0f3ee5793a3012f4e23a6cfcf': [107,\n",
       "  117,\n",
       "  140,\n",
       "  356,\n",
       "  415,\n",
       "  417,\n",
       "  460],\n",
       " '80263d6edd67333425278b19ce16fb33435d760fb5677949feeccc88434d1383': [109,\n",
       "  120,\n",
       "  141,\n",
       "  362,\n",
       "  423,\n",
       "  424,\n",
       "  470],\n",
       " '87a4c88ff1f2103dce0bf151c01c065e322b41536808fe0786268ea2a168988a': [107,\n",
       "  119,\n",
       "  152,\n",
       "  398,\n",
       "  538,\n",
       "  610,\n",
       "  619],\n",
       " '9a58d80c9604c6a5433dc07cb09b92ee203a52770220e1b56f8d52c13e7f6717': [107,\n",
       "  119,\n",
       "  205,\n",
       "  475,\n",
       "  634,\n",
       "  726,\n",
       "  735],\n",
       " 'c3142ddbf814d984e90dfb660e72f7d357c941e5d046074c04e94199cda0ae29': [107,\n",
       "  121,\n",
       "  200,\n",
       "  438,\n",
       "  575,\n",
       "  615,\n",
       "  623],\n",
       " 'd9a96ea449b8f5929c7cf1b247a3e0edb09ba8a6c9a8b0224c336a23117d0cc3': [108,\n",
       "  119,\n",
       "  141,\n",
       "  356,\n",
       "  416,\n",
       "  418,\n",
       "  464],\n",
       " 'ea84c11deb4e86f2d257e69fad98420b9c4fb469fa24b7919e68cf63383818a6': [109,\n",
       "  119,\n",
       "  140,\n",
       "  367,\n",
       "  427,\n",
       "  429,\n",
       "  472],\n",
       " 'fff27653fcc523e40b14ddbf6ef76cc41aff3e86cff4d71f1f3d72505ee54c89': [108,\n",
       "  117,\n",
       "  142,\n",
       "  377,\n",
       "  436,\n",
       "  438,\n",
       "  613]}"
      ]
     },
     "execution_count": 8,
     "metadata": {},
     "output_type": "execute_result"
    }
   ],
   "source": [
    "bid_overfit_dict"
   ]
  },
  {
   "cell_type": "code",
   "execution_count": 9,
   "id": "0574bef5",
   "metadata": {},
   "outputs": [
    {
     "data": {
      "text/plain": [
       "483"
      ]
     },
     "execution_count": 9,
     "metadata": {},
     "output_type": "execute_result"
    }
   ],
   "source": [
    "len(time_passed_bids)"
   ]
  },
  {
   "cell_type": "code",
   "execution_count": 10,
   "id": "73901dda",
   "metadata": {},
   "outputs": [
    {
     "data": {
      "text/plain": [
       "16"
      ]
     },
     "execution_count": 10,
     "metadata": {},
     "output_type": "execute_result"
    }
   ],
   "source": [
    "len(bid_overfit)"
   ]
  },
  {
   "cell_type": "code",
   "execution_count": 11,
   "id": "4fd0352b",
   "metadata": {},
   "outputs": [
    {
     "data": {
      "text/plain": [
       "104.48447204968944"
      ]
     },
     "execution_count": 11,
     "metadata": {},
     "output_type": "execute_result"
    }
   ],
   "source": [
    "stat.mean(time_passed_bids)"
   ]
  },
  {
   "cell_type": "code",
   "execution_count": 12,
   "id": "7e57a5dd",
   "metadata": {},
   "outputs": [
    {
     "data": {
      "text/plain": [
       "455.1875"
      ]
     },
     "execution_count": 12,
     "metadata": {},
     "output_type": "execute_result"
    }
   ],
   "source": [
    "stat.mean(bid_overfit)"
   ]
  },
  {
   "cell_type": "code",
   "execution_count": 13,
   "id": "308fef89",
   "metadata": {},
   "outputs": [
    {
     "name": "stdout",
     "output_type": "stream",
     "text": [
      "104.48\n",
      "88\n",
      "753\n",
      "77\n",
      "55.26\n",
      "total bids = 483\n"
     ]
    }
   ],
   "source": [
    "# Analysis of CREATE Transaction\n",
    "bid_mean = \"{:.2f}\".format(stat.mean(time_passed_bids))\n",
    "bid_median = stat.median(time_passed_bids)\n",
    "bid_max = max(time_passed_bids)\n",
    "bid_min = min(time_passed_bids)\n",
    "bid_std_dev = \"{:.2f}\".format(stat.stdev(time_passed_bids))\n",
    "\n",
    "print(bid_mean)\n",
    "print(bid_median)\n",
    "print(bid_max)\n",
    "print(bid_min)\n",
    "print(bid_std_dev)\n",
    "print(f\"total bids = {len(time_passed_bids)}\")\n",
    "\n",
    "bid_dict = {\n",
    "               'min': bid_min,\n",
    "               'max': bid_max,\n",
    "               'average': bid_mean,\n",
    "               'median' : bid_median,\n",
    "               'standard_deviation' : bid_std_dev,\n",
    "               '# of txs' : len(time_passed_bids)}"
   ]
  },
  {
   "cell_type": "code",
   "execution_count": 14,
   "id": "28f6c5ac",
   "metadata": {},
   "outputs": [
    {
     "data": {
      "text/html": [
       "<div>\n",
       "<style scoped>\n",
       "    .dataframe tbody tr th:only-of-type {\n",
       "        vertical-align: middle;\n",
       "    }\n",
       "\n",
       "    .dataframe tbody tr th {\n",
       "        vertical-align: top;\n",
       "    }\n",
       "\n",
       "    .dataframe thead th {\n",
       "        text-align: right;\n",
       "    }\n",
       "</style>\n",
       "<table border=\"1\" class=\"dataframe\">\n",
       "  <thead>\n",
       "    <tr style=\"text-align: right;\">\n",
       "      <th></th>\n",
       "      <th>min</th>\n",
       "      <th>max</th>\n",
       "      <th>average</th>\n",
       "      <th>median</th>\n",
       "      <th>standard_deviation</th>\n",
       "      <th># of txs</th>\n",
       "    </tr>\n",
       "  </thead>\n",
       "  <tbody>\n",
       "    <tr>\n",
       "      <th>BID</th>\n",
       "      <td>77</td>\n",
       "      <td>753</td>\n",
       "      <td>104.48</td>\n",
       "      <td>88</td>\n",
       "      <td>55.26</td>\n",
       "      <td>483</td>\n",
       "    </tr>\n",
       "  </tbody>\n",
       "</table>\n",
       "</div>"
      ],
      "text/plain": [
       "     min  max average  median standard_deviation  # of txs\n",
       "BID   77  753  104.48      88              55.26       483"
      ]
     },
     "execution_count": 14,
     "metadata": {},
     "output_type": "execute_result"
    }
   ],
   "source": [
    "results = pd.DataFrame(bid_dict, index = ['BID'])\n",
    "results.to_csv('bid_analysis.csv', sep=',', encoding='utf-8')\n",
    "results"
   ]
  },
  {
   "cell_type": "code",
   "execution_count": null,
   "id": "d1044f1c",
   "metadata": {},
   "outputs": [],
   "source": []
  }
 ],
 "metadata": {
  "kernelspec": {
   "display_name": "Python 3 (ipykernel)",
   "language": "python",
   "name": "python3"
  },
  "language_info": {
   "codemirror_mode": {
    "name": "ipython",
    "version": 3
   },
   "file_extension": ".py",
   "mimetype": "text/x-python",
   "name": "python",
   "nbconvert_exporter": "python",
   "pygments_lexer": "ipython3",
   "version": "3.7.4"
  }
 },
 "nbformat": 4,
 "nbformat_minor": 5
}
