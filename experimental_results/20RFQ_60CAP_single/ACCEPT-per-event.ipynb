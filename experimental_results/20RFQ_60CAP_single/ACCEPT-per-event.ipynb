{
 "cells": [
  {
   "cell_type": "code",
   "execution_count": 1,
   "id": "c48d45ba",
   "metadata": {},
   "outputs": [],
   "source": [
    "import pandas as pd\n",
    "import numpy as np\n",
    "import statistics as stat\n",
    "import matplotlib.pyplot as plt\n",
    "import seaborn as sns\n",
    "sns.set_style(\"white\")\n",
    "import statistics as stat"
   ]
  },
  {
   "cell_type": "code",
   "execution_count": 2,
   "id": "1fb403a1",
   "metadata": {},
   "outputs": [],
   "source": [
    "data = pd.read_csv('scdb-20rfq-60cap-metrics.csv', names = ['Event', 'Time', 'Tx_type', 'Tx_id', 'Accept_id', 'time'])"
   ]
  },
  {
   "cell_type": "code",
   "execution_count": 3,
   "id": "8859c8fc",
   "metadata": {},
   "outputs": [
    {
     "data": {
      "text/plain": [
       "1538"
      ]
     },
     "execution_count": 3,
     "metadata": {},
     "output_type": "execute_result"
    }
   ],
   "source": [
    "grouped_data = data.groupby('Tx_id')\n",
    "tx_id = list(grouped_data.groups.keys())\n",
    "len(tx_id)"
   ]
  },
  {
   "cell_type": "code",
   "execution_count": 4,
   "id": "3582aa73",
   "metadata": {},
   "outputs": [
    {
     "name": "stdout",
     "output_type": "stream",
     "text": [
      "#ACCEPTs =  20\n"
     ]
    }
   ],
   "source": [
    "#new data frame to get the count of each transaction type\n",
    "data_unique_ids = data.drop_duplicates(subset = ['Tx_id'])\n",
    "\n",
    "accept_count = 0\n",
    "accept_ids = []\n",
    "for i in range(0, len(data_unique_ids)):\n",
    "    if data_unique_ids.iloc[i]['Tx_type'] == 'ACCEPT':\n",
    "        accept_ids.append(data_unique_ids.iloc[i]['Tx_id'])\n",
    "        accept_count += 1   \n",
    "\n",
    "\n",
    "print(f\"#ACCEPTs =  {accept_count}\")"
   ]
  },
  {
   "cell_type": "code",
   "execution_count": 5,
   "id": "9a0f8b4b",
   "metadata": {},
   "outputs": [
    {
     "ename": "KeyError",
     "evalue": "'331ca77987ad25091c086a5a8534dc766be3c41bcc3803fb829a498f0a7a168e'",
     "output_type": "error",
     "traceback": [
      "\u001b[1;31m---------------------------------------------------------------------------\u001b[0m",
      "\u001b[1;31mKeyError\u001b[0m                                  Traceback (most recent call last)",
      "\u001b[1;32m<ipython-input-5-b57d7f94f705>\u001b[0m in \u001b[0;36m<module>\u001b[1;34m\u001b[0m\n\u001b[1;32m----> 1\u001b[1;33m \u001b[0mdf_test\u001b[0m \u001b[1;33m=\u001b[0m \u001b[0mgrouped_data\u001b[0m\u001b[1;33m.\u001b[0m\u001b[0mget_group\u001b[0m\u001b[1;33m(\u001b[0m\u001b[1;34m\"331ca77987ad25091c086a5a8534dc766be3c41bcc3803fb829a498f0a7a168e\"\u001b[0m\u001b[1;33m)\u001b[0m\u001b[1;33m\u001b[0m\u001b[1;33m\u001b[0m\u001b[0m\n\u001b[0m\u001b[0;32m      2\u001b[0m \u001b[0mdf_test\u001b[0m\u001b[1;33m\u001b[0m\u001b[1;33m\u001b[0m\u001b[0m\n",
      "\u001b[1;32m~\\Anaconda3\\lib\\site-packages\\pandas\\core\\groupby\\groupby.py\u001b[0m in \u001b[0;36mget_group\u001b[1;34m(self, name, obj)\u001b[0m\n\u001b[0;32m    843\u001b[0m         \u001b[0minds\u001b[0m \u001b[1;33m=\u001b[0m \u001b[0mself\u001b[0m\u001b[1;33m.\u001b[0m\u001b[0m_get_index\u001b[0m\u001b[1;33m(\u001b[0m\u001b[0mname\u001b[0m\u001b[1;33m)\u001b[0m\u001b[1;33m\u001b[0m\u001b[1;33m\u001b[0m\u001b[0m\n\u001b[0;32m    844\u001b[0m         \u001b[1;32mif\u001b[0m \u001b[1;32mnot\u001b[0m \u001b[0mlen\u001b[0m\u001b[1;33m(\u001b[0m\u001b[0minds\u001b[0m\u001b[1;33m)\u001b[0m\u001b[1;33m:\u001b[0m\u001b[1;33m\u001b[0m\u001b[1;33m\u001b[0m\u001b[0m\n\u001b[1;32m--> 845\u001b[1;33m             \u001b[1;32mraise\u001b[0m \u001b[0mKeyError\u001b[0m\u001b[1;33m(\u001b[0m\u001b[0mname\u001b[0m\u001b[1;33m)\u001b[0m\u001b[1;33m\u001b[0m\u001b[1;33m\u001b[0m\u001b[0m\n\u001b[0m\u001b[0;32m    846\u001b[0m \u001b[1;33m\u001b[0m\u001b[0m\n\u001b[0;32m    847\u001b[0m         \u001b[1;32mreturn\u001b[0m \u001b[0mobj\u001b[0m\u001b[1;33m.\u001b[0m\u001b[0m_take_with_is_copy\u001b[0m\u001b[1;33m(\u001b[0m\u001b[0minds\u001b[0m\u001b[1;33m,\u001b[0m \u001b[0maxis\u001b[0m\u001b[1;33m=\u001b[0m\u001b[0mself\u001b[0m\u001b[1;33m.\u001b[0m\u001b[0maxis\u001b[0m\u001b[1;33m)\u001b[0m\u001b[1;33m\u001b[0m\u001b[1;33m\u001b[0m\u001b[0m\n",
      "\u001b[1;31mKeyError\u001b[0m: '331ca77987ad25091c086a5a8534dc766be3c41bcc3803fb829a498f0a7a168e'"
     ]
    }
   ],
   "source": [
    "df_test = grouped_data.get_group(\"331ca77987ad25091c086a5a8534dc766be3c41bcc3803fb829a498f0a7a168e\")\n",
    "df_test"
   ]
  },
  {
   "cell_type": "markdown",
   "id": "902ff146",
   "metadata": {},
   "source": [
    "## without RETURN "
   ]
  },
  {
   "cell_type": "code",
   "execution_count": 6,
   "id": "72d0f02f",
   "metadata": {},
   "outputs": [],
   "source": [
    "time_all_committed_accepts = {}\n",
    "time_passed_accepts = []\n",
    "validated_time = []\n",
    "accepted_time = []\n",
    "committed_time = []\n",
    "\n",
    "accept_underfit = []\n",
    "accept_underfit_dict = {}\n",
    "\n",
    "accept_overfit = []\n",
    "accept_overfit_dict = {}\n",
    "\n",
    "for i in range(0, len(tx_id)):\n",
    "    temp_list = []\n",
    "    if \"ACCEPT\" == grouped_data.get_group(tx_id[i])[\"Tx_type\"].to_list()[0]:\n",
    "        temp_list = grouped_data.get_group(tx_id[i])[\"Time\"].to_list()\n",
    "        if len(temp_list) == 6 and grouped_data.get_group(tx_id[i])[\"Event\"].to_list()[5] == \"commit_tx\":\n",
    "            \n",
    "            actual_time = max(temp_list) - min(temp_list)\n",
    "            time_all_committed_accepts[tx_id[i]] = actual_time\n",
    "            time_passed_accepts.append(actual_time)\n",
    "            \n",
    "            df = grouped_data.get_group(tx_id[i])\n",
    "            received_time = df[df['Event'] == 'received_tx']['Time'].to_list()[0]\n",
    "            before_tendermint_time = df[df['Event'] == 'before_tendermint']['Time'].to_list()[0]\n",
    "            \n",
    "            validated = before_tendermint_time - received_time\n",
    "            validated_time.append(validated)\n",
    "            \n",
    "            check_time = df[df['Event'] == 'check_tx']['Time'].to_list()[0]\n",
    "            accepted = check_time - received_time\n",
    "            accepted_time.append(accepted)\n",
    "            \n",
    "            commit_time =  df[df['Event'] == 'commit_tx']['Time'].to_list()[0]\n",
    "            committed = commit_time - received_time\n",
    "            committed_time.append(committed)\n",
    "        elif len(temp_list) < 6:\n",
    "            accept_underfit.append(temp_list)\n",
    "            accept_underfit_dict[tx_id[i]] = temp_list\n",
    "        elif 7 >= len(temp_list) > 6 :\n",
    "            df_check = grouped_data.get_group(tx_id[i])\n",
    "            if len(df_check[df_check['Event'] == 'check_tx']['Time'].to_list()) > 1:\n",
    "                check_time = max(df_check[df_check['Event'] == 'check_tx']['Time'].to_list())\n",
    "            else:\n",
    "                check_time = df_check[df_check['Event'] == 'check_tx']['Time'].to_list()[0] \n",
    "            \n",
    "            actual_time = max(temp_list) - min(temp_list)\n",
    "            time_all_committed_accepts[tx_id[i]] = actual_time\n",
    "            time_passed_accepts.append(actual_time)\n",
    "            \n",
    "            df = grouped_data.get_group(tx_id[i])\n",
    "            received_time = df[df['Event'] == 'received_tx']['Time'].to_list()[0]\n",
    "            before_tendermint_time = df[df['Event'] == 'before_tendermint']['Time'].to_list()[0]\n",
    "            \n",
    "            validated = before_tendermint_time - received_time\n",
    "            validated_time.append(validated)\n",
    "           \n",
    "            accepted = check_time - received_time\n",
    "            accepted_time.append(accepted)\n",
    "            \n",
    "            commit_time =  df[df['Event'] == 'commit_tx']['Time'].to_list()[0]\n",
    "            committed = commit_time - received_time\n",
    "            committed_time.append(committed)\n",
    "            \n",
    "            accept_overfit.append(actual_time)\n",
    "            accept_overfit_dict[tx_id[i]] = temp_list"
   ]
  },
  {
   "cell_type": "code",
   "execution_count": null,
   "id": "0896fc55",
   "metadata": {},
   "outputs": [],
   "source": []
  },
  {
   "cell_type": "markdown",
   "id": "9026187d",
   "metadata": {},
   "source": [
    "## with RETURNs"
   ]
  },
  {
   "cell_type": "code",
   "execution_count": 22,
   "id": "1a36d554",
   "metadata": {},
   "outputs": [],
   "source": [
    "\n",
    "\n",
    "accept_return_count = {}\n",
    "\n",
    "time_id_return = {}\n",
    "for i in range(0, len(tx_id)):\n",
    "    temp_list = []\n",
    "    return_count = 0\n",
    "    if \"ACCEPT\" == grouped_data.get_group(tx_id[i])[\"Tx_type\"].to_list()[0]:\n",
    "        temp_list = grouped_data.get_group(tx_id[i])[\"Time\"].to_list()\n",
    "        for j in range(0, len(data)):\n",
    "            if data['Event'][j] == \"commit_tx\" and tx_id[i] == data['Accept_id'][j]:\n",
    "                temp_list.append(data[\"Time\"][j])\n",
    "                return_count += 1\n",
    "        accept_return_count[tx_id[i]] = return_count\n",
    "        "
   ]
  },
  {
   "cell_type": "code",
   "execution_count": null,
   "id": "130010ca",
   "metadata": {},
   "outputs": [],
   "source": [
    "accept_return_count"
   ]
  },
  {
   "cell_type": "code",
   "execution_count": 7,
   "id": "1c332790",
   "metadata": {},
   "outputs": [
    {
     "data": {
      "text/plain": [
       "{'01a8c04001b8a2b130c3466dca1e55c68b683aa8f3f55e2af062f0351b33b216': 207,\n",
       " '19f6ece27dce7909ecf314dbbf25ea83d097184eb9b4d5a9b0fbe2c642c96433': 197,\n",
       " '2599a2aa663dde584091f55c6873d0dad4d72740cef22a98ff5bfd1de1d37262': 200,\n",
       " '337c781bf1b00b1788f379860be0f548c62dac8795ab9ca238390f81f7528d2c': 183,\n",
       " '3e1b95d5f516967275d039023fa87d77a4550243eaf94651f227326b8ab13c4e': 217,\n",
       " '517d8cb41c5f51439e9dc3f31d8391ab6da0ceb46098037a4f4315cb37f22e3f': 391,\n",
       " '5ade1fb7b29bfb09f0e1627d307ab8ebdd0aa459c54da0542f798f2d0c9fe9a6': 338,\n",
       " '60611b0f9b3f79b11e6526b21ad8b971d5f3c834902cb34bacf9d6e68301bca9': 185,\n",
       " '6eb117fba67ce0824d20ad01e0092e6b6ae29d8352f90a95528213721311a7b2': 337,\n",
       " '6f8373907216cf129867e4cc4a5468929ee7803b3f5a68870f1e10c024ee4737': 181,\n",
       " '82c17dd6ba9c0342bf104fc126a0c5dae8f49579499e47e334d46096470a8072': 730,\n",
       " '864c3f08cd170291686f1bc791da3c1436928b3f16da5da876d9eb5fdc20a3db': 695,\n",
       " '92f3111d0b7ea2e62804343583cf5ba713b94d1b23c169504c3be01eaf51689c': 368,\n",
       " '97ac4af36d096aaa1cd2f437581805897b21ad387521153fea6b1efc0a9122da': 202,\n",
       " 'b5943d94fc2053d513087549649e6889a9f34041b7ee4f3361ebf51b87f50765': 359,\n",
       " 'c8822cc3f97dacec37cc4934c34023c863cedfdba95179371cb642208c98e1f9': 339,\n",
       " 'dac905bf6c14778bdd4ef4fa339f0a06ad34be9b4a7d5f7f885f8ce29d5275a0': 205,\n",
       " 'e4d99203f619c1b44e3685361674b8989696f5bb757cc7e4ba948bad39cd5d94': 334,\n",
       " 'f00190ba7f21f58233f94dc44e5b7c34b5d79f1a0a99a4b43330352cb019fb01': 359,\n",
       " 'f1a518be3dbcfc56bf5eb020005a0accdbd08a123d97e173ebe38e38b68c9041': 358}"
      ]
     },
     "execution_count": 7,
     "metadata": {},
     "output_type": "execute_result"
    }
   ],
   "source": [
    "time_all_committed_accepts"
   ]
  },
  {
   "cell_type": "code",
   "execution_count": 8,
   "id": "259de589",
   "metadata": {},
   "outputs": [
    {
     "data": {
      "text/plain": [
       "20"
      ]
     },
     "execution_count": 8,
     "metadata": {},
     "output_type": "execute_result"
    }
   ],
   "source": [
    "len(time_passed_accepts)"
   ]
  },
  {
   "cell_type": "code",
   "execution_count": 9,
   "id": "322cbb8a",
   "metadata": {},
   "outputs": [
    {
     "data": {
      "text/plain": [
       "10"
      ]
     },
     "execution_count": 9,
     "metadata": {},
     "output_type": "execute_result"
    }
   ],
   "source": [
    "len(accept_overfit)"
   ]
  },
  {
   "cell_type": "code",
   "execution_count": 10,
   "id": "221ae9f5",
   "metadata": {},
   "outputs": [
    {
     "data": {
      "text/plain": [
       "319.25"
      ]
     },
     "execution_count": 10,
     "metadata": {},
     "output_type": "execute_result"
    }
   ],
   "source": [
    "stat.mean(time_passed_accepts)"
   ]
  },
  {
   "cell_type": "code",
   "execution_count": 11,
   "id": "d685e173",
   "metadata": {},
   "outputs": [
    {
     "data": {
      "text/plain": [
       "387.8"
      ]
     },
     "execution_count": 11,
     "metadata": {},
     "output_type": "execute_result"
    }
   ],
   "source": [
    "stat.mean(accept_overfit)"
   ]
  },
  {
   "cell_type": "code",
   "execution_count": 12,
   "id": "d579cd65",
   "metadata": {},
   "outputs": [
    {
     "name": "stdout",
     "output_type": "stream",
     "text": [
      "319.25\n",
      "335.5\n",
      "730\n",
      "181\n",
      "155.27\n",
      "total accepts = 20\n"
     ]
    }
   ],
   "source": [
    "# Analysis of CREATE Transaction\n",
    "accept_mean = \"{:.2f}\".format(stat.mean(time_passed_accepts))\n",
    "accept_median = stat.median(time_passed_accepts)\n",
    "accept_max = max(time_passed_accepts)\n",
    "accept_min = min(time_passed_accepts)\n",
    "accept_std_dev = \"{:.2f}\".format(stat.stdev(time_passed_accepts))\n",
    "\n",
    "print(accept_mean)\n",
    "print(accept_median)\n",
    "print(accept_max)\n",
    "print(accept_min)\n",
    "print(accept_std_dev)\n",
    "print(f\"total accepts = {len(time_passed_accepts)}\")\n",
    "\n",
    "accept_dict = {\n",
    "               'min': accept_min,\n",
    "               'max': accept_max,\n",
    "               'average': accept_mean,\n",
    "               'median' : accept_median,\n",
    "               'standard_deviation' : accept_std_dev,\n",
    "               '# of txs' : len(time_passed_accepts)}"
   ]
  },
  {
   "cell_type": "code",
   "execution_count": 13,
   "id": "b7b3f66d",
   "metadata": {
    "scrolled": true
   },
   "outputs": [
    {
     "data": {
      "text/html": [
       "<div>\n",
       "<style scoped>\n",
       "    .dataframe tbody tr th:only-of-type {\n",
       "        vertical-align: middle;\n",
       "    }\n",
       "\n",
       "    .dataframe tbody tr th {\n",
       "        vertical-align: top;\n",
       "    }\n",
       "\n",
       "    .dataframe thead th {\n",
       "        text-align: right;\n",
       "    }\n",
       "</style>\n",
       "<table border=\"1\" class=\"dataframe\">\n",
       "  <thead>\n",
       "    <tr style=\"text-align: right;\">\n",
       "      <th></th>\n",
       "      <th>min</th>\n",
       "      <th>max</th>\n",
       "      <th>average</th>\n",
       "      <th>median</th>\n",
       "      <th>standard_deviation</th>\n",
       "      <th># of txs</th>\n",
       "    </tr>\n",
       "  </thead>\n",
       "  <tbody>\n",
       "    <tr>\n",
       "      <th>ACCEPT</th>\n",
       "      <td>181</td>\n",
       "      <td>730</td>\n",
       "      <td>319.25</td>\n",
       "      <td>335.5</td>\n",
       "      <td>155.27</td>\n",
       "      <td>20</td>\n",
       "    </tr>\n",
       "  </tbody>\n",
       "</table>\n",
       "</div>"
      ],
      "text/plain": [
       "        min  max average  median standard_deviation  # of txs\n",
       "ACCEPT  181  730  319.25   335.5             155.27        20"
      ]
     },
     "execution_count": 13,
     "metadata": {},
     "output_type": "execute_result"
    }
   ],
   "source": [
    "results = pd.DataFrame(accept_dict, index = ['ACCEPT'])\n",
    "results.to_csv('accept_analysis.csv', sep=',', encoding='utf-8')\n",
    "results"
   ]
  },
  {
   "cell_type": "code",
   "execution_count": null,
   "id": "c5a7819c",
   "metadata": {},
   "outputs": [],
   "source": []
  },
  {
   "cell_type": "code",
   "execution_count": null,
   "id": "a2eae917",
   "metadata": {},
   "outputs": [],
   "source": []
  }
 ],
 "metadata": {
  "kernelspec": {
   "display_name": "Python 3 (ipykernel)",
   "language": "python",
   "name": "python3"
  },
  "language_info": {
   "codemirror_mode": {
    "name": "ipython",
    "version": 3
   },
   "file_extension": ".py",
   "mimetype": "text/x-python",
   "name": "python",
   "nbconvert_exporter": "python",
   "pygments_lexer": "ipython3",
   "version": "3.7.4"
  }
 },
 "nbformat": 4,
 "nbformat_minor": 5
}
