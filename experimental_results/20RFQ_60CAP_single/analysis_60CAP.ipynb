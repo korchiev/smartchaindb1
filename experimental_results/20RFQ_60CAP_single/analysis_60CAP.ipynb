{
 "cells": [
  {
   "cell_type": "code",
   "execution_count": 1,
   "id": "cd2bbc56",
   "metadata": {},
   "outputs": [],
   "source": [
    "import pandas as pd\n",
    "import numpy as np\n",
    "import statistics as stat"
   ]
  },
  {
   "cell_type": "code",
   "execution_count": 2,
   "id": "9d0c43b9",
   "metadata": {},
   "outputs": [],
   "source": [
    "data = pd.read_csv('scdb-20rfq-60cap-metrics.csv', names = ['Event', 'Time', 'Tx_type', 'Tx_id', 'Accept_id', 'time'])"
   ]
  },
  {
   "cell_type": "code",
   "execution_count": 3,
   "id": "4f4a91ec",
   "metadata": {},
   "outputs": [
    {
     "data": {
      "text/plain": [
       "8756"
      ]
     },
     "execution_count": 3,
     "metadata": {},
     "output_type": "execute_result"
    }
   ],
   "source": [
    "len(data)"
   ]
  },
  {
   "cell_type": "code",
   "execution_count": 4,
   "id": "57c9103a",
   "metadata": {},
   "outputs": [],
   "source": [
    "#grouping every transaction by its ID\n",
    "grouped_data = data.groupby('Tx_id')"
   ]
  },
  {
   "cell_type": "code",
   "execution_count": 5,
   "id": "850c5f6e",
   "metadata": {},
   "outputs": [],
   "source": [
    "#return_accept_id_group = data.groupby('Accept_id')"
   ]
  },
  {
   "cell_type": "code",
   "execution_count": 6,
   "id": "62da6a88",
   "metadata": {},
   "outputs": [
    {
     "data": {
      "text/plain": [
       "1538"
      ]
     },
     "execution_count": 6,
     "metadata": {},
     "output_type": "execute_result"
    }
   ],
   "source": [
    "tx_id = list(grouped_data.groups.keys())\n",
    "len(tx_id)"
   ]
  },
  {
   "cell_type": "code",
   "execution_count": 7,
   "id": "59134b86",
   "metadata": {
    "scrolled": true
   },
   "outputs": [
    {
     "name": "stdout",
     "output_type": "stream",
     "text": [
      "#RFQs 20\n",
      "#BIDs =  499\n",
      "#CREATEs =  500\n",
      "#ACCEPTs =  20\n",
      "#RETURNs =  499\n",
      "#Total =  1538\n"
     ]
    }
   ],
   "source": [
    "#new data frame to get the count of each transaction type\n",
    "data_unique_ids = data.drop_duplicates(subset = ['Tx_id'])\n",
    "rfq_count = 0\n",
    "bid_count = 0\n",
    "create_count = 0\n",
    "accept_count = 0\n",
    "return_count_1 = 0\n",
    "for i in range(0, len(data_unique_ids)):\n",
    "    if data_unique_ids.iloc[i]['Tx_type'] == 'REQUEST_FOR_QUOTE':\n",
    "        rfq_count += 1\n",
    "    if data_unique_ids.iloc[i]['Tx_type'] == 'CREATE':\n",
    "        create_count += 1    \n",
    "    if data_unique_ids.iloc[i]['Tx_type'] == 'BID':\n",
    "        bid_count += 1   \n",
    "    if data_unique_ids.iloc[i]['Tx_type'] == 'ACCEPT':\n",
    "        accept_count += 1 \n",
    "    if data_unique_ids.iloc[i]['Tx_type'] == 'RETURN':\n",
    "        return_count_1 += 1   \n",
    "print(f\"#RFQs {rfq_count}\")\n",
    "print(f\"#BIDs =  {bid_count}\")\n",
    "print(f\"#CREATEs =  {create_count}\")\n",
    "print(f\"#ACCEPTs =  {accept_count}\")\n",
    "print(f\"#RETURNs =  {return_count_1}\")\n",
    "print(f\"#Total =  {return_count_1 + rfq_count + bid_count + create_count + accept_count}\")"
   ]
  },
  {
   "cell_type": "code",
   "execution_count": 8,
   "id": "8342ffeb",
   "metadata": {},
   "outputs": [],
   "source": [
    "# Time per each transaction type\n",
    "time_all_committed_bids = {}\n",
    "time_passed_bids = []\n",
    "bid_time = {}\n",
    "bids_overfit = []\n",
    "bids_underfit = []\n",
    "other_bids = []\n",
    "\n",
    "time_all_committed_creates = {}\n",
    "time_passed_creates = []\n",
    "create_time = {}\n",
    "creates_overfit = []\n",
    "creates_underfit = []\n",
    "other_creates = []\n",
    "\n",
    "time_all_committed_rfqs = {}\n",
    "time_passed_rfqs = []\n",
    "rfq_time = {}\n",
    "rfq_overfit = []\n",
    "rfq_underfit = []\n",
    "other_rfqs = []\n",
    "\n",
    "time_all_committed_accepts = {}\n",
    "time_passed_accepts = []\n",
    "accept_time = {}\n",
    "time_failed_accepts = []\n",
    "accept_underfit = []\n",
    "accept_overfit = []\n",
    "other_accepts = []\n",
    "\n",
    "\n",
    "time_all_committed_returns = {}\n",
    "time_passed_returns= []\n",
    "return_time = {}\n",
    "return_overfit = []\n",
    "return_underfit = []\n",
    "other_returns = []\n",
    "\n",
    "\n",
    "time_bids = []\n",
    "time_id_bid = {}\n",
    "\n",
    "\n",
    "time_rfqs = []\n",
    "time_id_rfqs = {}\n",
    "\n",
    "time_accept = []\n",
    "time_id_accept = {}\n",
    "\n",
    "time_create = []\n",
    "time_id_create = {}\n",
    "\n",
    "time_returns = []\n",
    "accept_return_count = {}\n",
    "\n",
    "\n",
    "time_id_return = {}\n",
    "for i in range(0, len(tx_id)):\n",
    "    temp_list = []\n",
    "    return_count = 0\n",
    "#     if \"REQUEST_FOR_QUOTE\" == grouped_data.get_group(tx_id[i])[\"Tx_type\"].to_list()[0]:\n",
    "#         temp_list = grouped_data.get_group(tx_id[i])[\"Time\"].to_list()\n",
    "#         actual_time = max(temp_list)\n",
    "#         time_rfqs.append(actual_time)\n",
    "#         time_id_rfqs[tx_id[i]] = actual_time\n",
    "\n",
    "    if \"REQUEST_FOR_QUOTE\" == grouped_data.get_group(tx_id[i])[\"Tx_type\"].to_list()[0]:\n",
    "        temp_list = grouped_data.get_group(tx_id[i])[\"Time\"].to_list()\n",
    "        if len(temp_list) == 6 and grouped_data.get_group(tx_id[i])[\"Event\"].to_list()[5] == \"commit_tx\":\n",
    "            actual_time = max(temp_list)\n",
    "            time_all_committed_rfqs[tx_id[i]] = actual_time\n",
    "            time_passed_rfqs.append(actual_time)\n",
    "            rfq_time[tx_id[i]] = actual_time\n",
    "        elif len(temp_list) < 6:\n",
    "            temp_list.append(tx_id[i])\n",
    "            rfq_underfit.append(temp_list)\n",
    "        elif len(temp_list) <= 10:\n",
    "            temp_list = grouped_data.get_group(tx_id[i]).drop_duplicates(subset=['Event'])[\"Time\"].to_list()\n",
    "            actual_time = max(temp_list)\n",
    "            time_all_committed_rfqs[tx_id[i]] = actual_time\n",
    "            time_passed_rfqs.append(actual_time)\n",
    "            temp_list.append(tx_id[i])\n",
    "            temp_list.append(actual_time)\n",
    "            rfq_overfit.append(temp_list)\n",
    "            \n",
    "        else:\n",
    "            temp_list.append(tx_id[i])\n",
    "            other_rfqs.append(temp_list)\n",
    "        \n",
    "        \n",
    "#     if \"CREATE\" == grouped_data.get_group(tx_id[i])[\"Tx_type\"].to_list()[0]:\n",
    "#         temp_list = grouped_data.get_group(tx_id[i])[\"Time\"].to_list()\n",
    "#         actual_time = max(temp_list) \n",
    "#         time_create.append(actual_time)\n",
    "#         time_id_create[tx_id[i]] = actual_time\n",
    "\n",
    "    if \"CREATE\" == grouped_data.get_group(tx_id[i])[\"Tx_type\"].to_list()[0]:\n",
    "        temp_list = grouped_data.get_group(tx_id[i])[\"Time\"].to_list()\n",
    "        if len(temp_list) == 6 and grouped_data.get_group(tx_id[i])[\"Event\"].to_list()[5] == \"commit_tx\":\n",
    "            actual_time = max(temp_list)\n",
    "            time_all_committed_creates[tx_id[i]] = actual_time\n",
    "            time_passed_creates.append(actual_time)\n",
    "            create_time[tx_id[i]] = actual_time\n",
    "        elif len(temp_list) < 6:\n",
    "            temp_list.append(tx_id[i])\n",
    "            creates_underfit.append(temp_list)\n",
    "        elif len(temp_list) <= 10:\n",
    "            temp_list = grouped_data.get_group(tx_id[i]).drop_duplicates(subset=['Event'])[\"Time\"].to_list()\n",
    "            actual_time = max(temp_list)\n",
    "            time_passed_creates.append(actual_time)\n",
    "            temp_list.append(tx_id[i])\n",
    "            temp_list.append(actual_time)\n",
    "            creates_overfit.append(temp_list)\n",
    "            \n",
    "        else:\n",
    "            temp_list.append(tx_id[i])\n",
    "            other_creates.append(temp_list)\n",
    "    \"\"\" \n",
    "        if \"ACCEPT\" == grouped_data.get_group(tx_id[i])[\"Tx_type\"].to_list()[0] or 'None' != grouped_data.get_group(tx_id[i])[\"Accept_id\"].to_list()[0]:\n",
    "        print(i)\n",
    "        temp_list = grouped_data.get_group(tx_id[i])[\"Time\"].to_list()\n",
    "        for j in range(0, len(data)):\n",
    "            if data['Event'][j] = \"RETURN\" and tx_id[i] == data['Accept_id'][j]:\n",
    "                temp_list.append(data['Time'][j])\n",
    "        print(temp_list)\n",
    "        actual_time = max(temp_list)\n",
    "        time_accept.append(actual_time)\n",
    "        \"\"\"\n",
    "    \n",
    "    if \"ACCEPT\" == grouped_data.get_group(tx_id[i])[\"Tx_type\"].to_list()[0]:\n",
    "        temp_list = grouped_data.get_group(tx_id[i])[\"Time\"].to_list()\n",
    "        for j in range(0, len(data)):\n",
    "            if data['Event'][j] == \"commit_tx\" and tx_id[i] == data['Accept_id'][j]:\n",
    "                temp_list.append(data[\"Time\"][j])\n",
    "                return_count += 1\n",
    "        accept_return_count [tx_id[i]] = return_count\n",
    "        last_return = max(temp_list)\n",
    "        time_accept.append(last_return)\n",
    "        time_id_accept[tx_id[i]] = last_return\n",
    "        temp_list = grouped_data.get_group(tx_id[i])[\"Time\"].to_list()\n",
    "        \n",
    "        if len(temp_list) == 6 and grouped_data.get_group(tx_id[i])[\"Event\"].to_list()[5] == \"commit_tx\":\n",
    "            temp_list.append(last_return)\n",
    "            actual_time = max(temp_list)\n",
    "            time_all_committed_accepts[tx_id[i]] = actual_time\n",
    "            time_passed_accepts.append(actual_time)\n",
    "            accept_time[tx_id[i]] = actual_time\n",
    "        elif len(temp_list) < 6:\n",
    "            temp_list.append(last_return)\n",
    "            temp_list.append(tx_id[i])\n",
    "            accept_underfit.append(temp_list)\n",
    "        elif len(temp_list) <= 10:\n",
    "            time_all_committed_accepts[tx_id[i]] = actual_time\n",
    "            temp_list.append(last_return)\n",
    "            actual_time = max(temp_list)\n",
    "            time_passed_accepts.append(actual_time)\n",
    "            temp_list.append(tx_id[i])\n",
    "            temp_list.append(actual_time)\n",
    "            accept_overfit.append(temp_list)\n",
    "            \n",
    "        else:\n",
    "            temp_list.append(last_return)\n",
    "            temp_list.append(tx_id[i])\n",
    "            other_accepts.append(temp_list)\n",
    "\n",
    "    \n",
    "#     if \"ACCEPT\" == grouped_data.get_group(tx_id[i])[\"Tx_type\"].to_list()[0]:\n",
    "#         temp_list = grouped_data.get_group(tx_id[i])[\"Time\"].to_list()\n",
    "#         for j in range(0, len(data)):\n",
    "#             if data['Event'][j] == \"commit_tx\" and tx_id[i] == data['Accept_id'][j]:\n",
    "#                 temp_list.append(data[\"Time\"][j])\n",
    "#                 return_count += 1\n",
    "#         accept_return_count [tx_id[i]] = return_count\n",
    "#         actual_time = max(temp_list)\n",
    "#         time_accept.append(actual_time)\n",
    "#         time_id_accept[tx_id[i]] = actual_time\n",
    "         \n",
    "    if \"RETURN\" == grouped_data.get_group(tx_id[i])[\"Tx_type\"].to_list()[0]:\n",
    "        temp_list = grouped_data.get_group(tx_id[i])[\"Time\"].to_list()\n",
    "        if len(temp_list) >= 4:\n",
    "            time_all_committed_returns[tx_id[i]] = temp_list\n",
    "            actual_time = max(temp_list)\n",
    "            time_passed_returns.append(actual_time)\n",
    "            return_time[tx_id[i]] = actual_time\n",
    "        elif len(temp_list) < 4:\n",
    "            temp_list.append(tx_id[i])\n",
    "            return_underfit.append(temp_list)\n",
    "        elif len(temp_list) > 7:\n",
    "            temp_list = grouped_data.get_group(tx_id[i]).drop_duplicates(subset=['Event'])[\"Time\"].to_list()\n",
    "            actual_time = max(temp_list)\n",
    "            time_passed_returns.append(actual_time)\n",
    "            temp_list.append(tx_id[i])\n",
    "            temp_list.append(actual_time)\n",
    "            return_overfit.append(temp_list)\n",
    "            \n",
    "        else:\n",
    "            temp_list.append(tx_id[i])\n",
    "            other_returns.append(temp_list)\n",
    "    \n",
    "#     if \"RETURN\" == grouped_data.get_group(tx_id[i])[\"Tx_type\"].to_list()[0]:\n",
    "#         temp_list = grouped_data.get_group(tx_id[i])[\"Time\"].to_list()\n",
    "#         actual_time = max(temp_list)\n",
    "#         time_returns.append(actual_time)\n",
    "#         time_id_return[tx_id[i]] = actual_time\n",
    "\n",
    "            \n",
    "    if \"BID\" == grouped_data.get_group(tx_id[i])[\"Tx_type\"].to_list()[0]:\n",
    "        temp_list = grouped_data.get_group(tx_id[i])[\"Time\"].to_list()\n",
    "        if len(temp_list) == 6 and grouped_data.get_group(tx_id[i])[\"Event\"].to_list()[5] == \"commit_tx\":\n",
    "            time_all_committed_bids[tx_id[i]] = temp_list\n",
    "            actual_time = max(temp_list)\n",
    "            time_passed_bids.append(actual_time)\n",
    "            bid_time[tx_id[i]] = actual_time\n",
    "        elif len(temp_list) < 6:\n",
    "            temp_list.append(tx_id[i])\n",
    "            bids_underfit.append(temp_list)\n",
    "        elif len(temp_list) == 7:\n",
    "            temp_list = grouped_data.get_group(tx_id[i]).drop_duplicates(subset=['Event'])[\"Time\"].to_list()\n",
    "            actual_time = max(temp_list)\n",
    "            time_passed_bids.append(actual_time)\n",
    "            temp_list.append(tx_id[i])\n",
    "            temp_list.append(actual_time)\n",
    "            bids_overfit.append(temp_list)\n",
    "            \n",
    "        else:\n",
    "            other_bids.append(temp_list)\n",
    "#     if \"BID\" == grouped_data.get_group(tx_id[i])[\"Tx_type\"].to_list()[0]:\n",
    "#         temp_list = grouped_data.get_group(tx_id[i])[\"Time\"].to_list()\n",
    "#         actual_time = max(temp_list)\n",
    "#         if actual_time != 0:\n",
    "#             time_bids.append(actual_time)\n",
    "#             time_id_bid[tx_id[i]] = actual_time"
   ]
  },
  {
   "cell_type": "code",
   "execution_count": 9,
   "id": "42cfa262",
   "metadata": {},
   "outputs": [],
   "source": [
    "time_all_committed_rfqs = {}\n",
    "time_passed_rfqs = []\n",
    "rfq_time = {}\n",
    "rfq_overfit = []\n",
    "rfq_underfit = []\n",
    "not_validated_rfqs = []\n",
    "passed_validation = {}\n",
    "for i in range(0, len(tx_id)):\n",
    "    temp_list = []\n",
    "    if \"REQUEST_FOR_QUOTE\" == grouped_data.get_group(tx_id[i])[\"Tx_type\"].to_list()[0]:\n",
    "        temp_list = grouped_data.get_group(tx_id[i])[\"Time\"].to_list()\n",
    "        if len(temp_list) == 6 and grouped_data.get_group(tx_id[i])[\"Event\"].to_list()[5] == \"commit_tx\":\n",
    "            actual_time = max(temp_list)\n",
    "            time_all_committed_rfqs[tx_id[i]] = actual_time\n",
    "            time_passed_rfqs.append(actual_time)\n",
    "            rfq_time[tx_id[i]] = actual_time\n",
    "            if grouped_data.get_group(tx_id[i])[\"Event\"].to_list()[1] == \"before_tendermint\":\n",
    "                val = temp_list[1] - temp_list[0]\n",
    "                passed_validation[tx_id[i]] = val\n",
    "        elif  1 < len(temp_list) < 3:\n",
    "            val = temp_list[1] - temp_list[0]\n",
    "            passed_validation[tx_id[i]] = val\n",
    "            temp_list.append(tx_id[i])\n",
    "            rfq_underfit.append(temp_list)\n",
    "        elif  6 < len(temp_list) <= 10:\n",
    "            val = temp_list[1] - temp_list[0]\n",
    "            passed_validation[tx_id[i]] = val\n",
    "            temp_list = grouped_data.get_group(tx_id[i]).drop_duplicates(subset=['Event'])[\"Time\"].to_list()\n",
    "            actual_time = max(temp_list)\n",
    "            time_all_committed_rfqs[tx_id[i]] = actual_time\n",
    "            time_passed_rfqs.append(actual_time)\n",
    "            temp_list.append(tx_id[i])\n",
    "            temp_list.append(actual_time)\n",
    "            rfq_overfit.append(temp_list)\n",
    "            \n",
    "            \n",
    "        else:\n",
    "            temp_list.append(tx_id[i])\n",
    "            not_validated_rfqs.append(temp_list)"
   ]
  },
  {
   "cell_type": "code",
   "execution_count": 10,
   "id": "15d8785d",
   "metadata": {},
   "outputs": [
    {
     "data": {
      "text/plain": [
       "20"
      ]
     },
     "execution_count": 10,
     "metadata": {},
     "output_type": "execute_result"
    }
   ],
   "source": [
    "len(time_id_accept)"
   ]
  },
  {
   "cell_type": "code",
   "execution_count": 11,
   "id": "cafd2e92",
   "metadata": {},
   "outputs": [
    {
     "data": {
      "text/plain": [
       "{'01a8c04001b8a2b130c3466dca1e55c68b683aa8f3f55e2af062f0351b33b216': 25,\n",
       " '19f6ece27dce7909ecf314dbbf25ea83d097184eb9b4d5a9b0fbe2c642c96433': 25,\n",
       " '2599a2aa663dde584091f55c6873d0dad4d72740cef22a98ff5bfd1de1d37262': 25,\n",
       " '337c781bf1b00b1788f379860be0f548c62dac8795ab9ca238390f81f7528d2c': 25,\n",
       " '3e1b95d5f516967275d039023fa87d77a4550243eaf94651f227326b8ab13c4e': 25,\n",
       " '517d8cb41c5f51439e9dc3f31d8391ab6da0ceb46098037a4f4315cb37f22e3f': 25,\n",
       " '5ade1fb7b29bfb09f0e1627d307ab8ebdd0aa459c54da0542f798f2d0c9fe9a6': 25,\n",
       " '60611b0f9b3f79b11e6526b21ad8b971d5f3c834902cb34bacf9d6e68301bca9': 25,\n",
       " '6eb117fba67ce0824d20ad01e0092e6b6ae29d8352f90a95528213721311a7b2': 24,\n",
       " '6f8373907216cf129867e4cc4a5468929ee7803b3f5a68870f1e10c024ee4737': 25,\n",
       " '82c17dd6ba9c0342bf104fc126a0c5dae8f49579499e47e334d46096470a8072': 25,\n",
       " '864c3f08cd170291686f1bc791da3c1436928b3f16da5da876d9eb5fdc20a3db': 25,\n",
       " '92f3111d0b7ea2e62804343583cf5ba713b94d1b23c169504c3be01eaf51689c': 25,\n",
       " '97ac4af36d096aaa1cd2f437581805897b21ad387521153fea6b1efc0a9122da': 25,\n",
       " 'b5943d94fc2053d513087549649e6889a9f34041b7ee4f3361ebf51b87f50765': 25,\n",
       " 'c8822cc3f97dacec37cc4934c34023c863cedfdba95179371cb642208c98e1f9': 25,\n",
       " 'dac905bf6c14778bdd4ef4fa339f0a06ad34be9b4a7d5f7f885f8ce29d5275a0': 25,\n",
       " 'e4d99203f619c1b44e3685361674b8989696f5bb757cc7e4ba948bad39cd5d94': 25,\n",
       " 'f00190ba7f21f58233f94dc44e5b7c34b5d79f1a0a99a4b43330352cb019fb01': 25,\n",
       " 'f1a518be3dbcfc56bf5eb020005a0accdbd08a123d97e173ebe38e38b68c9041': 25}"
      ]
     },
     "execution_count": 11,
     "metadata": {},
     "output_type": "execute_result"
    }
   ],
   "source": [
    "accept_return_count"
   ]
  },
  {
   "cell_type": "code",
   "execution_count": 12,
   "id": "7a119cf1",
   "metadata": {},
   "outputs": [
    {
     "ename": "FileNotFoundError",
     "evalue": "[Errno 2] No such file or directory: 'create_data.csv'",
     "output_type": "error",
     "traceback": [
      "\u001b[1;31m---------------------------------------------------------------------------\u001b[0m",
      "\u001b[1;31mFileNotFoundError\u001b[0m                         Traceback (most recent call last)",
      "\u001b[1;32m<ipython-input-12-1c63616526d1>\u001b[0m in \u001b[0;36m<module>\u001b[1;34m\u001b[0m\n\u001b[1;32m----> 1\u001b[1;33m \u001b[0mdf_passed_creates\u001b[0m \u001b[1;33m=\u001b[0m \u001b[0mpd\u001b[0m\u001b[1;33m.\u001b[0m\u001b[0mread_csv\u001b[0m\u001b[1;33m(\u001b[0m\u001b[1;34m'create_data.csv'\u001b[0m\u001b[1;33m)\u001b[0m\u001b[1;33m\u001b[0m\u001b[1;33m\u001b[0m\u001b[0m\n\u001b[0m\u001b[0;32m      2\u001b[0m \u001b[0mdf_passed_bids\u001b[0m \u001b[1;33m=\u001b[0m \u001b[0mpd\u001b[0m\u001b[1;33m.\u001b[0m\u001b[0mread_csv\u001b[0m\u001b[1;33m(\u001b[0m\u001b[1;34m'bid_data.csv'\u001b[0m\u001b[1;33m)\u001b[0m\u001b[1;33m\u001b[0m\u001b[1;33m\u001b[0m\u001b[0m\n\u001b[0;32m      3\u001b[0m \u001b[0mdf_passed_accepts\u001b[0m \u001b[1;33m=\u001b[0m \u001b[0mpd\u001b[0m\u001b[1;33m.\u001b[0m\u001b[0mread_csv\u001b[0m\u001b[1;33m(\u001b[0m\u001b[1;34m'accept_data.csv'\u001b[0m\u001b[1;33m)\u001b[0m\u001b[1;33m\u001b[0m\u001b[1;33m\u001b[0m\u001b[0m\n\u001b[0;32m      4\u001b[0m \u001b[0mdf_passed_returns\u001b[0m \u001b[1;33m=\u001b[0m \u001b[0mpd\u001b[0m\u001b[1;33m.\u001b[0m\u001b[0mread_csv\u001b[0m\u001b[1;33m(\u001b[0m\u001b[1;34m'return_data.csv'\u001b[0m\u001b[1;33m)\u001b[0m\u001b[1;33m\u001b[0m\u001b[1;33m\u001b[0m\u001b[0m\n\u001b[0;32m      5\u001b[0m \u001b[0mdf_passed_rfqs\u001b[0m \u001b[1;33m=\u001b[0m \u001b[0mpd\u001b[0m\u001b[1;33m.\u001b[0m\u001b[0mread_csv\u001b[0m\u001b[1;33m(\u001b[0m\u001b[1;34m'rfq_data1.csv'\u001b[0m\u001b[1;33m)\u001b[0m\u001b[1;33m\u001b[0m\u001b[1;33m\u001b[0m\u001b[0m\n",
      "\u001b[1;32m~\\Anaconda3\\lib\\site-packages\\pandas\\io\\parsers.py\u001b[0m in \u001b[0;36mread_csv\u001b[1;34m(filepath_or_buffer, sep, delimiter, header, names, index_col, usecols, squeeze, prefix, mangle_dupe_cols, dtype, engine, converters, true_values, false_values, skipinitialspace, skiprows, skipfooter, nrows, na_values, keep_default_na, na_filter, verbose, skip_blank_lines, parse_dates, infer_datetime_format, keep_date_col, date_parser, dayfirst, cache_dates, iterator, chunksize, compression, thousands, decimal, lineterminator, quotechar, quoting, doublequote, escapechar, comment, encoding, dialect, error_bad_lines, warn_bad_lines, delim_whitespace, low_memory, memory_map, float_precision, storage_options)\u001b[0m\n\u001b[0;32m    608\u001b[0m     \u001b[0mkwds\u001b[0m\u001b[1;33m.\u001b[0m\u001b[0mupdate\u001b[0m\u001b[1;33m(\u001b[0m\u001b[0mkwds_defaults\u001b[0m\u001b[1;33m)\u001b[0m\u001b[1;33m\u001b[0m\u001b[1;33m\u001b[0m\u001b[0m\n\u001b[0;32m    609\u001b[0m \u001b[1;33m\u001b[0m\u001b[0m\n\u001b[1;32m--> 610\u001b[1;33m     \u001b[1;32mreturn\u001b[0m \u001b[0m_read\u001b[0m\u001b[1;33m(\u001b[0m\u001b[0mfilepath_or_buffer\u001b[0m\u001b[1;33m,\u001b[0m \u001b[0mkwds\u001b[0m\u001b[1;33m)\u001b[0m\u001b[1;33m\u001b[0m\u001b[1;33m\u001b[0m\u001b[0m\n\u001b[0m\u001b[0;32m    611\u001b[0m \u001b[1;33m\u001b[0m\u001b[0m\n\u001b[0;32m    612\u001b[0m \u001b[1;33m\u001b[0m\u001b[0m\n",
      "\u001b[1;32m~\\Anaconda3\\lib\\site-packages\\pandas\\io\\parsers.py\u001b[0m in \u001b[0;36m_read\u001b[1;34m(filepath_or_buffer, kwds)\u001b[0m\n\u001b[0;32m    460\u001b[0m \u001b[1;33m\u001b[0m\u001b[0m\n\u001b[0;32m    461\u001b[0m     \u001b[1;31m# Create the parser.\u001b[0m\u001b[1;33m\u001b[0m\u001b[1;33m\u001b[0m\u001b[1;33m\u001b[0m\u001b[0m\n\u001b[1;32m--> 462\u001b[1;33m     \u001b[0mparser\u001b[0m \u001b[1;33m=\u001b[0m \u001b[0mTextFileReader\u001b[0m\u001b[1;33m(\u001b[0m\u001b[0mfilepath_or_buffer\u001b[0m\u001b[1;33m,\u001b[0m \u001b[1;33m**\u001b[0m\u001b[0mkwds\u001b[0m\u001b[1;33m)\u001b[0m\u001b[1;33m\u001b[0m\u001b[1;33m\u001b[0m\u001b[0m\n\u001b[0m\u001b[0;32m    463\u001b[0m \u001b[1;33m\u001b[0m\u001b[0m\n\u001b[0;32m    464\u001b[0m     \u001b[1;32mif\u001b[0m \u001b[0mchunksize\u001b[0m \u001b[1;32mor\u001b[0m \u001b[0miterator\u001b[0m\u001b[1;33m:\u001b[0m\u001b[1;33m\u001b[0m\u001b[1;33m\u001b[0m\u001b[0m\n",
      "\u001b[1;32m~\\Anaconda3\\lib\\site-packages\\pandas\\io\\parsers.py\u001b[0m in \u001b[0;36m__init__\u001b[1;34m(self, f, engine, **kwds)\u001b[0m\n\u001b[0;32m    817\u001b[0m             \u001b[0mself\u001b[0m\u001b[1;33m.\u001b[0m\u001b[0moptions\u001b[0m\u001b[1;33m[\u001b[0m\u001b[1;34m\"has_index_names\"\u001b[0m\u001b[1;33m]\u001b[0m \u001b[1;33m=\u001b[0m \u001b[0mkwds\u001b[0m\u001b[1;33m[\u001b[0m\u001b[1;34m\"has_index_names\"\u001b[0m\u001b[1;33m]\u001b[0m\u001b[1;33m\u001b[0m\u001b[1;33m\u001b[0m\u001b[0m\n\u001b[0;32m    818\u001b[0m \u001b[1;33m\u001b[0m\u001b[0m\n\u001b[1;32m--> 819\u001b[1;33m         \u001b[0mself\u001b[0m\u001b[1;33m.\u001b[0m\u001b[0m_engine\u001b[0m \u001b[1;33m=\u001b[0m \u001b[0mself\u001b[0m\u001b[1;33m.\u001b[0m\u001b[0m_make_engine\u001b[0m\u001b[1;33m(\u001b[0m\u001b[0mself\u001b[0m\u001b[1;33m.\u001b[0m\u001b[0mengine\u001b[0m\u001b[1;33m)\u001b[0m\u001b[1;33m\u001b[0m\u001b[1;33m\u001b[0m\u001b[0m\n\u001b[0m\u001b[0;32m    820\u001b[0m \u001b[1;33m\u001b[0m\u001b[0m\n\u001b[0;32m    821\u001b[0m     \u001b[1;32mdef\u001b[0m \u001b[0mclose\u001b[0m\u001b[1;33m(\u001b[0m\u001b[0mself\u001b[0m\u001b[1;33m)\u001b[0m\u001b[1;33m:\u001b[0m\u001b[1;33m\u001b[0m\u001b[1;33m\u001b[0m\u001b[0m\n",
      "\u001b[1;32m~\\Anaconda3\\lib\\site-packages\\pandas\\io\\parsers.py\u001b[0m in \u001b[0;36m_make_engine\u001b[1;34m(self, engine)\u001b[0m\n\u001b[0;32m   1048\u001b[0m             )\n\u001b[0;32m   1049\u001b[0m         \u001b[1;31m# error: Too many arguments for \"ParserBase\"\u001b[0m\u001b[1;33m\u001b[0m\u001b[1;33m\u001b[0m\u001b[1;33m\u001b[0m\u001b[0m\n\u001b[1;32m-> 1050\u001b[1;33m         \u001b[1;32mreturn\u001b[0m \u001b[0mmapping\u001b[0m\u001b[1;33m[\u001b[0m\u001b[0mengine\u001b[0m\u001b[1;33m]\u001b[0m\u001b[1;33m(\u001b[0m\u001b[0mself\u001b[0m\u001b[1;33m.\u001b[0m\u001b[0mf\u001b[0m\u001b[1;33m,\u001b[0m \u001b[1;33m**\u001b[0m\u001b[0mself\u001b[0m\u001b[1;33m.\u001b[0m\u001b[0moptions\u001b[0m\u001b[1;33m)\u001b[0m  \u001b[1;31m# type: ignore[call-arg]\u001b[0m\u001b[1;33m\u001b[0m\u001b[1;33m\u001b[0m\u001b[0m\n\u001b[0m\u001b[0;32m   1051\u001b[0m \u001b[1;33m\u001b[0m\u001b[0m\n\u001b[0;32m   1052\u001b[0m     \u001b[1;32mdef\u001b[0m \u001b[0m_failover_to_python\u001b[0m\u001b[1;33m(\u001b[0m\u001b[0mself\u001b[0m\u001b[1;33m)\u001b[0m\u001b[1;33m:\u001b[0m\u001b[1;33m\u001b[0m\u001b[1;33m\u001b[0m\u001b[0m\n",
      "\u001b[1;32m~\\Anaconda3\\lib\\site-packages\\pandas\\io\\parsers.py\u001b[0m in \u001b[0;36m__init__\u001b[1;34m(self, src, **kwds)\u001b[0m\n\u001b[0;32m   1865\u001b[0m \u001b[1;33m\u001b[0m\u001b[0m\n\u001b[0;32m   1866\u001b[0m         \u001b[1;31m# open handles\u001b[0m\u001b[1;33m\u001b[0m\u001b[1;33m\u001b[0m\u001b[1;33m\u001b[0m\u001b[0m\n\u001b[1;32m-> 1867\u001b[1;33m         \u001b[0mself\u001b[0m\u001b[1;33m.\u001b[0m\u001b[0m_open_handles\u001b[0m\u001b[1;33m(\u001b[0m\u001b[0msrc\u001b[0m\u001b[1;33m,\u001b[0m \u001b[0mkwds\u001b[0m\u001b[1;33m)\u001b[0m\u001b[1;33m\u001b[0m\u001b[1;33m\u001b[0m\u001b[0m\n\u001b[0m\u001b[0;32m   1868\u001b[0m         \u001b[1;32massert\u001b[0m \u001b[0mself\u001b[0m\u001b[1;33m.\u001b[0m\u001b[0mhandles\u001b[0m \u001b[1;32mis\u001b[0m \u001b[1;32mnot\u001b[0m \u001b[1;32mNone\u001b[0m\u001b[1;33m\u001b[0m\u001b[1;33m\u001b[0m\u001b[0m\n\u001b[0;32m   1869\u001b[0m         \u001b[1;32mfor\u001b[0m \u001b[0mkey\u001b[0m \u001b[1;32min\u001b[0m \u001b[1;33m(\u001b[0m\u001b[1;34m\"storage_options\"\u001b[0m\u001b[1;33m,\u001b[0m \u001b[1;34m\"encoding\"\u001b[0m\u001b[1;33m,\u001b[0m \u001b[1;34m\"memory_map\"\u001b[0m\u001b[1;33m,\u001b[0m \u001b[1;34m\"compression\"\u001b[0m\u001b[1;33m)\u001b[0m\u001b[1;33m:\u001b[0m\u001b[1;33m\u001b[0m\u001b[1;33m\u001b[0m\u001b[0m\n",
      "\u001b[1;32m~\\Anaconda3\\lib\\site-packages\\pandas\\io\\parsers.py\u001b[0m in \u001b[0;36m_open_handles\u001b[1;34m(self, src, kwds)\u001b[0m\n\u001b[0;32m   1366\u001b[0m             \u001b[0mcompression\u001b[0m\u001b[1;33m=\u001b[0m\u001b[0mkwds\u001b[0m\u001b[1;33m.\u001b[0m\u001b[0mget\u001b[0m\u001b[1;33m(\u001b[0m\u001b[1;34m\"compression\"\u001b[0m\u001b[1;33m,\u001b[0m \u001b[1;32mNone\u001b[0m\u001b[1;33m)\u001b[0m\u001b[1;33m,\u001b[0m\u001b[1;33m\u001b[0m\u001b[1;33m\u001b[0m\u001b[0m\n\u001b[0;32m   1367\u001b[0m             \u001b[0mmemory_map\u001b[0m\u001b[1;33m=\u001b[0m\u001b[0mkwds\u001b[0m\u001b[1;33m.\u001b[0m\u001b[0mget\u001b[0m\u001b[1;33m(\u001b[0m\u001b[1;34m\"memory_map\"\u001b[0m\u001b[1;33m,\u001b[0m \u001b[1;32mFalse\u001b[0m\u001b[1;33m)\u001b[0m\u001b[1;33m,\u001b[0m\u001b[1;33m\u001b[0m\u001b[1;33m\u001b[0m\u001b[0m\n\u001b[1;32m-> 1368\u001b[1;33m             \u001b[0mstorage_options\u001b[0m\u001b[1;33m=\u001b[0m\u001b[0mkwds\u001b[0m\u001b[1;33m.\u001b[0m\u001b[0mget\u001b[0m\u001b[1;33m(\u001b[0m\u001b[1;34m\"storage_options\"\u001b[0m\u001b[1;33m,\u001b[0m \u001b[1;32mNone\u001b[0m\u001b[1;33m)\u001b[0m\u001b[1;33m,\u001b[0m\u001b[1;33m\u001b[0m\u001b[1;33m\u001b[0m\u001b[0m\n\u001b[0m\u001b[0;32m   1369\u001b[0m         )\n\u001b[0;32m   1370\u001b[0m \u001b[1;33m\u001b[0m\u001b[0m\n",
      "\u001b[1;32m~\\Anaconda3\\lib\\site-packages\\pandas\\io\\common.py\u001b[0m in \u001b[0;36mget_handle\u001b[1;34m(path_or_buf, mode, encoding, compression, memory_map, is_text, errors, storage_options)\u001b[0m\n\u001b[0;32m    645\u001b[0m                 \u001b[0mencoding\u001b[0m\u001b[1;33m=\u001b[0m\u001b[0mioargs\u001b[0m\u001b[1;33m.\u001b[0m\u001b[0mencoding\u001b[0m\u001b[1;33m,\u001b[0m\u001b[1;33m\u001b[0m\u001b[1;33m\u001b[0m\u001b[0m\n\u001b[0;32m    646\u001b[0m                 \u001b[0merrors\u001b[0m\u001b[1;33m=\u001b[0m\u001b[0merrors\u001b[0m\u001b[1;33m,\u001b[0m\u001b[1;33m\u001b[0m\u001b[1;33m\u001b[0m\u001b[0m\n\u001b[1;32m--> 647\u001b[1;33m                 \u001b[0mnewline\u001b[0m\u001b[1;33m=\u001b[0m\u001b[1;34m\"\"\u001b[0m\u001b[1;33m,\u001b[0m\u001b[1;33m\u001b[0m\u001b[1;33m\u001b[0m\u001b[0m\n\u001b[0m\u001b[0;32m    648\u001b[0m             )\n\u001b[0;32m    649\u001b[0m         \u001b[1;32melse\u001b[0m\u001b[1;33m:\u001b[0m\u001b[1;33m\u001b[0m\u001b[1;33m\u001b[0m\u001b[0m\n",
      "\u001b[1;31mFileNotFoundError\u001b[0m: [Errno 2] No such file or directory: 'create_data.csv'"
     ]
    }
   ],
   "source": [
    "df_passed_creates = pd.read_csv('create_data.csv')\n",
    "df_passed_bids = pd.read_csv('bid_data.csv')\n",
    "df_passed_accepts = pd.read_csv('accept_data.csv')\n",
    "df_passed_returns = pd.read_csv('return_data.csv')\n",
    "df_passed_rfqs = pd.read_csv('rfq_data1.csv')"
   ]
  },
  {
   "cell_type": "code",
   "execution_count": 13,
   "id": "faaff4d3",
   "metadata": {},
   "outputs": [
    {
     "ename": "NameError",
     "evalue": "name 'df_passed_creates' is not defined",
     "output_type": "error",
     "traceback": [
      "\u001b[1;31m---------------------------------------------------------------------------\u001b[0m",
      "\u001b[1;31mNameError\u001b[0m                                 Traceback (most recent call last)",
      "\u001b[1;32m<ipython-input-13-09ebe6fbceba>\u001b[0m in \u001b[0;36m<module>\u001b[1;34m\u001b[0m\n\u001b[1;32m----> 1\u001b[1;33m \u001b[0mtime_passed_creates\u001b[0m \u001b[1;33m=\u001b[0m \u001b[0mdf_passed_creates\u001b[0m\u001b[1;33m[\u001b[0m\u001b[1;34m'0'\u001b[0m\u001b[1;33m]\u001b[0m\u001b[1;33m.\u001b[0m\u001b[0mto_list\u001b[0m\u001b[1;33m(\u001b[0m\u001b[1;33m)\u001b[0m\u001b[1;33m\u001b[0m\u001b[1;33m\u001b[0m\u001b[0m\n\u001b[0m\u001b[0;32m      2\u001b[0m \u001b[0mtime_passed_bids\u001b[0m \u001b[1;33m=\u001b[0m \u001b[0mdf_passed_bids\u001b[0m\u001b[1;33m[\u001b[0m\u001b[1;34m'valid_BIDs'\u001b[0m\u001b[1;33m]\u001b[0m\u001b[1;33m.\u001b[0m\u001b[0mto_list\u001b[0m\u001b[1;33m(\u001b[0m\u001b[1;33m)\u001b[0m\u001b[1;33m\u001b[0m\u001b[1;33m\u001b[0m\u001b[0m\n\u001b[0;32m      3\u001b[0m \u001b[0mtime_passed_accpets\u001b[0m \u001b[1;33m=\u001b[0m \u001b[0mdf_passed_accepts\u001b[0m\u001b[1;33m[\u001b[0m\u001b[1;34m'0'\u001b[0m\u001b[1;33m]\u001b[0m\u001b[1;33m.\u001b[0m\u001b[0mto_list\u001b[0m\u001b[1;33m(\u001b[0m\u001b[1;33m)\u001b[0m\u001b[1;33m\u001b[0m\u001b[1;33m\u001b[0m\u001b[0m\n\u001b[0;32m      4\u001b[0m \u001b[0mtime_passed_returns\u001b[0m \u001b[1;33m=\u001b[0m \u001b[0mdf_passed_returns\u001b[0m\u001b[1;33m[\u001b[0m\u001b[1;34m'valid_RETURNs'\u001b[0m\u001b[1;33m]\u001b[0m\u001b[1;33m.\u001b[0m\u001b[0mto_list\u001b[0m\u001b[1;33m(\u001b[0m\u001b[1;33m)\u001b[0m\u001b[1;33m\u001b[0m\u001b[1;33m\u001b[0m\u001b[0m\n\u001b[0;32m      5\u001b[0m \u001b[0mtime_passed_rfqs\u001b[0m \u001b[1;33m=\u001b[0m \u001b[0mdf_passed_rfqs\u001b[0m\u001b[1;33m[\u001b[0m\u001b[1;34m'time'\u001b[0m\u001b[1;33m]\u001b[0m\u001b[1;33m.\u001b[0m\u001b[0mto_list\u001b[0m\u001b[1;33m(\u001b[0m\u001b[1;33m)\u001b[0m\u001b[1;33m\u001b[0m\u001b[1;33m\u001b[0m\u001b[0m\n",
      "\u001b[1;31mNameError\u001b[0m: name 'df_passed_creates' is not defined"
     ]
    }
   ],
   "source": [
    "time_passed_creates = df_passed_creates['0'].to_list()\n",
    "time_passed_bids = df_passed_bids['valid_BIDs'].to_list()\n",
    "time_passed_accpets = df_passed_accepts['0'].to_list()\n",
    "time_passed_returns = df_passed_returns['valid_RETURNs'].to_list()\n",
    "time_passed_rfqs = df_passed_rfqs['time'].to_list()"
   ]
  },
  {
   "cell_type": "code",
   "execution_count": 14,
   "id": "90868c6c",
   "metadata": {},
   "outputs": [
    {
     "name": "stdout",
     "output_type": "stream",
     "text": [
      "190.27\n",
      "179\n",
      "243\n",
      "171\n",
      "17.74\n",
      "total creates = 499\n"
     ]
    }
   ],
   "source": [
    "# Analysis of CREATE Transaction\n",
    "time_passed_creates.remove(max(time_passed_creates)) \n",
    "create_mean = \"{:.2f}\".format(stat.mean(time_passed_creates))\n",
    "create_median = stat.median(time_passed_creates)\n",
    "create_max = max(time_passed_creates)\n",
    "create_min = min(time_passed_creates)\n",
    "create_std_dev = \"{:.2f}\".format(stat.stdev(time_passed_creates))\n",
    "\n",
    "print(create_mean)\n",
    "print(create_median)\n",
    "print(create_max)\n",
    "print(create_min)\n",
    "print(create_std_dev)\n",
    "print(f\"total creates = {len(time_passed_creates)}\")\n",
    "\n",
    "create_dict = {\n",
    "               'min': create_min,\n",
    "               'max': create_max,\n",
    "               'average': create_mean,\n",
    "               'median' : create_median,\n",
    "               'standard_deviation' : create_std_dev,\n",
    "               '# of txs' : len(time_passed_creates)}"
   ]
  },
  {
   "cell_type": "code",
   "execution_count": 15,
   "id": "0206cc89",
   "metadata": {},
   "outputs": [
    {
     "name": "stdout",
     "output_type": "stream",
     "text": [
      "571.60\n",
      "586.5\n",
      "793\n",
      "323\n",
      "571.60\n",
      "total RFQs = 20\n"
     ]
    }
   ],
   "source": [
    "# Analysis of RFQ Transaction\n",
    "if len(time_passed_rfqs) < 2:\n",
    "    time_rfqs.append(time_passed_rfqs[0])\n",
    "rfq_mean = \"{:.2f}\".format(stat.mean(time_passed_rfqs))\n",
    "rfq_median = stat.median(time_passed_rfqs)\n",
    "rfq_max = max(time_passed_rfqs)\n",
    "rfq_min = min(time_passed_rfqs)\n",
    "rfq_std_dev = \"{:.2f}\".format(stat.mean(time_passed_rfqs))\n",
    "\n",
    "print(rfq_mean)\n",
    "print(rfq_median)\n",
    "print(rfq_max)\n",
    "print(rfq_min)\n",
    "print(rfq_std_dev)\n",
    "print(f\"total RFQs = {len(time_passed_rfqs)}\")\n",
    "\n",
    "rfq_dict = {\n",
    "               'min': rfq_min,\n",
    "               'max': rfq_max,\n",
    "               'median' : rfq_median,\n",
    "               'average': rfq_mean,    \n",
    "               'standard_deviation' : rfq_std_dev,\n",
    "               '# of txs' : rfq_count}"
   ]
  },
  {
   "cell_type": "code",
   "execution_count": 16,
   "id": "8458ac76",
   "metadata": {},
   "outputs": [
    {
     "name": "stdout",
     "output_type": "stream",
     "text": [
      " bid_mean =  224.98 \n",
      " bid_median = 197 \n",
      " bid_max = 1040 \n",
      " bid_std_dev = 87.61 \n",
      " total_bids = 499\n"
     ]
    }
   ],
   "source": [
    "# Analysis of BID Transaction \n",
    "# only passed BIDs \n",
    "bid_mean = \"{:.2f}\".format(stat.mean(time_passed_bids))\n",
    "bid_median = stat.median(time_passed_bids)\n",
    "bid_max = max(time_passed_bids)\n",
    "bid_min = min(time_passed_bids)\n",
    "bid_std_dev = \"{:.2f}\".format(stat.stdev(time_passed_bids))\n",
    "\n",
    "\n",
    "print(f\" bid_mean =  {bid_mean} \\n bid_median = {bid_median} \\n bid_max = {bid_max} \\n\"\n",
    "     f\" bid_std_dev = {bid_std_dev} \\n total_bids = {len(time_passed_bids)}\")\n",
    "\n",
    "bid_dict = {\n",
    "               'min': bid_min,\n",
    "               'max': bid_max,\n",
    "               'average': bid_mean,\n",
    "               'median' : bid_median,\n",
    "               'standard_deviation' : bid_std_dev,\n",
    "               '# of txs' : bid_count\n",
    "              }"
   ]
  },
  {
   "cell_type": "code",
   "execution_count": 17,
   "id": "0a92a4e8",
   "metadata": {},
   "outputs": [
    {
     "name": "stdout",
     "output_type": "stream",
     "text": [
      "2630.00\n",
      "2627.5\n",
      "3406\n",
      "1933\n",
      "367.81\n",
      "total ACCEPTs = 20\n"
     ]
    }
   ],
   "source": [
    "# Analysis of ACCEPT Transaction\n",
    "\n",
    "accept_mean =  \"{:.2f}\".format(stat.mean(time_passed_accepts))\n",
    "accept_median = stat.median(time_passed_accepts)\n",
    "accept_max = max(time_passed_accepts)\n",
    "accept_min = min(time_passed_accepts)\n",
    "accept_std_dev = \"{:.2f}\".format(stat.stdev(time_passed_accepts))\n",
    "\n",
    "print(accept_mean)\n",
    "print(accept_median)\n",
    "print(accept_max)\n",
    "print(accept_min)\n",
    "print(accept_std_dev)\n",
    "print(f\"total ACCEPTs = {len(time_passed_accepts)}\")\n",
    "\n",
    "accept_dict = {\n",
    "               'min': accept_min,\n",
    "               'max': accept_max,\n",
    "               'median' : accept_median,\n",
    "               'average': accept_mean,\n",
    "               'standard_deviation' : accept_std_dev,\n",
    "               '# of txs' : accept_count}"
   ]
  },
  {
   "cell_type": "code",
   "execution_count": 18,
   "id": "2038adee",
   "metadata": {},
   "outputs": [
    {
     "name": "stdout",
     "output_type": "stream",
     "text": [
      "2568.52\n",
      "2505\n",
      "3406\n",
      "1723\n",
      "369.73\n",
      "total RETURNs = 499\n"
     ]
    }
   ],
   "source": [
    "# Analysis of RETURN Transaction\n",
    "\n",
    "return_mean = \"{:.2f}\".format(stat.mean(time_passed_returns))\n",
    "return_median = stat.median(time_passed_returns)\n",
    "return_max = max(time_passed_returns)\n",
    "return_min = min(time_passed_returns)\n",
    "return_std_dev =  \"{:.2f}\".format(stat.stdev(time_passed_returns))\n",
    "\n",
    "print(return_mean)\n",
    "print(return_median)\n",
    "print(return_max)\n",
    "print(return_min)\n",
    "print(return_std_dev)\n",
    "print(f\"total RETURNs = {len(time_passed_returns)}\")\n",
    "return_dict = {\n",
    "               'min': return_min,\n",
    "               'max': return_max,\n",
    "               'median' : return_median,\n",
    "               'average': return_mean,\n",
    "               'standard_deviation' : return_std_dev,\n",
    "               '# of txs' : len(time_passed_returns)}"
   ]
  },
  {
   "cell_type": "code",
   "execution_count": 19,
   "id": "10e32ab6",
   "metadata": {},
   "outputs": [],
   "source": [
    "list_of_dict = [create_dict, rfq_dict, bid_dict, accept_dict, return_dict]\n",
    "results = pd.DataFrame(list_of_dict, index = ['CREATE','RFQ', 'BID', 'ACCEPT', 'RETURN'])"
   ]
  },
  {
   "cell_type": "code",
   "execution_count": 20,
   "id": "92817f5e",
   "metadata": {},
   "outputs": [
    {
     "data": {
      "text/html": [
       "<div>\n",
       "<style scoped>\n",
       "    .dataframe tbody tr th:only-of-type {\n",
       "        vertical-align: middle;\n",
       "    }\n",
       "\n",
       "    .dataframe tbody tr th {\n",
       "        vertical-align: top;\n",
       "    }\n",
       "\n",
       "    .dataframe thead th {\n",
       "        text-align: right;\n",
       "    }\n",
       "</style>\n",
       "<table border=\"1\" class=\"dataframe\">\n",
       "  <thead>\n",
       "    <tr style=\"text-align: right;\">\n",
       "      <th></th>\n",
       "      <th>min</th>\n",
       "      <th>max</th>\n",
       "      <th>average</th>\n",
       "      <th>median</th>\n",
       "      <th>standard_deviation</th>\n",
       "      <th># of txs</th>\n",
       "    </tr>\n",
       "  </thead>\n",
       "  <tbody>\n",
       "    <tr>\n",
       "      <th>CREATE</th>\n",
       "      <td>171</td>\n",
       "      <td>243</td>\n",
       "      <td>190.27</td>\n",
       "      <td>179.0</td>\n",
       "      <td>17.74</td>\n",
       "      <td>499</td>\n",
       "    </tr>\n",
       "    <tr>\n",
       "      <th>RFQ</th>\n",
       "      <td>323</td>\n",
       "      <td>793</td>\n",
       "      <td>571.60</td>\n",
       "      <td>586.5</td>\n",
       "      <td>571.60</td>\n",
       "      <td>20</td>\n",
       "    </tr>\n",
       "    <tr>\n",
       "      <th>BID</th>\n",
       "      <td>184</td>\n",
       "      <td>1040</td>\n",
       "      <td>224.98</td>\n",
       "      <td>197.0</td>\n",
       "      <td>87.61</td>\n",
       "      <td>499</td>\n",
       "    </tr>\n",
       "    <tr>\n",
       "      <th>ACCEPT</th>\n",
       "      <td>1933</td>\n",
       "      <td>3406</td>\n",
       "      <td>2630.00</td>\n",
       "      <td>2627.5</td>\n",
       "      <td>367.81</td>\n",
       "      <td>20</td>\n",
       "    </tr>\n",
       "    <tr>\n",
       "      <th>RETURN</th>\n",
       "      <td>1723</td>\n",
       "      <td>3406</td>\n",
       "      <td>2568.52</td>\n",
       "      <td>2505.0</td>\n",
       "      <td>369.73</td>\n",
       "      <td>499</td>\n",
       "    </tr>\n",
       "  </tbody>\n",
       "</table>\n",
       "</div>"
      ],
      "text/plain": [
       "         min   max  average  median standard_deviation  # of txs\n",
       "CREATE   171   243   190.27   179.0              17.74       499\n",
       "RFQ      323   793   571.60   586.5             571.60        20\n",
       "BID      184  1040   224.98   197.0              87.61       499\n",
       "ACCEPT  1933  3406  2630.00  2627.5             367.81        20\n",
       "RETURN  1723  3406  2568.52  2505.0             369.73       499"
      ]
     },
     "execution_count": 20,
     "metadata": {},
     "output_type": "execute_result"
    }
   ],
   "source": [
    "results"
   ]
  },
  {
   "cell_type": "code",
   "execution_count": 73,
   "id": "6c516dc6",
   "metadata": {},
   "outputs": [
    {
     "name": "stdout",
     "output_type": "stream",
     "text": [
      "rfq rate: 100.0 %\n",
      "create rate: 99.8 %\n",
      "bid rate: 100.0 %\n",
      "accept rate: 100.0 %\n",
      "return rate: 100.0 %\n"
     ]
    }
   ],
   "source": [
    "successfull_rate_accept = len(time_passed_accepts) / accept_count * 100\n",
    "successfull_rate_bid = len(time_passed_bids) / bid_count * 100\n",
    "successfull_rate_create = len(time_passed_creates) / create_count * 100\n",
    "successfull_rate_return = len(time_passed_returns) / return_count_1 * 100\n",
    "successfull_rate_rfq = len(time_passed_rfqs) / rfq_count * 100\n",
    "\n",
    "print(f\"rfq rate: {successfull_rate_rfq} %\")\n",
    "print(f\"create rate: {successfull_rate_create} %\")\n",
    "print(f\"bid rate: {successfull_rate_bid} %\")\n",
    "print(f\"accept rate: {successfull_rate_accept} %\")\n",
    "print(f\"return rate: {successfull_rate_return} %\")\n"
   ]
  },
  {
   "cell_type": "code",
   "execution_count": null,
   "id": "80a5d430",
   "metadata": {},
   "outputs": [],
   "source": []
  },
  {
   "cell_type": "code",
   "execution_count": null,
   "id": "6babf7c7",
   "metadata": {},
   "outputs": [],
   "source": []
  }
 ],
 "metadata": {
  "kernelspec": {
   "display_name": "Python 3 (ipykernel)",
   "language": "python",
   "name": "python3"
  },
  "language_info": {
   "codemirror_mode": {
    "name": "ipython",
    "version": 3
   },
   "file_extension": ".py",
   "mimetype": "text/x-python",
   "name": "python",
   "nbconvert_exporter": "python",
   "pygments_lexer": "ipython3",
   "version": "3.7.4"
  },
  "vscode": {
   "interpreter": {
    "hash": "5eb36c30a141ec56c7af996542a21aed521913359d48d30d908d213ac946ed76"
   }
  }
 },
 "nbformat": 4,
 "nbformat_minor": 5
}
