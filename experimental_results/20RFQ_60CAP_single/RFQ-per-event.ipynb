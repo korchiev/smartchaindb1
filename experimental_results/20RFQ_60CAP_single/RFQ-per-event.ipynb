{
 "cells": [
  {
   "cell_type": "code",
   "execution_count": 2,
   "id": "1a51b5f5",
   "metadata": {},
   "outputs": [],
   "source": [
    "import pandas as pd\n",
    "import numpy as np\n",
    "import statistics as stat\n",
    "import matplotlib.pyplot as plt\n",
    "import seaborn as sns\n",
    "sns.set_style(\"white\")"
   ]
  },
  {
   "cell_type": "code",
   "execution_count": 3,
   "id": "bdd6322e",
   "metadata": {},
   "outputs": [],
   "source": [
    "data = pd.read_csv('scdb-20rfq-60cap-metrics.csv', names = ['Event', 'Time', 'Tx_type', 'Tx_id', 'Accept_id', 'time'])"
   ]
  },
  {
   "cell_type": "code",
   "execution_count": 4,
   "id": "76a97f35",
   "metadata": {},
   "outputs": [
    {
     "data": {
      "text/plain": [
       "1538"
      ]
     },
     "execution_count": 4,
     "metadata": {},
     "output_type": "execute_result"
    }
   ],
   "source": [
    "grouped_data = data.groupby('Tx_id')\n",
    "tx_id = list(grouped_data.groups.keys())\n",
    "len(tx_id)"
   ]
  },
  {
   "cell_type": "code",
   "execution_count": 5,
   "id": "7b812ec5",
   "metadata": {},
   "outputs": [
    {
     "name": "stdout",
     "output_type": "stream",
     "text": [
      "#RFQs =  20\n"
     ]
    }
   ],
   "source": [
    "#new data frame to get the count of each transaction type\n",
    "data_unique_ids = data.drop_duplicates(subset = ['Tx_id'])\n",
    "\n",
    "rfq_count = 0\n",
    "for i in range(0, len(data_unique_ids)):\n",
    "    if data_unique_ids.iloc[i]['Tx_type'] == 'REQUEST_FOR_QUOTE':\n",
    "        rfq_count += 1   \n",
    "\n",
    "\n",
    "print(f\"#RFQs =  {rfq_count}\")"
   ]
  },
  {
   "cell_type": "code",
   "execution_count": 6,
   "id": "04f13029",
   "metadata": {},
   "outputs": [
    {
     "ename": "KeyError",
     "evalue": "'b861bfd94f3ac9f2186e074690685f5d890a98b108f7f0ba9d0ed13110a50637'",
     "output_type": "error",
     "traceback": [
      "\u001b[1;31m---------------------------------------------------------------------------\u001b[0m",
      "\u001b[1;31mKeyError\u001b[0m                                  Traceback (most recent call last)",
      "\u001b[1;32m<ipython-input-6-e5b09cc5ff1e>\u001b[0m in \u001b[0;36m<module>\u001b[1;34m\u001b[0m\n\u001b[1;32m----> 1\u001b[1;33m \u001b[0mdf_test\u001b[0m \u001b[1;33m=\u001b[0m \u001b[0mgrouped_data\u001b[0m\u001b[1;33m.\u001b[0m\u001b[0mget_group\u001b[0m\u001b[1;33m(\u001b[0m\u001b[1;34m\"b861bfd94f3ac9f2186e074690685f5d890a98b108f7f0ba9d0ed13110a50637\"\u001b[0m\u001b[1;33m)\u001b[0m\u001b[1;33m\u001b[0m\u001b[1;33m\u001b[0m\u001b[0m\n\u001b[0m",
      "\u001b[1;32m~\\Anaconda3\\lib\\site-packages\\pandas\\core\\groupby\\groupby.py\u001b[0m in \u001b[0;36mget_group\u001b[1;34m(self, name, obj)\u001b[0m\n\u001b[0;32m    843\u001b[0m         \u001b[0minds\u001b[0m \u001b[1;33m=\u001b[0m \u001b[0mself\u001b[0m\u001b[1;33m.\u001b[0m\u001b[0m_get_index\u001b[0m\u001b[1;33m(\u001b[0m\u001b[0mname\u001b[0m\u001b[1;33m)\u001b[0m\u001b[1;33m\u001b[0m\u001b[1;33m\u001b[0m\u001b[0m\n\u001b[0;32m    844\u001b[0m         \u001b[1;32mif\u001b[0m \u001b[1;32mnot\u001b[0m \u001b[0mlen\u001b[0m\u001b[1;33m(\u001b[0m\u001b[0minds\u001b[0m\u001b[1;33m)\u001b[0m\u001b[1;33m:\u001b[0m\u001b[1;33m\u001b[0m\u001b[1;33m\u001b[0m\u001b[0m\n\u001b[1;32m--> 845\u001b[1;33m             \u001b[1;32mraise\u001b[0m \u001b[0mKeyError\u001b[0m\u001b[1;33m(\u001b[0m\u001b[0mname\u001b[0m\u001b[1;33m)\u001b[0m\u001b[1;33m\u001b[0m\u001b[1;33m\u001b[0m\u001b[0m\n\u001b[0m\u001b[0;32m    846\u001b[0m \u001b[1;33m\u001b[0m\u001b[0m\n\u001b[0;32m    847\u001b[0m         \u001b[1;32mreturn\u001b[0m \u001b[0mobj\u001b[0m\u001b[1;33m.\u001b[0m\u001b[0m_take_with_is_copy\u001b[0m\u001b[1;33m(\u001b[0m\u001b[0minds\u001b[0m\u001b[1;33m,\u001b[0m \u001b[0maxis\u001b[0m\u001b[1;33m=\u001b[0m\u001b[0mself\u001b[0m\u001b[1;33m.\u001b[0m\u001b[0maxis\u001b[0m\u001b[1;33m)\u001b[0m\u001b[1;33m\u001b[0m\u001b[1;33m\u001b[0m\u001b[0m\n",
      "\u001b[1;31mKeyError\u001b[0m: 'b861bfd94f3ac9f2186e074690685f5d890a98b108f7f0ba9d0ed13110a50637'"
     ]
    }
   ],
   "source": [
    "df_test = grouped_data.get_group(\"b861bfd94f3ac9f2186e074690685f5d890a98b108f7f0ba9d0ed13110a50637\")"
   ]
  },
  {
   "cell_type": "code",
   "execution_count": null,
   "id": "dac864ff",
   "metadata": {},
   "outputs": [],
   "source": [
    "df_test"
   ]
  },
  {
   "cell_type": "code",
   "execution_count": 7,
   "id": "8cce1a2b",
   "metadata": {},
   "outputs": [
    {
     "ename": "KeyError",
     "evalue": "'b861bfd94f3ac9f2186e074690685f5d890a98b108f7f0ba9d0ed13110a50637'",
     "output_type": "error",
     "traceback": [
      "\u001b[1;31m---------------------------------------------------------------------------\u001b[0m",
      "\u001b[1;31mKeyError\u001b[0m                                  Traceback (most recent call last)",
      "\u001b[1;32m<ipython-input-7-0ebd0d324b42>\u001b[0m in \u001b[0;36m<module>\u001b[1;34m\u001b[0m\n\u001b[1;32m----> 1\u001b[1;33m \u001b[1;34m\"REQUEST_FOR_QUOTE\"\u001b[0m \u001b[1;33m==\u001b[0m \u001b[0mgrouped_data\u001b[0m\u001b[1;33m.\u001b[0m\u001b[0mget_group\u001b[0m\u001b[1;33m(\u001b[0m\u001b[1;34m\"b861bfd94f3ac9f2186e074690685f5d890a98b108f7f0ba9d0ed13110a50637\"\u001b[0m\u001b[1;33m)\u001b[0m\u001b[1;33m[\u001b[0m\u001b[1;34m\"Tx_type\"\u001b[0m\u001b[1;33m]\u001b[0m\u001b[1;33m.\u001b[0m\u001b[0mto_list\u001b[0m\u001b[1;33m(\u001b[0m\u001b[1;33m)\u001b[0m\u001b[1;33m[\u001b[0m\u001b[1;36m0\u001b[0m\u001b[1;33m]\u001b[0m\u001b[1;33m\u001b[0m\u001b[1;33m\u001b[0m\u001b[0m\n\u001b[0m",
      "\u001b[1;32m~\\Anaconda3\\lib\\site-packages\\pandas\\core\\groupby\\groupby.py\u001b[0m in \u001b[0;36mget_group\u001b[1;34m(self, name, obj)\u001b[0m\n\u001b[0;32m    843\u001b[0m         \u001b[0minds\u001b[0m \u001b[1;33m=\u001b[0m \u001b[0mself\u001b[0m\u001b[1;33m.\u001b[0m\u001b[0m_get_index\u001b[0m\u001b[1;33m(\u001b[0m\u001b[0mname\u001b[0m\u001b[1;33m)\u001b[0m\u001b[1;33m\u001b[0m\u001b[1;33m\u001b[0m\u001b[0m\n\u001b[0;32m    844\u001b[0m         \u001b[1;32mif\u001b[0m \u001b[1;32mnot\u001b[0m \u001b[0mlen\u001b[0m\u001b[1;33m(\u001b[0m\u001b[0minds\u001b[0m\u001b[1;33m)\u001b[0m\u001b[1;33m:\u001b[0m\u001b[1;33m\u001b[0m\u001b[1;33m\u001b[0m\u001b[0m\n\u001b[1;32m--> 845\u001b[1;33m             \u001b[1;32mraise\u001b[0m \u001b[0mKeyError\u001b[0m\u001b[1;33m(\u001b[0m\u001b[0mname\u001b[0m\u001b[1;33m)\u001b[0m\u001b[1;33m\u001b[0m\u001b[1;33m\u001b[0m\u001b[0m\n\u001b[0m\u001b[0;32m    846\u001b[0m \u001b[1;33m\u001b[0m\u001b[0m\n\u001b[0;32m    847\u001b[0m         \u001b[1;32mreturn\u001b[0m \u001b[0mobj\u001b[0m\u001b[1;33m.\u001b[0m\u001b[0m_take_with_is_copy\u001b[0m\u001b[1;33m(\u001b[0m\u001b[0minds\u001b[0m\u001b[1;33m,\u001b[0m \u001b[0maxis\u001b[0m\u001b[1;33m=\u001b[0m\u001b[0mself\u001b[0m\u001b[1;33m.\u001b[0m\u001b[0maxis\u001b[0m\u001b[1;33m)\u001b[0m\u001b[1;33m\u001b[0m\u001b[1;33m\u001b[0m\u001b[0m\n",
      "\u001b[1;31mKeyError\u001b[0m: 'b861bfd94f3ac9f2186e074690685f5d890a98b108f7f0ba9d0ed13110a50637'"
     ]
    }
   ],
   "source": [
    "\"REQUEST_FOR_QUOTE\" == grouped_data.get_group(\"b861bfd94f3ac9f2186e074690685f5d890a98b108f7f0ba9d0ed13110a50637\")[\"Tx_type\"].to_list()[0]"
   ]
  },
  {
   "cell_type": "code",
   "execution_count": 8,
   "id": "7c597986",
   "metadata": {},
   "outputs": [
    {
     "ename": "NameError",
     "evalue": "name 'rfq_overfit' is not defined",
     "output_type": "error",
     "traceback": [
      "\u001b[1;31m---------------------------------------------------------------------------\u001b[0m",
      "\u001b[1;31mNameError\u001b[0m                                 Traceback (most recent call last)",
      "\u001b[1;32m<ipython-input-8-8d7011fc5057>\u001b[0m in \u001b[0;36m<module>\u001b[1;34m\u001b[0m\n\u001b[0;32m     54\u001b[0m             \u001b[0mcommitted\u001b[0m \u001b[1;33m=\u001b[0m \u001b[0mcommit_time\u001b[0m \u001b[1;33m-\u001b[0m \u001b[0mreceived_time\u001b[0m\u001b[1;33m\u001b[0m\u001b[1;33m\u001b[0m\u001b[0m\n\u001b[0;32m     55\u001b[0m             \u001b[0mcommitted_time\u001b[0m\u001b[1;33m.\u001b[0m\u001b[0mappend\u001b[0m\u001b[1;33m(\u001b[0m\u001b[0mcommitted\u001b[0m\u001b[1;33m)\u001b[0m\u001b[1;33m\u001b[0m\u001b[1;33m\u001b[0m\u001b[0m\n\u001b[1;32m---> 56\u001b[1;33m             \u001b[0mrfq_overfit\u001b[0m\u001b[1;33m.\u001b[0m\u001b[0mappend\u001b[0m\u001b[1;33m(\u001b[0m\u001b[0mtemp_list\u001b[0m\u001b[1;33m)\u001b[0m\u001b[1;33m\u001b[0m\u001b[1;33m\u001b[0m\u001b[0m\n\u001b[0m\u001b[0;32m     57\u001b[0m             \u001b[0mrfq_overfit_dict\u001b[0m\u001b[1;33m[\u001b[0m\u001b[0mtx_id\u001b[0m\u001b[1;33m[\u001b[0m\u001b[0mi\u001b[0m\u001b[1;33m]\u001b[0m\u001b[1;33m]\u001b[0m \u001b[1;33m=\u001b[0m \u001b[0mtemp_list\u001b[0m\u001b[1;33m\u001b[0m\u001b[1;33m\u001b[0m\u001b[0m\n",
      "\u001b[1;31mNameError\u001b[0m: name 'rfq_overfit' is not defined"
     ]
    }
   ],
   "source": [
    "time_all_committed_rfqs = {}\n",
    "time_passed_rfqs = []\n",
    "validated_time = []\n",
    "accepted_time = []\n",
    "committed_time = []\n",
    "\n",
    "rfq_underfit = []\n",
    "rfq_underfit_dict = {}\n",
    "\n",
    "for i in range(0, len(tx_id)):\n",
    "    temp_list = []\n",
    "    if \"REQUEST_FOR_QUOTE\" == grouped_data.get_group(tx_id[i])[\"Tx_type\"].to_list()[0]:\n",
    "        temp_list = grouped_data.get_group(tx_id[i])[\"Time\"].to_list()\n",
    "        if len(temp_list) == 6 and grouped_data.get_group(tx_id[i])[\"Event\"].to_list()[5] == \"commit_tx\":\n",
    "            actual_time = max(temp_list) - min(temp_list)\n",
    "            time_all_committed_rfqs[tx_id[i]] = actual_time\n",
    "            time_passed_rfqs.append(actual_time)\n",
    "            df = grouped_data.get_group(tx_id[i])\n",
    "            received_time = df[df['Event'] == 'received_tx']['Time'].to_list()[0]\n",
    "            before_tendermint_time = df[df['Event'] == 'before_tendermint']['Time'].to_list()[0]\n",
    "            validated = before_tendermint_time - received_time\n",
    "            validated_time.append(validated)\n",
    "            check_time = df[df['Event'] == 'check_tx']['Time'].to_list()[0]\n",
    "            accepted = check_time - received_time\n",
    "            accepted_time.append(accepted)\n",
    "            commit_time =  df[df['Event'] == 'commit_tx']['Time'].to_list()[0]\n",
    "            committed = commit_time - received_time\n",
    "            committed_time.append(committed)\n",
    "        elif len(temp_list) < 6:\n",
    "            rfq_underfit.append(temp_list)\n",
    "            rfq_underfit_dict[tx_id(i)] = temp_list\n",
    "        elif 7 >= len(temp_list) > 6 :\n",
    "            df_check = grouped_data.get_group(tx_id[i])\n",
    "            if len(df_check[df_check['Event'] == 'check_tx']['Time'].to_list()) > 1:\n",
    "                check_time = max(df_check[df_check['Event'] == 'check_tx']['Time'].to_list())\n",
    "            else:\n",
    "                check_time = df_check[df_check['Event'] == 'check_tx']['Time'].to_list()[0] \n",
    "            \n",
    "            actual_time = max(temp_list) - min(temp_list)\n",
    "            time_all_committed_rfqs[tx_id[i]] = actual_time\n",
    "            time_passed_rfqs.append(actual_time)\n",
    "            \n",
    "            df = grouped_data.get_group(tx_id[i])\n",
    "            received_time = df[df['Event'] == 'received_tx']['Time'].to_list()[0]\n",
    "            before_tendermint_time = df[df['Event'] == 'before_tendermint']['Time'].to_list()[0]\n",
    "            \n",
    "            validated = before_tendermint_time - received_time\n",
    "            validated_time.append(validated)\n",
    "           \n",
    "            accepted = check_time - received_time\n",
    "            accepted_time.append(accepted)\n",
    "            \n",
    "            commit_time =  df[df['Event'] == 'commit_tx']['Time'].to_list()[0]\n",
    "            committed = commit_time - received_time\n",
    "            committed_time.append(committed)\n",
    "            rfq_overfit.append(temp_list)\n",
    "            rfq_overfit_dict[tx_id[i]] = temp_list"
   ]
  },
  {
   "cell_type": "code",
   "execution_count": 9,
   "id": "b0c96f96",
   "metadata": {},
   "outputs": [
    {
     "name": "stdout",
     "output_type": "stream",
     "text": [
      "216.50\n",
      "216.5\n",
      "287\n",
      "146\n",
      "216.50\n",
      "total RFQs = 2\n"
     ]
    }
   ],
   "source": [
    "# Analysis of RFQ Transaction\n",
    "if len(time_passed_rfqs) < 2:\n",
    "    time_rfqs.append(time_passed_rfqs[0])\n",
    "rfq_mean = \"{:.2f}\".format(stat.mean(time_passed_rfqs))\n",
    "rfq_median = stat.median(time_passed_rfqs)\n",
    "rfq_max = max(time_passed_rfqs)\n",
    "rfq_min = min(time_passed_rfqs)\n",
    "rfq_std_dev = \"{:.2f}\".format(stat.mean(time_passed_rfqs))\n",
    "\n",
    "print(rfq_mean)\n",
    "print(rfq_median)\n",
    "print(rfq_max)\n",
    "print(rfq_min)\n",
    "print(rfq_std_dev)\n",
    "print(f\"total RFQs = {len(time_passed_rfqs)}\")\n",
    "\n",
    "rfq_dict = {\n",
    "               'min': rfq_min,\n",
    "               'max': rfq_max,\n",
    "               'average': rfq_mean,\n",
    "                'median' : rfq_median,\n",
    "               'standard_deviation' : rfq_std_dev,\n",
    "               '# of txs' : len(time_passed_rfqs)}"
   ]
  },
  {
   "cell_type": "code",
   "execution_count": 10,
   "id": "a313e9a7",
   "metadata": {},
   "outputs": [
    {
     "data": {
      "text/html": [
       "<div>\n",
       "<style scoped>\n",
       "    .dataframe tbody tr th:only-of-type {\n",
       "        vertical-align: middle;\n",
       "    }\n",
       "\n",
       "    .dataframe tbody tr th {\n",
       "        vertical-align: top;\n",
       "    }\n",
       "\n",
       "    .dataframe thead th {\n",
       "        text-align: right;\n",
       "    }\n",
       "</style>\n",
       "<table border=\"1\" class=\"dataframe\">\n",
       "  <thead>\n",
       "    <tr style=\"text-align: right;\">\n",
       "      <th></th>\n",
       "      <th>min</th>\n",
       "      <th>max</th>\n",
       "      <th>average</th>\n",
       "      <th>median</th>\n",
       "      <th>standard_deviation</th>\n",
       "      <th># of txs</th>\n",
       "    </tr>\n",
       "  </thead>\n",
       "  <tbody>\n",
       "    <tr>\n",
       "      <th>RFQ</th>\n",
       "      <td>146</td>\n",
       "      <td>287</td>\n",
       "      <td>216.50</td>\n",
       "      <td>216.5</td>\n",
       "      <td>216.50</td>\n",
       "      <td>2</td>\n",
       "    </tr>\n",
       "  </tbody>\n",
       "</table>\n",
       "</div>"
      ],
      "text/plain": [
       "     min  max average  median standard_deviation  # of txs\n",
       "RFQ  146  287  216.50   216.5             216.50         2"
      ]
     },
     "execution_count": 10,
     "metadata": {},
     "output_type": "execute_result"
    }
   ],
   "source": [
    "results = pd.DataFrame(rfq_dict, index = ['RFQ'])\n",
    "results.to_csv('rfq_analysis.csv', sep=',', encoding='utf-8')\n",
    "results"
   ]
  },
  {
   "cell_type": "code",
   "execution_count": 11,
   "id": "56228c43",
   "metadata": {},
   "outputs": [],
   "source": [
    "results.to_csv('rfq_analysis.csv', sep=',', encoding='utf-8')"
   ]
  },
  {
   "cell_type": "code",
   "execution_count": 12,
   "id": "0e08686e",
   "metadata": {},
   "outputs": [
    {
     "data": {
      "text/html": [
       "<div>\n",
       "<style scoped>\n",
       "    .dataframe tbody tr th:only-of-type {\n",
       "        vertical-align: middle;\n",
       "    }\n",
       "\n",
       "    .dataframe tbody tr th {\n",
       "        vertical-align: top;\n",
       "    }\n",
       "\n",
       "    .dataframe thead th {\n",
       "        text-align: right;\n",
       "    }\n",
       "</style>\n",
       "<table border=\"1\" class=\"dataframe\">\n",
       "  <thead>\n",
       "    <tr style=\"text-align: right;\">\n",
       "      <th></th>\n",
       "      <th>min</th>\n",
       "      <th>max</th>\n",
       "      <th>average</th>\n",
       "      <th>median</th>\n",
       "      <th>standard_deviation</th>\n",
       "      <th># of txs</th>\n",
       "    </tr>\n",
       "  </thead>\n",
       "  <tbody>\n",
       "    <tr>\n",
       "      <th>RFQ</th>\n",
       "      <td>146</td>\n",
       "      <td>287</td>\n",
       "      <td>216.50</td>\n",
       "      <td>216.5</td>\n",
       "      <td>216.50</td>\n",
       "      <td>2</td>\n",
       "    </tr>\n",
       "  </tbody>\n",
       "</table>\n",
       "</div>"
      ],
      "text/plain": [
       "     min  max average  median standard_deviation  # of txs\n",
       "RFQ  146  287  216.50   216.5             216.50         2"
      ]
     },
     "execution_count": 12,
     "metadata": {},
     "output_type": "execute_result"
    }
   ],
   "source": [
    "results"
   ]
  },
  {
   "cell_type": "code",
   "execution_count": null,
   "id": "67dd540e",
   "metadata": {},
   "outputs": [],
   "source": []
  },
  {
   "cell_type": "code",
   "execution_count": null,
   "id": "adf368f4",
   "metadata": {},
   "outputs": [],
   "source": []
  }
 ],
 "metadata": {
  "kernelspec": {
   "display_name": "Python 3 (ipykernel)",
   "language": "python",
   "name": "python3"
  },
  "language_info": {
   "codemirror_mode": {
    "name": "ipython",
    "version": 3
   },
   "file_extension": ".py",
   "mimetype": "text/x-python",
   "name": "python",
   "nbconvert_exporter": "python",
   "pygments_lexer": "ipython3",
   "version": "3.7.4"
  }
 },
 "nbformat": 4,
 "nbformat_minor": 5
}
