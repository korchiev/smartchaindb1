{
 "cells": [
  {
   "cell_type": "code",
   "execution_count": 1,
   "id": "7808b8c3",
   "metadata": {},
   "outputs": [],
   "source": [
    "import pandas as pd\n",
    "import numpy as np\n",
    "import statistics as stat"
   ]
  },
  {
   "cell_type": "code",
   "execution_count": 2,
   "id": "36cdc83c",
   "metadata": {},
   "outputs": [],
   "source": [
    "data = pd.read_csv('scdb-100rfq-30cap-metrics.csv', names = ['Event', 'Time', 'Tx_type', 'Tx_id', 'Accept_id', 'time'])"
   ]
  },
  {
   "cell_type": "code",
   "execution_count": 3,
   "id": "3cb813ef",
   "metadata": {},
   "outputs": [
    {
     "data": {
      "text/plain": [
       "43868"
      ]
     },
     "execution_count": 3,
     "metadata": {},
     "output_type": "execute_result"
    }
   ],
   "source": [
    "len(data)"
   ]
  },
  {
   "cell_type": "code",
   "execution_count": 4,
   "id": "61cabca0",
   "metadata": {},
   "outputs": [],
   "source": [
    "#grouping every transaction by its ID\n",
    "grouped_data = data.groupby('Tx_id')"
   ]
  },
  {
   "cell_type": "code",
   "execution_count": 5,
   "id": "e6785cb5",
   "metadata": {},
   "outputs": [],
   "source": [
    "#return_accept_id_group = data.groupby('Accept_id')"
   ]
  },
  {
   "cell_type": "code",
   "execution_count": 6,
   "id": "075b769d",
   "metadata": {},
   "outputs": [
    {
     "data": {
      "text/plain": [
       "7690"
      ]
     },
     "execution_count": 6,
     "metadata": {},
     "output_type": "execute_result"
    }
   ],
   "source": [
    "tx_id = list(grouped_data.groups.keys())\n",
    "len(tx_id)"
   ]
  },
  {
   "cell_type": "code",
   "execution_count": 7,
   "id": "d4bb5530",
   "metadata": {
    "scrolled": true
   },
   "outputs": [
    {
     "name": "stdout",
     "output_type": "stream",
     "text": [
      "#RFQs 100\n",
      "#BIDs =  2496\n",
      "#CREATEs =  2499\n",
      "#ACCEPTs =  100\n",
      "#RETURNs =  2495\n",
      "#Total =  7690\n"
     ]
    }
   ],
   "source": [
    "#new data frame to get the count of each transaction type\n",
    "data_unique_ids = data.drop_duplicates(subset = ['Tx_id'])\n",
    "rfq_count = 0\n",
    "bid_count = 0\n",
    "create_count = 0\n",
    "accept_count = 0\n",
    "return_count_1 = 0\n",
    "for i in range(0, len(data_unique_ids)):\n",
    "    if data_unique_ids.iloc[i]['Tx_type'] == 'REQUEST_FOR_QUOTE':\n",
    "        rfq_count += 1\n",
    "    if data_unique_ids.iloc[i]['Tx_type'] == 'CREATE':\n",
    "        create_count += 1    \n",
    "    if data_unique_ids.iloc[i]['Tx_type'] == 'BID':\n",
    "        bid_count += 1   \n",
    "    if data_unique_ids.iloc[i]['Tx_type'] == 'ACCEPT':\n",
    "        accept_count += 1 \n",
    "    if data_unique_ids.iloc[i]['Tx_type'] == 'RETURN':\n",
    "        return_count_1 += 1   \n",
    "print(f\"#RFQs {rfq_count}\")\n",
    "print(f\"#BIDs =  {bid_count}\")\n",
    "print(f\"#CREATEs =  {create_count}\")\n",
    "print(f\"#ACCEPTs =  {accept_count}\")\n",
    "print(f\"#RETURNs =  {return_count_1}\")\n",
    "print(f\"#Total =  {return_count_1 + rfq_count + bid_count + create_count + accept_count}\")"
   ]
  },
  {
   "cell_type": "code",
   "execution_count": 8,
   "id": "314b26c9",
   "metadata": {},
   "outputs": [],
   "source": [
    "# Time per each transaction type\n",
    "time_all_committed_bids = {}\n",
    "time_passed_bids = []\n",
    "bid_time = {}\n",
    "bids_overfit = []\n",
    "bids_underfit = []\n",
    "other_bids = []\n",
    "\n",
    "time_all_committed_creates = {}\n",
    "time_passed_creates = []\n",
    "create_time = {}\n",
    "creates_overfit = []\n",
    "creates_underfit = []\n",
    "other_creates = []\n",
    "\n",
    "time_all_committed_rfqs = {}\n",
    "time_passed_rfqs = []\n",
    "rfq_time = {}\n",
    "rfq_overfit = []\n",
    "rfq_underfit = []\n",
    "other_rfqs = []\n",
    "\n",
    "time_all_committed_accepts = {}\n",
    "time_passed_accepts = []\n",
    "accept_time = {}\n",
    "time_failed_accepts = []\n",
    "accept_underfit = []\n",
    "accept_overfit = []\n",
    "other_accepts = []\n",
    "\n",
    "\n",
    "time_all_committed_returns = {}\n",
    "time_passed_returns= []\n",
    "return_time = {}\n",
    "return_overfit = []\n",
    "return_underfit = []\n",
    "other_returns = []\n",
    "\n",
    "\n",
    "time_bids = []\n",
    "time_id_bid = {}\n",
    "\n",
    "\n",
    "time_rfqs = []\n",
    "time_id_rfqs = {}\n",
    "\n",
    "time_accept = []\n",
    "time_id_accept = {}\n",
    "\n",
    "time_create = []\n",
    "time_id_create = {}\n",
    "\n",
    "time_returns = []\n",
    "accept_return_count = {}\n",
    "\n",
    "\n",
    "time_id_return = {}\n",
    "for i in range(0, len(tx_id)):\n",
    "    temp_list = []\n",
    "    return_count = 0\n",
    "#     if \"REQUEST_FOR_QUOTE\" == grouped_data.get_group(tx_id[i])[\"Tx_type\"].to_list()[0]:\n",
    "#         temp_list = grouped_data.get_group(tx_id[i])[\"Time\"].to_list()\n",
    "#         actual_time = max(temp_list)\n",
    "#         time_rfqs.append(actual_time)\n",
    "#         time_id_rfqs[tx_id[i]] = actual_time\n",
    "\n",
    "#     if \"REQUEST_FOR_QUOTE\" == grouped_data.get_group(tx_id[i])[\"Tx_type\"].to_list()[0]:\n",
    "#         temp_list = grouped_data.get_group(tx_id[i])[\"Time\"].to_list()\n",
    "#         if len(temp_list) == 6 and grouped_data.get_group(tx_id[i])[\"Event\"].to_list()[5] == \"commit_tx\":\n",
    "#             actual_time = max(temp_list)\n",
    "#             time_all_committed_rfqs[tx_id[i]] = actual_time\n",
    "#             time_passed_rfqs.append(actual_time)\n",
    "#             rfq_time[tx_id[i]] = actual_time\n",
    "#         elif len(temp_list) < 6:\n",
    "#             temp_list.append(tx_id[i])\n",
    "#             rfq_underfit.append(temp_list)\n",
    "#         elif len(temp_list) <= 10:\n",
    "#             temp_list = grouped_data.get_group(tx_id[i]).drop_duplicates(subset=['Event'])[\"Time\"].to_list()\n",
    "#             actual_time = max(temp_list)\n",
    "#             time_all_committed_rfqs[tx_id[i]] = actual_time\n",
    "#             time_passed_rfqs.append(actual_time)\n",
    "#             temp_list.append(tx_id[i])\n",
    "#             temp_list.append(actual_time)\n",
    "#             rfq_overfit.append(temp_list)\n",
    "            \n",
    "#         else:\n",
    "#             temp_list.append(tx_id[i])\n",
    "#             other_rfqs.append(temp_list)\n",
    "        \n",
    "        \n",
    "#     if \"CREATE\" == grouped_data.get_group(tx_id[i])[\"Tx_type\"].to_list()[0]:\n",
    "#         temp_list = grouped_data.get_group(tx_id[i])[\"Time\"].to_list()\n",
    "#         actual_time = max(temp_list) \n",
    "#         time_create.append(actual_time)\n",
    "#         time_id_create[tx_id[i]] = actual_time\n",
    "\n",
    "    if \"CREATE\" == grouped_data.get_group(tx_id[i])[\"Tx_type\"].to_list()[0]:\n",
    "        temp_list = grouped_data.get_group(tx_id[i])[\"Time\"].to_list()\n",
    "        if len(temp_list) == 6 and grouped_data.get_group(tx_id[i])[\"Event\"].to_list()[5] == \"commit_tx\":\n",
    "            actual_time = max(temp_list)\n",
    "            time_all_committed_creates[tx_id[i]] = actual_time\n",
    "            time_passed_creates.append(actual_time)\n",
    "            create_time[tx_id[i]] = actual_time\n",
    "        elif len(temp_list) < 6:\n",
    "            temp_list.append(tx_id[i])\n",
    "            creates_underfit.append(temp_list)\n",
    "        elif len(temp_list) <= 10:\n",
    "            temp_list = grouped_data.get_group(tx_id[i]).drop_duplicates(subset=['Event'])[\"Time\"].to_list()\n",
    "            actual_time = max(temp_list)\n",
    "            time_passed_creates.append(actual_time)\n",
    "            temp_list.append(tx_id[i])\n",
    "            temp_list.append(actual_time)\n",
    "            creates_overfit.append(temp_list)\n",
    "            \n",
    "        else:\n",
    "            temp_list.append(tx_id[i])\n",
    "            other_creates.append(temp_list)\n",
    "    \"\"\" \n",
    "        if \"ACCEPT\" == grouped_data.get_group(tx_id[i])[\"Tx_type\"].to_list()[0] or 'None' != grouped_data.get_group(tx_id[i])[\"Accept_id\"].to_list()[0]:\n",
    "        print(i)\n",
    "        temp_list = grouped_data.get_group(tx_id[i])[\"Time\"].to_list()\n",
    "        for j in range(0, len(data)):\n",
    "            if data['Event'][j] = \"RETURN\" and tx_id[i] == data['Accept_id'][j]:\n",
    "                temp_list.append(data['Time'][j])\n",
    "        print(temp_list)\n",
    "        actual_time = max(temp_list)\n",
    "        time_accept.append(actual_time)\n",
    "        \"\"\"\n",
    "    \n",
    "    if \"ACCEPT\" == grouped_data.get_group(tx_id[i])[\"Tx_type\"].to_list()[0]:\n",
    "        temp_list = grouped_data.get_group(tx_id[i])[\"Time\"].to_list()\n",
    "        for j in range(0, len(data)):\n",
    "            if data['Event'][j] == \"commit_tx\" and tx_id[i] == data['Accept_id'][j]:\n",
    "                temp_list.append(data[\"Time\"][j])\n",
    "                return_count += 1\n",
    "        accept_return_count [tx_id[i]] = return_count\n",
    "        last_return = max(temp_list)\n",
    "        time_accept.append(last_return)\n",
    "        time_id_accept[tx_id[i]] = last_return\n",
    "        temp_list = grouped_data.get_group(tx_id[i])[\"Time\"].to_list()\n",
    "        \n",
    "        if len(temp_list) == 6 and grouped_data.get_group(tx_id[i])[\"Event\"].to_list()[5] == \"commit_tx\":\n",
    "            temp_list.append(last_return)\n",
    "            actual_time = max(temp_list)\n",
    "            time_all_committed_accepts[tx_id[i]] = actual_time\n",
    "            time_passed_accepts.append(actual_time)\n",
    "            accept_time[tx_id[i]] = actual_time\n",
    "        elif len(temp_list) < 6:\n",
    "            temp_list.append(last_return)\n",
    "            temp_list.append(tx_id[i])\n",
    "            accept_underfit.append(temp_list)\n",
    "        elif len(temp_list) <= 10:\n",
    "            time_all_committed_accepts[tx_id[i]] = actual_time\n",
    "            temp_list.append(last_return)\n",
    "            actual_time = max(temp_list)\n",
    "            time_passed_accepts.append(actual_time)\n",
    "            temp_list.append(tx_id[i])\n",
    "            temp_list.append(actual_time)\n",
    "            accept_overfit.append(temp_list)\n",
    "            \n",
    "        else:\n",
    "            temp_list.append(last_return)\n",
    "            temp_list.append(tx_id[i])\n",
    "            other_accepts.append(temp_list)\n",
    "\n",
    "    \n",
    "#     if \"ACCEPT\" == grouped_data.get_group(tx_id[i])[\"Tx_type\"].to_list()[0]:\n",
    "#         temp_list = grouped_data.get_group(tx_id[i])[\"Time\"].to_list()\n",
    "#         for j in range(0, len(data)):\n",
    "#             if data['Event'][j] == \"commit_tx\" and tx_id[i] == data['Accept_id'][j]:\n",
    "#                 temp_list.append(data[\"Time\"][j])\n",
    "#                 return_count += 1\n",
    "#         accept_return_count [tx_id[i]] = return_count\n",
    "#         actual_time = max(temp_list)\n",
    "#         time_accept.append(actual_time)\n",
    "#         time_id_accept[tx_id[i]] = actual_time\n",
    "         \n",
    "    if \"RETURN\" == grouped_data.get_group(tx_id[i])[\"Tx_type\"].to_list()[0]:\n",
    "        temp_list = grouped_data.get_group(tx_id[i])[\"Time\"].to_list()\n",
    "        if len(temp_list) >= 4:\n",
    "            time_all_committed_returns[tx_id[i]] = temp_list\n",
    "            actual_time = max(temp_list)\n",
    "            time_passed_returns.append(actual_time)\n",
    "            return_time[tx_id[i]] = actual_time\n",
    "        elif len(temp_list) < 4:\n",
    "            temp_list.append(tx_id[i])\n",
    "            return_underfit.append(temp_list)\n",
    "        elif len(temp_list) > 7:\n",
    "            temp_list = grouped_data.get_group(tx_id[i]).drop_duplicates(subset=['Event'])[\"Time\"].to_list()\n",
    "            actual_time = max(temp_list)\n",
    "            time_passed_returns.append(actual_time)\n",
    "            temp_list.append(tx_id[i])\n",
    "            temp_list.append(actual_time)\n",
    "            return_overfit.append(temp_list)\n",
    "            \n",
    "        else:\n",
    "            temp_list.append(tx_id[i])\n",
    "            other_returns.append(temp_list)\n",
    "    \n",
    "#     if \"RETURN\" == grouped_data.get_group(tx_id[i])[\"Tx_type\"].to_list()[0]:\n",
    "#         temp_list = grouped_data.get_group(tx_id[i])[\"Time\"].to_list()\n",
    "#         actual_time = max(temp_list)\n",
    "#         time_returns.append(actual_time)\n",
    "#         time_id_return[tx_id[i]] = actual_time\n",
    "\n",
    "            \n",
    "    if \"BID\" == grouped_data.get_group(tx_id[i])[\"Tx_type\"].to_list()[0]:\n",
    "        temp_list = grouped_data.get_group(tx_id[i])[\"Time\"].to_list()\n",
    "        if len(temp_list) == 6 and grouped_data.get_group(tx_id[i])[\"Event\"].to_list()[5] == \"commit_tx\":\n",
    "            time_all_committed_bids[tx_id[i]] = temp_list\n",
    "            actual_time = max(temp_list)\n",
    "            time_passed_bids.append(actual_time)\n",
    "            bid_time[tx_id[i]] = actual_time\n",
    "        elif len(temp_list) < 6:\n",
    "            temp_list.append(tx_id[i])\n",
    "            bids_underfit.append(temp_list)\n",
    "        elif len(temp_list) == 7:\n",
    "            temp_list = grouped_data.get_group(tx_id[i]).drop_duplicates(subset=['Event'])[\"Time\"].to_list()\n",
    "            actual_time = max(temp_list)\n",
    "            time_passed_bids.append(actual_time)\n",
    "            temp_list.append(tx_id[i])\n",
    "            temp_list.append(actual_time)\n",
    "            bids_overfit.append(temp_list)\n",
    "            \n",
    "        else:\n",
    "            other_bids.append(temp_list)\n",
    "#     if \"BID\" == grouped_data.get_group(tx_id[i])[\"Tx_type\"].to_list()[0]:\n",
    "#         temp_list = grouped_data.get_group(tx_id[i])[\"Time\"].to_list()\n",
    "#         actual_time = max(temp_list)\n",
    "#         if actual_time != 0:\n",
    "#             time_bids.append(actual_time)\n",
    "#             time_id_bid[tx_id[i]] = actual_time"
   ]
  },
  {
   "cell_type": "code",
   "execution_count": 9,
   "id": "24aacdd6",
   "metadata": {},
   "outputs": [],
   "source": [
    "time_all_committed_rfqs = {}\n",
    "time_passed_rfqs = []\n",
    "rfq_time = {}\n",
    "rfq_overfit = []\n",
    "rfq_underfit = []\n",
    "not_validated_rfqs = []\n",
    "passed_validation = {}\n",
    "for i in range(0, len(tx_id)):\n",
    "    temp_list = []\n",
    "    if \"REQUEST_FOR_QUOTE\" == grouped_data.get_group(tx_id[i])[\"Tx_type\"].to_list()[0]:\n",
    "        temp_list = grouped_data.get_group(tx_id[i])[\"Time\"].to_list()\n",
    "        if len(temp_list) == 6 and grouped_data.get_group(tx_id[i])[\"Event\"].to_list()[5] == \"commit_tx\":\n",
    "            actual_time = max(temp_list)\n",
    "            time_all_committed_rfqs[tx_id[i]] = actual_time\n",
    "            time_passed_rfqs.append(actual_time)\n",
    "            rfq_time[tx_id[i]] = actual_time\n",
    "            if grouped_data.get_group(tx_id[i])[\"Event\"].to_list()[1] == \"before_tendermint\":\n",
    "                val = temp_list[1] - temp_list[0]\n",
    "                passed_validation[tx_id[i]] = val\n",
    "        elif  1 < len(temp_list) < 3:\n",
    "            val = temp_list[1] - temp_list[0]\n",
    "            passed_validation[tx_id[i]] = val\n",
    "            temp_list.append(tx_id[i])\n",
    "            rfq_underfit.append(temp_list)\n",
    "        elif  6 < len(temp_list) <= 10:\n",
    "            val = temp_list[1] - temp_list[0]\n",
    "            passed_validation[tx_id[i]] = val\n",
    "            temp_list = grouped_data.get_group(tx_id[i]).drop_duplicates(subset=['Event'])[\"Time\"].to_list()\n",
    "            actual_time = max(temp_list)\n",
    "            time_all_committed_rfqs[tx_id[i]] = actual_time\n",
    "            time_passed_rfqs.append(actual_time)\n",
    "            temp_list.append(tx_id[i])\n",
    "            temp_list.append(actual_time)\n",
    "            rfq_overfit.append(temp_list)\n",
    "            \n",
    "            \n",
    "        else:\n",
    "            temp_list.append(tx_id[i])\n",
    "            not_validated_rfqs.append(temp_list)"
   ]
  },
  {
   "cell_type": "code",
   "execution_count": 10,
   "id": "0d8830e2",
   "metadata": {},
   "outputs": [
    {
     "data": {
      "text/plain": [
       "100"
      ]
     },
     "execution_count": 10,
     "metadata": {},
     "output_type": "execute_result"
    }
   ],
   "source": [
    "len(time_all_committed_rfqs)"
   ]
  },
  {
   "cell_type": "code",
   "execution_count": 11,
   "id": "9a73c4d1",
   "metadata": {},
   "outputs": [
    {
     "data": {
      "text/plain": [
       "100"
      ]
     },
     "execution_count": 11,
     "metadata": {},
     "output_type": "execute_result"
    }
   ],
   "source": [
    "len(time_id_accept)"
   ]
  },
  {
   "cell_type": "code",
   "execution_count": 12,
   "id": "4a447ba6",
   "metadata": {},
   "outputs": [
    {
     "data": {
      "text/plain": [
       "{'010b39cc9b7e06fab220b4ebd81fe2916c0bd8e457b241a0a1de4124a9e76e76': 25,\n",
       " '023d9f63e0fe163ddc488aa40b2664f2c2270e66fd7e0db5b197dffc54780243': 25,\n",
       " '0ad053935fbbe01ce182284ce5fcc09ad891049182eea95d94330a51cc0f8c78': 25,\n",
       " '10e1c6f62b461060edce74073d4673cb1309e45d727230b9c98fccc055b9956c': 25,\n",
       " '12ea634a4f599a047596a5c6cccd0b3327c13de5e09509c48ccc6d794f5aec1b': 25,\n",
       " '1314ec23df3d62b175103313f0ff86c851b0739af774c7ae7c8d595780759271': 25,\n",
       " '1939d594e1f2378ac206b84686c3051bdcfccaa9c2882748310fab5a1ff5753a': 25,\n",
       " '1c1b8fec9b3c5c43f8ac703ab4fa1c8f3a79a086c894bc20f93edfeb82a299de': 25,\n",
       " '1cb07a1420a37a6479613a3d0433597156f72b6a02aedc606d0ec30872cf54d3': 25,\n",
       " '1e10f73323c86debbbb6540982a1f32b65928ca4223fde81aa08d8efe3fffff4': 25,\n",
       " '20138a1a6289a5a459d0dd1760baea5e7a88a501bb0be0183d4b608660888224': 25,\n",
       " '20a4ee0190507c49d966ee5dc0d73e0d250436178f9995f103356316035bf49d': 25,\n",
       " '221d7c41c5b3583c5314919a63ca8144b7588acd666806eca8431939bcb362bb': 25,\n",
       " '25ecbd673554561485e9414930a30b7f674d5d0a80647a8e91fee13fc3b576be': 25,\n",
       " '2cde99fc857cf45b379f94990f5f02475360569fd0c75af84490ba965e965895': 25,\n",
       " '3163cc4ef80ce503f410f5e32d456f821e0568248cf99c4427bc1b9579d9172e': 25,\n",
       " '319b9d73868db638f8d23afc5ceb6234e95f40d8a43630944e14514f7eb5212e': 25,\n",
       " '326b9dd9b3a9bd1974b82a4c1946c91da2c2856f0b65b9eada44d6d63d3e88ff': 25,\n",
       " '331ca77987ad25091c086a5a8534dc766be3c41bcc3803fb829a498f0a7a168e': 25,\n",
       " '35276a64679d56554da03c96ff42c27e495a79d43e1f7acce6a980e831ddd8d1': 25,\n",
       " '360c7afc8c5877f53ccab11f0395a70b1f74d7907af7aa9144d65e5c320e5fbb': 25,\n",
       " '388ca13d47b391d5ace69b999d7baaab1c7c72ad93635f90ff9f0cd0d803e994': 25,\n",
       " '3b52004e93332b6720c138140477d3ce9bacfc24105ba0125e7517be238515cf': 25,\n",
       " '3cb36d2162cb9cd8a19dca0e1c42150792840e24b5f4aebc92c335e876a1fbba': 25,\n",
       " '3dff58c2d46947d8ae540fee5e1542f1dc7ab41f096a25e7b1652c326df82399': 25,\n",
       " '4338bc4585b529954e31db2ad5b0e10198ddd366015463256b41e2f367125f41': 25,\n",
       " '44a6b8bd641eaa728c5c854ca1ed3cf230671893ffd367e7c73d832aa0782887': 25,\n",
       " '4733ffe013a18f22325ca8769b0535f1f6f115635d14d767636b887feec452ba': 24,\n",
       " '49355959ccccb44bc623aea930ad2b1624056e0621504da6b4fcaad94395cd65': 25,\n",
       " '515d923847524d6178f97b848eabd48f4e40bc423ee4a90a23fbad0fd9640fc0': 25,\n",
       " '549d37ada8f690f75447165a65526e0702efbed9159d3034df4a1285c7f7eb78': 25,\n",
       " '5504c624fe02523e27b3f42f43ddffea09a6591d2989da0f9bfd8334ddf96702': 25,\n",
       " '5aeea3d2cef2651e168d3b1a2b5308cfbf41ad686e57a91f086543709d996884': 25,\n",
       " '5c390696efc005251b0213c3e8823715b452ca58a5ff9638e89ea9cb419d525c': 25,\n",
       " '5cadefc34d4bceb119a68cf60170373b6351021804173f5252cb79eb6da6ce4d': 25,\n",
       " '63a94ff235bce9d444a8b08b3e78ae886d34cd9d3283192406d8cfacce4454eb': 25,\n",
       " '687454688350ec2a6cdd25c2bbdfc5f7610c85af8f809cea584bcf7db600f4fe': 25,\n",
       " '695ea94d1b9b06c41a26f470dad9997ccd3afb394d18bda6d5cdb253ac5ca187': 25,\n",
       " '6ed749b6a2d054486466bc994d39a82ab112467c084ecf5fd3e18c3fcb995222': 25,\n",
       " '70ac0514693752cab09e6b357123965b8502e9d19628bc723aa739e15f70cf70': 25,\n",
       " '76fdbf7ac43edb0ac44b65d03a63d1ba93d06dc1c8ac8af9cefd86a12a9875dd': 25,\n",
       " '7ba47b5259ed10786484fc9b9775b3616ea5d7cbd27e573e3b4118bae894cf29': 25,\n",
       " '7bdc0e33096c8ed1631d3da10a8d9183eb49482525d34ab49d43bc25c363a3d8': 25,\n",
       " '7c1cf81713c2251c3150a3359341f9e5ebbaf1626c0961aff017c17c6ed13429': 25,\n",
       " '7c6652f45a40715e98bf23e3716791bbb05e659052e7806d73907f9419c23fc4': 25,\n",
       " '80c88f6f27687a13cfdd934150c112945ddc022b8ce081f297affa3b8f516215': 25,\n",
       " '816fabc057a9d8a813ab205e019958fdd360d18ebe1eb2eeee9a82516aea5549': 24,\n",
       " '8312d688c92656c1098e8373e521007c2e5b8babccb747d9a15814131185fd0b': 25,\n",
       " '8416e2f35c0d6827288fa22eaaa51eb2d6768c4f39072b42b6ae1740d5be8568': 25,\n",
       " '84eb8b01671ef4762139bbb51c33b91c055c205ba05236137be04afd64cedade': 25,\n",
       " '8520978ad309a1723bcb10a96ca7649264695427e649c7229dbb23980029a43d': 25,\n",
       " '858d0cde4ba15ea0b1ae9d632ba491b02345e9e09bdc9f6dfbd77997ab64fff6': 25,\n",
       " '88d01e81d4ea907c1e87b1fca5a6bfb132aa3708b7b94e31f9b22321f23362ba': 25,\n",
       " '8c7a93d5b0e26af8b66c9c86d617edd013ac9cc05e103461678927db0e75ebb2': 25,\n",
       " '8cb350e7fffd56be2e4ebf613def5e7bfbc19319057c2917adeb1a48fc7f4365': 25,\n",
       " '8dd5a117d36c261fd2b45a58804b44f56e4dacffc726ad48cc689895822fceb7': 25,\n",
       " '8ee49171bdc85ccaa7fbc8464c731e77517a45c18bb581c313d4c8a1f4c5aa6a': 25,\n",
       " '8f2517269ec22c9906dc37b142731c7fc8f4d8b9318afb55beccdf1419a3f21b': 25,\n",
       " '8fc658b4104f67893628592c01b5c15dd0488985469a2481947d3b3885ef16dd': 25,\n",
       " '902c4155dc6dc8d9322bfa855c5c2312271a024858a0a6021cf7cefad734fe01': 25,\n",
       " '9421c7276ef8a3fa3658677989037ca131410c1af93ca9df611c3b144350b065': 25,\n",
       " '95c066bde06c32dc0a5961e0f87dac6c801a1d55285d0ddcc16351938e76c78f': 25,\n",
       " '9e858ef7260b7a77a4ce9182c9321b1bff25cd8041ef19652b4c8ab12bcd0188': 25,\n",
       " 'a69cdfc6e5ceada2894cc1c4aea2758237580249802f5e69f84968e094d00b10': 25,\n",
       " 'aa4facee39ed418e4d5b574cfb02c3fdba178ff3b9d275b1691bc1d29327b8a6': 25,\n",
       " 'ab1dab5c6a08f90bc2722c17224888dde1d0d729d303fcf2e64d6c16b5080280': 25,\n",
       " 'ac4ea56a5ff795cfe7e8367b7f1a11a695653c4676c9ef1b932d04a57771b19f': 25,\n",
       " 'b710a2555f2e16a48f5aa0e95001b5c5a790df77de2dadb3703cb1ce9a1f4e93': 25,\n",
       " 'bfdadfab8b10e0d121c2010ea70995d70f69b44bcc5bbf13b5e40a77d936fe82': 25,\n",
       " 'c7ebfb2bc51d3e35d25e8bf75c11544ae8400f9623765db7b92594285f8233b0': 25,\n",
       " 'ca382db3e28830a22cc5fff9a3cbecead71805111732f63a749120e94404d6eb': 24,\n",
       " 'cc79f9690506993562d41140be5f7cd1856b5c687901c50b4bdcdc13bb82e69e': 25,\n",
       " 'cf914723541efd94cab3403fb39de68d074467f3d5b71abde055001f9451a907': 25,\n",
       " 'cfd7667d0b3b9d5528df7e1b6435d548f29d48a62eb180e649386a47fa0597e7': 25,\n",
       " 'd112e2d9eaa3c8c8b13131643f99f0c358f68579910680c33ad50362ac171442': 24,\n",
       " 'd140ce64b62e774090b9d0cb16868cb66483ed323428bc29f01ddc5f959a16d3': 25,\n",
       " 'd7b8c46907454bf70a5a06ea81d4b39f0d5a7198dacc0468a0da3921bbcb245a': 24,\n",
       " 'd9f51460f9af564bb09e5d4cdabc37e38b75ec82749babcd244d80b6d44b3de3': 25,\n",
       " 'dcb3a5a0b1bdf9642e4eda1df44597d51f0bf9589d74860b3d971e9871cfd288': 25,\n",
       " 'ddac8cf802e6b00e0ea45dd3095a5d3d18c25668e56841c14e4139a5096b3921': 25,\n",
       " 'de967923158998d0b1d54c9e90937c1e1ac8265d0b3fd296a315cc9dfd45627e': 25,\n",
       " 'ded6e26e0df93baa6a15704b89cfd8da5bab460c74cea3eb563024c7ecbdbb71': 25,\n",
       " 'e1009b9e07b8af3a987125b368ccceafe4cb04b239d1c0b1f33e7e9b12ded08c': 25,\n",
       " 'e260c023e1851e419916d1be00e231ff222b0a3dcbbae8793107cd1a5ec023aa': 25,\n",
       " 'e319b69c537cee69e1cebc0082a6f8ff772545e4c93fc69b61954f1252558a6e': 25,\n",
       " 'e396486076b03ed5fe2a4af71f18e6b23855abb1fea3e28518ade5376c201845': 25,\n",
       " 'e49969e52431bb01cbe4f7f60b12a3ec23ac7cd834063f0f557944611e47f2d0': 25,\n",
       " 'e6372d45cab79a321d5c42906d21e28f67657a34822d77649d46e73e19adcb80': 25,\n",
       " 'ea313c6085c763884f39056ac77e63f51523640ab7f99812b03f57bc6ea6e677': 25,\n",
       " 'ef18d4be820bea2e81647958142508bff9da7e36717298c3b94f7cd76f6201ca': 25,\n",
       " 'ef4e0af3a73bce33d61507e09746c4baba6a257942e150258e6784e0b2764c64': 25,\n",
       " 'f07e6a24ef15596e8255d228e5a33d7784a5e8544ce3d385d43904a049ded755': 25,\n",
       " 'f0b990baf648a52d4943a55968a771b073dd108655e55a6e8a2a9eb25afb952d': 25,\n",
       " 'f108197b0b0230944db8d389628e55bf31f0eef72fc8de2464aa8a7937466d46': 25,\n",
       " 'f440cf823ccc050ce8e7d4541efe9658de32085b4d4061e66f769495bb8042f6': 25,\n",
       " 'f4f878c0a6c93ee0ff81d5b81bc11ead925e09c2a5477265574735977d7a65c5': 25,\n",
       " 'f51f55fbe435e69ddba352d675ba9e441107983444eb300cfc4e7c682ef89556': 25,\n",
       " 'f6323d5106498f71202c45d664bdf1421356317461d510d0b55e40ccf7a6a26a': 25,\n",
       " 'f940d51cfb8de132108e5697bdc6b858781bfd2618df0179e10a23701243d956': 25,\n",
       " 'fb5795c597fd62311b662c2f57cdd3f76f944d5d52bd54dfb9907d6bd8ac9928': 25}"
      ]
     },
     "execution_count": 12,
     "metadata": {},
     "output_type": "execute_result"
    }
   ],
   "source": [
    "accept_return_count"
   ]
  },
  {
   "cell_type": "code",
   "execution_count": 13,
   "id": "ea966a45",
   "metadata": {},
   "outputs": [
    {
     "ename": "FileNotFoundError",
     "evalue": "[Errno 2] No such file or directory: 'create_data.csv'",
     "output_type": "error",
     "traceback": [
      "\u001b[1;31m---------------------------------------------------------------------------\u001b[0m",
      "\u001b[1;31mFileNotFoundError\u001b[0m                         Traceback (most recent call last)",
      "\u001b[1;32m<ipython-input-13-1c63616526d1>\u001b[0m in \u001b[0;36m<module>\u001b[1;34m\u001b[0m\n\u001b[1;32m----> 1\u001b[1;33m \u001b[0mdf_passed_creates\u001b[0m \u001b[1;33m=\u001b[0m \u001b[0mpd\u001b[0m\u001b[1;33m.\u001b[0m\u001b[0mread_csv\u001b[0m\u001b[1;33m(\u001b[0m\u001b[1;34m'create_data.csv'\u001b[0m\u001b[1;33m)\u001b[0m\u001b[1;33m\u001b[0m\u001b[1;33m\u001b[0m\u001b[0m\n\u001b[0m\u001b[0;32m      2\u001b[0m \u001b[0mdf_passed_bids\u001b[0m \u001b[1;33m=\u001b[0m \u001b[0mpd\u001b[0m\u001b[1;33m.\u001b[0m\u001b[0mread_csv\u001b[0m\u001b[1;33m(\u001b[0m\u001b[1;34m'bid_data.csv'\u001b[0m\u001b[1;33m)\u001b[0m\u001b[1;33m\u001b[0m\u001b[1;33m\u001b[0m\u001b[0m\n\u001b[0;32m      3\u001b[0m \u001b[0mdf_passed_accepts\u001b[0m \u001b[1;33m=\u001b[0m \u001b[0mpd\u001b[0m\u001b[1;33m.\u001b[0m\u001b[0mread_csv\u001b[0m\u001b[1;33m(\u001b[0m\u001b[1;34m'accept_data.csv'\u001b[0m\u001b[1;33m)\u001b[0m\u001b[1;33m\u001b[0m\u001b[1;33m\u001b[0m\u001b[0m\n\u001b[0;32m      4\u001b[0m \u001b[0mdf_passed_returns\u001b[0m \u001b[1;33m=\u001b[0m \u001b[0mpd\u001b[0m\u001b[1;33m.\u001b[0m\u001b[0mread_csv\u001b[0m\u001b[1;33m(\u001b[0m\u001b[1;34m'return_data.csv'\u001b[0m\u001b[1;33m)\u001b[0m\u001b[1;33m\u001b[0m\u001b[1;33m\u001b[0m\u001b[0m\n\u001b[0;32m      5\u001b[0m \u001b[0mdf_passed_rfqs\u001b[0m \u001b[1;33m=\u001b[0m \u001b[0mpd\u001b[0m\u001b[1;33m.\u001b[0m\u001b[0mread_csv\u001b[0m\u001b[1;33m(\u001b[0m\u001b[1;34m'rfq_data1.csv'\u001b[0m\u001b[1;33m)\u001b[0m\u001b[1;33m\u001b[0m\u001b[1;33m\u001b[0m\u001b[0m\n",
      "\u001b[1;32m~\\Anaconda3\\lib\\site-packages\\pandas\\io\\parsers.py\u001b[0m in \u001b[0;36mread_csv\u001b[1;34m(filepath_or_buffer, sep, delimiter, header, names, index_col, usecols, squeeze, prefix, mangle_dupe_cols, dtype, engine, converters, true_values, false_values, skipinitialspace, skiprows, skipfooter, nrows, na_values, keep_default_na, na_filter, verbose, skip_blank_lines, parse_dates, infer_datetime_format, keep_date_col, date_parser, dayfirst, cache_dates, iterator, chunksize, compression, thousands, decimal, lineterminator, quotechar, quoting, doublequote, escapechar, comment, encoding, dialect, error_bad_lines, warn_bad_lines, delim_whitespace, low_memory, memory_map, float_precision, storage_options)\u001b[0m\n\u001b[0;32m    608\u001b[0m     \u001b[0mkwds\u001b[0m\u001b[1;33m.\u001b[0m\u001b[0mupdate\u001b[0m\u001b[1;33m(\u001b[0m\u001b[0mkwds_defaults\u001b[0m\u001b[1;33m)\u001b[0m\u001b[1;33m\u001b[0m\u001b[1;33m\u001b[0m\u001b[0m\n\u001b[0;32m    609\u001b[0m \u001b[1;33m\u001b[0m\u001b[0m\n\u001b[1;32m--> 610\u001b[1;33m     \u001b[1;32mreturn\u001b[0m \u001b[0m_read\u001b[0m\u001b[1;33m(\u001b[0m\u001b[0mfilepath_or_buffer\u001b[0m\u001b[1;33m,\u001b[0m \u001b[0mkwds\u001b[0m\u001b[1;33m)\u001b[0m\u001b[1;33m\u001b[0m\u001b[1;33m\u001b[0m\u001b[0m\n\u001b[0m\u001b[0;32m    611\u001b[0m \u001b[1;33m\u001b[0m\u001b[0m\n\u001b[0;32m    612\u001b[0m \u001b[1;33m\u001b[0m\u001b[0m\n",
      "\u001b[1;32m~\\Anaconda3\\lib\\site-packages\\pandas\\io\\parsers.py\u001b[0m in \u001b[0;36m_read\u001b[1;34m(filepath_or_buffer, kwds)\u001b[0m\n\u001b[0;32m    460\u001b[0m \u001b[1;33m\u001b[0m\u001b[0m\n\u001b[0;32m    461\u001b[0m     \u001b[1;31m# Create the parser.\u001b[0m\u001b[1;33m\u001b[0m\u001b[1;33m\u001b[0m\u001b[1;33m\u001b[0m\u001b[0m\n\u001b[1;32m--> 462\u001b[1;33m     \u001b[0mparser\u001b[0m \u001b[1;33m=\u001b[0m \u001b[0mTextFileReader\u001b[0m\u001b[1;33m(\u001b[0m\u001b[0mfilepath_or_buffer\u001b[0m\u001b[1;33m,\u001b[0m \u001b[1;33m**\u001b[0m\u001b[0mkwds\u001b[0m\u001b[1;33m)\u001b[0m\u001b[1;33m\u001b[0m\u001b[1;33m\u001b[0m\u001b[0m\n\u001b[0m\u001b[0;32m    463\u001b[0m \u001b[1;33m\u001b[0m\u001b[0m\n\u001b[0;32m    464\u001b[0m     \u001b[1;32mif\u001b[0m \u001b[0mchunksize\u001b[0m \u001b[1;32mor\u001b[0m \u001b[0miterator\u001b[0m\u001b[1;33m:\u001b[0m\u001b[1;33m\u001b[0m\u001b[1;33m\u001b[0m\u001b[0m\n",
      "\u001b[1;32m~\\Anaconda3\\lib\\site-packages\\pandas\\io\\parsers.py\u001b[0m in \u001b[0;36m__init__\u001b[1;34m(self, f, engine, **kwds)\u001b[0m\n\u001b[0;32m    817\u001b[0m             \u001b[0mself\u001b[0m\u001b[1;33m.\u001b[0m\u001b[0moptions\u001b[0m\u001b[1;33m[\u001b[0m\u001b[1;34m\"has_index_names\"\u001b[0m\u001b[1;33m]\u001b[0m \u001b[1;33m=\u001b[0m \u001b[0mkwds\u001b[0m\u001b[1;33m[\u001b[0m\u001b[1;34m\"has_index_names\"\u001b[0m\u001b[1;33m]\u001b[0m\u001b[1;33m\u001b[0m\u001b[1;33m\u001b[0m\u001b[0m\n\u001b[0;32m    818\u001b[0m \u001b[1;33m\u001b[0m\u001b[0m\n\u001b[1;32m--> 819\u001b[1;33m         \u001b[0mself\u001b[0m\u001b[1;33m.\u001b[0m\u001b[0m_engine\u001b[0m \u001b[1;33m=\u001b[0m \u001b[0mself\u001b[0m\u001b[1;33m.\u001b[0m\u001b[0m_make_engine\u001b[0m\u001b[1;33m(\u001b[0m\u001b[0mself\u001b[0m\u001b[1;33m.\u001b[0m\u001b[0mengine\u001b[0m\u001b[1;33m)\u001b[0m\u001b[1;33m\u001b[0m\u001b[1;33m\u001b[0m\u001b[0m\n\u001b[0m\u001b[0;32m    820\u001b[0m \u001b[1;33m\u001b[0m\u001b[0m\n\u001b[0;32m    821\u001b[0m     \u001b[1;32mdef\u001b[0m \u001b[0mclose\u001b[0m\u001b[1;33m(\u001b[0m\u001b[0mself\u001b[0m\u001b[1;33m)\u001b[0m\u001b[1;33m:\u001b[0m\u001b[1;33m\u001b[0m\u001b[1;33m\u001b[0m\u001b[0m\n",
      "\u001b[1;32m~\\Anaconda3\\lib\\site-packages\\pandas\\io\\parsers.py\u001b[0m in \u001b[0;36m_make_engine\u001b[1;34m(self, engine)\u001b[0m\n\u001b[0;32m   1048\u001b[0m             )\n\u001b[0;32m   1049\u001b[0m         \u001b[1;31m# error: Too many arguments for \"ParserBase\"\u001b[0m\u001b[1;33m\u001b[0m\u001b[1;33m\u001b[0m\u001b[1;33m\u001b[0m\u001b[0m\n\u001b[1;32m-> 1050\u001b[1;33m         \u001b[1;32mreturn\u001b[0m \u001b[0mmapping\u001b[0m\u001b[1;33m[\u001b[0m\u001b[0mengine\u001b[0m\u001b[1;33m]\u001b[0m\u001b[1;33m(\u001b[0m\u001b[0mself\u001b[0m\u001b[1;33m.\u001b[0m\u001b[0mf\u001b[0m\u001b[1;33m,\u001b[0m \u001b[1;33m**\u001b[0m\u001b[0mself\u001b[0m\u001b[1;33m.\u001b[0m\u001b[0moptions\u001b[0m\u001b[1;33m)\u001b[0m  \u001b[1;31m# type: ignore[call-arg]\u001b[0m\u001b[1;33m\u001b[0m\u001b[1;33m\u001b[0m\u001b[0m\n\u001b[0m\u001b[0;32m   1051\u001b[0m \u001b[1;33m\u001b[0m\u001b[0m\n\u001b[0;32m   1052\u001b[0m     \u001b[1;32mdef\u001b[0m \u001b[0m_failover_to_python\u001b[0m\u001b[1;33m(\u001b[0m\u001b[0mself\u001b[0m\u001b[1;33m)\u001b[0m\u001b[1;33m:\u001b[0m\u001b[1;33m\u001b[0m\u001b[1;33m\u001b[0m\u001b[0m\n",
      "\u001b[1;32m~\\Anaconda3\\lib\\site-packages\\pandas\\io\\parsers.py\u001b[0m in \u001b[0;36m__init__\u001b[1;34m(self, src, **kwds)\u001b[0m\n\u001b[0;32m   1865\u001b[0m \u001b[1;33m\u001b[0m\u001b[0m\n\u001b[0;32m   1866\u001b[0m         \u001b[1;31m# open handles\u001b[0m\u001b[1;33m\u001b[0m\u001b[1;33m\u001b[0m\u001b[1;33m\u001b[0m\u001b[0m\n\u001b[1;32m-> 1867\u001b[1;33m         \u001b[0mself\u001b[0m\u001b[1;33m.\u001b[0m\u001b[0m_open_handles\u001b[0m\u001b[1;33m(\u001b[0m\u001b[0msrc\u001b[0m\u001b[1;33m,\u001b[0m \u001b[0mkwds\u001b[0m\u001b[1;33m)\u001b[0m\u001b[1;33m\u001b[0m\u001b[1;33m\u001b[0m\u001b[0m\n\u001b[0m\u001b[0;32m   1868\u001b[0m         \u001b[1;32massert\u001b[0m \u001b[0mself\u001b[0m\u001b[1;33m.\u001b[0m\u001b[0mhandles\u001b[0m \u001b[1;32mis\u001b[0m \u001b[1;32mnot\u001b[0m \u001b[1;32mNone\u001b[0m\u001b[1;33m\u001b[0m\u001b[1;33m\u001b[0m\u001b[0m\n\u001b[0;32m   1869\u001b[0m         \u001b[1;32mfor\u001b[0m \u001b[0mkey\u001b[0m \u001b[1;32min\u001b[0m \u001b[1;33m(\u001b[0m\u001b[1;34m\"storage_options\"\u001b[0m\u001b[1;33m,\u001b[0m \u001b[1;34m\"encoding\"\u001b[0m\u001b[1;33m,\u001b[0m \u001b[1;34m\"memory_map\"\u001b[0m\u001b[1;33m,\u001b[0m \u001b[1;34m\"compression\"\u001b[0m\u001b[1;33m)\u001b[0m\u001b[1;33m:\u001b[0m\u001b[1;33m\u001b[0m\u001b[1;33m\u001b[0m\u001b[0m\n",
      "\u001b[1;32m~\\Anaconda3\\lib\\site-packages\\pandas\\io\\parsers.py\u001b[0m in \u001b[0;36m_open_handles\u001b[1;34m(self, src, kwds)\u001b[0m\n\u001b[0;32m   1366\u001b[0m             \u001b[0mcompression\u001b[0m\u001b[1;33m=\u001b[0m\u001b[0mkwds\u001b[0m\u001b[1;33m.\u001b[0m\u001b[0mget\u001b[0m\u001b[1;33m(\u001b[0m\u001b[1;34m\"compression\"\u001b[0m\u001b[1;33m,\u001b[0m \u001b[1;32mNone\u001b[0m\u001b[1;33m)\u001b[0m\u001b[1;33m,\u001b[0m\u001b[1;33m\u001b[0m\u001b[1;33m\u001b[0m\u001b[0m\n\u001b[0;32m   1367\u001b[0m             \u001b[0mmemory_map\u001b[0m\u001b[1;33m=\u001b[0m\u001b[0mkwds\u001b[0m\u001b[1;33m.\u001b[0m\u001b[0mget\u001b[0m\u001b[1;33m(\u001b[0m\u001b[1;34m\"memory_map\"\u001b[0m\u001b[1;33m,\u001b[0m \u001b[1;32mFalse\u001b[0m\u001b[1;33m)\u001b[0m\u001b[1;33m,\u001b[0m\u001b[1;33m\u001b[0m\u001b[1;33m\u001b[0m\u001b[0m\n\u001b[1;32m-> 1368\u001b[1;33m             \u001b[0mstorage_options\u001b[0m\u001b[1;33m=\u001b[0m\u001b[0mkwds\u001b[0m\u001b[1;33m.\u001b[0m\u001b[0mget\u001b[0m\u001b[1;33m(\u001b[0m\u001b[1;34m\"storage_options\"\u001b[0m\u001b[1;33m,\u001b[0m \u001b[1;32mNone\u001b[0m\u001b[1;33m)\u001b[0m\u001b[1;33m,\u001b[0m\u001b[1;33m\u001b[0m\u001b[1;33m\u001b[0m\u001b[0m\n\u001b[0m\u001b[0;32m   1369\u001b[0m         )\n\u001b[0;32m   1370\u001b[0m \u001b[1;33m\u001b[0m\u001b[0m\n",
      "\u001b[1;32m~\\Anaconda3\\lib\\site-packages\\pandas\\io\\common.py\u001b[0m in \u001b[0;36mget_handle\u001b[1;34m(path_or_buf, mode, encoding, compression, memory_map, is_text, errors, storage_options)\u001b[0m\n\u001b[0;32m    645\u001b[0m                 \u001b[0mencoding\u001b[0m\u001b[1;33m=\u001b[0m\u001b[0mioargs\u001b[0m\u001b[1;33m.\u001b[0m\u001b[0mencoding\u001b[0m\u001b[1;33m,\u001b[0m\u001b[1;33m\u001b[0m\u001b[1;33m\u001b[0m\u001b[0m\n\u001b[0;32m    646\u001b[0m                 \u001b[0merrors\u001b[0m\u001b[1;33m=\u001b[0m\u001b[0merrors\u001b[0m\u001b[1;33m,\u001b[0m\u001b[1;33m\u001b[0m\u001b[1;33m\u001b[0m\u001b[0m\n\u001b[1;32m--> 647\u001b[1;33m                 \u001b[0mnewline\u001b[0m\u001b[1;33m=\u001b[0m\u001b[1;34m\"\"\u001b[0m\u001b[1;33m,\u001b[0m\u001b[1;33m\u001b[0m\u001b[1;33m\u001b[0m\u001b[0m\n\u001b[0m\u001b[0;32m    648\u001b[0m             )\n\u001b[0;32m    649\u001b[0m         \u001b[1;32melse\u001b[0m\u001b[1;33m:\u001b[0m\u001b[1;33m\u001b[0m\u001b[1;33m\u001b[0m\u001b[0m\n",
      "\u001b[1;31mFileNotFoundError\u001b[0m: [Errno 2] No such file or directory: 'create_data.csv'"
     ]
    }
   ],
   "source": [
    "df_passed_creates = pd.read_csv('create_data.csv')\n",
    "df_passed_bids = pd.read_csv('bid_data.csv')\n",
    "df_passed_accepts = pd.read_csv('accept_data.csv')\n",
    "df_passed_returns = pd.read_csv('return_data.csv')\n",
    "df_passed_rfqs = pd.read_csv('rfq_data1.csv')"
   ]
  },
  {
   "cell_type": "code",
   "execution_count": 14,
   "id": "1eea95f4",
   "metadata": {},
   "outputs": [
    {
     "ename": "NameError",
     "evalue": "name 'df_passed_creates' is not defined",
     "output_type": "error",
     "traceback": [
      "\u001b[1;31m---------------------------------------------------------------------------\u001b[0m",
      "\u001b[1;31mNameError\u001b[0m                                 Traceback (most recent call last)",
      "\u001b[1;32m<ipython-input-14-09ebe6fbceba>\u001b[0m in \u001b[0;36m<module>\u001b[1;34m\u001b[0m\n\u001b[1;32m----> 1\u001b[1;33m \u001b[0mtime_passed_creates\u001b[0m \u001b[1;33m=\u001b[0m \u001b[0mdf_passed_creates\u001b[0m\u001b[1;33m[\u001b[0m\u001b[1;34m'0'\u001b[0m\u001b[1;33m]\u001b[0m\u001b[1;33m.\u001b[0m\u001b[0mto_list\u001b[0m\u001b[1;33m(\u001b[0m\u001b[1;33m)\u001b[0m\u001b[1;33m\u001b[0m\u001b[1;33m\u001b[0m\u001b[0m\n\u001b[0m\u001b[0;32m      2\u001b[0m \u001b[0mtime_passed_bids\u001b[0m \u001b[1;33m=\u001b[0m \u001b[0mdf_passed_bids\u001b[0m\u001b[1;33m[\u001b[0m\u001b[1;34m'valid_BIDs'\u001b[0m\u001b[1;33m]\u001b[0m\u001b[1;33m.\u001b[0m\u001b[0mto_list\u001b[0m\u001b[1;33m(\u001b[0m\u001b[1;33m)\u001b[0m\u001b[1;33m\u001b[0m\u001b[1;33m\u001b[0m\u001b[0m\n\u001b[0;32m      3\u001b[0m \u001b[0mtime_passed_accpets\u001b[0m \u001b[1;33m=\u001b[0m \u001b[0mdf_passed_accepts\u001b[0m\u001b[1;33m[\u001b[0m\u001b[1;34m'0'\u001b[0m\u001b[1;33m]\u001b[0m\u001b[1;33m.\u001b[0m\u001b[0mto_list\u001b[0m\u001b[1;33m(\u001b[0m\u001b[1;33m)\u001b[0m\u001b[1;33m\u001b[0m\u001b[1;33m\u001b[0m\u001b[0m\n\u001b[0;32m      4\u001b[0m \u001b[0mtime_passed_returns\u001b[0m \u001b[1;33m=\u001b[0m \u001b[0mdf_passed_returns\u001b[0m\u001b[1;33m[\u001b[0m\u001b[1;34m'valid_RETURNs'\u001b[0m\u001b[1;33m]\u001b[0m\u001b[1;33m.\u001b[0m\u001b[0mto_list\u001b[0m\u001b[1;33m(\u001b[0m\u001b[1;33m)\u001b[0m\u001b[1;33m\u001b[0m\u001b[1;33m\u001b[0m\u001b[0m\n\u001b[0;32m      5\u001b[0m \u001b[0mtime_passed_rfqs\u001b[0m \u001b[1;33m=\u001b[0m \u001b[0mdf_passed_rfqs\u001b[0m\u001b[1;33m[\u001b[0m\u001b[1;34m'time'\u001b[0m\u001b[1;33m]\u001b[0m\u001b[1;33m.\u001b[0m\u001b[0mto_list\u001b[0m\u001b[1;33m(\u001b[0m\u001b[1;33m)\u001b[0m\u001b[1;33m\u001b[0m\u001b[1;33m\u001b[0m\u001b[0m\n",
      "\u001b[1;31mNameError\u001b[0m: name 'df_passed_creates' is not defined"
     ]
    }
   ],
   "source": [
    "time_passed_creates = df_passed_creates['0'].to_list()\n",
    "time_passed_bids = df_passed_bids['valid_BIDs'].to_list()\n",
    "time_passed_accpets = df_passed_accepts['0'].to_list()\n",
    "time_passed_returns = df_passed_returns['valid_RETURNs'].to_list()\n",
    "time_passed_rfqs = df_passed_rfqs['time'].to_list()"
   ]
  },
  {
   "cell_type": "code",
   "execution_count": 15,
   "id": "f9247007",
   "metadata": {},
   "outputs": [
    {
     "name": "stdout",
     "output_type": "stream",
     "text": [
      "189.71\n",
      "181.0\n",
      "1217\n",
      "167\n",
      "35.24\n",
      "total creates = 2498\n"
     ]
    }
   ],
   "source": [
    "# Analysis of CREATE Transaction\n",
    "time_passed_creates.remove(max(time_passed_creates)) \n",
    "create_mean = \"{:.2f}\".format(stat.mean(time_passed_creates))\n",
    "create_median = stat.median(time_passed_creates)\n",
    "create_max = max(time_passed_creates)\n",
    "create_min = min(time_passed_creates)\n",
    "create_std_dev = \"{:.2f}\".format(stat.stdev(time_passed_creates))\n",
    "\n",
    "print(create_mean)\n",
    "print(create_median)\n",
    "print(create_max)\n",
    "print(create_min)\n",
    "print(create_std_dev)\n",
    "print(f\"total creates = {len(time_passed_creates)}\")\n",
    "\n",
    "create_dict = {\n",
    "               'min': create_min,\n",
    "               'max': create_max,\n",
    "               'average': create_mean,\n",
    "               'median' : create_median,\n",
    "               'standard_deviation' : create_std_dev,\n",
    "               '# of txs' : len(time_passed_creates)}"
   ]
  },
  {
   "cell_type": "code",
   "execution_count": 16,
   "id": "05fe9e72",
   "metadata": {},
   "outputs": [
    {
     "name": "stdout",
     "output_type": "stream",
     "text": [
      "1721.23\n",
      "1587.5\n",
      "3553\n",
      "312\n",
      "1721.23\n",
      "total RFQs = 100\n"
     ]
    }
   ],
   "source": [
    "# Analysis of RFQ Transaction\n",
    "if len(time_passed_rfqs) < 2:\n",
    "    time_rfqs.append(time_passed_rfqs[0])\n",
    "rfq_mean = \"{:.2f}\".format(stat.mean(time_passed_rfqs))\n",
    "rfq_median = stat.median(time_passed_rfqs)\n",
    "rfq_max = max(time_passed_rfqs)\n",
    "rfq_min = min(time_passed_rfqs)\n",
    "rfq_std_dev = \"{:.2f}\".format(stat.mean(time_passed_rfqs))\n",
    "\n",
    "print(rfq_mean)\n",
    "print(rfq_median)\n",
    "print(rfq_max)\n",
    "print(rfq_min)\n",
    "print(rfq_std_dev)\n",
    "print(f\"total RFQs = {len(time_passed_rfqs)}\")\n",
    "\n",
    "rfq_dict = {\n",
    "               'min': rfq_min,\n",
    "               'max': rfq_max,\n",
    "               'median' : rfq_median,\n",
    "               'average': rfq_mean,    \n",
    "               'standard_deviation' : rfq_std_dev,\n",
    "               '# of txs' : rfq_count}"
   ]
  },
  {
   "cell_type": "code",
   "execution_count": 17,
   "id": "c50d123c",
   "metadata": {},
   "outputs": [
    {
     "name": "stdout",
     "output_type": "stream",
     "text": [
      " bid_mean =  279.26 \n",
      " bid_median = 192 \n",
      " bid_max = 4550 \n",
      " bid_std_dev = 405.90 \n",
      " total_bids = 2495\n"
     ]
    }
   ],
   "source": [
    "# Analysis of BID Transaction \n",
    "# only passed BIDs \n",
    "bid_mean = \"{:.2f}\".format(stat.mean(time_passed_bids))\n",
    "bid_median = stat.median(time_passed_bids)\n",
    "bid_max = max(time_passed_bids)\n",
    "bid_min = min(time_passed_bids)\n",
    "bid_std_dev = \"{:.2f}\".format(stat.stdev(time_passed_bids))\n",
    "\n",
    "\n",
    "print(f\" bid_mean =  {bid_mean} \\n bid_median = {bid_median} \\n bid_max = {bid_max} \\n\"\n",
    "     f\" bid_std_dev = {bid_std_dev} \\n total_bids = {len(time_passed_bids)}\")\n",
    "\n",
    "bid_dict = {\n",
    "               'min': bid_min,\n",
    "               'max': bid_max,\n",
    "               'average': bid_mean,\n",
    "               'median' : bid_median,\n",
    "               'standard_deviation' : bid_std_dev,\n",
    "               '# of txs' : bid_count\n",
    "              }"
   ]
  },
  {
   "cell_type": "code",
   "execution_count": 18,
   "id": "fed2bca5",
   "metadata": {},
   "outputs": [
    {
     "name": "stdout",
     "output_type": "stream",
     "text": [
      "5391.00\n",
      "5303.5\n",
      "8459\n",
      "3177\n",
      "1438.96\n",
      "total ACCEPTs = 100\n"
     ]
    }
   ],
   "source": [
    "# Analysis of ACCEPT Transaction\n",
    "\n",
    "accept_mean =  \"{:.2f}\".format(stat.mean(time_passed_accepts))\n",
    "accept_median = stat.median(time_passed_accepts)\n",
    "accept_max = max(time_passed_accepts)\n",
    "accept_min = min(time_passed_accepts)\n",
    "accept_std_dev = \"{:.2f}\".format(stat.stdev(time_passed_accepts))\n",
    "\n",
    "print(accept_mean)\n",
    "print(accept_median)\n",
    "print(accept_max)\n",
    "print(accept_min)\n",
    "print(accept_std_dev)\n",
    "print(f\"total ACCEPTs = {len(time_passed_accepts)}\")\n",
    "\n",
    "accept_dict = {\n",
    "               'min': accept_min,\n",
    "               'max': accept_max,\n",
    "               'median' : accept_median,\n",
    "               'average': accept_mean,\n",
    "               'standard_deviation' : accept_std_dev,\n",
    "               '# of txs' : accept_count}"
   ]
  },
  {
   "cell_type": "code",
   "execution_count": 19,
   "id": "0948ed32",
   "metadata": {},
   "outputs": [
    {
     "name": "stdout",
     "output_type": "stream",
     "text": [
      "5279.58\n",
      "5171\n",
      "8459\n",
      "1265\n",
      "1461.24\n",
      "total RETURNs = 2495\n"
     ]
    }
   ],
   "source": [
    "# Analysis of RETURN Transaction\n",
    "\n",
    "return_mean = \"{:.2f}\".format(stat.mean(time_passed_returns))\n",
    "return_median = stat.median(time_passed_returns)\n",
    "return_max = max(time_passed_returns)\n",
    "return_min = min(time_passed_returns)\n",
    "return_std_dev =  \"{:.2f}\".format(stat.stdev(time_passed_returns))\n",
    "\n",
    "print(return_mean)\n",
    "print(return_median)\n",
    "print(return_max)\n",
    "print(return_min)\n",
    "print(return_std_dev)\n",
    "print(f\"total RETURNs = {len(time_passed_returns)}\")\n",
    "return_dict = {\n",
    "               'min': return_min,\n",
    "               'max': return_max,\n",
    "               'median' : return_median,\n",
    "               'average': return_mean,\n",
    "               'standard_deviation' : return_std_dev,\n",
    "               '# of txs' : len(time_passed_returns)}"
   ]
  },
  {
   "cell_type": "code",
   "execution_count": 20,
   "id": "d72be691",
   "metadata": {},
   "outputs": [],
   "source": [
    "list_of_dict = [create_dict, rfq_dict, bid_dict, accept_dict, return_dict]\n",
    "results = pd.DataFrame(list_of_dict, index = ['CREATE','RFQ', 'BID', 'ACCEPT', 'RETURN'])"
   ]
  },
  {
   "cell_type": "code",
   "execution_count": 21,
   "id": "34cbe809",
   "metadata": {},
   "outputs": [
    {
     "data": {
      "text/html": [
       "<div>\n",
       "<style scoped>\n",
       "    .dataframe tbody tr th:only-of-type {\n",
       "        vertical-align: middle;\n",
       "    }\n",
       "\n",
       "    .dataframe tbody tr th {\n",
       "        vertical-align: top;\n",
       "    }\n",
       "\n",
       "    .dataframe thead th {\n",
       "        text-align: right;\n",
       "    }\n",
       "</style>\n",
       "<table border=\"1\" class=\"dataframe\">\n",
       "  <thead>\n",
       "    <tr style=\"text-align: right;\">\n",
       "      <th></th>\n",
       "      <th>min</th>\n",
       "      <th>max</th>\n",
       "      <th>average</th>\n",
       "      <th>median</th>\n",
       "      <th>standard_deviation</th>\n",
       "      <th># of txs</th>\n",
       "    </tr>\n",
       "  </thead>\n",
       "  <tbody>\n",
       "    <tr>\n",
       "      <th>CREATE</th>\n",
       "      <td>167</td>\n",
       "      <td>1217</td>\n",
       "      <td>189.71</td>\n",
       "      <td>181.0</td>\n",
       "      <td>35.24</td>\n",
       "      <td>2498</td>\n",
       "    </tr>\n",
       "    <tr>\n",
       "      <th>RFQ</th>\n",
       "      <td>312</td>\n",
       "      <td>3553</td>\n",
       "      <td>1721.23</td>\n",
       "      <td>1587.5</td>\n",
       "      <td>1721.23</td>\n",
       "      <td>100</td>\n",
       "    </tr>\n",
       "    <tr>\n",
       "      <th>BID</th>\n",
       "      <td>181</td>\n",
       "      <td>4550</td>\n",
       "      <td>279.26</td>\n",
       "      <td>192.0</td>\n",
       "      <td>405.90</td>\n",
       "      <td>2496</td>\n",
       "    </tr>\n",
       "    <tr>\n",
       "      <th>ACCEPT</th>\n",
       "      <td>3177</td>\n",
       "      <td>8459</td>\n",
       "      <td>5391.00</td>\n",
       "      <td>5303.5</td>\n",
       "      <td>1438.96</td>\n",
       "      <td>100</td>\n",
       "    </tr>\n",
       "    <tr>\n",
       "      <th>RETURN</th>\n",
       "      <td>1265</td>\n",
       "      <td>8459</td>\n",
       "      <td>5279.58</td>\n",
       "      <td>5171.0</td>\n",
       "      <td>1461.24</td>\n",
       "      <td>2495</td>\n",
       "    </tr>\n",
       "  </tbody>\n",
       "</table>\n",
       "</div>"
      ],
      "text/plain": [
       "         min   max  average  median standard_deviation  # of txs\n",
       "CREATE   167  1217   189.71   181.0              35.24      2498\n",
       "RFQ      312  3553  1721.23  1587.5            1721.23       100\n",
       "BID      181  4550   279.26   192.0             405.90      2496\n",
       "ACCEPT  3177  8459  5391.00  5303.5            1438.96       100\n",
       "RETURN  1265  8459  5279.58  5171.0            1461.24      2495"
      ]
     },
     "execution_count": 21,
     "metadata": {},
     "output_type": "execute_result"
    }
   ],
   "source": [
    "results"
   ]
  },
  {
   "cell_type": "code",
   "execution_count": 31,
   "id": "cce43656",
   "metadata": {},
   "outputs": [
    {
     "name": "stdout",
     "output_type": "stream",
     "text": [
      "rfq rate: 100.0 %\n",
      "create rate: 96.75610732879456 %\n",
      "bid rate: 96.6773418734988 %\n",
      "accept rate: 97.0 %\n",
      "return rate: 100.0 %\n"
     ]
    }
   ],
   "source": [
    "successfull_rate_accept = len(time_passed_accepts) / accept_count * 100\n",
    "successfull_rate_bid = len(time_passed_bids) / bid_count * 100\n",
    "successfull_rate_create = len(time_passed_creates) / create_count * 100\n",
    "successfull_rate_return = len(time_passed_returns) / return_count_1 * 100\n",
    "successfull_rate_rfq = len(time_passed_rfqs) / rfq_count * 100\n",
    "\n",
    "print(f\"rfq rate: {successfull_rate_rfq} %\")\n",
    "print(f\"create rate: {successfull_rate_create} %\")\n",
    "print(f\"bid rate: {successfull_rate_bid} %\")\n",
    "print(f\"accept rate: {successfull_rate_accept} %\")\n",
    "print(f\"return rate: {successfull_rate_return} %\")\n"
   ]
  },
  {
   "cell_type": "code",
   "execution_count": null,
   "id": "183dd540",
   "metadata": {},
   "outputs": [],
   "source": []
  },
  {
   "cell_type": "code",
   "execution_count": null,
   "id": "e4a5616c",
   "metadata": {},
   "outputs": [],
   "source": []
  }
 ],
 "metadata": {
  "kernelspec": {
   "display_name": "Python 3 (ipykernel)",
   "language": "python",
   "name": "python3"
  },
  "language_info": {
   "codemirror_mode": {
    "name": "ipython",
    "version": 3
   },
   "file_extension": ".py",
   "mimetype": "text/x-python",
   "name": "python",
   "nbconvert_exporter": "python",
   "pygments_lexer": "ipython3",
   "version": "3.7.4"
  },
  "vscode": {
   "interpreter": {
    "hash": "5eb36c30a141ec56c7af996542a21aed521913359d48d30d908d213ac946ed76"
   }
  }
 },
 "nbformat": 4,
 "nbformat_minor": 5
}
