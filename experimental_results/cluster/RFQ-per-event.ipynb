{
 "cells": [
  {
   "cell_type": "code",
   "execution_count": 42,
   "id": "cb09cf03",
   "metadata": {},
   "outputs": [],
   "source": [
    "import pandas as pd\n",
    "import numpy as np\n",
    "import statistics as stat\n",
    "import matplotlib.pyplot as plt\n",
    "import seaborn as sns\n",
    "sns.set_style(\"white\")"
   ]
  },
  {
   "cell_type": "code",
   "execution_count": 107,
   "id": "0f6da8b3",
   "metadata": {},
   "outputs": [],
   "source": [
    "data = pd.read_csv('last_10_minute.csv', names = ['Event', 'Time', 'Tx_type', 'Tx_id', 'Accept_id', 'time'])"
   ]
  },
  {
   "cell_type": "code",
   "execution_count": 108,
   "id": "9bc442ad",
   "metadata": {},
   "outputs": [
    {
     "data": {
      "text/plain": [
       "632"
      ]
     },
     "execution_count": 108,
     "metadata": {},
     "output_type": "execute_result"
    }
   ],
   "source": [
    "grouped_data = data.groupby('Tx_id')\n",
    "tx_id = list(grouped_data.groups.keys())\n",
    "len(tx_id)"
   ]
  },
  {
   "cell_type": "code",
   "execution_count": 109,
   "id": "44450cf1",
   "metadata": {},
   "outputs": [
    {
     "name": "stdout",
     "output_type": "stream",
     "text": [
      "#ACCEPTs =  12\n",
      "#BIDs =  296\n",
      "#RFQs =  0\n",
      "#CREATEs =  0\n",
      "#total =  308\n"
     ]
    }
   ],
   "source": [
    "#new data frame to get the count of each transaction type\n",
    "data_unique_ids = data.drop_duplicates(subset = ['Tx_id'])\n",
    "\n",
    "rfq_count = 0\n",
    "create_count = 0\n",
    "bid_count = 0\n",
    "accept_count = 0\n",
    "for i in range(0, len(data_unique_ids)):\n",
    "    if data_unique_ids.iloc[i]['Tx_type'] == 'REQUEST_FOR_QUOTE':\n",
    "        rfq_count += 1   \n",
    "    if data_unique_ids.iloc[i]['Tx_type'] == 'CREATE':\n",
    "        create_count += 1 \n",
    "    if data_unique_ids.iloc[i]['Tx_type'] == 'BID':\n",
    "        bid_count += 1   \n",
    "    if data_unique_ids.iloc[i]['Tx_type'] == 'ACCEPT':\n",
    "        accept_count += 1   \n",
    "\n",
    "\n",
    "print(f\"#ACCEPTs =  {accept_count}\")\n",
    "print(f\"#BIDs =  {bid_count}\")\n",
    "print(f\"#RFQs =  {rfq_count}\")\n",
    "print(f\"#CREATEs =  {create_count}\")\n",
    "total = rfq_count + create_count + bid_count + accept_count\n",
    "print(f\"#total =  {total}\")"
   ]
  },
  {
   "cell_type": "markdown",
   "id": "8c57fd85",
   "metadata": {},
   "source": [
    "# Throughput"
   ]
  },
  {
   "cell_type": "code",
   "execution_count": 71,
   "id": "ace43b2e",
   "metadata": {},
   "outputs": [
    {
     "data": {
      "text/plain": [
       "0.36833333333333335"
      ]
     },
     "execution_count": 71,
     "metadata": {},
     "output_type": "execute_result"
    }
   ],
   "source": [
    "first_10_minute= max(data[\"time\"]) - min(data[\"time\"])\n",
    "throughput_first = total/first_10_minute\n",
    "throughput_first"
   ]
  },
  {
   "cell_type": "code",
   "execution_count": 102,
   "id": "70525e46",
   "metadata": {},
   "outputs": [
    {
     "data": {
      "text/plain": [
       "0.2"
      ]
     },
     "execution_count": 102,
     "metadata": {},
     "output_type": "execute_result"
    }
   ],
   "source": [
    "middle_10_minute= max(data[\"time\"]) - min(data[\"time\"])\n",
    "throughput_middle = total/middle_10_minute\n",
    "throughput_middle"
   ]
  },
  {
   "cell_type": "code",
   "execution_count": 110,
   "id": "4a196d0c",
   "metadata": {},
   "outputs": [
    {
     "data": {
      "text/plain": [
       "0.5124792013311148"
      ]
     },
     "execution_count": 110,
     "metadata": {},
     "output_type": "execute_result"
    }
   ],
   "source": [
    "last_10_minute= max(data[\"time\"]) - min(data[\"time\"])\n",
    "throughput_last = total/last_10_minute\n",
    "throughput_last"
   ]
  },
  {
   "cell_type": "code",
   "execution_count": 32,
   "id": "bde473f8",
   "metadata": {},
   "outputs": [],
   "source": [
    "df_test = grouped_data.get_group(\"12bec7ce46007ce6a1b41b0e4498b74d5efc61b1bb4cafea841bc1464707c7dd\")"
   ]
  },
  {
   "cell_type": "code",
   "execution_count": 33,
   "id": "f270c27d",
   "metadata": {},
   "outputs": [
    {
     "data": {
      "text/html": [
       "<div>\n",
       "<style scoped>\n",
       "    .dataframe tbody tr th:only-of-type {\n",
       "        vertical-align: middle;\n",
       "    }\n",
       "\n",
       "    .dataframe tbody tr th {\n",
       "        vertical-align: top;\n",
       "    }\n",
       "\n",
       "    .dataframe thead th {\n",
       "        text-align: right;\n",
       "    }\n",
       "</style>\n",
       "<table border=\"1\" class=\"dataframe\">\n",
       "  <thead>\n",
       "    <tr style=\"text-align: right;\">\n",
       "      <th></th>\n",
       "      <th>Event</th>\n",
       "      <th>Time</th>\n",
       "      <th>Tx_type</th>\n",
       "      <th>Tx_id</th>\n",
       "      <th>Accept_id</th>\n",
       "      <th>time</th>\n",
       "    </tr>\n",
       "  </thead>\n",
       "  <tbody>\n",
       "    <tr>\n",
       "      <th>93</th>\n",
       "      <td>received_tx</td>\n",
       "      <td>54</td>\n",
       "      <td>REQUEST_FOR_QUOTE</td>\n",
       "      <td>12bec7ce46007ce6a1b41b0e4498b74d5efc61b1bb4caf...</td>\n",
       "      <td>None</td>\n",
       "      <td>1.665371e+09</td>\n",
       "    </tr>\n",
       "    <tr>\n",
       "      <th>96</th>\n",
       "      <td>before_tendermint</td>\n",
       "      <td>57</td>\n",
       "      <td>REQUEST_FOR_QUOTE</td>\n",
       "      <td>12bec7ce46007ce6a1b41b0e4498b74d5efc61b1bb4caf...</td>\n",
       "      <td>None</td>\n",
       "      <td>1.665371e+09</td>\n",
       "    </tr>\n",
       "    <tr>\n",
       "      <th>107</th>\n",
       "      <td>check_tx</td>\n",
       "      <td>69</td>\n",
       "      <td>REQUEST_FOR_QUOTE</td>\n",
       "      <td>12bec7ce46007ce6a1b41b0e4498b74d5efc61b1bb4caf...</td>\n",
       "      <td>None</td>\n",
       "      <td>1.665371e+09</td>\n",
       "    </tr>\n",
       "    <tr>\n",
       "      <th>375</th>\n",
       "      <td>check_tx</td>\n",
       "      <td>435</td>\n",
       "      <td>REQUEST_FOR_QUOTE</td>\n",
       "      <td>12bec7ce46007ce6a1b41b0e4498b74d5efc61b1bb4caf...</td>\n",
       "      <td>None</td>\n",
       "      <td>1.665371e+09</td>\n",
       "    </tr>\n",
       "    <tr>\n",
       "      <th>460</th>\n",
       "      <td>deliver_tx</td>\n",
       "      <td>545</td>\n",
       "      <td>REQUEST_FOR_QUOTE</td>\n",
       "      <td>12bec7ce46007ce6a1b41b0e4498b74d5efc61b1bb4caf...</td>\n",
       "      <td>None</td>\n",
       "      <td>1.665371e+09</td>\n",
       "    </tr>\n",
       "    <tr>\n",
       "      <th>545</th>\n",
       "      <td>end_block</td>\n",
       "      <td>640</td>\n",
       "      <td>REQUEST_FOR_QUOTE</td>\n",
       "      <td>12bec7ce46007ce6a1b41b0e4498b74d5efc61b1bb4caf...</td>\n",
       "      <td>None</td>\n",
       "      <td>1.665371e+09</td>\n",
       "    </tr>\n",
       "    <tr>\n",
       "      <th>630</th>\n",
       "      <td>commit_tx</td>\n",
       "      <td>675</td>\n",
       "      <td>REQUEST_FOR_QUOTE</td>\n",
       "      <td>12bec7ce46007ce6a1b41b0e4498b74d5efc61b1bb4caf...</td>\n",
       "      <td>None</td>\n",
       "      <td>1.665371e+09</td>\n",
       "    </tr>\n",
       "    <tr>\n",
       "      <th>8831</th>\n",
       "      <td>deliver_tx</td>\n",
       "      <td>6739032</td>\n",
       "      <td>REQUEST_FOR_QUOTE</td>\n",
       "      <td>12bec7ce46007ce6a1b41b0e4498b74d5efc61b1bb4caf...</td>\n",
       "      <td>None</td>\n",
       "      <td>1.665378e+09</td>\n",
       "    </tr>\n",
       "    <tr>\n",
       "      <th>8916</th>\n",
       "      <td>end_block</td>\n",
       "      <td>6739213</td>\n",
       "      <td>REQUEST_FOR_QUOTE</td>\n",
       "      <td>12bec7ce46007ce6a1b41b0e4498b74d5efc61b1bb4caf...</td>\n",
       "      <td>None</td>\n",
       "      <td>1.665378e+09</td>\n",
       "    </tr>\n",
       "    <tr>\n",
       "      <th>9001</th>\n",
       "      <td>commit_tx</td>\n",
       "      <td>6739236</td>\n",
       "      <td>REQUEST_FOR_QUOTE</td>\n",
       "      <td>12bec7ce46007ce6a1b41b0e4498b74d5efc61b1bb4caf...</td>\n",
       "      <td>None</td>\n",
       "      <td>1.665378e+09</td>\n",
       "    </tr>\n",
       "  </tbody>\n",
       "</table>\n",
       "</div>"
      ],
      "text/plain": [
       "                  Event     Time            Tx_type  \\\n",
       "93          received_tx       54  REQUEST_FOR_QUOTE   \n",
       "96    before_tendermint       57  REQUEST_FOR_QUOTE   \n",
       "107            check_tx       69  REQUEST_FOR_QUOTE   \n",
       "375            check_tx      435  REQUEST_FOR_QUOTE   \n",
       "460          deliver_tx      545  REQUEST_FOR_QUOTE   \n",
       "545           end_block      640  REQUEST_FOR_QUOTE   \n",
       "630           commit_tx      675  REQUEST_FOR_QUOTE   \n",
       "8831         deliver_tx  6739032  REQUEST_FOR_QUOTE   \n",
       "8916          end_block  6739213  REQUEST_FOR_QUOTE   \n",
       "9001          commit_tx  6739236  REQUEST_FOR_QUOTE   \n",
       "\n",
       "                                                  Tx_id Accept_id  \\\n",
       "93    12bec7ce46007ce6a1b41b0e4498b74d5efc61b1bb4caf...      None   \n",
       "96    12bec7ce46007ce6a1b41b0e4498b74d5efc61b1bb4caf...      None   \n",
       "107   12bec7ce46007ce6a1b41b0e4498b74d5efc61b1bb4caf...      None   \n",
       "375   12bec7ce46007ce6a1b41b0e4498b74d5efc61b1bb4caf...      None   \n",
       "460   12bec7ce46007ce6a1b41b0e4498b74d5efc61b1bb4caf...      None   \n",
       "545   12bec7ce46007ce6a1b41b0e4498b74d5efc61b1bb4caf...      None   \n",
       "630   12bec7ce46007ce6a1b41b0e4498b74d5efc61b1bb4caf...      None   \n",
       "8831  12bec7ce46007ce6a1b41b0e4498b74d5efc61b1bb4caf...      None   \n",
       "8916  12bec7ce46007ce6a1b41b0e4498b74d5efc61b1bb4caf...      None   \n",
       "9001  12bec7ce46007ce6a1b41b0e4498b74d5efc61b1bb4caf...      None   \n",
       "\n",
       "              time  \n",
       "93    1.665371e+09  \n",
       "96    1.665371e+09  \n",
       "107   1.665371e+09  \n",
       "375   1.665371e+09  \n",
       "460   1.665371e+09  \n",
       "545   1.665371e+09  \n",
       "630   1.665371e+09  \n",
       "8831  1.665378e+09  \n",
       "8916  1.665378e+09  \n",
       "9001  1.665378e+09  "
      ]
     },
     "execution_count": 33,
     "metadata": {},
     "output_type": "execute_result"
    }
   ],
   "source": [
    "df_test"
   ]
  },
  {
   "cell_type": "code",
   "execution_count": 31,
   "id": "fc853c85",
   "metadata": {},
   "outputs": [
    {
     "data": {
      "text/plain": [
       "True"
      ]
     },
     "execution_count": 31,
     "metadata": {},
     "output_type": "execute_result"
    }
   ],
   "source": [
    "\"REQUEST_FOR_QUOTE\" == grouped_data.get_group(\"12bec7ce46007ce6a1b41b0e4498b74d5efc61b1bb4cafea841bc1464707c7dd\")[\"Tx_type\"].to_list()[0]"
   ]
  },
  {
   "cell_type": "code",
   "execution_count": 34,
   "id": "dd4df8e3",
   "metadata": {},
   "outputs": [],
   "source": [
    "time_all_committed_rfqs = {}\n",
    "time_passed_rfqs = []\n",
    "validated_time = []\n",
    "accepted_time = []\n",
    "committed_time = []\n",
    "\n",
    "rfq_underfit = []\n",
    "rfq_underfit_dict = {}\n",
    "\n",
    "rfq_overfit = []\n",
    "rfq_overfit_dict = {}\n",
    "for i in range(0, len(tx_id)):\n",
    "    temp_list = []\n",
    "    if \"REQUEST_FOR_QUOTE\" == grouped_data.get_group(tx_id[i])[\"Tx_type\"].to_list()[0]:\n",
    "        temp_list = grouped_data.get_group(tx_id[i])[\"Time\"].to_list()\n",
    "        if len(temp_list) == 6 and grouped_data.get_group(tx_id[i])[\"Event\"].to_list()[5] == \"commit_tx\":\n",
    "            actual_time = max(temp_list) - min(temp_list)\n",
    "            time_all_committed_rfqs[tx_id[i]] = actual_time\n",
    "            time_passed_rfqs.append(actual_time)\n",
    "            df = grouped_data.get_group(tx_id[i])\n",
    "            received_time = df[df['Event'] == 'received_tx']['Time'].to_list()[0]\n",
    "            before_tendermint_time = df[df['Event'] == 'before_tendermint']['Time'].to_list()[0]\n",
    "            validated = before_tendermint_time - received_time\n",
    "            validated_time.append(validated)\n",
    "            check_time = df[df['Event'] == 'check_tx']['Time'].to_list()[0]\n",
    "            accepted = check_time - received_time\n",
    "            accepted_time.append(accepted)\n",
    "            commit_time =  df[df['Event'] == 'commit_tx']['Time'].to_list()[0]\n",
    "            committed = commit_time - received_time\n",
    "            committed_time.append(committed)\n",
    "        elif len(temp_list) < 6:\n",
    "            rfq_underfit.append(temp_list)\n",
    "            rfq_underfit_dict[tx_id[i]] = temp_list\n",
    "        elif 15 >= len(temp_list) > 6 :\n",
    "            df_check = grouped_data.get_group(tx_id[i])\n",
    "            if len(df_check[df_check['Event'] == 'check_tx']['Time'].to_list()) > 1:\n",
    "                check_time = max(df_check[df_check['Event'] == 'check_tx']['Time'].to_list())\n",
    "            else:\n",
    "                check_time = df_check[df_check['Event'] == 'check_tx']['Time'].to_list()[0] \n",
    "            if len(df_check[df_check['Event'] == 'deliver_tx']['Time'].to_list()) > 1:\n",
    "                deliver_tx = min(df_check[df_check['Event'] == 'deliver_tx']['Time'].to_list())\n",
    "            else:\n",
    "                deliver_tx = df_check[df_check['Event'] == 'deliver_tx']['Time'].to_list()[0] \n",
    "            if len(df_check[df_check['Event'] == 'deliver_tx']['Time'].to_list()) > 1:\n",
    "                commit_time = min(df_check[df_check['Event'] == 'commit_tx']['Time'].to_list())\n",
    "            else:\n",
    "                commit_time = df_check[df_check['Event'] == 'commit_tx']['Time'].to_list()[0] \n",
    "            \n",
    "            actual_time = commit_time - min(temp_list)\n",
    "            time_all_committed_rfqs[tx_id[i]] = actual_time\n",
    "            time_passed_rfqs.append(actual_time)\n",
    "            \n",
    "            df = grouped_data.get_group(tx_id[i])\n",
    "            received_time = df[df['Event'] == 'received_tx']['Time'].to_list()[0]\n",
    "            before_tendermint_time = df[df['Event'] == 'before_tendermint']['Time'].to_list()[0]\n",
    "            \n",
    "            validated = before_tendermint_time - received_time\n",
    "            validated_time.append(validated)\n",
    "           \n",
    "            accepted = check_time - received_time\n",
    "            accepted_time.append(accepted)\n",
    "            \n",
    "            commit_time =  df[df['Event'] == 'commit_tx']['Time'].to_list()[0]\n",
    "            committed = commit_time - received_time\n",
    "            committed_time.append(committed)\n",
    "            rfq_overfit.append(temp_list)\n",
    "            rfq_overfit_dict[tx_id[i]] = temp_list"
   ]
  },
  {
   "cell_type": "code",
   "execution_count": 35,
   "id": "f18a108e",
   "metadata": {},
   "outputs": [
    {
     "data": {
      "text/plain": [
       "100"
      ]
     },
     "execution_count": 35,
     "metadata": {},
     "output_type": "execute_result"
    }
   ],
   "source": [
    "len(time_passed_rfqs)"
   ]
  },
  {
   "cell_type": "code",
   "execution_count": 38,
   "id": "35b831e5",
   "metadata": {},
   "outputs": [
    {
     "data": {
      "text/plain": [
       "[543,\n",
       " 541,\n",
       " 433,\n",
       " 504,\n",
       " 398,\n",
       " 418,\n",
       " 561,\n",
       " 397,\n",
       " 523,\n",
       " 629,\n",
       " 621,\n",
       " 465,\n",
       " 649,\n",
       " 418,\n",
       " 554,\n",
       " 423,\n",
       " 424,\n",
       " 487,\n",
       " 647,\n",
       " 426,\n",
       " 518,\n",
       " 489,\n",
       " 430,\n",
       " 481,\n",
       " 433,\n",
       " 497,\n",
       " 407,\n",
       " 512,\n",
       " 522,\n",
       " 589,\n",
       " 602,\n",
       " 437,\n",
       " 560,\n",
       " 414,\n",
       " 396,\n",
       " 443,\n",
       " 478,\n",
       " 464,\n",
       " 602,\n",
       " 579,\n",
       " 627,\n",
       " 640,\n",
       " 549,\n",
       " 649,\n",
       " 471,\n",
       " 707,\n",
       " 563,\n",
       " 460,\n",
       " 515,\n",
       " 435,\n",
       " 453,\n",
       " 592,\n",
       " 452,\n",
       " 696,\n",
       " 649,\n",
       " 451,\n",
       " 461,\n",
       " 486,\n",
       " 436,\n",
       " 462,\n",
       " 558,\n",
       " 443,\n",
       " 583,\n",
       " 396,\n",
       " 443,\n",
       " 509,\n",
       " 571,\n",
       " 512,\n",
       " 419,\n",
       " 417,\n",
       " 477,\n",
       " 428,\n",
       " 539,\n",
       " 600,\n",
       " 485,\n",
       " 443,\n",
       " 452,\n",
       " 605,\n",
       " 403,\n",
       " 405,\n",
       " 645,\n",
       " 407,\n",
       " 496,\n",
       " 639,\n",
       " 532,\n",
       " 614,\n",
       " 411,\n",
       " 706,\n",
       " 474,\n",
       " 433,\n",
       " 144,\n",
       " 490,\n",
       " 496,\n",
       " 423,\n",
       " 468,\n",
       " 704,\n",
       " 411,\n",
       " 600,\n",
       " 531,\n",
       " 618]"
      ]
     },
     "execution_count": 38,
     "metadata": {},
     "output_type": "execute_result"
    }
   ],
   "source": []
  },
  {
   "cell_type": "code",
   "execution_count": 36,
   "id": "599d0942",
   "metadata": {},
   "outputs": [
    {
     "name": "stdout",
     "output_type": "stream",
     "text": [
      "505.98\n",
      "488.0\n",
      "707\n",
      "144\n",
      "505.98\n",
      "total RFQs = 100\n"
     ]
    }
   ],
   "source": [
    "# Analysis of RFQ Transaction\n",
    "if len(time_passed_rfqs) < 2:\n",
    "    time_rfqs.append(time_passed_rfqs[0])\n",
    "rfq_mean = \"{:.2f}\".format(stat.mean(time_passed_rfqs))\n",
    "rfq_median = stat.median(time_passed_rfqs)\n",
    "rfq_max = max(time_passed_rfqs)\n",
    "rfq_min = min(time_passed_rfqs)\n",
    "rfq_std_dev = \"{:.2f}\".format(stat.mean(time_passed_rfqs))\n",
    "\n",
    "print(rfq_mean)\n",
    "print(rfq_median)\n",
    "print(rfq_max)\n",
    "print(rfq_min)\n",
    "print(rfq_std_dev)\n",
    "print(f\"total RFQs = {len(time_passed_rfqs)}\")\n",
    "\n",
    "rfq_dict = {\n",
    "               'min': rfq_min,\n",
    "               'max': rfq_max,\n",
    "               'average': rfq_mean,\n",
    "                'median' : rfq_median,\n",
    "               'standard_deviation' : rfq_std_dev,\n",
    "               '# of txs' : len(time_passed_rfqs)}"
   ]
  },
  {
   "cell_type": "code",
   "execution_count": 37,
   "id": "7344d222",
   "metadata": {},
   "outputs": [
    {
     "data": {
      "text/html": [
       "<div>\n",
       "<style scoped>\n",
       "    .dataframe tbody tr th:only-of-type {\n",
       "        vertical-align: middle;\n",
       "    }\n",
       "\n",
       "    .dataframe tbody tr th {\n",
       "        vertical-align: top;\n",
       "    }\n",
       "\n",
       "    .dataframe thead th {\n",
       "        text-align: right;\n",
       "    }\n",
       "</style>\n",
       "<table border=\"1\" class=\"dataframe\">\n",
       "  <thead>\n",
       "    <tr style=\"text-align: right;\">\n",
       "      <th></th>\n",
       "      <th>min</th>\n",
       "      <th>max</th>\n",
       "      <th>average</th>\n",
       "      <th>median</th>\n",
       "      <th>standard_deviation</th>\n",
       "      <th># of txs</th>\n",
       "    </tr>\n",
       "  </thead>\n",
       "  <tbody>\n",
       "    <tr>\n",
       "      <th>RFQ</th>\n",
       "      <td>144</td>\n",
       "      <td>707</td>\n",
       "      <td>505.98</td>\n",
       "      <td>488.0</td>\n",
       "      <td>505.98</td>\n",
       "      <td>100</td>\n",
       "    </tr>\n",
       "  </tbody>\n",
       "</table>\n",
       "</div>"
      ],
      "text/plain": [
       "     min  max average  median standard_deviation  # of txs\n",
       "RFQ  144  707  505.98   488.0             505.98       100"
      ]
     },
     "execution_count": 37,
     "metadata": {},
     "output_type": "execute_result"
    }
   ],
   "source": [
    "results = pd.DataFrame(rfq_dict, index = ['RFQ'])\n",
    "results.to_csv('rfq_analysis.csv', sep=',', encoding='utf-8')\n",
    "results"
   ]
  },
  {
   "cell_type": "code",
   "execution_count": 27,
   "id": "63e9869f",
   "metadata": {},
   "outputs": [],
   "source": [
    "results.to_csv('rfq_analysis.csv', sep=',', encoding='utf-8')"
   ]
  },
  {
   "cell_type": "code",
   "execution_count": 28,
   "id": "3a299289",
   "metadata": {},
   "outputs": [
    {
     "data": {
      "text/html": [
       "<div>\n",
       "<style scoped>\n",
       "    .dataframe tbody tr th:only-of-type {\n",
       "        vertical-align: middle;\n",
       "    }\n",
       "\n",
       "    .dataframe tbody tr th {\n",
       "        vertical-align: top;\n",
       "    }\n",
       "\n",
       "    .dataframe thead th {\n",
       "        text-align: right;\n",
       "    }\n",
       "</style>\n",
       "<table border=\"1\" class=\"dataframe\">\n",
       "  <thead>\n",
       "    <tr style=\"text-align: right;\">\n",
       "      <th></th>\n",
       "      <th>min</th>\n",
       "      <th>max</th>\n",
       "      <th>average</th>\n",
       "      <th>median</th>\n",
       "      <th>standard_deviation</th>\n",
       "      <th># of txs</th>\n",
       "    </tr>\n",
       "  </thead>\n",
       "  <tbody>\n",
       "    <tr>\n",
       "      <th>RFQ</th>\n",
       "      <td>323.0</td>\n",
       "      <td>1233.0</td>\n",
       "      <td>621.69</td>\n",
       "      <td>542.0</td>\n",
       "      <td>621.69</td>\n",
       "      <td>32</td>\n",
       "    </tr>\n",
       "  </tbody>\n",
       "</table>\n",
       "</div>"
      ],
      "text/plain": [
       "       min     max average  median standard_deviation  # of txs\n",
       "RFQ  323.0  1233.0  621.69   542.0             621.69        32"
      ]
     },
     "execution_count": 28,
     "metadata": {},
     "output_type": "execute_result"
    }
   ],
   "source": [
    "results"
   ]
  },
  {
   "cell_type": "code",
   "execution_count": null,
   "id": "a894af84",
   "metadata": {},
   "outputs": [],
   "source": []
  }
 ],
 "metadata": {
  "kernelspec": {
   "display_name": "Python 3 (ipykernel)",
   "language": "python",
   "name": "python3"
  },
  "language_info": {
   "codemirror_mode": {
    "name": "ipython",
    "version": 3
   },
   "file_extension": ".py",
   "mimetype": "text/x-python",
   "name": "python",
   "nbconvert_exporter": "python",
   "pygments_lexer": "ipython3",
   "version": "3.7.4"
  }
 },
 "nbformat": 4,
 "nbformat_minor": 5
}
