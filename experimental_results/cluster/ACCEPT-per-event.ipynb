{
 "cells": [
  {
   "cell_type": "code",
   "execution_count": 1,
   "id": "371fbda3",
   "metadata": {},
   "outputs": [],
   "source": [
    "import pandas as pd\n",
    "import numpy as np\n",
    "import statistics as stat\n",
    "import matplotlib.pyplot as plt\n",
    "import seaborn as sns\n",
    "sns.set_style(\"white\")\n",
    "import statistics as stat"
   ]
  },
  {
   "cell_type": "code",
   "execution_count": 2,
   "id": "e2c17891",
   "metadata": {},
   "outputs": [],
   "source": [
    "data = pd.read_csv('scdb-100rfq-30cap-metrics.csv', names = ['Event', 'Time', 'Tx_type', 'Tx_id', 'Accept_id', 'time'])"
   ]
  },
  {
   "cell_type": "code",
   "execution_count": 3,
   "id": "e816f83c",
   "metadata": {},
   "outputs": [
    {
     "data": {
      "text/plain": [
       "7690"
      ]
     },
     "execution_count": 3,
     "metadata": {},
     "output_type": "execute_result"
    }
   ],
   "source": [
    "grouped_data = data.groupby('Tx_id')\n",
    "tx_id = list(grouped_data.groups.keys())\n",
    "len(tx_id)"
   ]
  },
  {
   "cell_type": "code",
   "execution_count": 5,
   "id": "25167337",
   "metadata": {},
   "outputs": [
    {
     "name": "stdout",
     "output_type": "stream",
     "text": [
      "#ACCEPTs =  100\n"
     ]
    }
   ],
   "source": [
    "#new data frame to get the count of each transaction type\n",
    "data_unique_ids = data.drop_duplicates(subset = ['Tx_id'])\n",
    "\n",
    "accept_count = 0\n",
    "accept_ids = []\n",
    "for i in range(0, len(data_unique_ids)):\n",
    "    if data_unique_ids.iloc[i]['Tx_type'] == 'ACCEPT':\n",
    "        accept_ids.append(data_unique_ids.iloc[i]['Tx_id'])\n",
    "        accept_count += 1   \n",
    "\n",
    "\n",
    "print(f\"#ACCEPTs =  {accept_count}\")"
   ]
  },
  {
   "cell_type": "code",
   "execution_count": 12,
   "id": "3ad3f619",
   "metadata": {},
   "outputs": [
    {
     "data": {
      "text/html": [
       "<div>\n",
       "<style scoped>\n",
       "    .dataframe tbody tr th:only-of-type {\n",
       "        vertical-align: middle;\n",
       "    }\n",
       "\n",
       "    .dataframe tbody tr th {\n",
       "        vertical-align: top;\n",
       "    }\n",
       "\n",
       "    .dataframe thead th {\n",
       "        text-align: right;\n",
       "    }\n",
       "</style>\n",
       "<table border=\"1\" class=\"dataframe\">\n",
       "  <thead>\n",
       "    <tr style=\"text-align: right;\">\n",
       "      <th></th>\n",
       "      <th>Event</th>\n",
       "      <th>Time</th>\n",
       "      <th>Tx_type</th>\n",
       "      <th>Tx_id</th>\n",
       "      <th>Accept_id</th>\n",
       "      <th>time</th>\n",
       "    </tr>\n",
       "  </thead>\n",
       "  <tbody>\n",
       "    <tr>\n",
       "      <th>15838</th>\n",
       "      <td>received_tx</td>\n",
       "      <td>106</td>\n",
       "      <td>ACCEPT</td>\n",
       "      <td>331ca77987ad25091c086a5a8534dc766be3c41bcc3803...</td>\n",
       "      <td>None</td>\n",
       "      <td>1.669859e+09</td>\n",
       "    </tr>\n",
       "    <tr>\n",
       "      <th>15840</th>\n",
       "      <td>before_tendermint</td>\n",
       "      <td>118</td>\n",
       "      <td>ACCEPT</td>\n",
       "      <td>331ca77987ad25091c086a5a8534dc766be3c41bcc3803...</td>\n",
       "      <td>None</td>\n",
       "      <td>1.669859e+09</td>\n",
       "    </tr>\n",
       "    <tr>\n",
       "      <th>15842</th>\n",
       "      <td>check_tx</td>\n",
       "      <td>131</td>\n",
       "      <td>ACCEPT</td>\n",
       "      <td>331ca77987ad25091c086a5a8534dc766be3c41bcc3803...</td>\n",
       "      <td>None</td>\n",
       "      <td>1.669859e+09</td>\n",
       "    </tr>\n",
       "    <tr>\n",
       "      <th>15844</th>\n",
       "      <td>deliver_tx</td>\n",
       "      <td>150</td>\n",
       "      <td>ACCEPT</td>\n",
       "      <td>331ca77987ad25091c086a5a8534dc766be3c41bcc3803...</td>\n",
       "      <td>None</td>\n",
       "      <td>1.669859e+09</td>\n",
       "    </tr>\n",
       "    <tr>\n",
       "      <th>15845</th>\n",
       "      <td>end_block</td>\n",
       "      <td>152</td>\n",
       "      <td>ACCEPT</td>\n",
       "      <td>331ca77987ad25091c086a5a8534dc766be3c41bcc3803...</td>\n",
       "      <td>None</td>\n",
       "      <td>1.669859e+09</td>\n",
       "    </tr>\n",
       "    <tr>\n",
       "      <th>15846</th>\n",
       "      <td>commit_tx</td>\n",
       "      <td>286</td>\n",
       "      <td>ACCEPT</td>\n",
       "      <td>331ca77987ad25091c086a5a8534dc766be3c41bcc3803...</td>\n",
       "      <td>None</td>\n",
       "      <td>1.669859e+09</td>\n",
       "    </tr>\n",
       "  </tbody>\n",
       "</table>\n",
       "</div>"
      ],
      "text/plain": [
       "                   Event  Time Tx_type  \\\n",
       "15838        received_tx   106  ACCEPT   \n",
       "15840  before_tendermint   118  ACCEPT   \n",
       "15842           check_tx   131  ACCEPT   \n",
       "15844         deliver_tx   150  ACCEPT   \n",
       "15845          end_block   152  ACCEPT   \n",
       "15846          commit_tx   286  ACCEPT   \n",
       "\n",
       "                                                   Tx_id Accept_id  \\\n",
       "15838  331ca77987ad25091c086a5a8534dc766be3c41bcc3803...      None   \n",
       "15840  331ca77987ad25091c086a5a8534dc766be3c41bcc3803...      None   \n",
       "15842  331ca77987ad25091c086a5a8534dc766be3c41bcc3803...      None   \n",
       "15844  331ca77987ad25091c086a5a8534dc766be3c41bcc3803...      None   \n",
       "15845  331ca77987ad25091c086a5a8534dc766be3c41bcc3803...      None   \n",
       "15846  331ca77987ad25091c086a5a8534dc766be3c41bcc3803...      None   \n",
       "\n",
       "               time  \n",
       "15838  1.669859e+09  \n",
       "15840  1.669859e+09  \n",
       "15842  1.669859e+09  \n",
       "15844  1.669859e+09  \n",
       "15845  1.669859e+09  \n",
       "15846  1.669859e+09  "
      ]
     },
     "execution_count": 12,
     "metadata": {},
     "output_type": "execute_result"
    }
   ],
   "source": [
    "df_test = grouped_data.get_group(\"331ca77987ad25091c086a5a8534dc766be3c41bcc3803fb829a498f0a7a168e\")\n",
    "df_test"
   ]
  },
  {
   "cell_type": "markdown",
   "id": "5e214281",
   "metadata": {},
   "source": [
    "## without RETURN "
   ]
  },
  {
   "cell_type": "code",
   "execution_count": 25,
   "id": "8d396b5a",
   "metadata": {},
   "outputs": [],
   "source": [
    "time_all_committed_accepts = {}\n",
    "time_passed_accepts = []\n",
    "validated_time = []\n",
    "accepted_time = []\n",
    "committed_time = []\n",
    "\n",
    "accept_underfit = []\n",
    "accept_underfit_dict = {}\n",
    "\n",
    "accept_overfit = []\n",
    "accept_overfit_dict = {}\n",
    "\n",
    "for i in range(0, len(tx_id)):\n",
    "    temp_list = []\n",
    "    if \"ACCEPT\" == grouped_data.get_group(tx_id[i])[\"Tx_type\"].to_list()[0]:\n",
    "        temp_list = grouped_data.get_group(tx_id[i])[\"Time\"].to_list()\n",
    "        if len(temp_list) == 6 and grouped_data.get_group(tx_id[i])[\"Event\"].to_list()[5] == \"commit_tx\":\n",
    "            \n",
    "            actual_time = max(temp_list) - min(temp_list)\n",
    "            time_all_committed_accepts[tx_id[i]] = actual_time\n",
    "            time_passed_accepts.append(actual_time)\n",
    "            \n",
    "            df = grouped_data.get_group(tx_id[i])\n",
    "            received_time = df[df['Event'] == 'received_tx']['Time'].to_list()[0]\n",
    "            before_tendermint_time = df[df['Event'] == 'before_tendermint']['Time'].to_list()[0]\n",
    "            \n",
    "            validated = before_tendermint_time - received_time\n",
    "            validated_time.append(validated)\n",
    "            \n",
    "            check_time = df[df['Event'] == 'check_tx']['Time'].to_list()[0]\n",
    "            accepted = check_time - received_time\n",
    "            accepted_time.append(accepted)\n",
    "            \n",
    "            commit_time =  df[df['Event'] == 'commit_tx']['Time'].to_list()[0]\n",
    "            committed = commit_time - received_time\n",
    "            committed_time.append(committed)\n",
    "        elif len(temp_list) < 6:\n",
    "            accept_underfit.append(temp_list)\n",
    "            accept_underfit_dict[tx_id[i]] = temp_list\n",
    "        elif 7 >= len(temp_list) > 6 :\n",
    "            df_check = grouped_data.get_group(tx_id[i])\n",
    "            if len(df_check[df_check['Event'] == 'check_tx']['Time'].to_list()) > 1:\n",
    "                check_time = max(df_check[df_check['Event'] == 'check_tx']['Time'].to_list())\n",
    "            else:\n",
    "                check_time = df_check[df_check['Event'] == 'check_tx']['Time'].to_list()[0] \n",
    "            \n",
    "            actual_time = max(temp_list) - min(temp_list)\n",
    "            time_all_committed_accepts[tx_id[i]] = actual_time\n",
    "            time_passed_accepts.append(actual_time)\n",
    "            \n",
    "            df = grouped_data.get_group(tx_id[i])\n",
    "            received_time = df[df['Event'] == 'received_tx']['Time'].to_list()[0]\n",
    "            before_tendermint_time = df[df['Event'] == 'before_tendermint']['Time'].to_list()[0]\n",
    "            \n",
    "            validated = before_tendermint_time - received_time\n",
    "            validated_time.append(validated)\n",
    "           \n",
    "            accepted = check_time - received_time\n",
    "            accepted_time.append(accepted)\n",
    "            \n",
    "            commit_time =  df[df['Event'] == 'commit_tx']['Time'].to_list()[0]\n",
    "            committed = commit_time - received_time\n",
    "            committed_time.append(committed)\n",
    "            \n",
    "            accept_overfit.append(actual_time)\n",
    "            accept_overfit_dict[tx_id[i]] = temp_list"
   ]
  },
  {
   "cell_type": "code",
   "execution_count": null,
   "id": "08bb0254",
   "metadata": {},
   "outputs": [],
   "source": []
  },
  {
   "cell_type": "markdown",
   "id": "818e3539",
   "metadata": {},
   "source": [
    "## with RETURNs"
   ]
  },
  {
   "cell_type": "code",
   "execution_count": 22,
   "id": "c0c4de22",
   "metadata": {},
   "outputs": [],
   "source": [
    "\n",
    "\n",
    "accept_return_count = {}\n",
    "\n",
    "time_id_return = {}\n",
    "for i in range(0, len(tx_id)):\n",
    "    temp_list = []\n",
    "    return_count = 0\n",
    "    if \"ACCEPT\" == grouped_data.get_group(tx_id[i])[\"Tx_type\"].to_list()[0]:\n",
    "        temp_list = grouped_data.get_group(tx_id[i])[\"Time\"].to_list()\n",
    "        for j in range(0, len(data)):\n",
    "            if data['Event'][j] == \"commit_tx\" and tx_id[i] == data['Accept_id'][j]:\n",
    "                temp_list.append(data[\"Time\"][j])\n",
    "                return_count += 1\n",
    "        accept_return_count[tx_id[i]] = return_count\n",
    "        "
   ]
  },
  {
   "cell_type": "code",
   "execution_count": null,
   "id": "69c00feb",
   "metadata": {},
   "outputs": [],
   "source": [
    "accept_return_count"
   ]
  },
  {
   "cell_type": "code",
   "execution_count": null,
   "id": "047734ba",
   "metadata": {},
   "outputs": [],
   "source": [
    "time_all_committed_accepts"
   ]
  },
  {
   "cell_type": "code",
   "execution_count": 28,
   "id": "2996ab2a",
   "metadata": {},
   "outputs": [
    {
     "data": {
      "text/plain": [
       "100"
      ]
     },
     "execution_count": 28,
     "metadata": {},
     "output_type": "execute_result"
    }
   ],
   "source": [
    "len(time_passed_accepts)"
   ]
  },
  {
   "cell_type": "code",
   "execution_count": 18,
   "id": "cb3eccd5",
   "metadata": {},
   "outputs": [
    {
     "data": {
      "text/plain": [
       "92"
      ]
     },
     "execution_count": 18,
     "metadata": {},
     "output_type": "execute_result"
    }
   ],
   "source": [
    "len(accept_overfit)"
   ]
  },
  {
   "cell_type": "code",
   "execution_count": 26,
   "id": "c887f565",
   "metadata": {},
   "outputs": [
    {
     "data": {
      "text/plain": [
       "344.57"
      ]
     },
     "execution_count": 26,
     "metadata": {},
     "output_type": "execute_result"
    }
   ],
   "source": [
    "stat.mean(time_passed_accepts)"
   ]
  },
  {
   "cell_type": "code",
   "execution_count": 27,
   "id": "e1c2924a",
   "metadata": {},
   "outputs": [
    {
     "data": {
      "text/plain": [
       "356.9021739130435"
      ]
     },
     "execution_count": 27,
     "metadata": {},
     "output_type": "execute_result"
    }
   ],
   "source": [
    "stat.mean(accept_overfit)"
   ]
  },
  {
   "cell_type": "code",
   "execution_count": 31,
   "id": "42616330",
   "metadata": {},
   "outputs": [
    {
     "name": "stdout",
     "output_type": "stream",
     "text": [
      "344.57\n",
      "354.0\n",
      "408\n",
      "178\n",
      "45.09\n",
      "total accepts = 100\n"
     ]
    }
   ],
   "source": [
    "# Analysis of CREATE Transaction\n",
    "accept_mean = \"{:.2f}\".format(stat.mean(time_passed_accepts))\n",
    "accept_median = stat.median(time_passed_accepts)\n",
    "accept_max = max(time_passed_accepts)\n",
    "accept_min = min(time_passed_accepts)\n",
    "accept_std_dev = \"{:.2f}\".format(stat.stdev(time_passed_accepts))\n",
    "\n",
    "print(accept_mean)\n",
    "print(accept_median)\n",
    "print(accept_max)\n",
    "print(accept_min)\n",
    "print(accept_std_dev)\n",
    "print(f\"total accepts = {len(time_passed_accepts)}\")\n",
    "\n",
    "accept_dict = {\n",
    "               'min': accept_min,\n",
    "               'max': accept_max,\n",
    "               'average': accept_mean,\n",
    "               'median' : accept_median,\n",
    "               'standard_deviation' : accept_std_dev,\n",
    "               '# of txs' : len(time_passed_accepts)}"
   ]
  },
  {
   "cell_type": "code",
   "execution_count": 32,
   "id": "0535bba7",
   "metadata": {
    "scrolled": true
   },
   "outputs": [
    {
     "data": {
      "text/html": [
       "<div>\n",
       "<style scoped>\n",
       "    .dataframe tbody tr th:only-of-type {\n",
       "        vertical-align: middle;\n",
       "    }\n",
       "\n",
       "    .dataframe tbody tr th {\n",
       "        vertical-align: top;\n",
       "    }\n",
       "\n",
       "    .dataframe thead th {\n",
       "        text-align: right;\n",
       "    }\n",
       "</style>\n",
       "<table border=\"1\" class=\"dataframe\">\n",
       "  <thead>\n",
       "    <tr style=\"text-align: right;\">\n",
       "      <th></th>\n",
       "      <th>min</th>\n",
       "      <th>max</th>\n",
       "      <th>average</th>\n",
       "      <th>median</th>\n",
       "      <th>standard_deviation</th>\n",
       "      <th># of txs</th>\n",
       "    </tr>\n",
       "  </thead>\n",
       "  <tbody>\n",
       "    <tr>\n",
       "      <th>ACCEPT</th>\n",
       "      <td>178</td>\n",
       "      <td>408</td>\n",
       "      <td>344.57</td>\n",
       "      <td>354.0</td>\n",
       "      <td>45.09</td>\n",
       "      <td>100</td>\n",
       "    </tr>\n",
       "  </tbody>\n",
       "</table>\n",
       "</div>"
      ],
      "text/plain": [
       "        min  max average  median standard_deviation  # of txs\n",
       "ACCEPT  178  408  344.57   354.0              45.09       100"
      ]
     },
     "execution_count": 32,
     "metadata": {},
     "output_type": "execute_result"
    }
   ],
   "source": [
    "results = pd.DataFrame(accept_dict, index = ['ACCEPT'])\n",
    "results.to_csv('accept_analysis.csv', sep=',', encoding='utf-8')\n",
    "results"
   ]
  },
  {
   "cell_type": "code",
   "execution_count": null,
   "id": "9664528e",
   "metadata": {},
   "outputs": [],
   "source": []
  }
 ],
 "metadata": {
  "kernelspec": {
   "display_name": "Python 3 (ipykernel)",
   "language": "python",
   "name": "python3"
  },
  "language_info": {
   "codemirror_mode": {
    "name": "ipython",
    "version": 3
   },
   "file_extension": ".py",
   "mimetype": "text/x-python",
   "name": "python",
   "nbconvert_exporter": "python",
   "pygments_lexer": "ipython3",
   "version": "3.7.4"
  }
 },
 "nbformat": 4,
 "nbformat_minor": 5
}
