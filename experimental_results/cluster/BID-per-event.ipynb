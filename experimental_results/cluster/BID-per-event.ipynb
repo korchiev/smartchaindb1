{
 "cells": [
  {
   "cell_type": "code",
   "execution_count": 1,
   "id": "53593e98",
   "metadata": {},
   "outputs": [],
   "source": [
    "import pandas as pd\n",
    "import numpy as np\n",
    "import statistics as stat\n",
    "import matplotlib.pyplot as plt\n",
    "import seaborn as sns\n",
    "sns.set_style(\"white\")\n",
    "import statistics as stat"
   ]
  },
  {
   "cell_type": "code",
   "execution_count": 2,
   "id": "463c99b8",
   "metadata": {},
   "outputs": [],
   "source": [
    "data = pd.read_csv('scdb-100rfq-30cap-metrics.csv', names = ['Event', 'Time', 'Tx_type', 'Tx_id', 'Accept_id', 'time'])"
   ]
  },
  {
   "cell_type": "code",
   "execution_count": 3,
   "id": "6a393e8a",
   "metadata": {},
   "outputs": [
    {
     "data": {
      "text/plain": [
       "7690"
      ]
     },
     "execution_count": 3,
     "metadata": {},
     "output_type": "execute_result"
    }
   ],
   "source": [
    "grouped_data = data.groupby('Tx_id')\n",
    "tx_id = list(grouped_data.groups.keys())\n",
    "len(tx_id)"
   ]
  },
  {
   "cell_type": "code",
   "execution_count": 5,
   "id": "8be80839",
   "metadata": {},
   "outputs": [
    {
     "name": "stdout",
     "output_type": "stream",
     "text": [
      "#BIDs =  2496\n"
     ]
    }
   ],
   "source": [
    "#new data frame to get the count of each transaction type\n",
    "data_unique_ids = data.drop_duplicates(subset = ['Tx_id'])\n",
    "\n",
    "bid_count = 0\n",
    "bid_ids = []\n",
    "for i in range(0, len(data_unique_ids)):\n",
    "    if data_unique_ids.iloc[i]['Tx_type'] == 'BID':\n",
    "        bid_ids.append(data_unique_ids.iloc[i]['Tx_id'])\n",
    "        bid_count += 1   \n",
    "\n",
    "\n",
    "print(f\"#BIDs =  {bid_count}\")"
   ]
  },
  {
   "cell_type": "code",
   "execution_count": 28,
   "id": "63d36fdc",
   "metadata": {},
   "outputs": [
    {
     "data": {
      "text/html": [
       "<div>\n",
       "<style scoped>\n",
       "    .dataframe tbody tr th:only-of-type {\n",
       "        vertical-align: middle;\n",
       "    }\n",
       "\n",
       "    .dataframe tbody tr th {\n",
       "        vertical-align: top;\n",
       "    }\n",
       "\n",
       "    .dataframe thead th {\n",
       "        text-align: right;\n",
       "    }\n",
       "</style>\n",
       "<table border=\"1\" class=\"dataframe\">\n",
       "  <thead>\n",
       "    <tr style=\"text-align: right;\">\n",
       "      <th></th>\n",
       "      <th>Event</th>\n",
       "      <th>Time</th>\n",
       "      <th>Tx_type</th>\n",
       "      <th>Tx_id</th>\n",
       "      <th>Accept_id</th>\n",
       "      <th>time</th>\n",
       "    </tr>\n",
       "  </thead>\n",
       "  <tbody>\n",
       "    <tr>\n",
       "      <th>40977</th>\n",
       "      <td>received_tx</td>\n",
       "      <td>106</td>\n",
       "      <td>BID</td>\n",
       "      <td>3066cad3ab9009c84499c002f3b150864fc0b5af46bd4c...</td>\n",
       "      <td>None</td>\n",
       "      <td>1.669864e+09</td>\n",
       "    </tr>\n",
       "    <tr>\n",
       "      <th>40978</th>\n",
       "      <td>before_tendermint</td>\n",
       "      <td>116</td>\n",
       "      <td>BID</td>\n",
       "      <td>3066cad3ab9009c84499c002f3b150864fc0b5af46bd4c...</td>\n",
       "      <td>None</td>\n",
       "      <td>1.669864e+09</td>\n",
       "    </tr>\n",
       "    <tr>\n",
       "      <th>40984</th>\n",
       "      <td>check_tx</td>\n",
       "      <td>328</td>\n",
       "      <td>BID</td>\n",
       "      <td>3066cad3ab9009c84499c002f3b150864fc0b5af46bd4c...</td>\n",
       "      <td>None</td>\n",
       "      <td>1.669864e+09</td>\n",
       "    </tr>\n",
       "    <tr>\n",
       "      <th>41060</th>\n",
       "      <td>check_tx</td>\n",
       "      <td>1802</td>\n",
       "      <td>BID</td>\n",
       "      <td>3066cad3ab9009c84499c002f3b150864fc0b5af46bd4c...</td>\n",
       "      <td>None</td>\n",
       "      <td>1.669864e+09</td>\n",
       "    </tr>\n",
       "    <tr>\n",
       "      <th>41061</th>\n",
       "      <td>deliver_tx</td>\n",
       "      <td>1867</td>\n",
       "      <td>BID</td>\n",
       "      <td>3066cad3ab9009c84499c002f3b150864fc0b5af46bd4c...</td>\n",
       "      <td>None</td>\n",
       "      <td>1.669864e+09</td>\n",
       "    </tr>\n",
       "    <tr>\n",
       "      <th>41062</th>\n",
       "      <td>end_block</td>\n",
       "      <td>1868</td>\n",
       "      <td>BID</td>\n",
       "      <td>3066cad3ab9009c84499c002f3b150864fc0b5af46bd4c...</td>\n",
       "      <td>None</td>\n",
       "      <td>1.669864e+09</td>\n",
       "    </tr>\n",
       "    <tr>\n",
       "      <th>41063</th>\n",
       "      <td>commit_tx</td>\n",
       "      <td>1914</td>\n",
       "      <td>BID</td>\n",
       "      <td>3066cad3ab9009c84499c002f3b150864fc0b5af46bd4c...</td>\n",
       "      <td>None</td>\n",
       "      <td>1.669864e+09</td>\n",
       "    </tr>\n",
       "  </tbody>\n",
       "</table>\n",
       "</div>"
      ],
      "text/plain": [
       "                   Event  Time Tx_type  \\\n",
       "40977        received_tx   106     BID   \n",
       "40978  before_tendermint   116     BID   \n",
       "40984           check_tx   328     BID   \n",
       "41060           check_tx  1802     BID   \n",
       "41061         deliver_tx  1867     BID   \n",
       "41062          end_block  1868     BID   \n",
       "41063          commit_tx  1914     BID   \n",
       "\n",
       "                                                   Tx_id Accept_id  \\\n",
       "40977  3066cad3ab9009c84499c002f3b150864fc0b5af46bd4c...      None   \n",
       "40978  3066cad3ab9009c84499c002f3b150864fc0b5af46bd4c...      None   \n",
       "40984  3066cad3ab9009c84499c002f3b150864fc0b5af46bd4c...      None   \n",
       "41060  3066cad3ab9009c84499c002f3b150864fc0b5af46bd4c...      None   \n",
       "41061  3066cad3ab9009c84499c002f3b150864fc0b5af46bd4c...      None   \n",
       "41062  3066cad3ab9009c84499c002f3b150864fc0b5af46bd4c...      None   \n",
       "41063  3066cad3ab9009c84499c002f3b150864fc0b5af46bd4c...      None   \n",
       "\n",
       "               time  \n",
       "40977  1.669864e+09  \n",
       "40978  1.669864e+09  \n",
       "40984  1.669864e+09  \n",
       "41060  1.669864e+09  \n",
       "41061  1.669864e+09  \n",
       "41062  1.669864e+09  \n",
       "41063  1.669864e+09  "
      ]
     },
     "execution_count": 28,
     "metadata": {},
     "output_type": "execute_result"
    }
   ],
   "source": [
    "df_test = grouped_data.get_group(bid_ids[8])\n",
    "df_test"
   ]
  },
  {
   "cell_type": "code",
   "execution_count": 20,
   "id": "52891af2",
   "metadata": {},
   "outputs": [],
   "source": [
    "time_all_committed_bids = {}\n",
    "time_passed_bids = []\n",
    "validated_time = []\n",
    "accepted_time = []\n",
    "committed_time = []\n",
    "\n",
    "bid_underfit = []\n",
    "bid_underfit_dict = {}\n",
    "\n",
    "bid_overfit = []\n",
    "bid_overfit_dict = {}\n",
    "\n",
    "for i in range(0, len(tx_id)):\n",
    "    temp_list = []\n",
    "    if \"BID\" == grouped_data.get_group(tx_id[i])[\"Tx_type\"].to_list()[0]:\n",
    "        temp_list = grouped_data.get_group(tx_id[i])[\"Time\"].to_list()\n",
    "        if len(temp_list) == 6 and grouped_data.get_group(tx_id[i])[\"Event\"].to_list()[5] == \"commit_tx\":\n",
    "            \n",
    "            actual_time = max(temp_list) - min(temp_list)\n",
    "            time_all_committed_bids[tx_id[i]] = actual_time\n",
    "            time_passed_bids.append(actual_time)\n",
    "            \n",
    "            df = grouped_data.get_group(tx_id[i])\n",
    "            received_time = df[df['Event'] == 'received_tx']['Time'].to_list()[0]\n",
    "            before_tendermint_time = df[df['Event'] == 'before_tendermint']['Time'].to_list()[0]\n",
    "            \n",
    "            validated = before_tendermint_time - received_time\n",
    "            validated_time.append(validated)\n",
    "            \n",
    "            check_time = df[df['Event'] == 'check_tx']['Time'].to_list()[0]\n",
    "            accepted = check_time - received_time\n",
    "            accepted_time.append(accepted)\n",
    "            \n",
    "            commit_time =  df[df['Event'] == 'commit_tx']['Time'].to_list()[0]\n",
    "            committed = commit_time - received_time\n",
    "            committed_time.append(committed)\n",
    "        elif len(temp_list) < 6:\n",
    "            bid_underfit.append(temp_list)\n",
    "            bid_underfit_dict[tx_id[i]] = temp_list\n",
    "        elif 7 >= len(temp_list) > 6 :\n",
    "            df_check = grouped_data.get_group(tx_id[i])\n",
    "            if len(df_check[df_check['Event'] == 'check_tx']['Time'].to_list()) > 1:\n",
    "                check_time = max(df_check[df_check['Event'] == 'check_tx']['Time'].to_list())\n",
    "            else:\n",
    "                check_time = df_check[df_check['Event'] == 'check_tx']['Time'].to_list()[0] \n",
    "            \n",
    "            actual_time = max(temp_list) - min(temp_list)\n",
    "            time_all_committed_bids[tx_id[i]] = actual_time\n",
    "            #time_passed_bids.append(actual_time)\n",
    "            \n",
    "            df = grouped_data.get_group(tx_id[i])\n",
    "            received_time = df[df['Event'] == 'received_tx']['Time'].to_list()[0]\n",
    "            before_tendermint_time = df[df['Event'] == 'before_tendermint']['Time'].to_list()[0]\n",
    "            \n",
    "            validated = before_tendermint_time - received_time\n",
    "            validated_time.append(validated)\n",
    "           \n",
    "            accepted = check_time - received_time\n",
    "            accepted_time.append(accepted)\n",
    "            \n",
    "            commit_time =  df[df['Event'] == 'commit_tx']['Time'].to_list()[0]\n",
    "            committed = commit_time - received_time\n",
    "            committed_time.append(committed)\n",
    "            \n",
    "            bid_overfit.append(actual_time)\n",
    "            bid_overfit_dict[tx_id[i]] = temp_list"
   ]
  },
  {
   "cell_type": "code",
   "execution_count": 30,
   "id": "74071b50",
   "metadata": {},
   "outputs": [
    {
     "data": {
      "text/plain": [
       "106"
      ]
     },
     "execution_count": 30,
     "metadata": {},
     "output_type": "execute_result"
    }
   ],
   "source": [
    "df = grouped_data.get_group(\"3066cad3ab9009c84499c002f3b150864fc0b5af46bd4cb1ab5407ab2396a336\")\n",
    "df[df['Event'] == 'received_tx']['Time'].to_list()[0]"
   ]
  },
  {
   "cell_type": "code",
   "execution_count": 34,
   "id": "edcf7a1c",
   "metadata": {},
   "outputs": [
    {
     "data": {
      "text/html": [
       "<div>\n",
       "<style scoped>\n",
       "    .dataframe tbody tr th:only-of-type {\n",
       "        vertical-align: middle;\n",
       "    }\n",
       "\n",
       "    .dataframe tbody tr th {\n",
       "        vertical-align: top;\n",
       "    }\n",
       "\n",
       "    .dataframe thead th {\n",
       "        text-align: right;\n",
       "    }\n",
       "</style>\n",
       "<table border=\"1\" class=\"dataframe\">\n",
       "  <thead>\n",
       "    <tr style=\"text-align: right;\">\n",
       "      <th></th>\n",
       "      <th>Event</th>\n",
       "      <th>Time</th>\n",
       "      <th>Tx_type</th>\n",
       "      <th>Tx_id</th>\n",
       "      <th>Accept_id</th>\n",
       "      <th>time</th>\n",
       "    </tr>\n",
       "  </thead>\n",
       "  <tbody>\n",
       "    <tr>\n",
       "      <th>40977</th>\n",
       "      <td>received_tx</td>\n",
       "      <td>106</td>\n",
       "      <td>BID</td>\n",
       "      <td>3066cad3ab9009c84499c002f3b150864fc0b5af46bd4c...</td>\n",
       "      <td>None</td>\n",
       "      <td>1.669864e+09</td>\n",
       "    </tr>\n",
       "  </tbody>\n",
       "</table>\n",
       "</div>"
      ],
      "text/plain": [
       "             Event  Time Tx_type  \\\n",
       "40977  received_tx   106     BID   \n",
       "\n",
       "                                                   Tx_id Accept_id  \\\n",
       "40977  3066cad3ab9009c84499c002f3b150864fc0b5af46bd4c...      None   \n",
       "\n",
       "               time  \n",
       "40977  1.669864e+09  "
      ]
     },
     "execution_count": 34,
     "metadata": {},
     "output_type": "execute_result"
    }
   ],
   "source": [
    "df[df['Event'] == 'received_tx']"
   ]
  },
  {
   "cell_type": "code",
   "execution_count": null,
   "id": "bcf3e50a",
   "metadata": {},
   "outputs": [],
   "source": [
    "bid_overfit_dict"
   ]
  },
  {
   "cell_type": "code",
   "execution_count": 21,
   "id": "3ca8f547",
   "metadata": {},
   "outputs": [
    {
     "data": {
      "text/plain": [
       "2365"
      ]
     },
     "execution_count": 21,
     "metadata": {},
     "output_type": "execute_result"
    }
   ],
   "source": [
    "len(time_passed_bids)"
   ]
  },
  {
   "cell_type": "code",
   "execution_count": 26,
   "id": "8fdddb3e",
   "metadata": {},
   "outputs": [
    {
     "data": {
      "text/plain": [
       "130"
      ]
     },
     "execution_count": 26,
     "metadata": {},
     "output_type": "execute_result"
    }
   ],
   "source": [
    "len(bid_overfit)"
   ]
  },
  {
   "cell_type": "code",
   "execution_count": 24,
   "id": "31ebeef3",
   "metadata": {},
   "outputs": [
    {
     "data": {
      "text/plain": [
       "98.87653276955602"
      ]
     },
     "execution_count": 24,
     "metadata": {},
     "output_type": "execute_result"
    }
   ],
   "source": [
    "stat.mean(time_passed_bids)"
   ]
  },
  {
   "cell_type": "code",
   "execution_count": 36,
   "id": "e2095992",
   "metadata": {},
   "outputs": [
    {
     "data": {
      "text/plain": [
       "1519.8384615384616"
      ]
     },
     "execution_count": 36,
     "metadata": {},
     "output_type": "execute_result"
    }
   ],
   "source": [
    "stat.mean(bid_overfit)"
   ]
  },
  {
   "cell_type": "code",
   "execution_count": 37,
   "id": "ff12a60d",
   "metadata": {},
   "outputs": [
    {
     "name": "stdout",
     "output_type": "stream",
     "text": [
      "98.88\n",
      "85\n",
      "791\n",
      "75\n",
      "46.27\n",
      "total bids = 2365\n"
     ]
    }
   ],
   "source": [
    "# Analysis of CREATE Transaction\n",
    "bid_mean = \"{:.2f}\".format(stat.mean(time_passed_bids))\n",
    "bid_median = stat.median(time_passed_bids)\n",
    "bid_max = max(time_passed_bids)\n",
    "bid_min = min(time_passed_bids)\n",
    "bid_std_dev = \"{:.2f}\".format(stat.stdev(time_passed_bids))\n",
    "\n",
    "print(bid_mean)\n",
    "print(bid_median)\n",
    "print(bid_max)\n",
    "print(bid_min)\n",
    "print(bid_std_dev)\n",
    "print(f\"total bids = {len(time_passed_bids)}\")\n",
    "\n",
    "bid_dict = {\n",
    "               'min': bid_min,\n",
    "               'max': bid_max,\n",
    "               'average': bid_mean,\n",
    "               'median' : bid_median,\n",
    "               'standard_deviation' : bid_std_dev,\n",
    "               '# of txs' : len(time_passed_bids)}"
   ]
  },
  {
   "cell_type": "code",
   "execution_count": 38,
   "id": "800ba086",
   "metadata": {},
   "outputs": [
    {
     "data": {
      "text/html": [
       "<div>\n",
       "<style scoped>\n",
       "    .dataframe tbody tr th:only-of-type {\n",
       "        vertical-align: middle;\n",
       "    }\n",
       "\n",
       "    .dataframe tbody tr th {\n",
       "        vertical-align: top;\n",
       "    }\n",
       "\n",
       "    .dataframe thead th {\n",
       "        text-align: right;\n",
       "    }\n",
       "</style>\n",
       "<table border=\"1\" class=\"dataframe\">\n",
       "  <thead>\n",
       "    <tr style=\"text-align: right;\">\n",
       "      <th></th>\n",
       "      <th>min</th>\n",
       "      <th>max</th>\n",
       "      <th>average</th>\n",
       "      <th>median</th>\n",
       "      <th>standard_deviation</th>\n",
       "      <th># of txs</th>\n",
       "    </tr>\n",
       "  </thead>\n",
       "  <tbody>\n",
       "    <tr>\n",
       "      <th>BID</th>\n",
       "      <td>75</td>\n",
       "      <td>791</td>\n",
       "      <td>98.88</td>\n",
       "      <td>85</td>\n",
       "      <td>46.27</td>\n",
       "      <td>2365</td>\n",
       "    </tr>\n",
       "  </tbody>\n",
       "</table>\n",
       "</div>"
      ],
      "text/plain": [
       "     min  max average  median standard_deviation  # of txs\n",
       "BID   75  791   98.88      85              46.27      2365"
      ]
     },
     "execution_count": 38,
     "metadata": {},
     "output_type": "execute_result"
    }
   ],
   "source": [
    "results = pd.DataFrame(bid_dict, index = ['BID'])\n",
    "results.to_csv('bid_analysis.csv', sep=',', encoding='utf-8')\n",
    "results"
   ]
  },
  {
   "cell_type": "code",
   "execution_count": null,
   "id": "1abffe9c",
   "metadata": {},
   "outputs": [],
   "source": []
  }
 ],
 "metadata": {
  "kernelspec": {
   "display_name": "Python 3 (ipykernel)",
   "language": "python",
   "name": "python3"
  },
  "language_info": {
   "codemirror_mode": {
    "name": "ipython",
    "version": 3
   },
   "file_extension": ".py",
   "mimetype": "text/x-python",
   "name": "python",
   "nbconvert_exporter": "python",
   "pygments_lexer": "ipython3",
   "version": "3.7.4"
  }
 },
 "nbformat": 4,
 "nbformat_minor": 5
}
