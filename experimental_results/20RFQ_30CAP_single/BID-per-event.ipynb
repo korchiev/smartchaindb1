{
 "cells": [
  {
   "cell_type": "code",
   "execution_count": 1,
   "id": "fbab6265",
   "metadata": {},
   "outputs": [],
   "source": [
    "import pandas as pd\n",
    "import numpy as np\n",
    "import statistics as stat\n",
    "import matplotlib.pyplot as plt\n",
    "import seaborn as sns\n",
    "sns.set_style(\"white\")\n",
    "import statistics as stat"
   ]
  },
  {
   "cell_type": "code",
   "execution_count": 2,
   "id": "b7aae561",
   "metadata": {},
   "outputs": [],
   "source": [
    "data = pd.read_csv('scdb-20rfq-30cap-metrics.csv', names = ['Event', 'Time', 'Tx_type', 'Tx_id', 'Accept_id', 'time'])"
   ]
  },
  {
   "cell_type": "code",
   "execution_count": 3,
   "id": "58246edf",
   "metadata": {},
   "outputs": [
    {
     "data": {
      "text/plain": [
       "1538"
      ]
     },
     "execution_count": 3,
     "metadata": {},
     "output_type": "execute_result"
    }
   ],
   "source": [
    "grouped_data = data.groupby('Tx_id')\n",
    "tx_id = list(grouped_data.groups.keys())\n",
    "len(tx_id)"
   ]
  },
  {
   "cell_type": "code",
   "execution_count": 4,
   "id": "005c38a3",
   "metadata": {},
   "outputs": [
    {
     "name": "stdout",
     "output_type": "stream",
     "text": [
      "#BIDs =  500\n"
     ]
    }
   ],
   "source": [
    "#new data frame to get the count of each transaction type\n",
    "data_unique_ids = data.drop_duplicates(subset = ['Tx_id'])\n",
    "\n",
    "bid_count = 0\n",
    "bid_ids = []\n",
    "for i in range(0, len(data_unique_ids)):\n",
    "    if data_unique_ids.iloc[i]['Tx_type'] == 'BID':\n",
    "        bid_ids.append(data_unique_ids.iloc[i]['Tx_id'])\n",
    "        bid_count += 1   \n",
    "\n",
    "\n",
    "print(f\"#BIDs =  {bid_count}\")"
   ]
  },
  {
   "cell_type": "code",
   "execution_count": 5,
   "id": "dc433807",
   "metadata": {},
   "outputs": [
    {
     "data": {
      "text/html": [
       "<div>\n",
       "<style scoped>\n",
       "    .dataframe tbody tr th:only-of-type {\n",
       "        vertical-align: middle;\n",
       "    }\n",
       "\n",
       "    .dataframe tbody tr th {\n",
       "        vertical-align: top;\n",
       "    }\n",
       "\n",
       "    .dataframe thead th {\n",
       "        text-align: right;\n",
       "    }\n",
       "</style>\n",
       "<table border=\"1\" class=\"dataframe\">\n",
       "  <thead>\n",
       "    <tr style=\"text-align: right;\">\n",
       "      <th></th>\n",
       "      <th>Event</th>\n",
       "      <th>Time</th>\n",
       "      <th>Tx_type</th>\n",
       "      <th>Tx_id</th>\n",
       "      <th>Accept_id</th>\n",
       "      <th>time</th>\n",
       "    </tr>\n",
       "  </thead>\n",
       "  <tbody>\n",
       "    <tr>\n",
       "      <th>3182</th>\n",
       "      <td>received_tx</td>\n",
       "      <td>109</td>\n",
       "      <td>BID</td>\n",
       "      <td>e0dd8ca51b5e70c2e43ea0852e651d29e6c4219e58bbe8...</td>\n",
       "      <td>None</td>\n",
       "      <td>1.669905e+09</td>\n",
       "    </tr>\n",
       "    <tr>\n",
       "      <th>3183</th>\n",
       "      <td>before_tendermint</td>\n",
       "      <td>120</td>\n",
       "      <td>BID</td>\n",
       "      <td>e0dd8ca51b5e70c2e43ea0852e651d29e6c4219e58bbe8...</td>\n",
       "      <td>None</td>\n",
       "      <td>1.669905e+09</td>\n",
       "    </tr>\n",
       "    <tr>\n",
       "      <th>3184</th>\n",
       "      <td>check_tx</td>\n",
       "      <td>131</td>\n",
       "      <td>BID</td>\n",
       "      <td>e0dd8ca51b5e70c2e43ea0852e651d29e6c4219e58bbe8...</td>\n",
       "      <td>None</td>\n",
       "      <td>1.669905e+09</td>\n",
       "    </tr>\n",
       "    <tr>\n",
       "      <th>3185</th>\n",
       "      <td>deliver_tx</td>\n",
       "      <td>146</td>\n",
       "      <td>BID</td>\n",
       "      <td>e0dd8ca51b5e70c2e43ea0852e651d29e6c4219e58bbe8...</td>\n",
       "      <td>None</td>\n",
       "      <td>1.669905e+09</td>\n",
       "    </tr>\n",
       "    <tr>\n",
       "      <th>3186</th>\n",
       "      <td>end_block</td>\n",
       "      <td>148</td>\n",
       "      <td>BID</td>\n",
       "      <td>e0dd8ca51b5e70c2e43ea0852e651d29e6c4219e58bbe8...</td>\n",
       "      <td>None</td>\n",
       "      <td>1.669905e+09</td>\n",
       "    </tr>\n",
       "    <tr>\n",
       "      <th>3187</th>\n",
       "      <td>commit_tx</td>\n",
       "      <td>191</td>\n",
       "      <td>BID</td>\n",
       "      <td>e0dd8ca51b5e70c2e43ea0852e651d29e6c4219e58bbe8...</td>\n",
       "      <td>None</td>\n",
       "      <td>1.669905e+09</td>\n",
       "    </tr>\n",
       "  </tbody>\n",
       "</table>\n",
       "</div>"
      ],
      "text/plain": [
       "                  Event  Time Tx_type  \\\n",
       "3182        received_tx   109     BID   \n",
       "3183  before_tendermint   120     BID   \n",
       "3184           check_tx   131     BID   \n",
       "3185         deliver_tx   146     BID   \n",
       "3186          end_block   148     BID   \n",
       "3187          commit_tx   191     BID   \n",
       "\n",
       "                                                  Tx_id Accept_id  \\\n",
       "3182  e0dd8ca51b5e70c2e43ea0852e651d29e6c4219e58bbe8...      None   \n",
       "3183  e0dd8ca51b5e70c2e43ea0852e651d29e6c4219e58bbe8...      None   \n",
       "3184  e0dd8ca51b5e70c2e43ea0852e651d29e6c4219e58bbe8...      None   \n",
       "3185  e0dd8ca51b5e70c2e43ea0852e651d29e6c4219e58bbe8...      None   \n",
       "3186  e0dd8ca51b5e70c2e43ea0852e651d29e6c4219e58bbe8...      None   \n",
       "3187  e0dd8ca51b5e70c2e43ea0852e651d29e6c4219e58bbe8...      None   \n",
       "\n",
       "              time  \n",
       "3182  1.669905e+09  \n",
       "3183  1.669905e+09  \n",
       "3184  1.669905e+09  \n",
       "3185  1.669905e+09  \n",
       "3186  1.669905e+09  \n",
       "3187  1.669905e+09  "
      ]
     },
     "execution_count": 5,
     "metadata": {},
     "output_type": "execute_result"
    }
   ],
   "source": [
    "df_test = grouped_data.get_group(bid_ids[8])\n",
    "df_test"
   ]
  },
  {
   "cell_type": "code",
   "execution_count": 6,
   "id": "b2ea3df5",
   "metadata": {},
   "outputs": [],
   "source": [
    "time_all_committed_bids = {}\n",
    "time_passed_bids = []\n",
    "validated_time = []\n",
    "accepted_time = []\n",
    "committed_time = []\n",
    "\n",
    "bid_underfit = []\n",
    "bid_underfit_dict = {}\n",
    "\n",
    "bid_overfit = []\n",
    "bid_overfit_dict = {}\n",
    "\n",
    "for i in range(0, len(tx_id)):\n",
    "    temp_list = []\n",
    "    if \"BID\" == grouped_data.get_group(tx_id[i])[\"Tx_type\"].to_list()[0]:\n",
    "        temp_list = grouped_data.get_group(tx_id[i])[\"Time\"].to_list()\n",
    "        if len(temp_list) == 6 and grouped_data.get_group(tx_id[i])[\"Event\"].to_list()[5] == \"commit_tx\":\n",
    "            \n",
    "            actual_time = max(temp_list) - min(temp_list)\n",
    "            time_all_committed_bids[tx_id[i]] = actual_time\n",
    "            time_passed_bids.append(actual_time)\n",
    "            \n",
    "            df = grouped_data.get_group(tx_id[i])\n",
    "            received_time = df[df['Event'] == 'received_tx']['Time'].to_list()[0]\n",
    "            before_tendermint_time = df[df['Event'] == 'before_tendermint']['Time'].to_list()[0]\n",
    "            \n",
    "            validated = before_tendermint_time - received_time\n",
    "            validated_time.append(validated)\n",
    "            \n",
    "            check_time = df[df['Event'] == 'check_tx']['Time'].to_list()[0]\n",
    "            accepted = check_time - received_time\n",
    "            accepted_time.append(accepted)\n",
    "            \n",
    "            commit_time =  df[df['Event'] == 'commit_tx']['Time'].to_list()[0]\n",
    "            committed = commit_time - received_time\n",
    "            committed_time.append(committed)\n",
    "        elif len(temp_list) < 6:\n",
    "            bid_underfit.append(temp_list)\n",
    "            bid_underfit_dict[tx_id[i]] = temp_list\n",
    "        elif 7 >= len(temp_list) > 6 :\n",
    "            df_check = grouped_data.get_group(tx_id[i])\n",
    "            if len(df_check[df_check['Event'] == 'check_tx']['Time'].to_list()) > 1:\n",
    "                check_time = max(df_check[df_check['Event'] == 'check_tx']['Time'].to_list())\n",
    "            else:\n",
    "                check_time = df_check[df_check['Event'] == 'check_tx']['Time'].to_list()[0] \n",
    "            \n",
    "            actual_time = max(temp_list) - min(temp_list)\n",
    "            time_all_committed_bids[tx_id[i]] = actual_time\n",
    "            #time_passed_bids.append(actual_time)\n",
    "            \n",
    "            df = grouped_data.get_group(tx_id[i])\n",
    "            received_time = df[df['Event'] == 'received_tx']['Time'].to_list()[0]\n",
    "            before_tendermint_time = df[df['Event'] == 'before_tendermint']['Time'].to_list()[0]\n",
    "            \n",
    "            validated = before_tendermint_time - received_time\n",
    "            validated_time.append(validated)\n",
    "           \n",
    "            accepted = check_time - received_time\n",
    "            accepted_time.append(accepted)\n",
    "            \n",
    "            commit_time =  df[df['Event'] == 'commit_tx']['Time'].to_list()[0]\n",
    "            committed = commit_time - received_time\n",
    "            committed_time.append(committed)\n",
    "            \n",
    "            bid_overfit.append(actual_time)\n",
    "            bid_overfit_dict[tx_id[i]] = temp_list"
   ]
  },
  {
   "cell_type": "code",
   "execution_count": 30,
   "id": "164ebb86",
   "metadata": {},
   "outputs": [
    {
     "data": {
      "text/plain": [
       "106"
      ]
     },
     "execution_count": 30,
     "metadata": {},
     "output_type": "execute_result"
    }
   ],
   "source": [
    "df = grouped_data.get_group(\"3066cad3ab9009c84499c002f3b150864fc0b5af46bd4cb1ab5407ab2396a336\")\n",
    "df[df['Event'] == 'received_tx']['Time'].to_list()[0]"
   ]
  },
  {
   "cell_type": "code",
   "execution_count": 7,
   "id": "77efa17e",
   "metadata": {},
   "outputs": [
    {
     "data": {
      "text/plain": [
       "{'58faab5aa8e70cc129184d74111db33caecbaa5ab1aeed8f80f3fad86adb9cf0': [108,\n",
       "  120,\n",
       "  140,\n",
       "  335,\n",
       "  395,\n",
       "  397,\n",
       "  439],\n",
       " '645474f63ba04a74915b421d26ccfd5c941cec78b0d111f9ea37d0d83557da70': [109,\n",
       "  118,\n",
       "  130,\n",
       "  256,\n",
       "  316,\n",
       "  318,\n",
       "  364],\n",
       " '7ef1c9e28a43a33d008f0788a0264d75027b4e0b33252720d0a3c6cd3230d20f': [107,\n",
       "  118,\n",
       "  141,\n",
       "  334,\n",
       "  394,\n",
       "  395,\n",
       "  502],\n",
       " '90cd5b8e5a832a8ad6718284102fa698fd981606f27416d56da0f8869885f8f2': [108,\n",
       "  119,\n",
       "  142,\n",
       "  340,\n",
       "  596,\n",
       "  598,\n",
       "  643],\n",
       " 'abc9ec57d5851a6fbb799b2e9d596d12dfb7aad0ca6f97f141bb71fa32a825b3': [109,\n",
       "  119,\n",
       "  142,\n",
       "  333,\n",
       "  389,\n",
       "  390,\n",
       "  434],\n",
       " 'ac74ccf068579d3e56d33ca416b47c7e387c4bebef7699f916f3281c6d1fb2bd': [107,\n",
       "  118,\n",
       "  143,\n",
       "  340,\n",
       "  503,\n",
       "  504,\n",
       "  548],\n",
       " 'b2165ed7d02aa0d3d8127f208490fdf7b76b0c339990945e6a75dcc09278bc77': [107,\n",
       "  118,\n",
       "  130,\n",
       "  180,\n",
       "  243,\n",
       "  245,\n",
       "  288],\n",
       " 'e00f3d59a263ef4637faed9d7d19e5b6d5b7f33303741a07c6307dfe7b13f351': [107,\n",
       "  118,\n",
       "  141,\n",
       "  333,\n",
       "  393,\n",
       "  394,\n",
       "  437],\n",
       " 'e2948e4af3247d827c8cb4e5a8f5243cc1187f3905d255beb6c2f659b4a5acde': [108,\n",
       "  119,\n",
       "  142,\n",
       "  345,\n",
       "  405,\n",
       "  406,\n",
       "  449]}"
      ]
     },
     "execution_count": 7,
     "metadata": {},
     "output_type": "execute_result"
    }
   ],
   "source": [
    "bid_overfit_dict"
   ]
  },
  {
   "cell_type": "code",
   "execution_count": 8,
   "id": "ee7c5b95",
   "metadata": {},
   "outputs": [
    {
     "data": {
      "text/plain": [
       "490"
      ]
     },
     "execution_count": 8,
     "metadata": {},
     "output_type": "execute_result"
    }
   ],
   "source": [
    "len(time_passed_bids)"
   ]
  },
  {
   "cell_type": "code",
   "execution_count": 9,
   "id": "341395b5",
   "metadata": {},
   "outputs": [
    {
     "data": {
      "text/plain": [
       "9"
      ]
     },
     "execution_count": 9,
     "metadata": {},
     "output_type": "execute_result"
    }
   ],
   "source": [
    "len(bid_overfit)"
   ]
  },
  {
   "cell_type": "code",
   "execution_count": 10,
   "id": "2f787fa4",
   "metadata": {},
   "outputs": [
    {
     "data": {
      "text/plain": [
       "91.65510204081633"
      ]
     },
     "execution_count": 10,
     "metadata": {},
     "output_type": "execute_result"
    }
   ],
   "source": [
    "stat.mean(time_passed_bids)"
   ]
  },
  {
   "cell_type": "code",
   "execution_count": 11,
   "id": "4a24371d",
   "metadata": {},
   "outputs": [
    {
     "data": {
      "text/plain": [
       "348.22222222222223"
      ]
     },
     "execution_count": 11,
     "metadata": {},
     "output_type": "execute_result"
    }
   ],
   "source": [
    "stat.mean(bid_overfit)"
   ]
  },
  {
   "cell_type": "code",
   "execution_count": 12,
   "id": "872a640a",
   "metadata": {},
   "outputs": [
    {
     "name": "stdout",
     "output_type": "stream",
     "text": [
      "91.66\n",
      "85.0\n",
      "140\n",
      "78\n",
      "14.16\n",
      "total bids = 490\n"
     ]
    }
   ],
   "source": [
    "# Analysis of CREATE Transaction\n",
    "bid_mean = \"{:.2f}\".format(stat.mean(time_passed_bids))\n",
    "bid_median = stat.median(time_passed_bids)\n",
    "bid_max = max(time_passed_bids)\n",
    "bid_min = min(time_passed_bids)\n",
    "bid_std_dev = \"{:.2f}\".format(stat.stdev(time_passed_bids))\n",
    "\n",
    "print(bid_mean)\n",
    "print(bid_median)\n",
    "print(bid_max)\n",
    "print(bid_min)\n",
    "print(bid_std_dev)\n",
    "print(f\"total bids = {len(time_passed_bids)}\")\n",
    "\n",
    "bid_dict = {\n",
    "               'min': bid_min,\n",
    "               'max': bid_max,\n",
    "               'average': bid_mean,\n",
    "               'median' : bid_median,\n",
    "               'standard_deviation' : bid_std_dev,\n",
    "               '# of txs' : len(time_passed_bids)}"
   ]
  },
  {
   "cell_type": "code",
   "execution_count": 13,
   "id": "fb8fab84",
   "metadata": {},
   "outputs": [
    {
     "data": {
      "text/html": [
       "<div>\n",
       "<style scoped>\n",
       "    .dataframe tbody tr th:only-of-type {\n",
       "        vertical-align: middle;\n",
       "    }\n",
       "\n",
       "    .dataframe tbody tr th {\n",
       "        vertical-align: top;\n",
       "    }\n",
       "\n",
       "    .dataframe thead th {\n",
       "        text-align: right;\n",
       "    }\n",
       "</style>\n",
       "<table border=\"1\" class=\"dataframe\">\n",
       "  <thead>\n",
       "    <tr style=\"text-align: right;\">\n",
       "      <th></th>\n",
       "      <th>min</th>\n",
       "      <th>max</th>\n",
       "      <th>average</th>\n",
       "      <th>median</th>\n",
       "      <th>standard_deviation</th>\n",
       "      <th># of txs</th>\n",
       "    </tr>\n",
       "  </thead>\n",
       "  <tbody>\n",
       "    <tr>\n",
       "      <th>BID</th>\n",
       "      <td>78</td>\n",
       "      <td>140</td>\n",
       "      <td>91.66</td>\n",
       "      <td>85.0</td>\n",
       "      <td>14.16</td>\n",
       "      <td>490</td>\n",
       "    </tr>\n",
       "  </tbody>\n",
       "</table>\n",
       "</div>"
      ],
      "text/plain": [
       "     min  max average  median standard_deviation  # of txs\n",
       "BID   78  140   91.66    85.0              14.16       490"
      ]
     },
     "execution_count": 13,
     "metadata": {},
     "output_type": "execute_result"
    }
   ],
   "source": [
    "results = pd.DataFrame(bid_dict, index = ['BID'])\n",
    "results.to_csv('bid_analysis.csv', sep=',', encoding='utf-8')\n",
    "results"
   ]
  },
  {
   "cell_type": "code",
   "execution_count": null,
   "id": "cccd5807",
   "metadata": {},
   "outputs": [],
   "source": []
  }
 ],
 "metadata": {
  "kernelspec": {
   "display_name": "Python 3 (ipykernel)",
   "language": "python",
   "name": "python3"
  },
  "language_info": {
   "codemirror_mode": {
    "name": "ipython",
    "version": 3
   },
   "file_extension": ".py",
   "mimetype": "text/x-python",
   "name": "python",
   "nbconvert_exporter": "python",
   "pygments_lexer": "ipython3",
   "version": "3.7.4"
  }
 },
 "nbformat": 4,
 "nbformat_minor": 5
}
